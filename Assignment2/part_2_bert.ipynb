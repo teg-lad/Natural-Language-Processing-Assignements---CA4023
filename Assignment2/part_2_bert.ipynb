{
  "cells": [
    {
      "cell_type": "markdown",
      "metadata": {
        "id": "AiFDi2sAQv9P"
      },
      "source": [
        "## Bert Assignment\n",
        "\n",
        "In this notebook, we train a sentiment polarity classifier on a dataset of IMDB movie reviews. The movies have been separated into two classes: positive and negative. The code in this notebook is adapted from the code in this [ Hugging Face tutorial: ](https://huggingface.co/transformers/training.html)"
      ]
    },
    {
      "cell_type": "markdown",
      "metadata": {
        "id": "Qxu2jKOUvfqc"
      },
      "source": [
        "First we need to install the huggingface datasets library"
      ]
    },
    {
      "cell_type": "code",
      "execution_count": null,
      "metadata": {
        "colab": {
          "base_uri": "https://localhost:8080/"
        },
        "id": "ExoJWbFevRUf",
        "outputId": "6b06034d-b605-4d14-fde8-0efb0206b8f0"
      },
      "outputs": [
        {
          "name": "stdout",
          "output_type": "stream",
          "text": [
            "Looking in indexes: https://pypi.org/simple, https://us-python.pkg.dev/colab-wheels/public/simple/\n",
            "Collecting datasets\n",
            "  Downloading datasets-2.10.1-py3-none-any.whl (469 kB)\n",
            "\u001b[2K     \u001b[90m━━━━━━━━━━━━━━━━━━━━━━━━━━━━━━━━━━━━━━\u001b[0m \u001b[32m469.0/469.0 KB\u001b[0m \u001b[31m11.8 MB/s\u001b[0m eta \u001b[36m0:00:00\u001b[0m\n",
            "\u001b[?25hRequirement already satisfied: packaging in /usr/local/lib/python3.9/dist-packages (from datasets) (23.0)\n",
            "Requirement already satisfied: requests>=2.19.0 in /usr/local/lib/python3.9/dist-packages (from datasets) (2.27.1)\n",
            "Requirement already satisfied: pandas in /usr/local/lib/python3.9/dist-packages (from datasets) (1.4.4)\n",
            "Requirement already satisfied: pyarrow>=6.0.0 in /usr/local/lib/python3.9/dist-packages (from datasets) (9.0.0)\n",
            "Collecting dill<0.3.7,>=0.3.0\n",
            "  Downloading dill-0.3.6-py3-none-any.whl (110 kB)\n",
            "\u001b[2K     \u001b[90m━━━━━━━━━━━━━━━━━━━━━━━━━━━━━━━━━━━━━━━\u001b[0m \u001b[32m110.5/110.5 KB\u001b[0m \u001b[31m9.8 MB/s\u001b[0m eta \u001b[36m0:00:00\u001b[0m\n",
            "\u001b[?25hCollecting xxhash\n",
            "  Downloading xxhash-3.2.0-cp39-cp39-manylinux_2_17_x86_64.manylinux2014_x86_64.whl (212 kB)\n",
            "\u001b[2K     \u001b[90m━━━━━━━━━━━━━━━━━━━━━━━━━━━━━━━━━━━━━━\u001b[0m \u001b[32m212.2/212.2 KB\u001b[0m \u001b[31m21.5 MB/s\u001b[0m eta \u001b[36m0:00:00\u001b[0m\n",
            "\u001b[?25hCollecting huggingface-hub<1.0.0,>=0.2.0\n",
            "  Downloading huggingface_hub-0.13.3-py3-none-any.whl (199 kB)\n",
            "\u001b[2K     \u001b[90m━━━━━━━━━━━━━━━━━━━━━━━━━━━━━━━━━━━━━━\u001b[0m \u001b[32m199.8/199.8 KB\u001b[0m \u001b[31m15.8 MB/s\u001b[0m eta \u001b[36m0:00:00\u001b[0m\n",
            "\u001b[?25hRequirement already satisfied: numpy>=1.17 in /usr/local/lib/python3.9/dist-packages (from datasets) (1.22.4)\n",
            "Collecting multiprocess\n",
            "  Downloading multiprocess-0.70.14-py39-none-any.whl (132 kB)\n",
            "\u001b[2K     \u001b[90m━━━━━━━━━━━━━━━━━━━━━━━━━━━━━━━━━━━━━━\u001b[0m \u001b[32m132.9/132.9 KB\u001b[0m \u001b[31m12.4 MB/s\u001b[0m eta \u001b[36m0:00:00\u001b[0m\n",
            "\u001b[?25hCollecting aiohttp\n",
            "  Downloading aiohttp-3.8.4-cp39-cp39-manylinux_2_17_x86_64.manylinux2014_x86_64.whl (1.0 MB)\n",
            "\u001b[2K     \u001b[90m━━━━━━━━━━━━━━━━━━━━━━━━━━━━━━━━━━━━━━━━\u001b[0m \u001b[32m1.0/1.0 MB\u001b[0m \u001b[31m24.2 MB/s\u001b[0m eta \u001b[36m0:00:00\u001b[0m\n",
            "\u001b[?25hRequirement already satisfied: pyyaml>=5.1 in /usr/local/lib/python3.9/dist-packages (from datasets) (6.0)\n",
            "Collecting responses<0.19\n",
            "  Downloading responses-0.18.0-py3-none-any.whl (38 kB)\n",
            "Requirement already satisfied: tqdm>=4.62.1 in /usr/local/lib/python3.9/dist-packages (from datasets) (4.65.0)\n",
            "Requirement already satisfied: fsspec[http]>=2021.11.1 in /usr/local/lib/python3.9/dist-packages (from datasets) (2023.3.0)\n",
            "Collecting async-timeout<5.0,>=4.0.0a3\n",
            "  Downloading async_timeout-4.0.2-py3-none-any.whl (5.8 kB)\n",
            "Collecting frozenlist>=1.1.1\n",
            "  Downloading frozenlist-1.3.3-cp39-cp39-manylinux_2_5_x86_64.manylinux1_x86_64.manylinux_2_17_x86_64.manylinux2014_x86_64.whl (158 kB)\n",
            "\u001b[2K     \u001b[90m━━━━━━━━━━━━━━━━━━━━━━━━━━━━━━━━━━━━━━\u001b[0m \u001b[32m158.8/158.8 KB\u001b[0m \u001b[31m12.2 MB/s\u001b[0m eta \u001b[36m0:00:00\u001b[0m\n",
            "\u001b[?25hRequirement already satisfied: charset-normalizer<4.0,>=2.0 in /usr/local/lib/python3.9/dist-packages (from aiohttp->datasets) (2.0.12)\n",
            "Collecting aiosignal>=1.1.2\n",
            "  Downloading aiosignal-1.3.1-py3-none-any.whl (7.6 kB)\n",
            "Requirement already satisfied: attrs>=17.3.0 in /usr/local/lib/python3.9/dist-packages (from aiohttp->datasets) (22.2.0)\n",
            "Collecting yarl<2.0,>=1.0\n",
            "  Downloading yarl-1.8.2-cp39-cp39-manylinux_2_17_x86_64.manylinux2014_x86_64.whl (264 kB)\n",
            "\u001b[2K     \u001b[90m━━━━━━━━━━━━━━━━━━━━━━━━━━━━━━━━━━━━━━━\u001b[0m \u001b[32m264.6/264.6 KB\u001b[0m \u001b[31m7.0 MB/s\u001b[0m eta \u001b[36m0:00:00\u001b[0m\n",
            "\u001b[?25hCollecting multidict<7.0,>=4.5\n",
            "  Downloading multidict-6.0.4-cp39-cp39-manylinux_2_17_x86_64.manylinux2014_x86_64.whl (114 kB)\n",
            "\u001b[2K     \u001b[90m━━━━━━━━━━━━━━━━━━━━━━━━━━━━━━━━━━━━━━━\u001b[0m \u001b[32m114.2/114.2 KB\u001b[0m \u001b[31m5.7 MB/s\u001b[0m eta \u001b[36m0:00:00\u001b[0m\n",
            "\u001b[?25hRequirement already satisfied: typing-extensions>=3.7.4.3 in /usr/local/lib/python3.9/dist-packages (from huggingface-hub<1.0.0,>=0.2.0->datasets) (4.5.0)\n",
            "Requirement already satisfied: filelock in /usr/local/lib/python3.9/dist-packages (from huggingface-hub<1.0.0,>=0.2.0->datasets) (3.10.2)\n",
            "Requirement already satisfied: certifi>=2017.4.17 in /usr/local/lib/python3.9/dist-packages (from requests>=2.19.0->datasets) (2022.12.7)\n",
            "Requirement already satisfied: idna<4,>=2.5 in /usr/local/lib/python3.9/dist-packages (from requests>=2.19.0->datasets) (3.4)\n",
            "Requirement already satisfied: urllib3<1.27,>=1.21.1 in /usr/local/lib/python3.9/dist-packages (from requests>=2.19.0->datasets) (1.26.15)\n",
            "Requirement already satisfied: python-dateutil>=2.8.1 in /usr/local/lib/python3.9/dist-packages (from pandas->datasets) (2.8.2)\n",
            "Requirement already satisfied: pytz>=2020.1 in /usr/local/lib/python3.9/dist-packages (from pandas->datasets) (2022.7.1)\n",
            "Requirement already satisfied: six>=1.5 in /usr/local/lib/python3.9/dist-packages (from python-dateutil>=2.8.1->pandas->datasets) (1.16.0)\n",
            "Installing collected packages: xxhash, multidict, frozenlist, dill, async-timeout, yarl, responses, multiprocess, huggingface-hub, aiosignal, aiohttp, datasets\n",
            "Successfully installed aiohttp-3.8.4 aiosignal-1.3.1 async-timeout-4.0.2 datasets-2.10.1 dill-0.3.6 frozenlist-1.3.3 huggingface-hub-0.13.3 multidict-6.0.4 multiprocess-0.70.14 responses-0.18.0 xxhash-3.2.0 yarl-1.8.2\n"
          ]
        }
      ],
      "source": [
        "pip install datasets"
      ]
    },
    {
      "cell_type": "markdown",
      "metadata": {
        "id": "9HAZnzOUwjGw"
      },
      "source": [
        "Let's also install the huggingface transformers library\n"
      ]
    },
    {
      "cell_type": "code",
      "execution_count": null,
      "metadata": {
        "colab": {
          "base_uri": "https://localhost:8080/"
        },
        "id": "uDJYIDfxwnMZ",
        "outputId": "04f20a31-587d-464c-89e2-1fc1a66f7360"
      },
      "outputs": [
        {
          "name": "stdout",
          "output_type": "stream",
          "text": [
            "Looking in indexes: https://pypi.org/simple, https://us-python.pkg.dev/colab-wheels/public/simple/\n",
            "Collecting transformers\n",
            "  Downloading transformers-4.27.3-py3-none-any.whl (6.8 MB)\n",
            "\u001b[2K     \u001b[90m━━━━━━━━━━━━━━━━━━━━━━━━━━━━━━━━━━━━━━━━\u001b[0m \u001b[32m6.8/6.8 MB\u001b[0m \u001b[31m40.8 MB/s\u001b[0m eta \u001b[36m0:00:00\u001b[0m\n",
            "\u001b[?25hRequirement already satisfied: huggingface-hub<1.0,>=0.11.0 in /usr/local/lib/python3.9/dist-packages (from transformers) (0.13.3)\n",
            "Requirement already satisfied: filelock in /usr/local/lib/python3.9/dist-packages (from transformers) (3.10.2)\n",
            "Collecting tokenizers!=0.11.3,<0.14,>=0.11.1\n",
            "  Downloading tokenizers-0.13.2-cp39-cp39-manylinux_2_17_x86_64.manylinux2014_x86_64.whl (7.6 MB)\n",
            "\u001b[2K     \u001b[90m━━━━━━━━━━━━━━━━━━━━━━━━━━━━━━━━━━━━━━━━\u001b[0m \u001b[32m7.6/7.6 MB\u001b[0m \u001b[31m107.9 MB/s\u001b[0m eta \u001b[36m0:00:00\u001b[0m\n",
            "\u001b[?25hRequirement already satisfied: pyyaml>=5.1 in /usr/local/lib/python3.9/dist-packages (from transformers) (6.0)\n",
            "Requirement already satisfied: requests in /usr/local/lib/python3.9/dist-packages (from transformers) (2.27.1)\n",
            "Requirement already satisfied: packaging>=20.0 in /usr/local/lib/python3.9/dist-packages (from transformers) (23.0)\n",
            "Requirement already satisfied: regex!=2019.12.17 in /usr/local/lib/python3.9/dist-packages (from transformers) (2022.10.31)\n",
            "Requirement already satisfied: tqdm>=4.27 in /usr/local/lib/python3.9/dist-packages (from transformers) (4.65.0)\n",
            "Requirement already satisfied: numpy>=1.17 in /usr/local/lib/python3.9/dist-packages (from transformers) (1.22.4)\n",
            "Requirement already satisfied: typing-extensions>=3.7.4.3 in /usr/local/lib/python3.9/dist-packages (from huggingface-hub<1.0,>=0.11.0->transformers) (4.5.0)\n",
            "Requirement already satisfied: idna<4,>=2.5 in /usr/local/lib/python3.9/dist-packages (from requests->transformers) (3.4)\n",
            "Requirement already satisfied: certifi>=2017.4.17 in /usr/local/lib/python3.9/dist-packages (from requests->transformers) (2022.12.7)\n",
            "Requirement already satisfied: charset-normalizer~=2.0.0 in /usr/local/lib/python3.9/dist-packages (from requests->transformers) (2.0.12)\n",
            "Requirement already satisfied: urllib3<1.27,>=1.21.1 in /usr/local/lib/python3.9/dist-packages (from requests->transformers) (1.26.15)\n",
            "Installing collected packages: tokenizers, transformers\n",
            "Successfully installed tokenizers-0.13.2 transformers-4.27.3\n"
          ]
        }
      ],
      "source": [
        "pip install transformers"
      ]
    },
    {
      "cell_type": "markdown",
      "metadata": {
        "id": "m2xpkZy6vtqf"
      },
      "source": [
        "Now let's load the dataset we need, i.e. the imdb binary sentiment polarity movie review dataset.\n"
      ]
    },
    {
      "cell_type": "code",
      "execution_count": null,
      "metadata": {
        "colab": {
          "base_uri": "https://localhost:8080/",
          "height": 86,
          "referenced_widgets": [
            "1357fadc62864fedb55ccbc38a0fd3d0",
            "a21b69cde6054b858340653bcf195629",
            "9a2624d0bdbd4a249f886c80f7d5cef4",
            "c25c636e2f9f4fa8a0b4d76d51f158e1",
            "851a078827354ea1ad4c2a5ad2189347",
            "a2290a86743c42e0a1de305bd60ead0f",
            "6aae7cbac12f43d0a52c2651a3696e81",
            "6a6bf746fe6847789869f582e6e63baa",
            "9c75ec7ba6154aa58a97120e6a548533",
            "c910783c22bf4e80ace47ab354cb4b6e",
            "6af0c6c9796b452696232fc5e543213f"
          ]
        },
        "id": "797j--szuxBC",
        "outputId": "e13283b8-510b-4b89-8186-2acec650f037"
      },
      "outputs": [
        {
          "name": "stderr",
          "output_type": "stream",
          "text": [
            "WARNING:datasets.builder:Found cached dataset imdb (/root/.cache/huggingface/datasets/imdb/plain_text/1.0.0/d613c88cf8fa3bab83b4ded3713f1f74830d1100e171db75bbddb80b3345c9c0)\n"
          ]
        },
        {
          "data": {
            "application/vnd.jupyter.widget-view+json": {
              "model_id": "1357fadc62864fedb55ccbc38a0fd3d0",
              "version_major": 2,
              "version_minor": 0
            },
            "text/plain": [
              "  0%|          | 0/3 [00:00<?, ?it/s]"
            ]
          },
          "metadata": {},
          "output_type": "display_data"
        }
      ],
      "source": [
        "from datasets import load_dataset\n",
        "\n",
        "raw_datasets = load_dataset(\"imdb\")"
      ]
    },
    {
      "cell_type": "code",
      "execution_count": null,
      "metadata": {
        "colab": {
          "base_uri": "https://localhost:8080/"
        },
        "id": "QrhqrezDDIdh",
        "outputId": "53adb25e-9e4b-49e2-b387-d5a2736ddfe6"
      },
      "outputs": [
        {
          "data": {
            "text/plain": [
              "dict_keys(['train', 'test', 'unsupervised'])"
            ]
          },
          "execution_count": 16,
          "metadata": {},
          "output_type": "execute_result"
        }
      ],
      "source": [
        "raw_datasets.keys()"
      ]
    },
    {
      "cell_type": "code",
      "execution_count": null,
      "metadata": {
        "colab": {
          "base_uri": "https://localhost:8080/"
        },
        "id": "nj2PtfNdDhR-",
        "outputId": "74f8d98e-057f-4004-b7b6-c6b3880f0b99"
      },
      "outputs": [
        {
          "name": "stdout",
          "output_type": "stream",
          "text": [
            "25000\n",
            "25000\n",
            "50000\n"
          ]
        }
      ],
      "source": [
        "print(len(raw_datasets['train']))\n",
        "print(len(raw_datasets['test']))\n",
        "print(len(raw_datasets['unsupervised']))\n"
      ]
    },
    {
      "cell_type": "code",
      "execution_count": null,
      "metadata": {
        "colab": {
          "base_uri": "https://localhost:8080/"
        },
        "id": "keP-3ZfcFlxG",
        "outputId": "02556077-f7d3-41eb-a54b-fc29e7d59be9"
      },
      "outputs": [
        {
          "name": "stderr",
          "output_type": "stream",
          "text": [
            "WARNING:datasets.arrow_dataset:Loading cached shuffled indices for dataset at /root/.cache/huggingface/datasets/imdb/plain_text/1.0.0/d613c88cf8fa3bab83b4ded3713f1f74830d1100e171db75bbddb80b3345c9c0/cache-9c48ce5d173413c7.arrow\n",
            "WARNING:datasets.arrow_dataset:Loading cached shuffled indices for dataset at /root/.cache/huggingface/datasets/imdb/plain_text/1.0.0/d613c88cf8fa3bab83b4ded3713f1f74830d1100e171db75bbddb80b3345c9c0/cache-c1eaa46e94dfbfd3.arrow\n"
          ]
        },
        {
          "name": "stdout",
          "output_type": "stream",
          "text": [
            "2000\n",
            "1000\n"
          ]
        }
      ],
      "source": [
        "train_dataset = raw_datasets['train'].shuffle(seed=42).select(range(2000))\n",
        "test_dataset = raw_datasets['test'].shuffle(seed=42).select(range(1000))\n",
        "print(len(train_dataset))\n",
        "print(len(test_dataset))"
      ]
    },
    {
      "cell_type": "code",
      "execution_count": null,
      "metadata": {
        "colab": {
          "base_uri": "https://localhost:8080/"
        },
        "id": "H9TJmsHlGCpr",
        "outputId": "41b58f10-dfa8-4e99-8aee-7dc6cd1861d5"
      },
      "outputs": [
        {
          "name": "stderr",
          "output_type": "stream",
          "text": [
            "loading configuration file config.json from cache at /root/.cache/huggingface/hub/models--bert-base-cased/snapshots/5532cc56f74641d4bb33641f5c76a55d11f846e0/config.json\n",
            "Model config BertConfig {\n",
            "  \"_name_or_path\": \"bert-base-cased\",\n",
            "  \"architectures\": [\n",
            "    \"BertForMaskedLM\"\n",
            "  ],\n",
            "  \"attention_probs_dropout_prob\": 0.1,\n",
            "  \"classifier_dropout\": null,\n",
            "  \"gradient_checkpointing\": false,\n",
            "  \"hidden_act\": \"gelu\",\n",
            "  \"hidden_dropout_prob\": 0.1,\n",
            "  \"hidden_size\": 768,\n",
            "  \"initializer_range\": 0.02,\n",
            "  \"intermediate_size\": 3072,\n",
            "  \"layer_norm_eps\": 1e-12,\n",
            "  \"max_position_embeddings\": 512,\n",
            "  \"model_type\": \"bert\",\n",
            "  \"num_attention_heads\": 12,\n",
            "  \"num_hidden_layers\": 12,\n",
            "  \"pad_token_id\": 0,\n",
            "  \"position_embedding_type\": \"absolute\",\n",
            "  \"transformers_version\": \"4.26.1\",\n",
            "  \"type_vocab_size\": 2,\n",
            "  \"use_cache\": true,\n",
            "  \"vocab_size\": 28996\n",
            "}\n",
            "\n",
            "loading weights file pytorch_model.bin from cache at /root/.cache/huggingface/hub/models--bert-base-cased/snapshots/5532cc56f74641d4bb33641f5c76a55d11f846e0/pytorch_model.bin\n",
            "Some weights of the model checkpoint at bert-base-cased were not used when initializing BertForSequenceClassification: ['cls.predictions.decoder.weight', 'cls.seq_relationship.bias', 'cls.predictions.transform.dense.bias', 'cls.predictions.transform.dense.weight', 'cls.predictions.transform.LayerNorm.weight', 'cls.predictions.bias', 'cls.predictions.transform.LayerNorm.bias', 'cls.seq_relationship.weight']\n",
            "- This IS expected if you are initializing BertForSequenceClassification from the checkpoint of a model trained on another task or with another architecture (e.g. initializing a BertForSequenceClassification model from a BertForPreTraining model).\n",
            "- This IS NOT expected if you are initializing BertForSequenceClassification from the checkpoint of a model that you expect to be exactly identical (initializing a BertForSequenceClassification model from a BertForSequenceClassification model).\n",
            "Some weights of BertForSequenceClassification were not initialized from the model checkpoint at bert-base-cased and are newly initialized: ['classifier.weight', 'classifier.bias']\n",
            "You should probably TRAIN this model on a down-stream task to be able to use it for predictions and inference.\n"
          ]
        }
      ],
      "source": [
        "from transformers import AutoModelForSequenceClassification\n",
        "\n",
        "model = AutoModelForSequenceClassification.from_pretrained(\"bert-base-cased\", num_labels=2)"
      ]
    },
    {
      "cell_type": "code",
      "execution_count": null,
      "metadata": {
        "colab": {
          "base_uri": "https://localhost:8080/"
        },
        "id": "373jxURUwDT6",
        "outputId": "da079b76-c968-4a64-a5c7-5d079140030e"
      },
      "outputs": [
        {
          "name": "stderr",
          "output_type": "stream",
          "text": [
            "loading configuration file config.json from cache at /root/.cache/huggingface/hub/models--bert-base-cased/snapshots/5532cc56f74641d4bb33641f5c76a55d11f846e0/config.json\n",
            "Model config BertConfig {\n",
            "  \"_name_or_path\": \"bert-base-cased\",\n",
            "  \"architectures\": [\n",
            "    \"BertForMaskedLM\"\n",
            "  ],\n",
            "  \"attention_probs_dropout_prob\": 0.1,\n",
            "  \"classifier_dropout\": null,\n",
            "  \"gradient_checkpointing\": false,\n",
            "  \"hidden_act\": \"gelu\",\n",
            "  \"hidden_dropout_prob\": 0.1,\n",
            "  \"hidden_size\": 768,\n",
            "  \"initializer_range\": 0.02,\n",
            "  \"intermediate_size\": 3072,\n",
            "  \"layer_norm_eps\": 1e-12,\n",
            "  \"max_position_embeddings\": 512,\n",
            "  \"model_type\": \"bert\",\n",
            "  \"num_attention_heads\": 12,\n",
            "  \"num_hidden_layers\": 12,\n",
            "  \"pad_token_id\": 0,\n",
            "  \"position_embedding_type\": \"absolute\",\n",
            "  \"transformers_version\": \"4.26.1\",\n",
            "  \"type_vocab_size\": 2,\n",
            "  \"use_cache\": true,\n",
            "  \"vocab_size\": 28996\n",
            "}\n",
            "\n",
            "loading file vocab.txt from cache at /root/.cache/huggingface/hub/models--bert-base-cased/snapshots/5532cc56f74641d4bb33641f5c76a55d11f846e0/vocab.txt\n",
            "loading file tokenizer.json from cache at /root/.cache/huggingface/hub/models--bert-base-cased/snapshots/5532cc56f74641d4bb33641f5c76a55d11f846e0/tokenizer.json\n",
            "loading file added_tokens.json from cache at None\n",
            "loading file special_tokens_map.json from cache at None\n",
            "loading file tokenizer_config.json from cache at /root/.cache/huggingface/hub/models--bert-base-cased/snapshots/5532cc56f74641d4bb33641f5c76a55d11f846e0/tokenizer_config.json\n",
            "loading configuration file config.json from cache at /root/.cache/huggingface/hub/models--bert-base-cased/snapshots/5532cc56f74641d4bb33641f5c76a55d11f846e0/config.json\n",
            "Model config BertConfig {\n",
            "  \"_name_or_path\": \"bert-base-cased\",\n",
            "  \"architectures\": [\n",
            "    \"BertForMaskedLM\"\n",
            "  ],\n",
            "  \"attention_probs_dropout_prob\": 0.1,\n",
            "  \"classifier_dropout\": null,\n",
            "  \"gradient_checkpointing\": false,\n",
            "  \"hidden_act\": \"gelu\",\n",
            "  \"hidden_dropout_prob\": 0.1,\n",
            "  \"hidden_size\": 768,\n",
            "  \"initializer_range\": 0.02,\n",
            "  \"intermediate_size\": 3072,\n",
            "  \"layer_norm_eps\": 1e-12,\n",
            "  \"max_position_embeddings\": 512,\n",
            "  \"model_type\": \"bert\",\n",
            "  \"num_attention_heads\": 12,\n",
            "  \"num_hidden_layers\": 12,\n",
            "  \"pad_token_id\": 0,\n",
            "  \"position_embedding_type\": \"absolute\",\n",
            "  \"transformers_version\": \"4.26.1\",\n",
            "  \"type_vocab_size\": 2,\n",
            "  \"use_cache\": true,\n",
            "  \"vocab_size\": 28996\n",
            "}\n",
            "\n"
          ]
        }
      ],
      "source": [
        "from transformers import AutoTokenizer\n",
        "\n",
        "tokenizer = AutoTokenizer.from_pretrained(\"bert-base-cased\")\n",
        "\n",
        "def tokenize_dataset(dataset,tokenizer):\n",
        "  tokenized_dataset = []\n",
        "  for item in dataset:\n",
        "    tokenized = tokenizer(item[\"text\"],padding=\"max_length\", truncation=True)\n",
        "    item.update(tokenized)\n",
        "    tokenized_dataset.append(item)\n",
        "  return tokenized_dataset\n",
        "\n",
        "tokenized_train = tokenize_dataset(train_dataset,tokenizer)\n",
        "tokenized_test = tokenize_dataset(test_dataset,tokenizer)"
      ]
    },
    {
      "cell_type": "code",
      "execution_count": null,
      "metadata": {
        "colab": {
          "base_uri": "https://localhost:8080/"
        },
        "id": "dHYPDwjSHDj0",
        "outputId": "8d153a50-91fc-4687-b046-07cd85009ceb"
      },
      "outputs": [
        {
          "name": "stderr",
          "output_type": "stream",
          "text": [
            "PyTorch: setting up devices\n",
            "The default value for the training argument `--report_to` will change in v5 (from all installed integrations to none). In v5, you will need to use `--report_to all` to get the same behavior as now. You should start updating your code and make this info disappear :-).\n"
          ]
        }
      ],
      "source": [
        "from transformers import TrainingArguments\n",
        "\n",
        "training_args = TrainingArguments(\"test_trainer\",evaluation_strategy=\"epoch\")"
      ]
    },
    {
      "cell_type": "code",
      "execution_count": null,
      "metadata": {
        "id": "Kk3tHDVbL5XB"
      },
      "outputs": [],
      "source": [
        "import numpy as np\n",
        "from datasets import load_metric\n",
        "\n",
        "def compute_metrics(eval_pred):\n",
        "    logits, labels = eval_pred\n",
        "    predictions = np.argmax(logits, axis=-1)\n",
        "    metric = load_metric(\"accuracy\")\n",
        "    return metric.compute(predictions=predictions, references=labels)"
      ]
    },
    {
      "cell_type": "code",
      "execution_count": null,
      "metadata": {
        "id": "56K8QEJdHNYA"
      },
      "outputs": [],
      "source": [
        "from transformers import Trainer\n",
        "\n",
        "trainer = Trainer(\n",
        "    model=model, \n",
        "    args=training_args, \n",
        "    train_dataset=tokenized_train, \n",
        "    eval_dataset=tokenized_test,\n",
        "    compute_metrics = compute_metrics\n",
        ")"
      ]
    },
    {
      "cell_type": "code",
      "execution_count": null,
      "metadata": {
        "colab": {
          "base_uri": "https://localhost:8080/",
          "height": 811,
          "referenced_widgets": [
            "a2256716603d477d8475c50f25d87906",
            "29ab06a5c58e4613902305202080f689",
            "712e82961ff249be9b1c1d855b0c322c",
            "fe803be321534e8c86651a186cce0e9a",
            "18b144268c69432287d072d8f9cd45f7",
            "0e0a22ae3a704ce288dce694e9fbb3b3",
            "c9785e0cabf343159c8681c899dc1a22",
            "3532b2a1e9ef4d37a3f9116a10a94e79",
            "35e0141f6a894975828fd428d0de1030",
            "0a4e23a1c56b4766bc92609cbf5e7c4e",
            "deae5ae3626f4064ae6e971d5103109a"
          ]
        },
        "id": "xNojXzmPHZlE",
        "outputId": "c43cb1cb-d202-4d38-9696-5919af043492"
      },
      "outputs": [
        {
          "name": "stderr",
          "output_type": "stream",
          "text": [
            "***** Running training *****\n",
            "  Num examples = 2000\n",
            "  Num Epochs = 3\n",
            "  Instantaneous batch size per device = 8\n",
            "  Total train batch size (w. parallel, distributed & accumulation) = 8\n",
            "  Gradient Accumulation steps = 1\n",
            "  Total optimization steps = 750\n",
            "  Number of trainable parameters = 108311810\n",
            "The following columns in the training set don't have a corresponding argument in `BertForSequenceClassification.forward` and have been ignored: text. If text are not expected by `BertForSequenceClassification.forward`,  you can safely ignore this message.\n"
          ]
        },
        {
          "data": {
            "text/html": [
              "\n",
              "    <div>\n",
              "      \n",
              "      <progress value='750' max='750' style='width:300px; height:20px; vertical-align: middle;'></progress>\n",
              "      [750/750 11:25, Epoch 3/3]\n",
              "    </div>\n",
              "    <table border=\"1\" class=\"dataframe\">\n",
              "  <thead>\n",
              " <tr style=\"text-align: left;\">\n",
              "      <th>Epoch</th>\n",
              "      <th>Training Loss</th>\n",
              "      <th>Validation Loss</th>\n",
              "      <th>Accuracy</th>\n",
              "    </tr>\n",
              "  </thead>\n",
              "  <tbody>\n",
              "    <tr>\n",
              "      <td>1</td>\n",
              "      <td>No log</td>\n",
              "      <td>0.338673</td>\n",
              "      <td>0.863000</td>\n",
              "    </tr>\n",
              "    <tr>\n",
              "      <td>2</td>\n",
              "      <td>0.357400</td>\n",
              "      <td>0.612492</td>\n",
              "      <td>0.853000</td>\n",
              "    </tr>\n",
              "    <tr>\n",
              "      <td>3</td>\n",
              "      <td>0.357400</td>\n",
              "      <td>0.569828</td>\n",
              "      <td>0.875000</td>\n",
              "    </tr>\n",
              "  </tbody>\n",
              "</table><p>"
            ],
            "text/plain": [
              "<IPython.core.display.HTML object>"
            ]
          },
          "metadata": {},
          "output_type": "display_data"
        },
        {
          "name": "stderr",
          "output_type": "stream",
          "text": [
            "***** Running Evaluation *****\n",
            "  Num examples = 1000\n",
            "  Batch size = 8\n",
            "The following columns in the evaluation set don't have a corresponding argument in `BertForSequenceClassification.forward` and have been ignored: text. If text are not expected by `BertForSequenceClassification.forward`,  you can safely ignore this message.\n",
            "<ipython-input-22-4fa8ea88c8c5>:7: FutureWarning: load_metric is deprecated and will be removed in the next major version of datasets. Use 'evaluate.load' instead, from the new library 🤗 Evaluate: https://huggingface.co/docs/evaluate\n",
            "  metric = load_metric(\"accuracy\")\n"
          ]
        },
        {
          "data": {
            "application/vnd.jupyter.widget-view+json": {
              "model_id": "a2256716603d477d8475c50f25d87906",
              "version_major": 2,
              "version_minor": 0
            },
            "text/plain": [
              "Downloading builder script:   0%|          | 0.00/1.65k [00:00<?, ?B/s]"
            ]
          },
          "metadata": {},
          "output_type": "display_data"
        },
        {
          "name": "stderr",
          "output_type": "stream",
          "text": [
            "Saving model checkpoint to test_trainer/checkpoint-500\n",
            "Configuration saved in test_trainer/checkpoint-500/config.json\n",
            "Model weights saved in test_trainer/checkpoint-500/pytorch_model.bin\n",
            "***** Running Evaluation *****\n",
            "  Num examples = 1000\n",
            "  Batch size = 8\n",
            "The following columns in the evaluation set don't have a corresponding argument in `BertForSequenceClassification.forward` and have been ignored: text. If text are not expected by `BertForSequenceClassification.forward`,  you can safely ignore this message.\n",
            "***** Running Evaluation *****\n",
            "  Num examples = 1000\n",
            "  Batch size = 8\n",
            "The following columns in the evaluation set don't have a corresponding argument in `BertForSequenceClassification.forward` and have been ignored: text. If text are not expected by `BertForSequenceClassification.forward`,  you can safely ignore this message.\n",
            "\n",
            "\n",
            "Training completed. Do not forget to share your model on huggingface.co/models =)\n",
            "\n",
            "\n"
          ]
        },
        {
          "data": {
            "text/plain": [
              "TrainOutput(global_step=750, training_loss=0.27596288045247397, metrics={'train_runtime': 686.4578, 'train_samples_per_second': 8.741, 'train_steps_per_second': 1.093, 'total_flos': 1578666332160000.0, 'train_loss': 0.27596288045247397, 'epoch': 3.0})"
            ]
          },
          "execution_count": 24,
          "metadata": {},
          "output_type": "execute_result"
        }
      ],
      "source": [
        "trainer.train()"
      ]
    },
    {
      "cell_type": "code",
      "execution_count": null,
      "metadata": {
        "colab": {
          "base_uri": "https://localhost:8080/",
          "height": 231
        },
        "id": "sRQr7AwrNrrI",
        "outputId": "18a07118-b26b-4738-854e-478a3d8231d4"
      },
      "outputs": [
        {
          "name": "stderr",
          "output_type": "stream",
          "text": [
            "***** Running Evaluation *****\n",
            "  Num examples = 1000\n",
            "  Batch size = 8\n",
            "The following columns in the evaluation set don't have a corresponding argument in `BertForSequenceClassification.forward` and have been ignored: text. If text are not expected by `BertForSequenceClassification.forward`,  you can safely ignore this message.\n"
          ]
        },
        {
          "data": {
            "text/html": [
              "\n",
              "    <div>\n",
              "      \n",
              "      <progress value='125' max='125' style='width:300px; height:20px; vertical-align: middle;'></progress>\n",
              "      [125/125 00:32]\n",
              "    </div>\n",
              "    "
            ],
            "text/plain": [
              "<IPython.core.display.HTML object>"
            ]
          },
          "metadata": {},
          "output_type": "display_data"
        },
        {
          "data": {
            "text/plain": [
              "{'eval_loss': 0.5698278546333313,\n",
              " 'eval_accuracy': 0.875,\n",
              " 'eval_runtime': 33.4824,\n",
              " 'eval_samples_per_second': 29.866,\n",
              " 'eval_steps_per_second': 3.733,\n",
              " 'epoch': 3.0}"
            ]
          },
          "execution_count": 25,
          "metadata": {},
          "output_type": "execute_result"
        }
      ],
      "source": [
        "trainer.evaluate(tokenized_test)"
      ]
    },
    {
      "cell_type": "code",
      "execution_count": null,
      "metadata": {
        "colab": {
          "base_uri": "https://localhost:8080/",
          "height": 106
        },
        "id": "kzKCw09DOSu8",
        "outputId": "b24d890d-430d-4200-c21f-0a42c6c4cbdc"
      },
      "outputs": [
        {
          "name": "stderr",
          "output_type": "stream",
          "text": [
            "***** Running Prediction *****\n",
            "  Num examples = 1000\n",
            "  Batch size = 8\n",
            "The following columns in the test set don't have a corresponding argument in `BertForSequenceClassification.forward` and have been ignored: text. If text are not expected by `BertForSequenceClassification.forward`,  you can safely ignore this message.\n"
          ]
        },
        {
          "data": {
            "text/html": [],
            "text/plain": [
              "<IPython.core.display.HTML object>"
            ]
          },
          "metadata": {},
          "output_type": "display_data"
        }
      ],
      "source": [
        "\n",
        "predictions = trainer.predict(tokenized_test)"
      ]
    },
    {
      "cell_type": "code",
      "execution_count": null,
      "metadata": {
        "id": "68zqg-ePdrwc"
      },
      "outputs": [],
      "source": [
        "def print_predictions_by_type(pred_type, predictions):\n",
        "    print('='*200)\n",
        "    print(pred_type)\n",
        "    for pred in predictions:\n",
        "      print(pred)\n",
        "\n",
        "def get_predictions_by_type(dataset):\n",
        "   for i,item in enumerate(dataset):\n",
        "      predicted = np.argmax(predictions.predictions[i])\n",
        "      gold = item['label']\n",
        "      if predicted == gold: # prediction is correct\n",
        "         if predicted == 1:\n",
        "            print('TP: ' + item['text'])\n",
        "         else:\n",
        "            print('TN: ' + item['text'])\n",
        "      else: # prediction is incorrect\n",
        "         if predicted == 1:\n",
        "            print('FP: ' + item['text'])\n",
        "         else:\n",
        "            print('FN: ' + item['text'])\n",
        "   \n",
        "\n",
        "get_predictions_by_type(test_dataset)"
      ]
    },
    {
      "cell_type": "markdown",
      "metadata": {
        "id": "vmZj9uBy-8G1"
      },
      "source": [
        "## Question answering implementation\n",
        "\n",
        "I have decided to take the BERT model and apply it to a different task, namely question answering. There are several different flavours of question answering, these are as follows:\n",
        "\n",
        "*   **Extractive** - The model extracts the answer from the provided context.\n",
        "*   **Open Generative** - The model generates a free-form answer from the provided context.\n",
        "*   **Closed Generative** - The model generates a free-form answer from no context, meaning the model ideally already has the means to generate the answer.\n",
        "\n",
        "\n",
        "The choice of question answering typically depends on the exact usecase for the model, if the context is available and the answer can follow the appearance in the context, extractive is the approach to use.\n",
        "\n",
        "We can briefly have a look at the extractive model and see how it operates."
      ]
    },
    {
      "cell_type": "markdown",
      "source": [
        "### Extractive Model Implementation\n",
        "\n",
        "NOTE: This implementation is adapted from the HuggingFace tutorial to explore the model and potential implementation. The Squad dataset is a commonly used question answering dataset that will not be used in my implementation."
      ],
      "metadata": {
        "id": "de-A1Yh_O4lb"
      }
    },
    {
      "cell_type": "code",
      "source": [
        "# Mount the drive so we can save the results of training to our drive.\n",
        "from google.colab import drive\n",
        "drive.mount('/content/drive')"
      ],
      "metadata": {
        "colab": {
          "base_uri": "https://localhost:8080/"
        },
        "id": "0Amf1SUJF9FP",
        "outputId": "cc80f84f-a41d-4d22-80a2-965b27006e7a"
      },
      "execution_count": 1,
      "outputs": [
        {
          "output_type": "stream",
          "name": "stdout",
          "text": [
            "Mounted at /content/drive\n"
          ]
        }
      ]
    },
    {
      "cell_type": "code",
      "execution_count": 2,
      "metadata": {
        "id": "5IlcBVSf9OUH"
      },
      "outputs": [],
      "source": [
        "%%capture\n",
        "pip install datasets"
      ]
    },
    {
      "cell_type": "code",
      "execution_count": 3,
      "metadata": {
        "id": "e31ACNHz9RPx"
      },
      "outputs": [],
      "source": [
        "%%capture\n",
        "pip install transformers"
      ]
    },
    {
      "cell_type": "markdown",
      "source": [
        "Now we have mounted our drive and installed the needed packages, we can load the dataset and train our BERT question answering model."
      ],
      "metadata": {
        "id": "Q-I6If8Ri7Od"
      }
    },
    {
      "cell_type": "code",
      "execution_count": null,
      "metadata": {
        "id": "A0oGNGU5uEnR"
      },
      "outputs": [],
      "source": [
        "from datasets import load_dataset\n",
        "\n",
        "# Get the dataset and only take the first 5,000 samples\n",
        "squad = load_dataset(\"squad\", split=\"train[:5000]\")\n",
        "\n",
        "# Split these samples into a train and test set with the training set being 80% and the test being 20%\n",
        "squad = squad.train_test_split(test_size=0.2)"
      ]
    },
    {
      "cell_type": "markdown",
      "source": [
        "We now need to preprocess the dataset. This will involve tokenizing the input data so the model can process it. In addition, we will need to pass the start and end of the answer in the context for training. This will need to be found and added to the data when we are processing it."
      ],
      "metadata": {
        "id": "_pHz3cM9jE1O"
      }
    },
    {
      "cell_type": "code",
      "execution_count": null,
      "metadata": {
        "id": "dkFYooM84C3w"
      },
      "outputs": [],
      "source": [
        "from transformers import AutoTokenizer\n",
        "\n",
        "# Create the auto tokenizer so we can tokenize the text for the model to process.\n",
        "tokenizer = AutoTokenizer.from_pretrained(\"bert-base-cased\")"
      ]
    },
    {
      "cell_type": "code",
      "execution_count": null,
      "metadata": {
        "id": "5PijdonN4KMV"
      },
      "outputs": [],
      "source": [
        "def preprocess_function(examples):\n",
        "    \"\"\"\n",
        "    This function takes batches from the squad dataset and tokenizes the input \n",
        "    while also finding the index in the input for the answer in the context.\n",
        "    \"\"\"\n",
        "\n",
        "    # Strip any whitespace from the text.\n",
        "    questions = [q.strip() for q in examples[\"question\"]]\n",
        "\n",
        "    # Generate the tokens for each word in the input. This goes up to a max length of 384.\n",
        "    # The input ids are padded with 0's or truncated if the sequence is too long.\n",
        "    # The offset mapping is returned so the start and end position of the word can be found in the sequence.\n",
        "    inputs = tokenizer(\n",
        "        questions,\n",
        "        examples[\"context\"],\n",
        "        max_length=384,\n",
        "        truncation=\"only_second\",\n",
        "        return_offsets_mapping=True,\n",
        "        padding=\"max_length\",\n",
        "    )\n",
        "\n",
        "    # Extract the offset mapping\n",
        "    offset_mapping = inputs.pop(\"offset_mapping\")\n",
        "\n",
        "    # Extract the answers from the examples\n",
        "    answers = examples[\"answers\"]\n",
        "\n",
        "    # Create a list for keeping track of the start and end positions.\n",
        "    start_positions = []\n",
        "    end_positions = []\n",
        "\n",
        "    # For every sample (an individual list in the offset mapping)\n",
        "    for i, offset in enumerate(offset_mapping):\n",
        "\n",
        "      # Get the current answer\n",
        "        answer = answers[i]\n",
        "\n",
        "        # Get the start and end of the word.\n",
        "        start_char = answer[\"answer_start\"][0]\n",
        "        end_char = answer[\"answer_start\"][0] + len(answer[\"text\"][0])\n",
        "\n",
        "        # Get the ids of the sequences. Special characters added by the tokenizer\n",
        "        # will be None, words from the first sequence (question) will have the id 0.\n",
        "        # The words from the second sequence (context) will be 1.\n",
        "        sequence_ids = inputs.sequence_ids(i)\n",
        "\n",
        "        # Find the start and end of the context\n",
        "        idx = 0\n",
        "        while sequence_ids[idx] != 1:\n",
        "            idx += 1\n",
        "        context_start = idx\n",
        "        while sequence_ids[idx] == 1:\n",
        "            idx += 1\n",
        "        context_end = idx - 1\n",
        "\n",
        "        # If the answer is not fully inside the context, label it (0, 0)\n",
        "        if offset[context_start][0] > end_char or offset[context_end][1] < start_char:\n",
        "            start_positions.append(0)\n",
        "            end_positions.append(0)\n",
        "        else:\n",
        "            # Otherwise it's the start and end token positions\n",
        "            idx = context_start\n",
        "            while idx <= context_end and offset[idx][0] <= start_char:\n",
        "                idx += 1\n",
        "            start_positions.append(idx - 1)\n",
        "\n",
        "            idx = context_end\n",
        "            while idx >= context_start and offset[idx][1] >= end_char:\n",
        "                idx -= 1\n",
        "            end_positions.append(idx + 1)\n",
        "\n",
        "    # Add the start and end positions to the inputs.\n",
        "    inputs[\"start_positions\"] = start_positions\n",
        "    inputs[\"end_positions\"] = end_positions\n",
        "\n",
        "    return inputs"
      ]
    },
    {
      "cell_type": "markdown",
      "source": [
        "Now we can apply our preprocessing function using map, giving us the processed data that we are ready to use for the model training."
      ],
      "metadata": {
        "id": "iFnmxCkPjp-_"
      }
    },
    {
      "cell_type": "code",
      "execution_count": null,
      "metadata": {
        "id": "zLhEzPFf4U_-"
      },
      "outputs": [],
      "source": [
        "# Apply the preprocess function to the squad data in a batched manner and remove the column names in train.\n",
        "tokenized_squad = squad.map(preprocess_function, batched=True, remove_columns=squad[\"train\"].column_names)"
      ]
    },
    {
      "cell_type": "code",
      "execution_count": null,
      "metadata": {
        "id": "ufqyDKnB4ZEz"
      },
      "outputs": [],
      "source": [
        "from transformers import DefaultDataCollator\n",
        "\n",
        "# Create a DataCollator for used during training.\n",
        "data_collator = DefaultDataCollator()"
      ]
    },
    {
      "cell_type": "code",
      "execution_count": null,
      "metadata": {
        "id": "LLQstCOT4ce3"
      },
      "outputs": [],
      "source": [
        "from transformers import AutoModelForQuestionAnswering, TrainingArguments, Trainer\n",
        "\n",
        "# Create the Auto Question Answering model using the bert-base-cased weights.\n",
        "model = AutoModelForQuestionAnswering.from_pretrained(\"bert-base-cased\")"
      ]
    },
    {
      "cell_type": "markdown",
      "source": [
        "We can see that some of the weights were not initialized from the BERT model checkpoint, these are the question answering output weights and biases, which are not a part of the BERT model so these have to be initialized randomly.\n",
        "\n",
        "This is typically the case when fine-tuning BERT as the base model is essentially an encoder. Adding additional layers at the end and fine-tuning the model on a task allows for good performance on a range of natural language tasks."
      ],
      "metadata": {
        "id": "pBe2UGlsFTPf"
      }
    },
    {
      "cell_type": "code",
      "execution_count": null,
      "metadata": {
        "id": "Pm74IJFO4fa1"
      },
      "outputs": [],
      "source": [
        "# Define the training arguments.\n",
        "training_args = TrainingArguments(\n",
        "    output_dir=\"tmp/\",\n",
        "    evaluation_strategy=\"epoch\",\n",
        "    learning_rate=2e-5,\n",
        "    per_device_train_batch_size=16,\n",
        "    per_device_eval_batch_size=16,\n",
        "    num_train_epochs=3,\n",
        "    weight_decay=0.01\n",
        ")\n",
        "\n",
        "# Create a trainer object so we can train the model easily.\n",
        "trainer = Trainer(\n",
        "    model=model,\n",
        "    args=training_args,\n",
        "    train_dataset=tokenized_squad[\"train\"],\n",
        "    eval_dataset=tokenized_squad[\"test\"],\n",
        "    tokenizer=tokenizer,\n",
        "    data_collator=data_collator,\n",
        ")\n",
        "\n",
        "trainer.train()"
      ]
    },
    {
      "cell_type": "markdown",
      "source": [
        "We can see that the model improved after the first epoch, but remained quire similar on the next. We could increase the number of epochs and observe how the loss changes on both the training and test sets.\n",
        "\n",
        "Unfortunately, there is no default metric for understanding the performance. As this is the sample model we will not concern ourselves with this, we will look at this in our later models."
      ],
      "metadata": {
        "id": "NXhslqlDkn1l"
      }
    },
    {
      "cell_type": "code",
      "execution_count": null,
      "metadata": {
        "id": "Bn0Jpv5k4isd"
      },
      "outputs": [],
      "source": [
        "trainer.evaluate()"
      ]
    },
    {
      "cell_type": "markdown",
      "source": [
        "We can manually run our model to create predictions given a question and context. We can see that it works reasonably well. This question and context was not in the dataset."
      ],
      "metadata": {
        "id": "v3ix6xRLlFlk"
      }
    },
    {
      "cell_type": "code",
      "source": [
        "from transformers import pipeline\n",
        "\n",
        "# Ensure that the model is back on the cpu, as this is where our test question will be created.\n",
        "model.to(\"cpu\")\n",
        "\n",
        "# We can make use of a pipeline to pass questions and context and get the answers returned.\n",
        "question_answerer = pipeline(\"question-answering\", model=model, tokenizer=tokenizer)\n",
        "\n",
        "context = \"\"\"\n",
        "🤗 Transformers is backed by the three most popular deep learning libraries — Jax, PyTorch and TensorFlow — with a seamless integration\n",
        "between them. It's straightforward to train your models with one before loading them for inference with the other.\n",
        "\"\"\"\n",
        "question = \"Which deep learning libraries back 🤗 Transformers?\"\n",
        "question_answerer(question=question, context=context)"
      ],
      "metadata": {
        "id": "ZwQIOtWWGfIu"
      },
      "execution_count": null,
      "outputs": []
    },
    {
      "cell_type": "markdown",
      "metadata": {
        "id": "zDbzGeXxuGqh"
      },
      "source": [
        "This approach works well when we have a dataset that the answer to the questions can be directly extracted from the context. This means that there can be no advanced answers that return more than a single extracted segment of text from the context.\n",
        "\n",
        "\n",
        "### Tweet QA dataset\n",
        "\n",
        "The dataset I have decided to make use of is the [Tweet QA dataset](https://huggingface.co/datasets/tweet_qa). This dataset is intersting as it makes use of user generated data from the social media platform Twitter. The tweets were extracted from articles on the major news websites CNN and NBC. The questions and potential answers were gathered from Amazon Mechanical Turk workers.\n",
        "\n",
        "Let us take a look at the dataset below.\n"
      ]
    },
    {
      "cell_type": "code",
      "execution_count": 4,
      "metadata": {
        "id": "_LXhFWBHzzUY",
        "colab": {
          "base_uri": "https://localhost:8080/",
          "height": 489,
          "referenced_widgets": [
            "c9bfe269b7204742ac9c4e5e3ea77624",
            "77992ca631ae4cf48c7623be9765967f",
            "5535d081d13c4714bdd748877cdc3282",
            "2c1460f1f9f446a9a78d9137e944d5ed",
            "068196f0eec44f4eb7158b55bad1d111",
            "b1ae9075fd944df48ced0598f67e27da",
            "0397abdc9d3e47f890dda20e004b22d0",
            "825e5671d7654b6782eb781ae33f7103",
            "e62e2478ee2a4de59123ba5d5c7fce71",
            "eb57ea612a564bc299be466c9915d32b",
            "5275149663134ba4aca41ea79e416b30",
            "f90158e6f98d4cac9bc33545789f8a21",
            "c7b124e28fc743ba9c88edd83e1d7ee2",
            "968894c063e9484297bc32ae92ee69d9",
            "f20b3eb8a27640008454fcb5b4d4b58c",
            "6e86bfd84d704143a8b69f664aa88975",
            "1d5befb3dc01430eaa65fb3c70b8aa16",
            "da9908708f3e43f6a727ac09d29538f6",
            "b04874c0fb9c42d98a7126777b1cb9fd",
            "c9f8ab1fd9fe4ada8fbf836e0efe757b",
            "c5a726e823c14448b303ea7d07e9ebd1",
            "7e07fa18431f4987b9a220ebfcce8893",
            "ccbfd6e0691e4ce299f882ec8c5baf55",
            "0fc571c235864bb897616534fdf81a59",
            "a82eeb584b754a6998085a5f9a7c25df",
            "b84dc2e47611484fb2e168fd032f5a56",
            "9966bf6145a94459ac00379375b107e2",
            "a597d485a46343fea1fa2fb4a05ea575",
            "ce3335e0316940559ae07edffea7c1ca",
            "d87c16ce72d34fd5abb2ee64064f07ff",
            "8e1fb385c9624968b97aeb950a86e908",
            "b1018381f00a48dc8497c3d265665a2b",
            "e1110b3f2294486eaac29cab5efb74e0",
            "4cd3a012565541038212784b3dc6b3e8",
            "b40f9f1bda864d5fbb183ea99b145116",
            "1fbf14caeb3f41a4823fca6b05b0afac",
            "a08473f35ff84a1ea55129346787f1c7",
            "25c7bf7da71e466a8d87bba6d100c1a2",
            "ca384d23e7a5461094f30481becc05ea",
            "f69a105aec334972877550af7921c612",
            "2132d0ea268d4e608f41c5e16fce8ecb",
            "b7bcd98e5b384d1881f3244b4f421e7a",
            "6f540e78a1a747d5a7789f9d22ffe3bb",
            "b250b0c4af564e568c812106c565dfc5",
            "5e585787e3bc4e0a9a911d07ac42da11",
            "639bcdd718c94935bf15dc16029902c6",
            "95afe0dd228c4f38869df4c9e157cb23",
            "b95bc7ac48cf4b2fb68863a0e6f239fa",
            "ac10be809a6144c184ddabb491671dbf",
            "b8bf9530a0dc4077bc8ea049f3580c9f",
            "2efea0011e634990be97c99d0a5c6a3a",
            "d1ba8b7f484f461296395816dbb765bd",
            "8cf9564049eb4b7b893c629dbf0e649b",
            "9b966d59053746ea99d02ae5a8cdae6b",
            "1b169bbec8084cbd8b89cec0f2e2e128",
            "c484da3539b34c61af3ea67f50559673",
            "4761bb08175b4befb6f8c658ff7fc4e5",
            "52c30ef0bda14978baddc0f32db5467b",
            "243dc0b8286d4401b976b48a252efff1",
            "67018af19ee34b85adcfdb9f1351ea77",
            "4e6c8bfe87894fd9bb6e5bd43492798e",
            "c09abb6a9a9f43e3b93ad91915ac07bf",
            "c131da00ce91426281f2b296972406b9",
            "516ce1f5e0b64b7db0c633fae0ef5a48",
            "86a6172acd1744b1a5d9d31c221bda3c",
            "e964388632c5413aa282538efd42fbd2",
            "c3a610b1e1224b2e965634b860731115",
            "f7a90fc2c4264e4b98edd6f7156fefc6",
            "c5b0fd1dfc1a402898c2595040d0a1eb",
            "ac4abd79bfe7414b829692a3d5b8c79e",
            "e64368c7265c4262acd792031eed85ca",
            "d6ca4fea38324dd19d78eaf5fd0c5de1",
            "9a26e703c2cd4f21b6a046c96fd03a84",
            "7fb8c7c30e7b459b9da6c39cfdaa78a9",
            "81177e41e2bc4c5fa2f999062746bd29",
            "b8148697063a4b968ad816a994a57c68",
            "534b57c4e8594690801d70998492727c",
            "11b1a48294064e978ab1d3a44b7b5837",
            "f723fc23564c415cac2ef4ba0f2f77bc",
            "11f3c5da81f74e2c80e9f5446f5e3bdd",
            "371ddaf903f343e0bee197d57c768f16",
            "ce835bb87f3a4bb080a079769e8fbf7e",
            "762516b819d64399a9e1d36cf4d0a3fe",
            "2e0f51cdb7c54396bfc80a1e639b53c7",
            "9b6dfde147614514801ff51bbaa12847",
            "bc5f9dd8dba143fb8c340d85495454fa",
            "c416c3d4d0f04a3a81c2e92f88613b2d",
            "c700c5d8f2214fba8084f789ae5577c6"
          ]
        },
        "outputId": "7b065880-b456-407b-a7cd-2817a5b5a14a"
      },
      "outputs": [
        {
          "output_type": "display_data",
          "data": {
            "text/plain": [
              "Downloading builder script:   0%|          | 0.00/3.71k [00:00<?, ?B/s]"
            ],
            "application/vnd.jupyter.widget-view+json": {
              "version_major": 2,
              "version_minor": 0,
              "model_id": "c9bfe269b7204742ac9c4e5e3ea77624"
            }
          },
          "metadata": {}
        },
        {
          "output_type": "display_data",
          "data": {
            "text/plain": [
              "Downloading metadata:   0%|          | 0.00/1.74k [00:00<?, ?B/s]"
            ],
            "application/vnd.jupyter.widget-view+json": {
              "version_major": 2,
              "version_minor": 0,
              "model_id": "f90158e6f98d4cac9bc33545789f8a21"
            }
          },
          "metadata": {}
        },
        {
          "output_type": "display_data",
          "data": {
            "text/plain": [
              "Downloading readme:   0%|          | 0.00/12.3k [00:00<?, ?B/s]"
            ],
            "application/vnd.jupyter.widget-view+json": {
              "version_major": 2,
              "version_minor": 0,
              "model_id": "ccbfd6e0691e4ce299f882ec8c5baf55"
            }
          },
          "metadata": {}
        },
        {
          "output_type": "stream",
          "name": "stdout",
          "text": [
            "Downloading and preparing dataset tweet_qa/default to /root/.cache/huggingface/datasets/tweet_qa/default/1.0.0/7d588f7f477946b10f60c035ca55175737315ac446102b015218af38d2638777...\n"
          ]
        },
        {
          "output_type": "display_data",
          "data": {
            "text/plain": [
              "Downloading data:   0%|          | 0.00/1.57M [00:00<?, ?B/s]"
            ],
            "application/vnd.jupyter.widget-view+json": {
              "version_major": 2,
              "version_minor": 0,
              "model_id": "4cd3a012565541038212784b3dc6b3e8"
            }
          },
          "metadata": {}
        },
        {
          "output_type": "display_data",
          "data": {
            "text/plain": [
              "Generating train split:   0%|          | 0/10692 [00:00<?, ? examples/s]"
            ],
            "application/vnd.jupyter.widget-view+json": {
              "version_major": 2,
              "version_minor": 0,
              "model_id": "5e585787e3bc4e0a9a911d07ac42da11"
            }
          },
          "metadata": {}
        },
        {
          "output_type": "display_data",
          "data": {
            "text/plain": [
              "Generating test split:   0%|          | 0/1979 [00:00<?, ? examples/s]"
            ],
            "application/vnd.jupyter.widget-view+json": {
              "version_major": 2,
              "version_minor": 0,
              "model_id": "c484da3539b34c61af3ea67f50559673"
            }
          },
          "metadata": {}
        },
        {
          "output_type": "display_data",
          "data": {
            "text/plain": [
              "Generating validation split:   0%|          | 0/1086 [00:00<?, ? examples/s]"
            ],
            "application/vnd.jupyter.widget-view+json": {
              "version_major": 2,
              "version_minor": 0,
              "model_id": "c3a610b1e1224b2e965634b860731115"
            }
          },
          "metadata": {}
        },
        {
          "output_type": "stream",
          "name": "stdout",
          "text": [
            "Dataset tweet_qa downloaded and prepared to /root/.cache/huggingface/datasets/tweet_qa/default/1.0.0/7d588f7f477946b10f60c035ca55175737315ac446102b015218af38d2638777. Subsequent calls will reuse this data.\n"
          ]
        },
        {
          "output_type": "display_data",
          "data": {
            "text/plain": [
              "  0%|          | 0/3 [00:00<?, ?it/s]"
            ],
            "application/vnd.jupyter.widget-view+json": {
              "version_major": 2,
              "version_minor": 0,
              "model_id": "11b1a48294064e978ab1d3a44b7b5837"
            }
          },
          "metadata": {}
        },
        {
          "output_type": "execute_result",
          "data": {
            "text/plain": [
              "DatasetDict({\n",
              "    train: Dataset({\n",
              "        features: ['Question', 'Answer', 'Tweet', 'qid'],\n",
              "        num_rows: 10692\n",
              "    })\n",
              "    test: Dataset({\n",
              "        features: ['Question', 'Answer', 'Tweet', 'qid'],\n",
              "        num_rows: 1979\n",
              "    })\n",
              "    validation: Dataset({\n",
              "        features: ['Question', 'Answer', 'Tweet', 'qid'],\n",
              "        num_rows: 1086\n",
              "    })\n",
              "})"
            ]
          },
          "metadata": {},
          "execution_count": 4
        }
      ],
      "source": [
        "# Load the dataset\n",
        "from datasets import load_dataset\n",
        "\n",
        "raw_datasets = load_dataset(\"tweet_qa\")\n",
        "raw_datasets"
      ]
    },
    {
      "cell_type": "code",
      "source": [
        "# Show the dataset\n",
        "raw_datasets[\"train\"][0]"
      ],
      "metadata": {
        "colab": {
          "base_uri": "https://localhost:8080/"
        },
        "id": "Ys4R7tJBLWdc",
        "outputId": "208ce80e-e622-494d-fd49-89cb16d8cda9"
      },
      "execution_count": 5,
      "outputs": [
        {
          "output_type": "execute_result",
          "data": {
            "text/plain": [
              "{'Question': 'at which school were first responders on the scene for?',\n",
              " 'Answer': ['independence high school'],\n",
              " 'Tweet': 'Our prayers are with the students, educators & families at Independence High School & all the first responders on the scene. #PatriotPride— Doug Ducey (@dougducey) February 12, 2016',\n",
              " 'qid': '0c871b7e5320d0816d5b2979d67c2649'}"
            ]
          },
          "metadata": {},
          "execution_count": 5
        }
      ]
    },
    {
      "cell_type": "markdown",
      "metadata": {
        "id": "2K5bj1Ymzzqi"
      },
      "source": [
        "We can see that the dataset is structured quite similarly to the squad dataset, there is a Question, Answer and Tweet (context). The only issue is that there is no answer start index for us to make use of. This means that to make use of the extractive method we will need to manually extract this information from the dataset. It can be seen that there are several instances where there is either no answer provided or that it does not match the structure in the context, which will be an issue when finding the start and end index of the answer.\n",
        "\n",
        "There are however ways around this, or we can disregard samples where we cannot find any start or end indexes. In addition, we will take a look after at using a generative method to answer the questions. \n",
        "\n",
        "### Extractive Model\n",
        "\n",
        "We will need to figure out our issue with the start and end index. After this we can easily train a Q&A model in a similar way to the example provided.\n",
        "\n",
        "I will make use of Python RegEx to match the case-insensitive answer in the tweet and extract the start and end index. I have decided to ignore case as the user generated content may not always follow typical grammatical rules.\n"
      ]
    },
    {
      "cell_type": "code",
      "source": [
        "import re\n",
        "from datasets import Dataset\n",
        "\n",
        "def find_question_start_end_indexes(dataset):\n",
        "  \"\"\"\n",
        "  This function takes a dataset and creates a new one that has the start and end\n",
        "  indexes of the answer inside of the context added to the item dictionary.\n",
        "  In the case where there is no answer or it cannot be found, the item is dropped\n",
        "  from the dataset.\"\"\"\n",
        "\n",
        "  # Create variables for storing the new dataset and count of samples we can't find an answer for.\n",
        "  new_dataset = []\n",
        "  dropped_samples = 0\n",
        "\n",
        "\n",
        "  # For every entry in the dataset.\n",
        "  for item in dataset:\n",
        "\n",
        "    # Create variables for storing the start and end of the answer.\n",
        "    start, end = None, None\n",
        "\n",
        "    # Take the context.\n",
        "    context = item[\"Tweet\"]\n",
        "\n",
        "    for answer in item[\"Answer\"]:\n",
        "\n",
        "      # The answer cannot start with a \"*\" or \"?\" as regex can't handle this.\n",
        "      if answer[0] in [\"*\", \"?\"]:\n",
        "\n",
        "        # If it does, take the rest of the answer only.\n",
        "        answer = answer[1:]\n",
        "\n",
        "      # If both of these aren't empty or of type None.\n",
        "      if answer not in [None, \"\"] and context not in [None, \"\"]:\n",
        "        \n",
        "        # Search the context for the case insensitive answer.\n",
        "        matched = re.search(answer, context, flags=re.IGNORECASE)\n",
        "\n",
        "        if matched:\n",
        "          # Extract the start and end of the found answer.\n",
        "          start, end = matched.start(), matched.end()\n",
        "          break\n",
        "    \n",
        "    # If we have found a match\n",
        "    if start is not None and end is not None:\n",
        "      item[\"start_position\"] = start\n",
        "      item[\"end_position\"] = end\n",
        "      new_dataset.append(item)\n",
        "    \n",
        "    else:\n",
        "      # Otherwise, we won't be adding this sample to the new dataset.\n",
        "      dropped_samples += 1\n",
        "  \n",
        "  return Dataset.from_list(new_dataset), dropped_samples"
      ],
      "metadata": {
        "id": "BWJwlEbPfbBK"
      },
      "execution_count": 6,
      "outputs": []
    },
    {
      "cell_type": "code",
      "source": [
        "# Use the created function\n",
        "train_dataset, dropped_count = find_question_start_end_indexes(raw_datasets[\"train\"])\n",
        "\n",
        "# Find the percentage of the dataset we have dropped.\n",
        "percentage_dropped = (dropped_count / len(raw_datasets[\"train\"])) * 100\n",
        "\n",
        "# Output the number of samples and percent of the total we have dropped.\n",
        "print(f\"We have dropped {dropped_count} samples, losing {percentage_dropped}% of the training data.\")"
      ],
      "metadata": {
        "colab": {
          "base_uri": "https://localhost:8080/"
        },
        "id": "zV_9dVeNkPC3",
        "outputId": "52e0505a-1700-4128-e8b0-cfcd4e51a311"
      },
      "execution_count": 7,
      "outputs": [
        {
          "output_type": "stream",
          "name": "stdout",
          "text": [
            "We have dropped 4044 samples, losing 37.82267115600449% of the training data.\n"
          ]
        }
      ]
    },
    {
      "cell_type": "code",
      "source": [
        "# Use the created function\n",
        "test_dataset, dropped_count = find_question_start_end_indexes(raw_datasets[\"test\"])\n",
        "\n",
        "# Find the percentage of the dataset we have dropped.\n",
        "percentage_dropped = (dropped_count / len(raw_datasets[\"test\"])) * 100\n",
        "\n",
        "# Output the number of samples and percent of the total we have dropped.\n",
        "print(f\"We have dropped {dropped_count} samples, losing {percentage_dropped}% of the test data.\")"
      ],
      "metadata": {
        "colab": {
          "base_uri": "https://localhost:8080/"
        },
        "id": "C5kbA0SvBbb0",
        "outputId": "71b08803-f1a9-4d22-f89b-d32cc0e2f50f"
      },
      "execution_count": 8,
      "outputs": [
        {
          "output_type": "stream",
          "name": "stdout",
          "text": [
            "We have dropped 1979 samples, losing 100.0% of the test data.\n"
          ]
        }
      ]
    },
    {
      "cell_type": "markdown",
      "source": [
        "We can see that after removing samples that we cannot find a RegEx match of the answer in the context we have 63% of the training data remaining and none of the test data.\n",
        "\n",
        "This means that our model will be training on a small section of data, but should hopefully still perform reasonably."
      ],
      "metadata": {
        "id": "ARVWuHuvBndE"
      }
    },
    {
      "cell_type": "code",
      "source": [
        "# Check the length of tokens\n",
        "highest = 0\n",
        "\n",
        "# For every item\n",
        "for item in train_dataset:\n",
        "\n",
        "  # The count of tokens is the length of the tweet and question.\n",
        "  token_count = len(item[\"Tweet\"]) + len(item[\"Question\"]) + 3 # Start, seperator and end tokens.\n",
        "\n",
        "  # If the current token count is greater than the highest count so far, update the highest count.\n",
        "  if token_count > highest:\n",
        "    highest = token_count"
      ],
      "metadata": {
        "id": "CRD8qa2Jn3p4"
      },
      "execution_count": 9,
      "outputs": []
    },
    {
      "cell_type": "markdown",
      "source": [
        "We can see that there should be no issue with input length. This is because the largest length of tokens should be 423. This is under the max tokens accepted by BERT which is 512, so we don't need to consider breaking these down into separate samples.\n",
        "\n",
        "Now we can tokenize the data and perform the pre-processing necessary to convert the data to a useable type for the model."
      ],
      "metadata": {
        "id": "uCGqPGl5n7iI"
      }
    },
    {
      "cell_type": "code",
      "source": [
        "from transformers import AutoTokenizer\n",
        "\n",
        "# Create the auto tokenizer so we can tokenize the text for the model to process.\n",
        "tokenizer = AutoTokenizer.from_pretrained(\"bert-base-cased\")"
      ],
      "metadata": {
        "colab": {
          "base_uri": "https://localhost:8080/",
          "height": 145,
          "referenced_widgets": [
            "def203f433f54ffe8f21a03bf78f81ad",
            "bf54ce61187a4dc69a5ba687d8f1cd78",
            "d76213f6860c4375ba932a7b7ece3ad1",
            "8a5b33a508ee467d9963a8078e60e0e7",
            "ce5324069c524867b6a000af92a88e57",
            "d3f1874b942b49f394635bbb10a948a4",
            "09c6cde12a154c9d8ab7fe526c140ea5",
            "725f9e7dbb374f43a3e1486be56cc423",
            "304191a2c84c4883bd16b7333b6d53b4",
            "c7d772f7d3744dab908d603eb24ca0dd",
            "b7e2e99bcac2498f9b58131fdf2d9198",
            "5a0d003544974a7993b0272d9c24f7d2",
            "f4dd3a944cc34ffaa35fe84165bd6fac",
            "dd3f6d09b8454113b475b685573f6502",
            "871cb62bff454871bdd13a58202342b5",
            "b6f6533b8e64465ab41b8b8e39ea7b23",
            "1388ec66a76d4694ad4c1be7185fd7a3",
            "a415a7a40b084aed962f69d7f366edf3",
            "1787d614dbf4458db6bb8ec66f6dec9f",
            "4d26c9ea30ce4e1082a2400fdaaff12e",
            "2b2471b93dc642b99b307f0c255e48c8",
            "2b921889bc0a4b4a88766942483fd766",
            "fc8d6cef5fd847f38ac2112bae7749b6",
            "46c36031b1c94521bfd33d08ad259fc9",
            "33a032cafe1a46fbb39c01ef868f3196",
            "964926496bf34dc8878bcd578f236d37",
            "420f396d1f134a8687a614262ea25b33",
            "7c3e30ddd412422c909bad6d9852de66",
            "4a830d16a3bd4ab292927df0ae89c9bf",
            "b2b64177e52b4c7face7b6295b28cc4a",
            "74a979499ff048688935be794def0c21",
            "49ec5ccd4eff42c2939f29f42315899f",
            "573071da7b314ba7a411c96c9de63e3e",
            "c255d637fcd543f8bc8964634b216fc9",
            "ef6262fae21b4e9382d635fd2c7b73b2",
            "b4f6f0c14bc94fdc8db363b97029c401",
            "d493af3afdff47b3aa13915a395eb316",
            "f94d40953595403eba661231de7ba25c",
            "1571d3b87ef64951afe7c6b2059c1afc",
            "90c3c2f7beee4dc4afc3862bf33913c2",
            "e004f6addd714a0ea20a0b1f6be8818e",
            "8a3ed1077d0540d7be0af40cee489ef7",
            "dbee5079fca04c48aefc94962187fd66",
            "2044d80b4fbd463c8154148b0dac3a36"
          ]
        },
        "id": "OQBJVjWYE6w4",
        "outputId": "ac412705-2f09-4e2d-c852-bd475b1fded9"
      },
      "execution_count": 10,
      "outputs": [
        {
          "output_type": "display_data",
          "data": {
            "text/plain": [
              "Downloading (…)okenizer_config.json:   0%|          | 0.00/29.0 [00:00<?, ?B/s]"
            ],
            "application/vnd.jupyter.widget-view+json": {
              "version_major": 2,
              "version_minor": 0,
              "model_id": "def203f433f54ffe8f21a03bf78f81ad"
            }
          },
          "metadata": {}
        },
        {
          "output_type": "display_data",
          "data": {
            "text/plain": [
              "Downloading (…)lve/main/config.json:   0%|          | 0.00/570 [00:00<?, ?B/s]"
            ],
            "application/vnd.jupyter.widget-view+json": {
              "version_major": 2,
              "version_minor": 0,
              "model_id": "5a0d003544974a7993b0272d9c24f7d2"
            }
          },
          "metadata": {}
        },
        {
          "output_type": "display_data",
          "data": {
            "text/plain": [
              "Downloading (…)solve/main/vocab.txt:   0%|          | 0.00/213k [00:00<?, ?B/s]"
            ],
            "application/vnd.jupyter.widget-view+json": {
              "version_major": 2,
              "version_minor": 0,
              "model_id": "fc8d6cef5fd847f38ac2112bae7749b6"
            }
          },
          "metadata": {}
        },
        {
          "output_type": "display_data",
          "data": {
            "text/plain": [
              "Downloading (…)/main/tokenizer.json:   0%|          | 0.00/436k [00:00<?, ?B/s]"
            ],
            "application/vnd.jupyter.widget-view+json": {
              "version_major": 2,
              "version_minor": 0,
              "model_id": "c255d637fcd543f8bc8964634b216fc9"
            }
          },
          "metadata": {}
        }
      ]
    },
    {
      "cell_type": "code",
      "source": [
        "def preprocess_function(examples):\n",
        "    \"\"\"\n",
        "    This function takes batches from the dataset and tokenizes the input \n",
        "    while also finding the index in the input for the answer in the context.\n",
        "    \"\"\"\n",
        "\n",
        "    # Strip any whitespace from the text.\n",
        "    questions = [q.strip() for q in examples[\"Question\"]]\n",
        "\n",
        "    # Generate the tokens for each word in the input. This goes up to a max length of 512.\n",
        "    # The input ids are padded with 0's or truncated if the sequence is too long.\n",
        "    # The offset mapping is returned so the start and end position of the word can be found in the sequence.\n",
        "    inputs = tokenizer(\n",
        "        questions,\n",
        "        examples[\"Tweet\"],\n",
        "        max_length=512,\n",
        "        truncation=\"only_second\",\n",
        "        return_offsets_mapping=True,\n",
        "        padding=\"max_length\",\n",
        "        return_tensors=\"pt\"\n",
        "    )\n",
        "\n",
        "    # Extract the offset mapping\n",
        "    offset_mapping = inputs.pop(\"offset_mapping\")\n",
        "\n",
        "    # Extract the answers from the examples\n",
        "    # answers = examples[\"Answer\"]\n",
        "    start_index = examples[\"start_position\"]\n",
        "    end_index = examples[\"end_position\"]\n",
        "\n",
        "\n",
        "    # Create a list for keeping track of the start and end positions.\n",
        "    start_positions = []\n",
        "    end_positions = []\n",
        "\n",
        "    # For every sample (an individual list in the offset mapping)\n",
        "    for i, offset in enumerate(offset_mapping):\n",
        "\n",
        "        # Get the start and end of the word.\n",
        "        start_char = start_index[i]\n",
        "        end_char = end_index[i]\n",
        "\n",
        "        # Get the ids of the sequences. Special characters added by the tokenizer\n",
        "        # will be None, words from the first sequence (question) will have the id 0.\n",
        "        # The words from the second sequence (context) will be 1.\n",
        "        sequence_ids = inputs.sequence_ids(i)\n",
        "\n",
        "        # Find the start and end of the context\n",
        "        idx = 0\n",
        "        while sequence_ids[idx] != 1:\n",
        "            idx += 1\n",
        "        context_start = idx\n",
        "        while sequence_ids[idx] == 1:\n",
        "            idx += 1\n",
        "        context_end = idx - 1\n",
        "\n",
        "        # If the answer is not fully inside the context, label it (0, 0)\n",
        "        if offset[context_start][0] > end_char or offset[context_end][1] < start_char:\n",
        "            start_positions.append(0)\n",
        "            end_positions.append(0)\n",
        "        else:\n",
        "            # Otherwise it's the start and end token positions\n",
        "            idx = context_start\n",
        "            while idx <= context_end and offset[idx][0] <= start_char:\n",
        "                idx += 1\n",
        "            start_positions.append(idx - 1)\n",
        "\n",
        "            idx = context_end\n",
        "            while idx >= context_start and offset[idx][1] >= end_char:\n",
        "                idx -= 1\n",
        "            end_positions.append(idx + 1)\n",
        "\n",
        "    # Add the start and end positions to the inputs.\n",
        "    inputs[\"start_positions\"] = start_positions\n",
        "    inputs[\"end_positions\"] = end_positions\n",
        "\n",
        "    return inputs"
      ],
      "metadata": {
        "id": "laa7yFM_C7zd"
      },
      "execution_count": 11,
      "outputs": []
    },
    {
      "cell_type": "code",
      "source": [
        "tokenize_tweet_qa = train_dataset.map(preprocess_function, batched=True, remove_columns=train_dataset.column_names)\n",
        "tokenize_tweet_qa.set_format(\"pt\", columns=[\"input_ids\", \"attention_mask\", \"token_type_ids\"], output_all_columns=True)"
      ],
      "metadata": {
        "colab": {
          "base_uri": "https://localhost:8080/",
          "height": 17,
          "referenced_widgets": [
            "16ccf759339e4c63aaaba347cbf65dfc",
            "acfc2e176dee4b0bb1a43654e1835689",
            "cef72f929f7c4399b0c503bc7205daa2",
            "fe28202e146b4c5aa4471001ae022bf4",
            "94d0a5791706431a9ea9f41e8c5966a1",
            "fef0998614bd43b7ac2c64f75b1ae82b",
            "5d6d78d873e1401aaf56e5e08ba8ffaf",
            "62470ca0ee254b9aa7c4649d5254db9d",
            "7a6c2addc44648d68b46d147d50f177c",
            "da5bf3f78d1e4acc865baa75924c297b",
            "fff1aa250b76445bb7eea52af762d304"
          ]
        },
        "id": "n6do1dSs8qCW",
        "outputId": "f4c6fbe9-ab5c-4cc7-92b6-97beb999b366"
      },
      "execution_count": 12,
      "outputs": [
        {
          "output_type": "display_data",
          "data": {
            "text/plain": [
              "Map:   0%|          | 0/6648 [00:00<?, ? examples/s]"
            ],
            "application/vnd.jupyter.widget-view+json": {
              "version_major": 2,
              "version_minor": 0,
              "model_id": "16ccf759339e4c63aaaba347cbf65dfc"
            }
          },
          "metadata": {}
        }
      ]
    },
    {
      "cell_type": "code",
      "source": [
        "split_dataset = tokenize_tweet_qa.train_test_split(test_size=0.2, shuffle=False)"
      ],
      "metadata": {
        "id": "JJLjSMy0FmpU"
      },
      "execution_count": 13,
      "outputs": []
    },
    {
      "cell_type": "code",
      "source": [
        "split_dataset"
      ],
      "metadata": {
        "colab": {
          "base_uri": "https://localhost:8080/"
        },
        "id": "VaqsaLljG6D1",
        "outputId": "d7dbbd73-9414-4c55-e7f7-f672d9ab485b"
      },
      "execution_count": 14,
      "outputs": [
        {
          "output_type": "execute_result",
          "data": {
            "text/plain": [
              "DatasetDict({\n",
              "    train: Dataset({\n",
              "        features: ['input_ids', 'token_type_ids', 'attention_mask', 'start_positions', 'end_positions'],\n",
              "        num_rows: 5318\n",
              "    })\n",
              "    test: Dataset({\n",
              "        features: ['input_ids', 'token_type_ids', 'attention_mask', 'start_positions', 'end_positions'],\n",
              "        num_rows: 1330\n",
              "    })\n",
              "})"
            ]
          },
          "metadata": {},
          "execution_count": 14
        }
      ]
    },
    {
      "cell_type": "markdown",
      "source": [
        "Our data is now ready for passing into our model. We just need to create several components for use during training such as a DataCollator and the TrainingArguments."
      ],
      "metadata": {
        "id": "OD_HLpTgptio"
      }
    },
    {
      "cell_type": "code",
      "source": [
        "from transformers import DefaultDataCollator\n",
        "\n",
        "# Create a DataCollator for used during training.\n",
        "data_collator = DefaultDataCollator()"
      ],
      "metadata": {
        "id": "bBK0hxoJFv0h"
      },
      "execution_count": 35,
      "outputs": []
    },
    {
      "cell_type": "code",
      "source": [
        "from transformers import AutoModelForQuestionAnswering, TrainingArguments, Trainer\n",
        "\n",
        "# Create the Auto Question Answering model using the bert-base-cased weights.\n",
        "model = AutoModelForQuestionAnswering.from_pretrained(\"bert-base-cased\")"
      ],
      "metadata": {
        "colab": {
          "base_uri": "https://localhost:8080/"
        },
        "id": "IXLXtUmjF0SI",
        "outputId": "67117573-6956-4d11-9550-0ea3e005bf83"
      },
      "execution_count": 36,
      "outputs": [
        {
          "output_type": "stream",
          "name": "stderr",
          "text": [
            "Some weights of the model checkpoint at bert-base-cased were not used when initializing BertForQuestionAnswering: ['cls.predictions.transform.LayerNorm.weight', 'cls.predictions.transform.dense.weight', 'cls.predictions.decoder.weight', 'cls.seq_relationship.bias', 'cls.predictions.transform.LayerNorm.bias', 'cls.seq_relationship.weight', 'cls.predictions.transform.dense.bias', 'cls.predictions.bias']\n",
            "- This IS expected if you are initializing BertForQuestionAnswering from the checkpoint of a model trained on another task or with another architecture (e.g. initializing a BertForSequenceClassification model from a BertForPreTraining model).\n",
            "- This IS NOT expected if you are initializing BertForQuestionAnswering from the checkpoint of a model that you expect to be exactly identical (initializing a BertForSequenceClassification model from a BertForSequenceClassification model).\n",
            "Some weights of BertForQuestionAnswering were not initialized from the model checkpoint at bert-base-cased and are newly initialized: ['qa_outputs.bias', 'qa_outputs.weight']\n",
            "You should probably TRAIN this model on a down-stream task to be able to use it for predictions and inference.\n"
          ]
        }
      ]
    },
    {
      "cell_type": "code",
      "source": [
        "# Define the training arguments.\n",
        "training_args = TrainingArguments(\n",
        "    output_dir=\"/content/drive/MyDrive/CA4023-BERT/extractive\",\n",
        "    evaluation_strategy=\"epoch\",\n",
        "    learning_rate=2e-5,\n",
        "    per_device_train_batch_size=16,\n",
        "    per_device_eval_batch_size=16,\n",
        "    num_train_epochs=3,\n",
        "    weight_decay=0.01\n",
        ")\n",
        "\n",
        "trainer = Trainer(\n",
        "    model=model,\n",
        "    args=training_args,\n",
        "    train_dataset=split_dataset[\"train\"],\n",
        "    eval_dataset=split_dataset[\"test\"],\n",
        "    tokenizer=tokenizer,\n",
        "    data_collator=data_collator,\n",
        ")\n",
        "\n",
        "trainer.train()"
      ],
      "metadata": {
        "colab": {
          "base_uri": "https://localhost:8080/",
          "height": 474
        },
        "id": "Tp1E7LL2F6Wu",
        "outputId": "9fcd844d-82f2-413f-b4f2-552bdc294789"
      },
      "execution_count": 37,
      "outputs": [
        {
          "output_type": "stream",
          "name": "stderr",
          "text": [
            "/usr/local/lib/python3.9/dist-packages/transformers/optimization.py:391: FutureWarning: This implementation of AdamW is deprecated and will be removed in a future version. Use the PyTorch implementation torch.optim.AdamW instead, or set `no_deprecation_warning=True` to disable this warning\n",
            "  warnings.warn(\n"
          ]
        },
        {
          "output_type": "display_data",
          "data": {
            "text/plain": [
              "<IPython.core.display.HTML object>"
            ],
            "text/html": [
              "\n",
              "    <div>\n",
              "      \n",
              "      <progress value='4' max='999' style='width:300px; height:20px; vertical-align: middle;'></progress>\n",
              "      [  4/999 00:02 < 22:29, 0.74 it/s, Epoch 0.01/3]\n",
              "    </div>\n",
              "    <table border=\"1\" class=\"dataframe\">\n",
              "  <thead>\n",
              " <tr style=\"text-align: left;\">\n",
              "      <th>Epoch</th>\n",
              "      <th>Training Loss</th>\n",
              "      <th>Validation Loss</th>\n",
              "    </tr>\n",
              "  </thead>\n",
              "  <tbody>\n",
              "  </tbody>\n",
              "</table><p>"
            ]
          },
          "metadata": {}
        },
        {
          "output_type": "error",
          "ename": "KeyboardInterrupt",
          "evalue": "ignored",
          "traceback": [
            "\u001b[0;31m---------------------------------------------------------------------------\u001b[0m",
            "\u001b[0;31mKeyboardInterrupt\u001b[0m                         Traceback (most recent call last)",
            "\u001b[0;32m<ipython-input-37-302bc1ce0c71>\u001b[0m in \u001b[0;36m<cell line: 21>\u001b[0;34m()\u001b[0m\n\u001b[1;32m     19\u001b[0m )\n\u001b[1;32m     20\u001b[0m \u001b[0;34m\u001b[0m\u001b[0m\n\u001b[0;32m---> 21\u001b[0;31m \u001b[0mtrainer\u001b[0m\u001b[0;34m.\u001b[0m\u001b[0mtrain\u001b[0m\u001b[0;34m(\u001b[0m\u001b[0;34m)\u001b[0m\u001b[0;34m\u001b[0m\u001b[0;34m\u001b[0m\u001b[0m\n\u001b[0m",
            "\u001b[0;32m/usr/local/lib/python3.9/dist-packages/transformers/trainer.py\u001b[0m in \u001b[0;36mtrain\u001b[0;34m(self, resume_from_checkpoint, trial, ignore_keys_for_eval, **kwargs)\u001b[0m\n\u001b[1;32m   1631\u001b[0m             \u001b[0mself\u001b[0m\u001b[0;34m.\u001b[0m\u001b[0m_inner_training_loop\u001b[0m\u001b[0;34m,\u001b[0m \u001b[0mself\u001b[0m\u001b[0;34m.\u001b[0m\u001b[0m_train_batch_size\u001b[0m\u001b[0;34m,\u001b[0m \u001b[0margs\u001b[0m\u001b[0;34m.\u001b[0m\u001b[0mauto_find_batch_size\u001b[0m\u001b[0;34m\u001b[0m\u001b[0;34m\u001b[0m\u001b[0m\n\u001b[1;32m   1632\u001b[0m         )\n\u001b[0;32m-> 1633\u001b[0;31m         return inner_training_loop(\n\u001b[0m\u001b[1;32m   1634\u001b[0m             \u001b[0margs\u001b[0m\u001b[0;34m=\u001b[0m\u001b[0margs\u001b[0m\u001b[0;34m,\u001b[0m\u001b[0;34m\u001b[0m\u001b[0;34m\u001b[0m\u001b[0m\n\u001b[1;32m   1635\u001b[0m             \u001b[0mresume_from_checkpoint\u001b[0m\u001b[0;34m=\u001b[0m\u001b[0mresume_from_checkpoint\u001b[0m\u001b[0;34m,\u001b[0m\u001b[0;34m\u001b[0m\u001b[0;34m\u001b[0m\u001b[0m\n",
            "\u001b[0;32m/usr/local/lib/python3.9/dist-packages/transformers/trainer.py\u001b[0m in \u001b[0;36m_inner_training_loop\u001b[0;34m(self, batch_size, args, resume_from_checkpoint, trial, ignore_keys_for_eval)\u001b[0m\n\u001b[1;32m   1900\u001b[0m                         \u001b[0mtr_loss_step\u001b[0m \u001b[0;34m=\u001b[0m \u001b[0mself\u001b[0m\u001b[0;34m.\u001b[0m\u001b[0mtraining_step\u001b[0m\u001b[0;34m(\u001b[0m\u001b[0mmodel\u001b[0m\u001b[0;34m,\u001b[0m \u001b[0minputs\u001b[0m\u001b[0;34m)\u001b[0m\u001b[0;34m\u001b[0m\u001b[0;34m\u001b[0m\u001b[0m\n\u001b[1;32m   1901\u001b[0m                 \u001b[0;32melse\u001b[0m\u001b[0;34m:\u001b[0m\u001b[0;34m\u001b[0m\u001b[0;34m\u001b[0m\u001b[0m\n\u001b[0;32m-> 1902\u001b[0;31m                     \u001b[0mtr_loss_step\u001b[0m \u001b[0;34m=\u001b[0m \u001b[0mself\u001b[0m\u001b[0;34m.\u001b[0m\u001b[0mtraining_step\u001b[0m\u001b[0;34m(\u001b[0m\u001b[0mmodel\u001b[0m\u001b[0;34m,\u001b[0m \u001b[0minputs\u001b[0m\u001b[0;34m)\u001b[0m\u001b[0;34m\u001b[0m\u001b[0;34m\u001b[0m\u001b[0m\n\u001b[0m\u001b[1;32m   1903\u001b[0m \u001b[0;34m\u001b[0m\u001b[0m\n\u001b[1;32m   1904\u001b[0m                 if (\n",
            "\u001b[0;32m/usr/local/lib/python3.9/dist-packages/transformers/trainer.py\u001b[0m in \u001b[0;36mtraining_step\u001b[0;34m(self, model, inputs)\u001b[0m\n\u001b[1;32m   2661\u001b[0m             \u001b[0mloss\u001b[0m \u001b[0;34m=\u001b[0m \u001b[0mself\u001b[0m\u001b[0;34m.\u001b[0m\u001b[0mdeepspeed\u001b[0m\u001b[0;34m.\u001b[0m\u001b[0mbackward\u001b[0m\u001b[0;34m(\u001b[0m\u001b[0mloss\u001b[0m\u001b[0;34m)\u001b[0m\u001b[0;34m\u001b[0m\u001b[0;34m\u001b[0m\u001b[0m\n\u001b[1;32m   2662\u001b[0m         \u001b[0;32melse\u001b[0m\u001b[0;34m:\u001b[0m\u001b[0;34m\u001b[0m\u001b[0;34m\u001b[0m\u001b[0m\n\u001b[0;32m-> 2663\u001b[0;31m             \u001b[0mloss\u001b[0m\u001b[0;34m.\u001b[0m\u001b[0mbackward\u001b[0m\u001b[0;34m(\u001b[0m\u001b[0;34m)\u001b[0m\u001b[0;34m\u001b[0m\u001b[0;34m\u001b[0m\u001b[0m\n\u001b[0m\u001b[1;32m   2664\u001b[0m \u001b[0;34m\u001b[0m\u001b[0m\n\u001b[1;32m   2665\u001b[0m         \u001b[0;32mreturn\u001b[0m \u001b[0mloss\u001b[0m\u001b[0;34m.\u001b[0m\u001b[0mdetach\u001b[0m\u001b[0;34m(\u001b[0m\u001b[0;34m)\u001b[0m\u001b[0;34m\u001b[0m\u001b[0;34m\u001b[0m\u001b[0m\n",
            "\u001b[0;32m/usr/local/lib/python3.9/dist-packages/torch/_tensor.py\u001b[0m in \u001b[0;36mbackward\u001b[0;34m(self, gradient, retain_graph, create_graph, inputs)\u001b[0m\n\u001b[1;32m    485\u001b[0m                 \u001b[0minputs\u001b[0m\u001b[0;34m=\u001b[0m\u001b[0minputs\u001b[0m\u001b[0;34m,\u001b[0m\u001b[0;34m\u001b[0m\u001b[0;34m\u001b[0m\u001b[0m\n\u001b[1;32m    486\u001b[0m             )\n\u001b[0;32m--> 487\u001b[0;31m         torch.autograd.backward(\n\u001b[0m\u001b[1;32m    488\u001b[0m             \u001b[0mself\u001b[0m\u001b[0;34m,\u001b[0m \u001b[0mgradient\u001b[0m\u001b[0;34m,\u001b[0m \u001b[0mretain_graph\u001b[0m\u001b[0;34m,\u001b[0m \u001b[0mcreate_graph\u001b[0m\u001b[0;34m,\u001b[0m \u001b[0minputs\u001b[0m\u001b[0;34m=\u001b[0m\u001b[0minputs\u001b[0m\u001b[0;34m\u001b[0m\u001b[0;34m\u001b[0m\u001b[0m\n\u001b[1;32m    489\u001b[0m         )\n",
            "\u001b[0;32m/usr/local/lib/python3.9/dist-packages/torch/autograd/__init__.py\u001b[0m in \u001b[0;36mbackward\u001b[0;34m(tensors, grad_tensors, retain_graph, create_graph, grad_variables, inputs)\u001b[0m\n\u001b[1;32m    198\u001b[0m     \u001b[0;31m# some Python versions print out the first line of a multi-line function\u001b[0m\u001b[0;34m\u001b[0m\u001b[0;34m\u001b[0m\u001b[0m\n\u001b[1;32m    199\u001b[0m     \u001b[0;31m# calls in the traceback and some print out the last line\u001b[0m\u001b[0;34m\u001b[0m\u001b[0;34m\u001b[0m\u001b[0m\n\u001b[0;32m--> 200\u001b[0;31m     Variable._execution_engine.run_backward(  # Calls into the C++ engine to run the backward pass\n\u001b[0m\u001b[1;32m    201\u001b[0m         \u001b[0mtensors\u001b[0m\u001b[0;34m,\u001b[0m \u001b[0mgrad_tensors_\u001b[0m\u001b[0;34m,\u001b[0m \u001b[0mretain_graph\u001b[0m\u001b[0;34m,\u001b[0m \u001b[0mcreate_graph\u001b[0m\u001b[0;34m,\u001b[0m \u001b[0minputs\u001b[0m\u001b[0;34m,\u001b[0m\u001b[0;34m\u001b[0m\u001b[0;34m\u001b[0m\u001b[0m\n\u001b[1;32m    202\u001b[0m         allow_unreachable=True, accumulate_grad=True)  # Calls into the C++ engine to run the backward pass\n",
            "\u001b[0;31mKeyboardInterrupt\u001b[0m: "
          ]
        }
      ]
    },
    {
      "cell_type": "code",
      "source": [
        "trainer.evaluate()"
      ],
      "metadata": {
        "colab": {
          "base_uri": "https://localhost:8080/",
          "height": 128
        },
        "id": "4uL32r1LHKlE",
        "outputId": "7dda9685-fbc2-4645-9fbf-704111c001d6"
      },
      "execution_count": 25,
      "outputs": [
        {
          "output_type": "display_data",
          "data": {
            "text/plain": [
              "<IPython.core.display.HTML object>"
            ],
            "text/html": [
              "\n",
              "    <div>\n",
              "      \n",
              "      <progress value='84' max='84' style='width:300px; height:20px; vertical-align: middle;'></progress>\n",
              "      [84/84 00:45]\n",
              "    </div>\n",
              "    "
            ]
          },
          "metadata": {}
        },
        {
          "output_type": "execute_result",
          "data": {
            "text/plain": [
              "{'eval_loss': 1.2374424934387207,\n",
              " 'eval_runtime': 45.165,\n",
              " 'eval_samples_per_second': 29.448,\n",
              " 'eval_steps_per_second': 1.86,\n",
              " 'epoch': 3.0}"
            ]
          },
          "metadata": {},
          "execution_count": 25
        }
      ]
    },
    {
      "cell_type": "markdown",
      "source": [
        "Now we can save the model so we can load it back in with ease if we wish to use it. This can be done using the save_pretrained method and the using the from_pretrained method to read it back in."
      ],
      "metadata": {
        "id": "WWtxrzzfqHJO"
      }
    },
    {
      "cell_type": "code",
      "source": [
        "model.save_pretrained(\"/content/drive/MyDrive/CA4023-BERT/extractive/extractive_model\")"
      ],
      "metadata": {
        "id": "mOYOuyx6-7_H"
      },
      "execution_count": 26,
      "outputs": []
    },
    {
      "cell_type": "code",
      "source": [
        "from transformers import AutoModelForQuestionAnswering\n",
        "\n",
        "# Create the Auto Question Answering model using the bert-base-cased weights.\n",
        "model = AutoModelForQuestionAnswering.from_pretrained(\"/content/drive/MyDrive/CA4023-BERT/extractive/extractive_model\")"
      ],
      "metadata": {
        "id": "fxglXZsH_F9r"
      },
      "execution_count": 15,
      "outputs": []
    },
    {
      "cell_type": "code",
      "source": [
        "from transformers import pipeline\n",
        "\n",
        "# Ensure that the model is back on the cpu, as this is where our test question will be created.\n",
        "model.to(\"cpu\")\n",
        "\n",
        "# We can make use of a pipeline to pass questions and context and get the answers returned.\n",
        "question_answerer = pipeline(\"question-answering\", model=model, tokenizer=tokenizer)\n",
        "\n",
        "context = \"\"\"\n",
        "🤗 Transformers is backed by the three most popular deep learning libraries — Jax, PyTorch and TensorFlow — with a seamless integration\n",
        "between them. It's straightforward to train your models with one before loading them for inference with the other.\n",
        "\"\"\"\n",
        "question = \"Which deep learning libraries back 🤗 Transformers?\"\n",
        "question_answerer(question=question, context=context)"
      ],
      "metadata": {
        "colab": {
          "base_uri": "https://localhost:8080/"
        },
        "id": "h4u69gdzHJ3r",
        "outputId": "969d65aa-55e0-485e-cd8a-a9ecfc452a86"
      },
      "execution_count": 16,
      "outputs": [
        {
          "output_type": "execute_result",
          "data": {
            "text/plain": [
              "{'score': 0.24850651621818542,\n",
              " 'start': 33,\n",
              " 'end': 90,\n",
              " 'answer': 'three most popular deep learning libraries — Jax, PyTorch'}"
            ]
          },
          "metadata": {},
          "execution_count": 16
        }
      ]
    },
    {
      "cell_type": "markdown",
      "source": [
        "We can see that it works as expected.\n",
        "\n",
        "The test samples did not contain any answers, so we can use the question and context and manually inspect the answer.\n",
        "\n"
      ],
      "metadata": {
        "id": "0_5WjianqSYB"
      }
    },
    {
      "cell_type": "code",
      "source": [
        "# Select the first entry in the raw test dataset.\n",
        "sample = raw_datasets[\"test\"][0]\n",
        "\n",
        "print(sample[\"Tweet\"])\n",
        "print(sample[\"Question\"])"
      ],
      "metadata": {
        "colab": {
          "base_uri": "https://localhost:8080/"
        },
        "id": "Ryceju5UqhSN",
        "outputId": "658dde58-f8f7-403c-cd7b-92792e0aa55e"
      },
      "execution_count": 17,
      "outputs": [
        {
          "output_type": "stream",
          "name": "stdout",
          "text": [
            "The police dogs who patrol the area are some of my favorite faces to see around the Capitol. # Sen. Al Franken (@SenFranken) August 26, 2017\n",
            "who are some of franken's favorite faces to see?\n"
          ]
        }
      ]
    },
    {
      "cell_type": "code",
      "source": [
        "question_answerer(question=sample[\"Question\"], context=sample[\"Tweet\"])"
      ],
      "metadata": {
        "colab": {
          "base_uri": "https://localhost:8080/"
        },
        "id": "whm9-bulquqK",
        "outputId": "f12e4bf0-45c1-40b7-a816-a266e03be1d5"
      },
      "execution_count": 18,
      "outputs": [
        {
          "output_type": "execute_result",
          "data": {
            "text/plain": [
              "{'score': 0.4365227520465851, 'start': 4, 'end': 15, 'answer': 'police dogs'}"
            ]
          },
          "metadata": {},
          "execution_count": 18
        }
      ]
    },
    {
      "cell_type": "markdown",
      "source": [
        "We can see that the model works well and we can change the sample we are looking at to assess different question and context pairs. There are some questions in the set that make little sense to me and the answer seems to be outside the scope of the context, but the model seems to work well.\n",
        "\n",
        "We can make use of the ROUGE metric, which is used to find the overlap between the predicted sequence and the target sequence. This may help us get some idea of how well our model performs.\n",
        "\n",
        "We can make use of the test dataset and get the predicted answers and test the overlap with the ground truth."
      ],
      "metadata": {
        "id": "OycYJ9RhtCPm"
      }
    },
    {
      "cell_type": "code",
      "source": [
        "%%capture\n",
        "!pip install rouge_score"
      ],
      "metadata": {
        "id": "a8nDqPjHe6kl"
      },
      "execution_count": null,
      "outputs": []
    },
    {
      "cell_type": "code",
      "source": [
        "import torch\n",
        "from datasets import load_metric\n",
        "\n",
        "# Load the rouge metric\n",
        "rouge = load_metric(\"rouge\")\n",
        "\n",
        "actual_answers = []\n",
        "predicted_answers = []\n",
        "\n",
        "model = model.to(\"cuda\")\n",
        "\n",
        "for data in split_dataset[\"test\"]:\n",
        "\n",
        "  # Add a dimension for the batches, in this case each is a batch of 1.\n",
        "  # Also move the tensors to the GPU.\n",
        "  data[\"input_ids\"] = data[\"input_ids\"][None, :].to(\"cuda\")\n",
        "  data[\"attention_mask\"] = data[\"attention_mask\"][None, :].to(\"cuda\")\n",
        "  data[\"token_type_ids\"] = data[\"token_type_ids\"].to(\"cuda\")\n",
        "\n",
        "  start_pos = data.pop('start_positions', None)\n",
        "\n",
        "  end_pos = data.pop('end_positions', None)\n",
        "\n",
        "  # Without calculating gradients, run inference on the input data.\n",
        "  with torch.no_grad():\n",
        "    outputs = model(**data)\n",
        "\n",
        "  answer_start_index = outputs.start_logits.argmax()\n",
        "  answer_end_index = outputs.end_logits.argmax()\n",
        "\n",
        "  # Get the input tokens that correspond to the indexes.\n",
        "  predict_answer_tokens = data[\"input_ids\"][0, answer_start_index : answer_end_index + 1]\n",
        "  answer_tokens = data[\"input_ids\"][0, start_pos : end_pos + 1]\n",
        "\n",
        "  # Decode the predictions and actual answers.\n",
        "  actual_answers.append(tokenizer.decode(answer_tokens))\n",
        "  predicted_answers.append(tokenizer.decode(predict_answer_tokens))\n",
        "\n",
        "print(actual_answers)\n",
        "print(predicted_answers)\n",
        "\n",
        "# Compute the rouge metric for unigrams, so the presence of words in the actual and predicted is used.\n",
        "rouge_output = rouge.compute(predictions=predicted_answers, references=actual_answers, rouge_types=[\"rouge1\"])[\"rouge1\"].mid\n",
        "print({\n",
        "    \"rouge1_precision\": round(rouge_output.precision, 4),\n",
        "    \"rouge1_recall\": round(rouge_output.recall, 4),\n",
        "    \"rouge1_fmeasure\": round(rouge_output.fmeasure, 4),\n",
        "    })\n",
        "\n"
      ],
      "metadata": {
        "colab": {
          "base_uri": "https://localhost:8080/"
        },
        "id": "0Ynkr1FCX63w",
        "outputId": "0f4874b7-9e2d-4f64-d9da-c9bcce582d70"
      },
      "execution_count": 19,
      "outputs": [
        {
          "output_type": "stream",
          "name": "stdout",
          "text": [
            "['thank you', 'Jenny Jackson', '##2015', 'the truth', 'Chad Johnson', 'African Americans', 'Will Smith', 'a virtual street corner', '##2013', 'DVD', 'Taylor & Nicki', 'In a movie', '2014 season', 'Charlottesville', 'our employees', '8. 5km', 'sweet, hilarious and courageous', 'youth homelessness', 'white', 'the White House', 'sobbing girlfriend', 'today', 'Maracana Stadium', 'Maysak', 'The University of Houston', 'Christians', 'the F. B. I.', 'Middle - Eastern', 'HATCH', 'bodies out', 'Nigeria', 'a shirt featuring women in lingerie', 'Anderson Cooper', 'The Queen from', 'Michael Jackson', 'chills w', 'new Ministers', 'Meryl Streep', '@ CNN', 'Same thing basically', 'New Orleans Pelicans', 'realDonaldTrump', 'grossed out', 'Leonard Nimoy.', 'Carter Thicke', 'Dick Gregory & Jerry Lewis is', 'Late - November / late - December', 'the first', 'hippo', 'Eusébio', 'macklemore', '10 years', 'the bank', 'Danbury students', '##2015', 'flag burning', 'Paul Allen', 'Neymar', '##snow', 'Krissi', 'Pac - Man', \"Kasich's daughter\", 'so much fun', 'Men', 'bad things', 'a movie', 'Twitter', 'Kim Kardashian', 'Greta Gerwig', \"Eli Roth's Death Wish\", 'Freedom Caucus', 'skeletons', 'Americans come together', 'tennis', 'support', 'Ben Bradlee', '@ repjohnlewis', 'Tom Petty', 'fighting crime and rescuing', 'dashing white wig', 'Megyn Kelly', '9GAG', 'Panmure Golf Club', 'Harris', 'race', '##Arkansas', 'Robin Williams', 'Everest', 'oriental', 'collusion with Russia -', 'the Washington Post', 'since the start', 'PETER :', 'Native Americans and their supporters', 'proud', 'Pat Riley, LeBron James and Rich Paul', 'KOTOR', \"International Women's Day\", 'one location', 'racism', 'White House was', 'shine again', 'Hank Fraley as', 'Brazil', 'legendary', 'VOTER FRAUD', 'in public.', 'blackness', 'journalism', 'we are def gonna', 'Walgreens', 'May 10', 'the n word', 'All Access', 'TALK SHOW', 'dreams', 'tomorrow morning', 'Indiana', '8 possible', '@ realDonaldTrump', 'Ronda Rousey is', 'Red', 'Dan Gilbert', 'terrible', 'NKOTB', '# GagaCarpool', 'MTV', 'Kristen Bell', 'Bill Schuette', 'Auburn', 'sleep', 'transgender', 'a promotion or job', 'RRS and Far Rock', 'J. B. Holmes', 'Obvious', 'on a plane', 'Missouri', 'Monaco', 'Romney', 'Eagle', 'solutions', 'tremendous talent', 'hire one', 'Neoguri', 'a person convicted of brutal rape, murder', 'Kyle Ayers', 'Robin Williams', 'Ninewa volunteers.', 'almost anyone who publishes can', 'a skate blade', 'DACA', 'social media', 'Minnesota', 'hero', 'HILLARY', 'to think about niceness you have in life!', '@ ddlovato', 'Dismemberment Abortion Ban', 'Muhammad Ali is', 'Grow up', 'Rodgers', 'thoughts', 'Cruz', 'outside', 'on 122 minutes', 'an amazing November', 'HOF players', 'human beings', 'True Detective finale', '\" a little bit confused \" about where they\\'re headed', 'AI safety', 'looting', \"Vladimir Tarasenko '\", '@ ScottWalker', '# homesweethome', 'Paul Otellini', 'Tony', 'mixed feelings', 'Katy', 'a page', '# kyliejennerchallenge', 'Chase Daniel', 'Ebola patients', 'James Comey', 'Chasson Randle', 'Macklemore', 'glock', 'sets of golf clubs', 'colonial', 'TSA', 'swimming', 'before Album of the Year was announced', 'Police', 'Malia Obama', \"Kasich's daughter\", 'Nebraska', 'Cool', 'Madonna', 'Tom Petty', 'offseason', 'NYFW runways', 'TOY STORY 4', '##Reggie Jackson', 'THE BOSS BABY', 'Their parents', 'guys', 'modern capitalism', 'a partisan', 'last season', 'caregivers disease', 'The guy in front of her just', 'Angela Bassett', '@ ManUtd', 'an apology', 'Vampire Bill', '1st', 'Janet Mock', \"Abdulbaset Ta'an\", \"Jinita Sandy '\", 'Tyshawn Lee Co', '35', 'Hermine', 'filmmaker', 'Yemen @', 'dry cleaner', 'Ghana journos', 'the new world', '0 %', 'this', 'Bishops', 'Catholic', '2', 'Durant', 'Christian', 'RIP', 'Evernote Food', 'Katy', 'mama', 'Black Widow', 'Leonardo DiCaprio', '##America', 'Jennifer Aniston', 'the droneship later', 'Captain America', 'Melanie Martinez', 'In Italy', 'The lyrical family', 'sedated tiger', 'David Lynch', 'to get it right', 'Helden Magazine', 'mainstream news', 'better and stronger trade deals', 'foil', 'rainbow laces', 'the NRA,', 'racist', 'administrative controversy', 'bunker busters', 'Modern Family', '16th', 'growing jihadist cancer', 'Justin Bieber', 'The Bloody Sunday', 'serve', 'CATWOMAN', 'follow their dreams whether', '11', 'curb powerful greenhouse gases in', 'Jerry Lewis', 'tomorrow morning', 'the ultimate present', 'release of Senate healthcare bill', '7 - 8 August 1998', 'Republican', 'gatling guns', 'golfer', 'fans', 'your country', '\" Look like a girl \" \" Think like a man \"', 'burn it', 'I HAVE CANNED PEACHES AND A SLINGSHOT', 'the truth', 'Bayern', 'dance floor', 'living life', '28', 'Joe Biden', 'movie theater seats', 'K, thx', 'Patty Duke.', 'Ebola', 'line of nude shoes in seven different shades', 'Dippin Dots', 'Devin Booker', 'lessons', 'John McCain', 'Baltimore', 'scream', 'Beyonce', 'Orlando', 'Enjoy [UNK]', 'CHILLS', 'a life full of laughter', 'Putin', 'democracy', '1 million', '5\\'7 \"', 'the hologram', 'new song of joy', 'questions', 'Andrew Evans', 'S16 Calvin Klein', 'Janet Jackson', 'easier', '##Martese', 'NBC', 'for many years and', '33', 'plane', 'at practice', 'evil', 'Cavs', 'inclusiveness, tolerance, and a diverse fan base', 'nyt', \"it's crazy\", 'Frozen', '@ marjmakh', 'shoppers', 'Oman', 'president', 'the streets of downtown Denver', 'NEVER STOPPING', 'empowered to make personal choices about their bodies', 'forgiveness and gratitude', 'Paul Stanley', 'rhythm', 'Clara Oswald died', '8 unforgettable years', 'trousers', 'afternoon and evening ahead', 'COME BACK TO US', '2', 'freedom', 'Obama... Officer Crowley', 'pipefitter', 'Over 2000', 'Caitlyn Jenner', 'ISIS', 'sample it', 'children of Syria', 'Mei Xiang', 'blown', 'Google Glass', '# blacklivesmatter', 'INTEGRITY', 'Brazil', 'racist', 'Michelle Obama', 'Frank', '@ FortMacToday', 'Waco', 'failed as a country', 'cops', 'free speech', 'MSM is dishonest', 'Louvre', 'Donald Trump', 'mourning', 'glistening', 'Melbourne park', 'just as much', 'Sean Abbott', 'serial killer', 'Beyonce', 'Chris Rock', 'Mirjana Puhar', 'Vegas', 'the Championship', '@ GloriaSteinem', 'Trevor Noah', 'Ludogorets', 'week one', 'the FBI', 'Official sources', 'Gimme Gimme', '20', 'ABC', 'past spring', 'Meryl Streep', 'Josh Wingrove', \"The Warrior's family\", 'ice / snow', 'Justin Schultz', 'beautiful', 'Harry Potter', 'Forty - five', 'Everyone', 'Much love', '19, 252', 'Donald Trump', 'We shall all learn next week what', 'Pouring out a forty', 'Kendall Jenner put', 'love', 'campus', 'for months', 'Tigers new OC', 'MALL', 'college', 'her first post', '1. 5', 'BATGIRL', 'treatment', 'Costa Rica', 'AMAs', 'his mother', 'Captain Patrick Sondenheimer', 'PigeonAir', 'a kid', 'Sansei Ogui', 'divorce rumours', 'Netflix', 'Kris Jenner', 'coloured', 'Rich Paul', '2014', 'all options', 'Googled', 'press one', 'back to work and', 'Denver', 'inspired generations of future explorers', 'Hillary Clinton', 'Heat officials', 'space via NASA partnerships', 'Robert Sarver', 'PATERNITY leave', \"It's World Pangolin Day!\", 'adidas', 'immigrants', 'great', 'NATO today', 'ABC News', 'John', 'angry', 'a grand slam', 'AFRO PEOPLE', '18 %', 'Reform', 'FIFA president', 'Hillary', '£50, 000', 'nightmare', 'burning and crime infested inner - cities of the U. S', 'TEAM AMERICA 12 / 27 screening', 'Billy', 'chance', 'wrecking ball', 'The South', 'POTUS', 'Niners Nation', 'delighted', 'Jackie O', 'South Africa', 'Munich', 'vulture', 'got very emotional', 'Brazil', 'Sally Mae Back', 'golf clubs', '2012', 'to heaven?', 'Hillary Clinton', 'voice', '@ Wikileaks', 'Bill Murray', 'to go on', 'Meek Mill', '[UNK]', 'Reese Witherspoon', 'a virtual street corner', 'Michael Graves', 'Marines & their families', 'R10 or R20', 'the erasure of their own experience today', 'today', 'laid down', 'fitbit Red Flex', 'Oilers', 'bottles and bricks', 'Syria', 'beauty queens', 'it is a slur', 'terrorist', 'Trevor Noah', 'saturday', 'Robin Williams', 'Victor Dubuisson is', 'my Carrie Diaries family', 'so small', 'Oriental', 'young immigrants', 'OliverSacks', 'bigots', '@ diplo', 'New York media', 'Jason Spezza', 'walk away from it', 'clarify my comments', 'Koreanfan _ KC', 'the Electoral College', 'Conservatives', 'Russian', 'Mike Epps', 'cried [UNK]', 'never posted any photo of', 'Daisy', 'James Dashner', 'grape juice', 'Josh Brolin', 'survivors and family members of victims', '2', 'spectacular men', 'Police', 'grad degree', 'Austin', 'iTunes', 'the Republican Party', 'Democratic Party', '# Kathmandu', 'places to eat', 'this shoot', 'blue lives matter', 'Melania', 'Empire', 'Eggos', 'Barack', 'Presidents', 'to space', 'Disney', 'Retweet', 'Deadpool', 'consoling words', '6. 2 magnitude', 'DEMAND answers —', 'hope for love in the world', 'Her Very Own Fashion Show', 'Outrage', 'searched and rescued victims', 'Randy Stephens', 'SECRETLY', '2nd Lt Michael J Pence', 'Captain America', 'drake', '50 years in the biz', 'July', '21 miles', 'empty platitude', 'playoffs', 'a job', 'all the laughs.', 'newspaper', 'Joshua DuBois', 'Maya Ibanez', '17', 'Ocean Plastic', 'Lady Gaga', 'Germany', 'Mike Miller', 'Melbourne Fine & Sunny', 'inconsolable after', 'State for Youth Affairs', 'Each llama will earn 2, 340 lbs of hay.', 'snow', 'Amy Williams', 'red', 'montage', 'Wilders', 'fire', 'boxing', 'our country', '7', 'Stevie Wonder', 'barbaric', 'Prince', 'tomorrow night', 'ticket refunds', 'anyone who was offended', 'reflect', 'Thoughts and prayers', 'DOLLS', 'Tampa Bay Buccaneers', 'Ukrainian airspace', 'Willard Scott', 'Spicer', 'classified', 'Susan Sarandon wear', 'Cruz is', 'GOLD', \"outside of McConnell's office\", '@ layzebone', 'in bed', 'Boxing Day 2002', 'political opponents', 'Heaven', 'since taking office and', 'Gweneth Paltrow', 'Pulitzer', 'NZ', 'pizza party', '52', '@ sprinklescandac', 'Muscat', \"more than she's a woman.\", 'AT THE TOP OF A STAIRCASE', 'Save the Children', 'Fresno', 'Tahiti', 'Stylist Auntie', \"I'm old\", 'big western wins', 'Michelle Obama', 'the facts,', 'Dubai Ladies', 'the survivors and', 'June 14, 2013', 'Benedict Cumberbatch', 'meaningful things', 'the victims and those suffering', '@ lordem', 'increased threats from terrorist groups', 'Twin Peaks', 'golden', '1000', 'a precious treasure —', 'tax haven', 'The heavens', 'weeks', '##2015', 'Breaking Bad.', 'trivagoguy', 'the greatest Super Bowl ever', 'Natural hair', '##She Rules', 'PM Modi', 'Kingsport TN', '# BachelorInParadise', 'MSNBC', 'PhD holders', 'hockey', 'Charlotte Rampling', 'history', 'Robin Williams', 'My guy', 'INTEGRITY #', 'Waris Ahluwalia', 'volunteers', 'California', 'that racism is alive and well', 'rough', 'office of the President', 'Beyonce', 'Ricky Gervais', 'racial animus', 'Football', 'comedians', 'Jon Ossoff', 'Justin Bieber', 'Keys', 'players', 'mentally ill', 'WILLIAM AND HARRY W', 'Neal', 'Zwelithini KaBhekuzulu', 'Russia', '@ CES', 'a long caption', 'brazuca', 'Perfect', 'NASA New Horizons', 'Selena Gomez', 'Wind gusts', 'more', 'Don Pardo', 'slow death', 'snorkeling shows', 'laughter', 'racing', 'the Browns', '##Live —', 'Melania Trump', 'Greg Monroe', 'Fran Drescher', '##Clippers', 'Wilmariel & Jason', 'Russian and Syrian', '911', \"rock n'roll\", 'Muslims', 'a mentor helps', 'hurt', 'driving', 'Mike Porcaro', 'his family', 'our country', 'furious 7', 'Somalia', 'I - 75', 'Tuesday', '476', 'Bill Ford', 'in Paris', 'ChihiraAico', 'Scout 1st', '##MSG', 'Legends course', 'female Thor', 'women', 'to inspire many', 'Julia Louis - Dreyfus', '@ marcmarquez93', '2', 'next to the DJ', 'Mrs. Obama', 'unity', 'The Royals', 'during Jay Z and Beyonce clip', 'ran', 'At least 2000', 'something about a woman in Private', 'science and climate change', 'deny', 'South Africa', \"Ruby Dee's passing\", 'Instagram', 'Zimbabweans', 'God, Guns, and Freedom', '# FullRepeal', 'iconic buildings', 'sudden', 'spinach', '\" El fantasma del 50 ya está en Brasil \"', 'MAKING OF A MURDERER', 'London', 'Ms. Burton', 'Goodnight Robin', 'Ciara', 'Clay', 'Texas', '43 years', 'to jog on', '250 of', 'follow thru with the divorce,', 'grow & get better', 'Fuller House', 'olivia wilde', 'the pope', 'U2', 'The media', '2018', 'a credible former player', 'Friday', 'what you have', '@ NaughtyBoyMusic', 'young Africans \"', '@ kesharose', 'The Feed', 'saw a gun', 'Justin Bieber', 'Ban Ki - moon', 'left - wing hypocrisy', 'drone', '##2016', 'the dial', 'Pink', 'film', 'Liberty', '@ TSfanforum', 'Feb 7 - 8, 2016', 'Study Tech', 'tongue', '@ Louis _ Tomlinson', 'Shane', 'answers', 'reporters', 'sickening [UNK]', 'Someone', 'on Halloween!', 'present day.', 'kids', 'Demme', 'a W', 'old', 'war criminal', 'Chicago police', 'Korea and', 'ban bump - fire stocks', '60 minutes', 'choreo and vid of the year', '500, 000', 'Freak Show', 'cops', 'long ago', '##CNN', 'BREAKFAST', 'Christmas card', 'kanyewest', 'the Ryder Cup highlights', '2034', 'every shot', 'Hillary Clinton', 'religious freedom', 'bullet', 'Get out and talk to your customers', 'Shabbat', 'attractive women', 'da Luz', 'ZAYN', '4 days, or until conditions change', 'Katherine Webb', 'language', 'NBC / WSJ', 'Star Wars Project', 'Ravindra Ramrattan', '143', 'California Chrome', 'Turkey #', '##Francis', 'Ed Sheeran', 'test cricket', 'hard work', 'van Persie', 'a white woman', 'BROTHER', 'google', '66 - 57', 'Brit', 'shooting a gun', 'refuge crisis', 'more open', 'Look At Me Man', 'envelope', 'Bowling Green terrorists', 'Kasich', '118. 5 million', 'President Obama', 'Ted Cruz', 'TXF', 'Ellen DeGeneres', 'Bentley', 'a fantastic, record - breaking comeback year', 'female', 'breast cancer', 'Hornets', 'SNL', 'devastated', 'Cilic', 'Luther Strange has', 'Fortune Feimster', 'Willow', 'MOTHER!', 'Kennedy Center Hip Hop', 'Taylor Swift', 'Hamilton.', 'US Weekly', '##San Antonio Spurs center', 'Jonny Howson', 'John Stillwell was', 'anonymous letter', 'the Seahawks team', 'Ben Bradlee', 'why accountability & transparency are so important', 'Brussels', 'Washington', 'the 2nd Amendment mean', 'Divisive', 'in a real zone', 'facebook is down', 'Dr. Seuss Book Set', 'Russian nukes', 'He changed music forever.', 'Turkmenistan', 'money moves', 'in U. S.', 'Vegas', 'the Wolf Moon', 'lead with action', 'AS _ Monaco', 'Parks and Rec', 'Speechless', 'taylorswift13', 'small business', 'taylor swift', 'Dortmund', 'until morning', 'journalists', 'motion', 'A great trainer', 'One', 'album', 'cnnopinion', 'Royals', 'shoreham air show', 'two', 'Oui', 'NEVER', '12K', '@ PolizeiMuenchen', 'Best of luck on', 'WHALE VOMIT', 'guard', 'a young child', 'farms', 'Atlanta', 'keeper', 'the world of cricket', 'insane', 'Broaddrick, Willey, Jones', 'Bobbi Kristina', 'Kuzma', 'DemConvention', 'tape )', 'George', 'clean energy', 'Paul Ryan', 'out of joy', 'Jeff Bezos', 'Corinna Schumacher', '15', 'Pat Sajak', 'divisive anti - cop rhetoric', 'Times Square', 'airport staff', 'Arizonans', '805 million people', 'terror attack in Barcelona, Spain', 'Munchak', 'one', 'have a party', 'Hamilton', 'head scarf', 'United States Navy research drone in international waters', 'all the nominees', 'change thinking', '@ nightlyshow', '13', '@ Judgenap', 'Jar Jar Binks', 'F1 star', 'Sailing his 49er', 'KILLING it', '@ realDonaldTrump', 'a friend', 'POTUS', 'Etna explosion', 'Steve Montador', 'Flag & Country', 'Marvel', 'young', 'a taco', 'Berry', 'WikiLeaks', 'Matt Damon (', 'Federal workers', '6. 1', 'cnni', 'at the table', 'Steven Spielberg', 'diversity', '##Me', 'to be alive', 'Gordie Howe', 'dog ate what I ate', 'Iran', 'Obama', 'Curiosity Rover', 'britneyspears', 'Executive Director and Publisher of the Bulletin', 'Blaney', 'Baltimore', 'butterfly', 'democratic', 'all our people', 'FallonTonight', '39', 'Pac', 'Donald Trump', 'a donut', 'To every woman!!', 'white American', '##coke', 'Pope Francis', 'Cosby', 'volunteer', 'Milwaukee', 'TrueHoop Conversations', 'peaceful', 'very proud of them', '970', 'a voice', 'A young woman', '32', 'PBS,', 'inclusiveness', 'Mong Kok', '20th', 'human rights issues', 'sadness', 'Cuadrado', 'Harry Reid', 'Dwyane Wade', 'a long time', 'deaths', 'a historic victory for marriage equality', 'Glenn', 'God', 'Heather Heyer', 'Captain', 'the President', 'THC', 'to hate', 'legalize DACA', 'Bill Cosby', 'Sam Presti', 'clones', 'Oliver Sacks', '787', 'South Dakota', '# ForzaCastan', 'dumb', 'Chip', 'People Magazine', 'Trump', 'the Heat', 'Steve Harvey', 'Florida', 'POTUS is leaving office.', 'Palma', 'US', 'LeBron James', 'in the upcoming weeks', 'Athens, Greece', 'Diggers', 'Trump', 'beyonce', \"Cruz '\", 'Hillary Clinton opening', 'snow', 'moms we', 'in a good way', 'Lilpeep', 'youtube —', 'Britt McHenry', 'a remix', '0415 CET', 'right shoulder', 'eamslider24', 'margarita', 'Ashes', 'CSN306S', '##Aaron Gordon', 'As surfers,', 'over', '@ ColumbaBush', 'masturbate', 'an original experience', 'Democrat Congresswoman', 'Jackie Evancho', 'after announcing her Inauguration performance', 'justin bieber (', 'a heart transplant will', 'Murder on the Orient Express', 'extremely', 'The New Yorker', 'offensive coordinator &', 'Total Black tour', 'Tet / Chinese New Year.', 'Egyptair Flight MS804', 'Melania', 'Hawaii 5. 0', 'the Rochelle area', 'better for both of you', 'women of all sizes can', '2 % def expenditures', 'National Snake Day', 'STUNNING', 'Captain America', '# PopeInDC', \"Kasich's daughter\", \"a whole graph from Michelle's speech.\", \"you're not alone\", 'to funerals', 'Ebola', 'Brad Pitt and Angelina Jolie', 'Cutter Hollyhock', 'black boxes', 'public trust', '2 weeks', 'audio levels', 'Anthony Davis', 'Tony Abbott :', 'Roger Ailes', 'art', 'tomorrow', 'Tim Scott', 'Joseph Fiennes', 'Michael Burnett', 'Senate Judiciary Committee', 'U. S. Open', 'hate crimes', 'climate change', 'loved ones', 'Nima', 'Patrik Baboumian', 'Los Angeles', 'SNL', 'Sunday,', 'Kris Jenner emerges', 'Russian intel', 'Bratz dolls', 'Brie Larson', 'crystalarium1', 'James White', '2 nights ago', 'Trump', 'September 30, 2017', 'Arizona', 'Panama', \"Euler's identity\", 'on the balcony of his residence', 'philae', 'In queens', 'Robert Kraft', 'Black', '3 - 1 comeback vs OKC', 'ManniiDee', '3 million', 'worst', 'Caterham F1 Team', 'STEM', '4 german teams lost', 'imagination', 'a result', '9', 'David Ginola', 'Rich Paul', 'scenes in Kiev', 'Brussels', 'immediately', 'SHE WILL WAKE UP!', 'Thanksgiving', 'leeches', 'bar banner', 'Robin Williams', 'a hundred subtle ways', 'open up and be vulnerable', 'a quarter black', 'zero', 'a cigarette', 'Baby Future', 'Britt McHenry', 'Vladimir Putin', 'Erik Spoelstra', 'Manager', 'Penguins', 'OJ was innocent', 'war', 'chilling images', 'Prince Harry', 'JimKelly1212', 'Words', 'in response to ongoing fish kill', 'Rachel', 'Here THE card.', '180k', 'Diane Feinstein', '100 %', 'fought', \"He's hectoring and yelling at\", '280', 'WONDER WOMAN', 'Daughtry', '\" Sir Carter and Rumi \"', 'Daryl', 'Ski jump', \"@ POTUS's\", 'Braley', 'to get badge numbers', 'Selena Gomez', 'Anastacia', 'DWill _', 'Iron Man', 'Hold the phone', 'myself', 'Chris Kyle', 'potus', '##Mars', 'friendship', 'inadvertently', 'Dirty Joke Night', 'YayaToure', '# NepalEarthquake2', '25 million years old :', 'to love,', 'IMPERIAL TROOPERS', 'Keyshia', 'artist', 'EPA Administrator', 'Martin Luther King', 'Southampton', 'GHOST PLANE', \"- O'M\", 'Lawrence County', '##Internet', 'racial problems', 'Langston Galloway', 'age 3', 'Our backpacks', \"Conan O'Brien\", '# skinny and # thinspiration', 'Aaliyah', 'Ryan', 'critical', 'find a McDonalds', 'Sunday', '@ letour', 'The Daily Show', 'i will never forget', 'Jane Fonda', 'Ripa', 'Dimitrov', 'Mr Cohen', 'Corey Menafee', 'mizraimbelman', 'Lady Bird', 'to aid their recovery', 'Catherine Frazier', 'her place in news cycle', 'goosebumps', 'Terminal 4 AA airlines', 'The President', 'Polish', '99 % of Hollywood writers', 'Bey', 'Ellen DeGeneres', 'Vicente Fox', 'hundreds of billions of dollars', 'getting tired', 'south Africa', 'Russian legislation', 'scrum', 'Madonna', 'More than 100', 'assistant coach being on court vs', 'Tim Hume', 'cancer', 'high school', 'Tibet', 'Lakers', 'push ups', 'sparklers', 'Principal photography', 'with the lights on', 'beyonce', 'Grace Lee Whitney', 'Nepal', 'Kim Kardashian West', 'STAY ACTIVE, STAY SHARP!', 'Charlie Buller', 'Mrs. Obama', 'Chennault', 'BLACK', 'smoking in cars with', 'Kim Kardashian', 'James Harden', \"' These Are Crimes,'' Terrified'of'Enabler'Hillary\", 'Donald', 'Carpool Karaoke', \"McCarron's fumble\", '118. 5 million viewers', 'silver', 'Emails', 'flight attendant', '##MayaAngelou', 'information', '30', 'more than 60', '100s', 'Prince', 'Xmas', 'insomnia', 'ISIS activity', 'New York', 'Patriots', 'the powers - that - be for', 'backcourt violation', 'America', 'Winnipeg BSL4', 'Rwanda', 'Fox World Cup', 'Arkansas', 'basic human decency', 'The # plague', 'Mysterio', 'crack', 'Macaulay Culkin', '21 miles', 'helping working families', 'the Warriors', 'his health status', 'lando', 'Shameful', 'Nairobi', 'calendar', 'club advisor', 'further Tax Cuts', 'Samir Nasri', '# BoycottHamilton', 'new radical Islamic terrorist', 'blog', 'Tony found', 'Syria', 'Premier League', 'Ivory Coast', 'Just Read the Instructions', 'guns', 'President Obama', 'January']\n",
            "['HUGE', 'Jenny Jackson', '##2015', 'the man & the truth', 'Chad Johnson', 'African Americans', 'Will Smith', 'Twitter as a virtual street corner', '##2013', 'DVD', 'on Taylor & Nicki', 'In a movie', '2014 season', 'Charlottesville', 'employees', '8. 5km', 'sweet, hilarious and courageous', 'youth homelessness', 'plain white box', 'the White House', 'sobbing girlfriend', 'today', 'Maracana Stadium', 'Maysak', 'The University of Houston', 'Christians', 'Hillary Clinton', 'Middle - Eastern', '', 'the bodies', 'Nigeria', 'a shirt featuring women in lingerie', '@ andersoncooper', 'The Queen', 'Michael Jackson', 'chill', 'Mohammed bin Zayed', 'Meryl Streep', 'CNN', 'this one', 'New Orleans', '##Trump', 'harrowing moment Drake was grossed out', 'Leonard Nimoy', 'Pops', '4 heaven, but big loss for comedy', 'Late - November / late - December', 'first', 'pygmy', 'Eusébio', '@ macklemore', '10 years', 'Into the bank', 'Danbury', '##2015', 'flag burning', 'Paul Allen', \"Neymar's brace helps # BRA\", '', 'Krissi', 'Pac - Man', \"Kasich's daughter\", 'fun', '', 'bad things', 'movie \" Down Periscope \"', 'HBO broadcast and Twitter', 'Kim Kardashian', 'Greta Gerwig', \"Eli Roth's Death Wish\", 'the Freedom Caucus', 'brain - dead puppets', 'Americans come together', 'tennis', 'support', 'Ben Bradlee', '@ repjohnlewis', 'Tom Petty', 'fighting crime and rescuing', 'a very dashing white wig', 'Megyn Kelly', '9GAG', 'Panmure Golf Club', 'Harris', 'race', '##Arkansas', 'Robin Williams', 'on Everest', 'oriental', 'collusion', 'Washington Post', 'since the start', 'MadisonME', 'Native Americans', 'proud', 'Pat Riley, LeBron James', 'KOTOR', \"International Women's Day\", 'one', 'racism', 'White House', 'shine', 'Vikings asst Oline coach Hank Fraley', 'Professor Snape', 'legendary', 'VOTER FRAUD', 'in public', 'blackness', 'Public service', 'Iowa City', 'Walgreens', 'May 10', 'n word', 'authenticity', 'TALK SHOW', 'fear tonight. I will write about my dreams', 'tomorrow morning', 'Indiana', '8', 'CrookedHillary', 'Ronda Rousey', 'red', 'Dan Gilbert', '', 'JodieSweetin @ andreabarber', 'FANBASE # GagaCarpool', 'MTV', 'Kristen Bell', 'A. G. Bill Schuette', 'Auburn', 'nursery rhyme', 'transgender', 'a promotion or job', 'the whole RRS and Far Rock', 'J. B. Holmes', '', 'a plane', 'Missouri', 'Monaco', 'Romney', '', 'real solutions', 'everyday with her tremendous talent', 'lip - service', 'Neoguri', 'a person convicted of brutal rape, murder', 'Kyle Ayers', 'Robin Williams', 'Iraqi forces, Kurdish # Peshmerga, and # Ninewa volunteers', \"Jerome Corsi and Info Wars : I saw his pass. It's a temporary day pass almost anyone who publishes\", 'a skate blade', 'DACA', 'social media', '', 'hero', 'US president', 'to think about niceness you have in life! Happy thanksgiving', 'Taylor', 'Groundbreaking Dismemberment Abortion', 'Muhammad Ali', 'Grow up', 'Rodgers', 'CDOlimpia', 'Cruz', 'captured dramatic views of major Hurricane Matthew', '122 minutes', 'an amazing November', \"Cowboys player's name\", 'human beings', 'True Detective finale', 'a little bit confused', 'AI safety', 'looting', 'Vladimir Tarasenko', 'ScottWalker', 'Safe and sound # homesweethome', 'Paul Otellini', 'TonyDumbDumb', 'mixed feelings', 'Katy', 'Coldplay', '# kyliejennerchallenge # uhoh [UNK] chex mix', 'Chase Daniel', 'Ebola patients', 'James Comey', 'guard Chasson Randle', 'Macklemore', 'glock pistol', 'golf clubs', 'colonial propaganda', 'TSA', 'Rio2016', 'before Album of the Year was announced.', 'Police', 'Malia Obama', 'Kasich', 'Nebraska', 'Cool', 'Madonna', 'Tom Petty', '3 / 22', 'NYFW runways', 'THE HELL', '##Reggie Jackson', 'THE BOSS BABY', '', 'Steve King and the Iowa GOP pick and choose your team, what happens when the Clinton machine goes at you? Disappointed, guys', 'modern', 'a partisan', 'near end of last season', 'caregivers disease', 'guy', '', '@ ManUtd', 'an apology', 'Vampire Bill', 'Ireland', '', \"Abdulbaset Ta'an\", 'Jinita Sandy', 'Slain Boy', '35 days a year', 'Hermine', 'Octopus', 'Yemen', 'dry cleaner', 'Ghana journos', 'the new world, the world of # cleantechs', '0 %', 'perspective', 'Bishops', 'Catholic', '2', 'Durant', 'Christian', 'Doris Roberts.', 'Evernote Food', 'Katy', 'mama', 'Jeremy Renner', 'Leonardo DiCaprio', 'MuslimAmerica', 'Jennifer Aniston', 'Droneship', 'Captain America', 'Melanie Martinez', 'Italy', 'The lyrical family', 'a sedated tiger from # TigerTemple', 'David Lynch', 'tough decisions', 'Helden Magazine', '', 'better and stronger trade deals', 'the foil', 'rainbow laces', 'the NRA', 'racist \" humor', 'administrative controversy', 'bunker busters', 'Modern Family', '16th birthday', 'jihadist cancer', 'Justin Bieber', 'The Bloody Sunday arrest', 'her # WTA ace leading serve', 'CATWOMAN', 'follow their dreams', '', 'curb powerful greenhouse gases', 'Jerry Lewis', 'tomorrow morning', 'Lights', \"Protest outside of McConnell's office after release of Senate healthcare bill\", '7 - 8 August 1998', 'Republican Senators', 'gatling guns', 'LPGA', 'everyone', 'country', 'happywomensday ad', 'buy the Kanye and Kim Vogue issue', 'INSTAGRAM IS DEAD TOO BASICALLY THIS IS THE APOCALYPSE THANK GOD I HAVE CANNED PEACHES', 'the truth', 'Bayern', 'dance floor', 'a 20 year old', 'two', 'Joe Biden', 'movie theater', 'Soliciting advice. WHERE SHOULD I GO TO GET MY HAIR COLORED', 'Patty Duke', 'Ebola', 'his line of nude shoes', 'Dippin Dots', 'Devin Booker', 'lessons', 'John McCain', 'Baltimore', 'scream', 'Beyonce', '##Reggie Jackson returned to action for Detroit Pistons today, in a loss to Orlando Magic', '##gratulations to a fellow NEW YAWKA on a RECORD BREAKING achievement', 'THE MOST POWERFUL VOICE', 'a life full of laughter ~.... & yes, I just quoted Daughtry', 'Putin', 'democracy without a revolution', '574, 002', '5\\'7 \" Tom Cruise can play 6\\'5 \" Jack Reacher, he can stretch a little and play 6\\'8 \" James Comey', 'the hologram', 'a new song of joy', 'a baby', 'Andrew Evans', 'S16 Calvin Klein', 'Janet Jackson', 'easier', 'Frat', 'NBC', 'many years', '2015 - 33', 'plane', 'practice', 'evil', 'Cavs', 'inclusiveness, tolerance, and a diverse fan base', 'the nyt', '# 8501QS', 'Frozen', 'lebophoo', 'shoppers', 'Oman', 'president', 'downtown Denver', 'STOPPING', 'empowered', 'forgiveness and gratitude', 'Tom Petty', 'rhythm', \"left the show because she has so much going for her, I'm sad that Clara Oswald died\", '8 unforgettable years', 'Chinese worker found in @ Primark trousers', 'afternoon and evening', 'US', '2', 'our freedom', 'Officer Crowley', 'a pipefitter', 'Over 2000', 'Caitlyn Jenner', 'ISIS', 'sample it', 'Syria', 'fetus', 'Mind blown', 'Google Glass', 'TeamEmu', 'INTEGRITY # CNNAfrica', 'Brazil', 'racist bone', 'Michelle Obama', 'Frank', '@ FortMacToday', 'Waco', 'failed', 'Rogue cops', 'free speech', 'MSM', 'Louvre Museum in Paris', 'Donald Trump', 'mourning', 'glistening', 'Melbourne park', 'just as much', 'Sean Abbott', 'a serial killer', 'Beyonce', 'Chris Rock', 'Mirjana Puhar', 'everyone', 'the Championship', '@ GloriaSteinem', 'Trevor Noah', 'Ludogorets', 'week one', 'the FBI', 'Official sources', 'Gimme Gimme', '', 'ABC', 'ISS', 'Meryl Streep', 'Josh Wingrove', 'The Warrior', 'ice / snow', 'Justin Schultz', 'beautiful', 'Harry Potter', 'Forty - five', 'Everyone is so wonderful and supportive of my shade! This might be a problem down the line. Thank you! # notmyjetthough # imnotthatfancy — Gabourey Sidibe', 'Stay safe and be smart. We will make our way back to play for you. Much love. - DNCE', '19, 252', 'Donald Trump', 'next week', '', 'Kendall Jenner', 'Happy birthday', 'campus', 'months', 'Tigers', 'OUR MALL', 'college', 'instagram', '1. 5', 'BATGIRL team', 'treatment Wednesday', 'Costa Rica game', 'AMAs billboard', 'his mother', 'Patrick Sondenheimer', 'Nitrogen Dioxide', 'a kid', 'Sansei Ogui', 'Beyoncé and Jay - Z divorce rumours', 'Netflix', 'Kris Jenner', \"coloured '\", 'Rich Paul', 'all year long', 'all options', '# CindyCrawford', 'press one', '', '', 'generations of future explorers', '', 'Heat officials', 'space', 'Robert Sarver', 'paid PATERNITY leave', 'World Pangolin Day', 'adidas', 'immigrants', 'A great Bill. Repeal & Replace', 'NATO', 'ABC News', 'John when you tell him he looks like Arthur', 'angry', 'grand slam', 'black', '18 %', 'Reform the structure of government. Sell those jets', 'FIFA president', 'Crooked Hillary', '£50, 000', 'this nightmare', 'the burning and crime infested inner - cities', 'the TEAM AMERICA 12 / 27 screening', 'Billy', 'chance', 'a wrecking ball', 'The South', 'POTUS', '', 'delighted to announce the signing of Wilfried Bony', 'Jackie O', 'South Africa', 'Munich Central Station and the railway station Pasing', 'vulture', 'very emotional', 'Brazil', 'Sally Mae Back', 'golf clubs... Sort of need them', '2012', 'to heaven', 'Hillary Clinton', 'voice', 'Wikileaks', 'Bill Murray', 'go on', 'drake', 'Thx', 'Reese Witherspoon', 'Twitter', 'Michael Graves', 'Marines & their families', 'R10 or R20', 'the erasure of their own experience', 'today', 'laid down on the stairs', 'Red Flex', 'Oilers & Dallas', 'bottles and bricks', '# Idlib', 'beauty queens', 'it is a slur', 'terrorist', 'Trevor Noah', \"11 o'clock. I will be playing on CENTRE COURT\", 'Robin Williams', 'Victor Dubuisson', 'Carrie Diaries family', 'so small', 'Iron Fist', 'young immigrants', 'OliverSacks', 'bigots', 'diplo', 'Jason Pierre - Paul', 'Jason Spezza', '', 'thugs. \" When you speak out of frustration and anger', '@ Koreanfan _ KC', 'the Electoral College', 'Conservatives', 'Russian officials', 'Mike Epps', 'cried', 'doing anything! This is someone trying to tarnish and make a horrible name for MYSELf', 'Daisy', 'James Dashner', 'grape juice', 'Josh Brolin', 'survivors and family members of victims', '16 pupils n 2', 'worst thing abt being on west coast : waiting 3 hrs to see spectacular men \" s swim relay +', 'Police LT and CPT', 'grad', 'Nepal', 'iTunes', 'Republican Party', 'the Democratic Party', 'Kathmandu', 'places to eat', 'shoot', 'blue lives matter', 'Melania', '# EmpireFinale', 'waffle', 'Ruby Dee', 'Presidents', 'space', 'Chris Pratt', 'murakaza neza', 'Deadpool', 'consoling words', '6. 2 magnitude', 'put my face on a shirt', 'hope for love', 'Bodysuits', 'Outrage', 'victims', 'Randy Stephens', 'SECRETLY', '2nd Lt Michael J Pence', 'Captain America', 'drake', '50 years', 'in July', '21 miles', 'Batgirl made me believe \" girls can do anything boys can', 'playoffs', 'a job', 'all the laughs', 'reading a newspaper', 'Joshua DuBois', '', '17', '@ parleyxxx Ocean Plastic', 'Lady Gaga', 'Germany', 'Mike Miller', 'Melbourne Fine & Sunny', 'inconsolable', 'Youth Affairs', '2, 340 lbs of hay', 'snow', 'Amy Williams', 'red', 'montage', 'Wilders', 'fire', 'boxing', 'our country', '7yrs', 'Stevie Wonder', 'barbaric', 'Prince', 'tomorrow night', 'ticket refunds', 'anyone', 'reflect', 'Thoughts and prayers', 'DOLLS', '', 'Amsterdam', 'Willard Scott', 'Spicer', 'classified', 'Susan Sarandon', 'Cruz', 'MESSAGE', \"outside of McConnell's office\", 'layzebone', 'in bed', 'Boxing Day 2002', 'political opponents', 'in Heaven', 'since', 'Gweneth Paltrow', 'Pulitzer Prize', 'South Africa', 'weather', '# 52', '@ sprinklescandac', 'India getting ready to sail with Nashwa tomorrow from Mumbai to Muscat', \"more than she's a woman\", 'THE WINNERS ROOM', 'Save the Children', 'Fresno', 'Tahiti', '', 'kids', 'big western wins', 'Michelle Obama', 'A minority of people are rushing to judgement', 'Dubai Ladies', 'the survivors', 'June 14, 2013', 'Benedict Cumberbatch', 'meaningful things', 'the victims', 'Lorde', '', 'Twin Peaks', 'golden', '1000', 'a precious treasure', 'a tax haven question', 'The heavens', 'three to five weeks', '', 'Breaking Bad', 'trivago was listening - the # trivagoguy', 'Super Bowl', '', 'Netflix', 'PM Modi', 'Kingsport TN', 'BachelorInParadise', 'MSNBC', 'PhD holders', 'hockey', 'Charlotte Rampling', 'history class', 'Robin Williams', '', '', 'Waris Ahluwalia', 'volunteers', 'Soberanes Fire, California', 'racism', 'rough', 'the President', 'Beyonce', 'Ricky Gervais', 'racial animus', 'Flying Dutchmen', '', 'Jon Ossoff', 'Justin Bieber', 'Keys', 'players', 'Oh & mentally ill people', 'THEIR FATHER', 'Neal', 'Zwelithini KaBhekuzulu', 'Russia', 'CMO and Advertising friends who were planning to go to @ CES', '', 'match ball of the 2014 FIFA # WorldCup', 'Perfect casting', 'TGIF', 'Selena Gomez', 'Wind gust', '##peak', 'Don Pardo', 'slow death', 'snorkeling', 'the power of laughter', '', 'the Browns \" 0 - for beard', 'JUSTIN TO KELLY is looking better', 'Melania Trump', 'Greg Monroe', 'Robin Williams', 'Josh Martin @ JoshMartinNBAClippers', 'Wilmariel & Jason', 'Russian and Syrian forces', 'Kenneth Cornell', \"rock n'roll\", 'Muslims', 'a mentor', 'hurt', 'the cops', 'Mike Porcaro', 'BB King peace and love to his family', 'ComedyCentral is starting a conversation that our country', 'at the end of furious 7 # PaulWalker', 'Somalia', 'Atlanta _ Traffic : Traffic NOT MOVING on I - 75', 'Tuesday ( 17 / 09', '476', 'Bill Ford', 'Paris', '# ChihiraAico', 'Scout', '##10MSG', '', 'female Thor', 'women\\'s \" groups', 'to inspire many', 'Julia Louis - Dreyfus', 'marcmarquez93', '2', 'Vegas', 'Mrs. Obama', 'its modern unity', 'The Royals', 'in droves', 'ran on the pitch', 'At least 2000', 'a woman', 'science and climate change', \"this. But I also can't deny this\", 'South Africa', 'passing', 'Instagram', 'Zimbabweans', '', 'Obamacare deceptions', 'iconic buildings', 'sudden', 'spinach', 'El fantasma', 'Netflix', 'London', 'Ms. Burton', 'Goodnight Robin', 'Ciara', 'clay', 'Texas', '', 'to jog on', '250', 'follow thru with the divorce', 'grow & get better', 'The Right Stuff to welcome some special guest stars! @ NKOTB', 'OliverSacks', 'the pope', 'U2', 'The media', '2018 free agency', 'a credible former player', 'Friday', 'what you have', '@ NaughtyBoyMusic I was talking about the video you tweeted. Clearly trying to wind the fans up! Well you succeeded anyway. Fair play — Louis Tomlinson', 'young Africans', 'kesharose', 'Hillary2016 moments', \"dur'g maid testimony\", 'Justin Bieber', 'Ban Ki - moon', 'left - wing hypocrisy', 'drone', '##2016', 'the dial', '', 'this film', 'Liberty', '', 'Feb 7 - 8, 2016', 'Study Tech', 'Harry Styles', 'Louis Tomlinson', 'Shane', 'answers', 'reporters', 'sickening', 'Someone', 'on Halloween', 'present day', 'kids', 'Demme', 'a W', 'old men threatening young women', 'chemical weapons against the men, women and children of his country makes him a war criminal', 'Chicago police', 'Korea', 'ban bump - fire stocks', '60 minutes', 'choreo and vid of the year', '500, 000', 'Freak Show', 'the cops', 'long ago', '@ ScottWalker', '', 'Christmas card', 'kanyewest', 'Ryder Cup highlights of Medinah 2012', '1977', 'every shot', 'Hillary Clinton', 'religious freedom', 'bullet holes', '', 'Shabbat', 'attractive women', 'da Luz', 'ZAYN', 'midnight', 'Katherine Webb', 'language', 'NBC / WSJ', 'Star Wars Project', 'Ravindra Ramrattan', '143 million', 'California Chrome', '', '##Francis', 'Ed Sheeran', 'test cricket', '', 'van Persie', 'white woman', 'BROTHER DUSTY RHODES', 'google', '19', 'Brit', 'shooting a gun', 'the refuge crisis', 'more open', 'Look At Me Man', 'Emma Stone', 'Bowling Green terrorists \"', 'Kasich daughters', '118. 5 million', 'President Obama', 'Ted Cruz', 'TXF', 'Ellen DeGeneres', 'Bentley', 'Downhill title for 2015... Tops a fantastic, record - breaking comeback year', 'all female', 'breast cancer', 'Hornets', 'SNL', 'devastated', 'Cilic', 'Senator Luther Strange', '', 'Jaden and Willow Smith', 'it', 'Kennedy Center Hip Hop Honoree', 'Taylor Swift', 'Hamilton', 'US Weekly', '##San Antonio Spurs', 'Jonny Howson', 'John Stillwell', 'anonymous', 'Seahawks', 'Ben Bradlee', 'ensure justice', 'Brussels', 'Washington', '2nd', 'Divisive language', 'in a real zone', 'to check if @ facebook is down', 'Dr. Seuss Book Set', 'Russian nukes', '', 'Turkmenistan', 'money', '', 'in Vegas', 'Wolf Moon', 'lead with action', 'AS _ Monaco', 'Parks and Rec', '# Speechless', 'Martha Roby', 'small business growth', 'swift birthday', 'Dortmund', 'morning', 'journalists', 'motion', 'Sir Henry,', 'One', 'her album', 'Romney', 'Royals', 'shoreham', 'two', 'Oui \"', 'never', '$ 12K', 'Munich Central Station', 'Best of luck on your project, ladies. Really appreciate you coming out', 'WHALE VOMIT', 'guard', 'a young child', 'San Joaquin has water intermittently here. But it comes from farms', 'Atlanta', 'a keeper', 'cricket', 'insane', 'Broaddrick, Willey, Jones', '', 'Kuzma', 'DemConvention', 'tape', 'George', 'clean energy', 'Paul Ryan', 'out of joy', 'SpaceX', 'Corinna Schumacher', '15', 'Pat Sajak', 'Sickened by these barbaric acts, which sadly are a predictable outcome of divisive anti - cop rhetoric', 'Times Square', 'all airport staff', 'Arizonans', '805 million people', 'terror attack', 'Munchak', 'one', 'a party', 'O at the line \" immigrants we get the job done \"', 'head scarf in Saudi Arabia : \" Shocking, as her husband wears a head cover', 'United States Navy research drone', 'SAGawards', 'change thinking', 'nightlyshow', '13', '', 'VW', '', 'Sailing his 49er', 'KILLING it', '@ realDonaldTrump', '', 'POTUS', \"Etna explosion. Here's @ NewsCamerawoman with the massive hole a lump of rock burnt through her coat\", 'Steve Montador', 'NFL fans refuse to go to games until players stop disrespecting our Flag & Country', 'Marvel', 'young women', 'a taco', 'Berry', 'WikiLeaks', 'Matt Damon', '10, 000 Federal', '6. 1', 'families of the victims get the truth and finally closure # Westgate6Months', 'at the table', 'Steven Spielberg', 'values', '##WithMe but # LeadershipBeginsWithYou', 'alive', 'Gordie Howe', '', 'Iran', '', 'nasa', 'britneyspears', '', 'Blaney', 'Baltimore', \"Buffy's butterfly clips\", 'democratic process', 'all our people', 'Jimmy', '39', 'Pac', 'Donald Trump', 'coffee', 'every woman', 'white American', '# boycottcoke', 'Pope Francis', 'Cosby', 'volunteer', '', 'TrueHoop Conversations', 'peaceful', 'proud', '970', 'a voice', 'A young woman', '32', 'PBS', 'inclusiveness and unity', 'Mong Kok', '', 'human rights issues', 'sadness', 'Cuadrado', 'Harry Reid', 'Dwyane Wade', 'a long time', 'The deaths at the Battle of Hogwarts', 'a historic victory', 'John Glenn', 'Dear God', 'Heather Heyer', 'Captain', 'President', 'THC', 'to hate', 'legalize DACA', 'Bill Cosby', 'Warriors', 'clones', 'Oliver Sacks', '787', 'South Dakota', '# ForzaCastan', 'dumb media sometimes', 'Reuben Frank', 'People Magazine', 'Trump', 'the Heat', 'Steve Harvey', 'Florida', 'leaving office. Yes, Dre is a bit', 'Palma', 'US', 'Cleveland has replaced Miami as my frontrunner to land LeBron James', 'in the upcoming weeks', 'Athens, Greece', 'Diggers', 'Trump', 'beyonce', 'Harry Reid', 'Hillary Clinton', 'snow worth it. Well not really but it is a pretty cool video', 'moms', 'good', 'Lilpeep', '@ youtube', 'Britt McHenry', 'a remix', '0415 CET', 'right shoulder', 'eamslider24', '', 'England', '1', '', 'surfers', 'over', 'ColumbaBush', 'masturbated', 'an original experience', 'Democrat Congresswoman', 'Jackie Evancho', 'Inauguration', '', 'heart transplant', 'Murder on the Orient Express', 'extremely DUMB', 'The New Yorker', 'offensive coordinator', 'Total Black', 'Chinese New Year', 'Egyptair Flight MS804', 'Michelle Obama', 'Hawaii 5. 0', 'Rochelle', 'quick', 'women of all sizes', '2 % def expenditures', 'Snake Day', 'STUNNING', 'Captain America is black, and Thor', '##Francis', 'Kasich', 'a whole graph', \"you're not alone. You're in my prayers\", 'funerals', 'Ebola', 'Brad Pitt and Angelina Jolie', 'Cutter Hollyhock', 'black boxes', 'public trust', '2 weeks', 'GREAT', 'Anthony Davis', 'Tony Abbott', 'Roger Ailes', 'art prize', 'in D. C. tomorrow', 'Tim Scott', 'Joseph Fiennes', 'Michael Burnett', 'Senate Judiciary Committee', 'U. S. Open', 'hate crimes', 'climate change', 'loved ones and those that have been there for me, who have picked me up and', 'Nima', 'Patrik Baboumian', '@ kobebryant hopes Steven Gerrard', 'SNL', 'Sunday', 'Kris Jenner', 'Russian intel', 'Bratz', 'Brie Larson', '@ crystalarium1', 'James White', '2 nights ago', \"Bill O'Reilly\", '10, 000 Federal workers now on Island doing a fantastic job. — Donald J. Trump ( @ realDonaldTrump ) September 30, 2017', 'Arizona', 'Hong Kong', \"Euler's identity\", 'on the balcony of his residence', 'philae', 'New York', 'Robert Kraft', 'Black', '3 - 1', '@ ID _ NUPEs @ RachaelMalonson', '3 million', 'Secretary of Defense Chuck Hagel Obvious', 'Caterham', 'STEM', '4 german teams lost', 'imagination', 'DNCLeak emails', '9 @ IMOCA60', 'David Ginola', 'LeBron James', 'scenes in Kiev', 'Brussels', 'immediately', '', 'Birthday wishes! Hope everyone has a wonderful Thanksgiving', 'leeches', 'bar banner', 'Robin Williams', 'hundred subtle', 'be vulnerable', 'quarter black', 'turd', 'a cigarette', 'Baby Future', 'Britt McHenry', 'Vladimir Putin', \"Pat Riley, it is believed Miami's Erik Spoelstra, Mickey Arison and Dwyane Wade will attend today's meeting with LeBron James\", 'Manager', 'Stanley Cup', 'innocent', 'war crime', 'The chilling images', 'Prince Harry', '', 'Words', 'ALL recreation', 'Kyle Ayers', '# Record', '180k', 'Diane Feinstein', '100 %', 'fought', 'Watching Bernie Sanders.', '280', 'WOMAN', 'Daughtry', 'Sir Carter and Rumi \" not \" Sir and Rumi Carter', 'Daryl', 'Ski jump', 'POTUS', 'Braley', 'badge numbers', 'Selena Gomez', 'Anastacia', '@ DWill _', 'Iron Man', 'Hold the phone. Catching wind the Preds are interested', 'myself', 'Chris Kyle', '', \"##ToMars, starting with # Orion's first flight\", 'Trump,', '# refugees may inadvertently stray into Balkan minefields', 'Dirty Joke Night', '@ YayaToure after Paris attack. Coming up on @ CNN Amanda Davies', '', '25 million', 'its opposite', 'IMPERIAL TROOPERS', 'Keyshia', '', 'serving as our next EPA Administrator', 'Martin Luther King', 'Southampton', '', \"moral outrage & nat'l disgrace\", 'Lawrence County', 'repression', 'racial problems within the music industry. A white woman makes it completely about herself', 'Langston Galloway', '3', 'backpacks', \"Conan O'Brien\", 'curvy', 'Aaliyah', 'RyanGosling', 'critical condition', 'find a McDonalds', 'Sunday', 'letour', 'The Daily Show', 'the other life', 'Jane Fonda made at Megyn Kelly', 'Kelly Ripa', 'Dimitrov', 'Hillary', 'Corey Menafee', '@ mizraimbelman no selfie The secret service', 'Lady Bird broke a record for scoring 100 % on Rotten Tomatoes', 'sub zero', 'Catherine Frazier', 'her place in news cycle', 'goosebumps', 'Terminal 4 AA airlines', 'The President', 'Polish', 'Hollywood writers', 'Jay', '@ JustinBieber', 'Vicente Fox', 'hundreds of billions of dollars', 'getting tired', 'south Africa', 'Russian legislation', '', '', 'More than 100', 'assistant coach', '36 hours', 'cancer', 'high school', 'autonomous region of Tibet', 'Lakers did have their meeting in Cleveland today with LeBron James', 'push ups', 'sparklers', '', 'with the lights on', 'beyonce', 'Grace Lee Whitney', 'Nepalquake : An estimated 4. 6 million people were exposed to the # earthquake shaking UN OCHA Asia Pacific', 'Kim Kardashian West', 'STAY ACTIVE, STAY SHARP', 'Charlie Buller', 'Mrs. Obama', 'Lewis County', 'BLACK', 'smoking in cars with children - law', 'Kim Kardashian', '', 'Enabler', 'Donald Trump', 'riding', \"McCarron's fumble\", '118. 5 million', 'silver medal', '', 'flight attendant', 'Angel', 'Any information you have could aid investigators', '30', 'more than 60 days', '100s', 'Prince', 'Xmas', 'insomnia', 'ISIS activity', 'New York', 'Patriots', 'Daniel', 'backcourt', 'John Urschel jerseys', 'Winnipeg BSL4 lab', 'Rwanda and surrendered to US Embassy in Kigali', 'Fox World Cup TV', 'Arkansas', 'basic human decency', 'plague', 'Mysterio', 'crack than eat cheese', 'Macaulay Culkin', '21 miles', 'helping working families', 'the Warriors', 'health status', 'lando', 'Shameful that GCC countries are not taking Syrian refugees', 'Nairobi', 'arbitrary legislative calendar', 'club advisor', 'Tax Cuts', 'Samir Nasri', 'BoycottHamilton', 'A new radical Islamic terrorist', '@ UNDP blog', 'A guy named Tony', 'Syria', 'Premier League', 'Ivory Coast', '', 'guns', 'President Obama', '2016']\n",
            "{'rouge1_precision': 0.7283, 'rouge1_recall': 0.7584, 'rouge1_fmeasure': 0.7102}\n"
          ]
        }
      ]
    },
    {
      "cell_type": "markdown",
      "source": [
        "We can see from looking at the actual vs. predicted answers that the model works quite well. We often get majority of the answer, if not all. The score shows us that there is a lot of overlap between the predicted answers and the actual answers, but it does not account for answers that are technically correct but contain extra tokens.\n",
        "\n",
        "Overall, this model has performed very well. It requires a specfic structure within the data, but provides a decent accuracy without too much fine-tuning."
      ],
      "metadata": {
        "id": "0_k4BxdYsDXT"
      }
    },
    {
      "cell_type": "markdown",
      "source": [
        "\n",
        "### Casual Language Model\n",
        "\n",
        "Now we will look at a simple generative approach. This involves using a text generator that has been trained on examples which contain the context, question and then the answer. In this way, the model will (hopefully) learn to predict the next words as the answer to the question in relation to the given context.\n",
        "\n",
        "It is likely that this model will not perform amazing as this is a simple approach to the task of question answering. It is still worth exploring this option though."
      ],
      "metadata": {
        "id": "rYSggxo3NLfI"
      }
    },
    {
      "cell_type": "code",
      "execution_count": null,
      "metadata": {
        "colab": {
          "base_uri": "https://localhost:8080/"
        },
        "id": "RmhdA_16-1z7",
        "outputId": "8aa71648-f2b8-4b36-e080-d50d7a9bbe71"
      },
      "outputs": [
        {
          "output_type": "stream",
          "name": "stderr",
          "text": [
            "If you want to use `BertLMHeadModel` as a standalone, add `is_decoder=True.`\n",
            "Some weights of the model checkpoint at bert-base-cased were not used when initializing BertLMHeadModel: ['cls.seq_relationship.weight', 'cls.seq_relationship.bias']\n",
            "- This IS expected if you are initializing BertLMHeadModel from the checkpoint of a model trained on another task or with another architecture (e.g. initializing a BertForSequenceClassification model from a BertForPreTraining model).\n",
            "- This IS NOT expected if you are initializing BertLMHeadModel from the checkpoint of a model that you expect to be exactly identical (initializing a BertForSequenceClassification model from a BertForSequenceClassification model).\n"
          ]
        }
      ],
      "source": [
        "from transformers import AutoModelForCausalLM, TrainingArguments, Trainer\n",
        "\n",
        "# Load the BERT weights into a Casual Language Model architecture.\n",
        "gen_model = AutoModelForCausalLM.from_pretrained(\"bert-base-cased\")"
      ]
    },
    {
      "cell_type": "markdown",
      "source": [
        "The benefit to use this approach is that we don't need to perform the same level of preprocessing. This is because the model can handle the answer not being explicitly stated in the text, assuming it has learned how to generate it given the context.\n",
        "\n",
        "I suspect that the approach we took to extract the samples that had an answer in the context weeded out many of the poor samples with no answer, so we may still want to exclude these samples, or at least samples with no answer given."
      ],
      "metadata": {
        "id": "9Ac4Y3iWrmWZ"
      }
    },
    {
      "cell_type": "code",
      "execution_count": null,
      "metadata": {
        "id": "KW12M10s_Cng"
      },
      "outputs": [],
      "source": [
        "from transformers import AutoTokenizer\n",
        "from datasets import Dataset\n",
        "\n",
        "# Load the tokenizer\n",
        "tokenizer = AutoTokenizer.from_pretrained(\"bert-base-cased\")\n",
        "\n",
        "# Create a function to tokenize the dataset\n",
        "def tokenize_dataset(dataset, tokenizer, train=True):\n",
        "\n",
        "  # Create variables to store the new dataset and the count of samples we have dropped.\n",
        "  tokenized_dataset = []\n",
        "  text_lengths = []\n",
        "  dropped_samples = 0\n",
        "\n",
        "  # For every item in the dataset.\n",
        "  for item in dataset:\n",
        "\n",
        "    # Pull the context, question and answer from the sample.\n",
        "    question = item[\"Question\"]\n",
        "    context = item[\"Tweet\"]\n",
        "\n",
        "    if train:\n",
        "      # Check if we have an answer\n",
        "      if len(item[\"Answer\"]) == 0:\n",
        "        dropped_samples += 1\n",
        "        continue\n",
        "    \n",
        "      # Just take the first answer as the most meaningful\n",
        "      answer = item[\"Answer\"][0]\n",
        "\n",
        "      # The text we will use will be the context, question and then the answer.\n",
        "      item[\"text\"] = f\"{context}\\n{question}\\n{answer}\"\n",
        "    \n",
        "    else:\n",
        "      # The text we will use will be the context and question only\n",
        "      item[\"text\"] = f\"{context}\\n{question}\"\n",
        "\n",
        "    # Let us track the length of these text inputs\n",
        "    text_lengths.append(len(item[\"text\"]))\n",
        "\n",
        "    # Tokenize the text\n",
        "    tokenized = tokenizer(item[\"text\"])\n",
        "\n",
        "    # Update the item\n",
        "    item.update(tokenized)\n",
        "\n",
        "    # Add the updated item to the new dataset.\n",
        "    tokenized_dataset.append(item)\n",
        "\n",
        "  # Create a new HuggingFace dataset from the list generated.\n",
        "  dataset = Dataset.from_list(tokenized_dataset)\n",
        "\n",
        "  # Remove the columns that are not relevant for training.\n",
        "  dataset = dataset.remove_columns([\"Question\", \"Answer\", \"Tweet\", \"qid\"])\n",
        "  return dataset, dropped_samples, text_lengths\n",
        "\n",
        "# Preprocess the data for the train and test set.\n",
        "tokenized_train, train_dropped_samples, train_text_lengths  = tokenize_dataset(raw_datasets['train'],tokenizer)\n",
        "tokenized_test, test_dropped_samples, test_text_lengths = tokenize_dataset(raw_datasets['test'],tokenizer, False)"
      ]
    },
    {
      "cell_type": "markdown",
      "source": [
        "Now we can see how much data we have dropped in each due to an answer not being present, as well as consider what length the inputs will be and if the model can handle them."
      ],
      "metadata": {
        "id": "UebZzEA0tsXA"
      }
    },
    {
      "cell_type": "code",
      "source": [
        "# Find the percentage of the dataset we have dropped.\n",
        "percentage_dropped = (train_dropped_samples / len(raw_datasets[\"train\"])) * 100\n",
        "\n",
        "# Output the number of samples and percent of the total we have dropped.\n",
        "print(f\"We have dropped {train_dropped_samples} samples, losing {percentage_dropped}% of the train data.\")"
      ],
      "metadata": {
        "colab": {
          "base_uri": "https://localhost:8080/"
        },
        "id": "dyQJ0VOgt0fb",
        "outputId": "33a85524-afbe-4f53-b7c4-64b7b1ef1de3"
      },
      "execution_count": null,
      "outputs": [
        {
          "output_type": "stream",
          "name": "stdout",
          "text": [
            "We have dropped 0 samples, losing 0.0% of the train data.\n"
          ]
        }
      ]
    },
    {
      "cell_type": "code",
      "source": [
        "# Find the percentage of the dataset we have dropped.\n",
        "percentage_dropped = (test_dropped_samples / len(raw_datasets[\"test\"])) * 100\n",
        "\n",
        "# Output the number of samples and percent of the total we have dropped.\n",
        "print(f\"We have dropped {test_dropped_samples} samples, losing {percentage_dropped}% of the test data.\")"
      ],
      "metadata": {
        "colab": {
          "base_uri": "https://localhost:8080/"
        },
        "id": "QdY69mF5uoyK",
        "outputId": "ed4b5747-0200-489f-953d-114446c2a136"
      },
      "execution_count": null,
      "outputs": [
        {
          "output_type": "stream",
          "name": "stdout",
          "text": [
            "We have dropped 0 samples, losing 0.0% of the test data.\n"
          ]
        }
      ]
    },
    {
      "cell_type": "code",
      "source": [
        "print(max(max(train_text_lengths), max(test_text_lengths)))"
      ],
      "metadata": {
        "colab": {
          "base_uri": "https://localhost:8080/"
        },
        "id": "CQ7IYn-UuzuE",
        "outputId": "6c502c36-da1b-47e6-c35c-9b0659501dfc"
      },
      "execution_count": null,
      "outputs": [
        {
          "output_type": "stream",
          "name": "stdout",
          "text": [
            "437\n"
          ]
        }
      ]
    },
    {
      "cell_type": "markdown",
      "source": [
        "We can see that we have lost no samples. The training data must have at least one answer for each of the samples, and we didn't care if the test data didn't as we can manually inspect this.\n",
        "\n",
        "We can now split the training data into a train and test set for use during the training and evaluation."
      ],
      "metadata": {
        "id": "WuMR1VvFvG4w"
      }
    },
    {
      "cell_type": "code",
      "source": [
        "split_dataset = tokenized_train.train_test_split(test_size=0.2, shuffle=False)"
      ],
      "metadata": {
        "id": "4N4MyKpnquPJ"
      },
      "execution_count": null,
      "outputs": []
    },
    {
      "cell_type": "code",
      "source": [
        "split_dataset"
      ],
      "metadata": {
        "colab": {
          "base_uri": "https://localhost:8080/"
        },
        "id": "aFyCZA2Kv5Cl",
        "outputId": "0225949d-e364-452e-c8fb-9d3d0f017e2b"
      },
      "execution_count": null,
      "outputs": [
        {
          "output_type": "execute_result",
          "data": {
            "text/plain": [
              "DatasetDict({\n",
              "    train: Dataset({\n",
              "        features: ['text', 'input_ids', 'token_type_ids', 'attention_mask'],\n",
              "        num_rows: 8553\n",
              "    })\n",
              "    test: Dataset({\n",
              "        features: ['text', 'input_ids', 'token_type_ids', 'attention_mask'],\n",
              "        num_rows: 2139\n",
              "    })\n",
              "})"
            ]
          },
          "metadata": {},
          "execution_count": 63
        }
      ]
    },
    {
      "cell_type": "markdown",
      "source": [
        "We have got over 8,500 samples in our training set and over 2,000 in our test. We are now ready to run the model."
      ],
      "metadata": {
        "id": "iIs4tEWOv6jr"
      }
    },
    {
      "cell_type": "code",
      "execution_count": null,
      "metadata": {
        "id": "YfBi0SlDAuvq"
      },
      "outputs": [],
      "source": [
        "from transformers import DataCollatorForLanguageModeling\n",
        "\n",
        "# Create a data collator. This collator can be used to enable masked language modelling during training.\n",
        "data_collator = DataCollatorForLanguageModeling(tokenizer=tokenizer, mlm=False)"
      ]
    },
    {
      "cell_type": "code",
      "execution_count": null,
      "metadata": {
        "id": "6oIu_xwd_kH2"
      },
      "outputs": [],
      "source": [
        "training_args = TrainingArguments(\n",
        "    output_dir=\"/content/drive/MyDrive/CA4023-BERT/simple_generative\",\n",
        "    evaluation_strategy=\"epoch\",\n",
        "    learning_rate=2e-5,\n",
        "    weight_decay=0.01\n",
        ")"
      ]
    },
    {
      "cell_type": "code",
      "execution_count": null,
      "metadata": {
        "id": "b2tijDREATPK"
      },
      "outputs": [],
      "source": [
        "trainer = Trainer(\n",
        "    model=gen_model,\n",
        "    args=training_args,\n",
        "    train_dataset=split_dataset[\"train\"],\n",
        "    eval_dataset=split_dataset[\"test\"],\n",
        "    data_collator=data_collator,\n",
        ")"
      ]
    },
    {
      "cell_type": "code",
      "execution_count": null,
      "metadata": {
        "colab": {
          "base_uri": "https://localhost:8080/",
          "height": 281
        },
        "id": "7meWluVqBoqd",
        "outputId": "f4eacfad-a840-45da-8c93-280acf4ccfae"
      },
      "outputs": [
        {
          "output_type": "stream",
          "name": "stderr",
          "text": [
            "/usr/local/lib/python3.9/dist-packages/transformers/optimization.py:391: FutureWarning: This implementation of AdamW is deprecated and will be removed in a future version. Use the PyTorch implementation torch.optim.AdamW instead, or set `no_deprecation_warning=True` to disable this warning\n",
            "  warnings.warn(\n",
            "You're using a BertTokenizerFast tokenizer. Please note that with a fast tokenizer, using the `__call__` method is faster than using a method to encode the text followed by a call to the `pad` method to get a padded encoding.\n"
          ]
        },
        {
          "output_type": "display_data",
          "data": {
            "text/plain": [
              "<IPython.core.display.HTML object>"
            ],
            "text/html": [
              "\n",
              "    <div>\n",
              "      \n",
              "      <progress value='3210' max='3210' style='width:300px; height:20px; vertical-align: middle;'></progress>\n",
              "      [3210/3210 10:42, Epoch 3/3]\n",
              "    </div>\n",
              "    <table border=\"1\" class=\"dataframe\">\n",
              "  <thead>\n",
              " <tr style=\"text-align: left;\">\n",
              "      <th>Epoch</th>\n",
              "      <th>Training Loss</th>\n",
              "      <th>Validation Loss</th>\n",
              "    </tr>\n",
              "  </thead>\n",
              "  <tbody>\n",
              "    <tr>\n",
              "      <td>1</td>\n",
              "      <td>0.054800</td>\n",
              "      <td>0.004777</td>\n",
              "    </tr>\n",
              "    <tr>\n",
              "      <td>2</td>\n",
              "      <td>0.010700</td>\n",
              "      <td>0.000919</td>\n",
              "    </tr>\n",
              "    <tr>\n",
              "      <td>3</td>\n",
              "      <td>0.004600</td>\n",
              "      <td>0.000490</td>\n",
              "    </tr>\n",
              "  </tbody>\n",
              "</table><p>"
            ]
          },
          "metadata": {}
        },
        {
          "output_type": "execute_result",
          "data": {
            "text/plain": [
              "TrainOutput(global_step=3210, training_loss=0.21895405650138855, metrics={'train_runtime': 643.0774, 'train_samples_per_second': 39.9, 'train_steps_per_second': 4.992, 'total_flos': 1013996987543904.0, 'train_loss': 0.21895405650138855, 'epoch': 3.0})"
            ]
          },
          "metadata": {},
          "execution_count": 67
        }
      ],
      "source": [
        "trainer.train()"
      ]
    },
    {
      "cell_type": "code",
      "execution_count": null,
      "metadata": {
        "colab": {
          "base_uri": "https://localhost:8080/",
          "height": 55
        },
        "id": "C_idzj0gCaz0",
        "outputId": "cc10bc05-98f9-454f-a72a-712f442e17fc"
      },
      "outputs": [
        {
          "output_type": "display_data",
          "data": {
            "text/plain": [
              "<IPython.core.display.HTML object>"
            ],
            "text/html": [
              "\n",
              "    <div>\n",
              "      \n",
              "      <progress value='268' max='268' style='width:300px; height:20px; vertical-align: middle;'></progress>\n",
              "      [268/268 00:12]\n",
              "    </div>\n",
              "    "
            ]
          },
          "metadata": {}
        },
        {
          "output_type": "stream",
          "name": "stdout",
          "text": [
            "Perplexity: 1.00\n"
          ]
        }
      ],
      "source": [
        "import math\n",
        "\n",
        "eval_results = trainer.evaluate()\n",
        "print(f\"Perplexity: {math.exp(eval_results['eval_loss']):.2f}\")"
      ]
    },
    {
      "cell_type": "code",
      "source": [
        "gen_model.save_pretrained(\"/content/drive/MyDrive/CA4023-BERT/simple_generative/simple_generative_model\")"
      ],
      "metadata": {
        "id": "riOeTsVX_662"
      },
      "execution_count": null,
      "outputs": []
    },
    {
      "cell_type": "code",
      "source": [
        "gen_model = AutoModelForCausalLM.from_pretrained(\"/content/drive/MyDrive/CA4023-BERT/simple_generative/simple_generative_model\")"
      ],
      "metadata": {
        "colab": {
          "base_uri": "https://localhost:8080/"
        },
        "id": "E0plAoTIAMW1",
        "outputId": "82477e51-3c1f-4d49-9e50-c8a2adf094e6"
      },
      "execution_count": null,
      "outputs": [
        {
          "output_type": "stream",
          "name": "stderr",
          "text": [
            "If you want to use `BertLMHeadModel` as a standalone, add `is_decoder=True.`\n"
          ]
        }
      ]
    },
    {
      "cell_type": "code",
      "source": [
        "question = raw_datasets['test'][0][\"Question\"]\n",
        "context = raw_datasets['test'][0][\"Tweet\"]\n",
        "\n",
        "prompt = f\"{context}\\n{question}\""
      ],
      "metadata": {
        "id": "7ZBZTGh8zHs1"
      },
      "execution_count": null,
      "outputs": []
    },
    {
      "cell_type": "code",
      "execution_count": null,
      "metadata": {
        "id": "wCFWwu9jKYk1"
      },
      "outputs": [],
      "source": [
        "gen_model.to(\"cpu\")"
      ]
    },
    {
      "cell_type": "code",
      "source": [
        "gen_model.config.no_repeat_ngram_size = 2"
      ],
      "metadata": {
        "id": "WRV7wqR82dIT"
      },
      "execution_count": null,
      "outputs": []
    },
    {
      "cell_type": "code",
      "execution_count": null,
      "metadata": {
        "id": "kDzB3pfQ0dbn",
        "colab": {
          "base_uri": "https://localhost:8080/"
        },
        "outputId": "cb47f934-fd85-4c9d-f646-60a4c851f9d7"
      },
      "outputs": [
        {
          "output_type": "stream",
          "name": "stderr",
          "text": [
            "/usr/local/lib/python3.9/dist-packages/transformers/generation/utils.py:1201: UserWarning: You have modified the pretrained model configuration to control generation. This is a deprecated strategy to control generation and will be removed soon, in a future version. Please use a generation configuration file (see https://huggingface.co/docs/transformers/main_classes/text_generation)\n",
            "  warnings.warn(\n"
          ]
        },
        {
          "output_type": "execute_result",
          "data": {
            "text/plain": [
              "[{'generated_text': \"The police dogs who patrol the area are some of my favorite faces to see around the Capitol. # Sen. Al Franken (@SenFranken) August 26, 2017\\nwho are some of franken's favorite faces to see? then then after then including her then she she then next next then first then before then but but then again then Then then maybe then thought Sawyer after later also hearing hearing read well I then later then like like then and then said that and and when and or andon and, and.. and ) and He and but and Then or or perhaps perhaps for for and certain certain and again, then briefly again again and repeated again Again again once once,, in, ), (, or,.\"}]"
            ]
          },
          "metadata": {},
          "execution_count": 80
        }
      ],
      "source": [
        "# Make use of langauge generation to test if it will work\n",
        "from transformers import pipeline\n",
        "\n",
        "generator = pipeline(\"text-generation\", model=gen_model, tokenizer=tokenizer)\n",
        "generator(prompt, max_new_tokens=100, do_sample=True, top_k=50, top_p=0.95)"
      ]
    },
    {
      "cell_type": "markdown",
      "source": [
        "This concludes our basic implementation of a generative question answering model. We can see that the model has not learned much. I believe this is a mixture of the model not being tailored for this task as BERT is normally used as an encoder with additional layers on top to fine-tune the model to a task. In addition, we are not working with huge amounts of data, so we will not get amaing results.\n",
        "\n",
        "Now we will look at a more advanced architecture for solving this open generative question answering task."
      ],
      "metadata": {
        "id": "WMarjPk4rPLL"
      }
    },
    {
      "cell_type": "markdown",
      "metadata": {
        "id": "JoGfbHjA0cmv"
      },
      "source": [
        "### EncoderDecoder Model (sequence-to-sequence)\n",
        "\n",
        "The final model that we will be having a look at is en EncoderDecoder for converting a given sequence to another sequence. In our case, this will be a sequence of context and question to a sequence containing the answer. This will likely work much better than the simple generative approach as we are explicitly telling the model what output we want, where previously there was no way of us explicitly stating that we want the generated text to be based on the context.\n",
        "\n",
        "We can start by loading in the model, which makes use of the weight from BERT for the encoder and the weights from GPT2 for the decoder. I have decided to take this approach as GPT2 is already pre-trained as an autoregressive model to generate text and using the BERT weights will require more tuning.\n",
        "\n",
        "We could optionally tie the weights together for the encoder and decoder, allowing the model to have a smaller number of parameters."
      ]
    },
    {
      "cell_type": "code",
      "execution_count": 20,
      "metadata": {
        "id": "Wex4CUVqbYwN",
        "colab": {
          "base_uri": "https://localhost:8080/",
          "height": 320,
          "referenced_widgets": [
            "1fc55c4907844da5879e19752458f91f",
            "646e86a81c404aa690e840ab198c84de",
            "f860e68f0e2143b4904249721851e97d",
            "49c957a218c2447dba569d350284cae2",
            "bc1bda8c7ba54938af0904c2c9f2565e",
            "1218c170188b483680b0e8883d5a2187",
            "86ba64634afc4b88aaef199d7192637e",
            "da472ec8b6434271aaa45da7c5c2b5dc",
            "d299c6104952474885ff8d3a5bf467b4",
            "e6050b7474e64f5a8bf8933387fa667b",
            "5c0b879605f94a0db03987ed808c2844",
            "9f2495b5ee4747e5966e514894fb4a70",
            "d04d0ec802144e38b0330888a1ca4577",
            "b62428fa067b4755a5b9ccb8412d573b",
            "629f01985102466db77b62cc6950e8da",
            "cb035ae5b7374f4ca335db5e278f0554",
            "c9d1b32fae8f4be18b15f18f912d98e9",
            "1c743c93c52041ebbd3466e3cff3b271",
            "e2d4344e33104edf89d93aa165f62ee3",
            "fc65aa1184414ffc95239d0d92e31f66",
            "8f2131317cc347c0b79d8db49f163219",
            "f05b441ad2344aa4babcc5329700c570",
            "8205b7cce2a2456eb0d6dad83d7fb13a",
            "f3c1e5a43561441ab275cd98fb76d487",
            "9536fa5a0e5e424d8c280dc389dbad10",
            "e0b7f1695d114d2aba20990d879fe427",
            "00516822230049eea8498886362838fb",
            "ec5545ce88ce46f7bbf28399040c2ce7",
            "6512d319d2074ff19787657a39cd5be6",
            "ab227b3ed2d141fc9ad71692c7b57377",
            "d491a588839f4280aa7b2ea27bc888d1",
            "aa8661f88c964a38b31ebd7bd36a36f4",
            "a8690c2ac43940eda068e2136e03ede8",
            "fa3d0a4602854463bb9e3553fcb2c824",
            "b808099eb1db414ebff5b04b3c4ef899",
            "a00b9690727d4051a79bda1f6f2e0d01",
            "ab5bcf4b2b5e42918b3ae5a40e395e98",
            "18986d3b931e44c4af8cf1d0b32f5be1",
            "0cce192f77034603a039280b68ef2c08",
            "569f51b7cc644190baa835ffb79d349e",
            "a0eafda2da924c048032eab4839692b7",
            "fa222308608148039b4351fccb7697e1",
            "4b7541faedde4394bbae5f723fac74a2",
            "4661d325a33e4bbdbc3945ee12ac0918",
            "2cc8ff27225a436ab1cf7dc9194800f5",
            "f7b1b4c7274f4f10a118d86f14996d22",
            "e68d2ee25d0e472db0964924e4165d72",
            "5d2f5f7151e54b508d38fa61b1ff81e8",
            "7887387fc7b5461a994f8cad7991f1de",
            "548d858ec1cd4741987d9ac6c5d81b9e",
            "389da8b544db465796aeca3e52471c2a",
            "8df2bdc0bb3b4218a6510fb4e1d156ac",
            "7d81b3247f784e13ba9c69983557bbba",
            "376e6e9a96064699b72758ef10deb2b1",
            "75aacb735f69488ba868595323600324",
            "882b3d69883f4d43b6ef4081a3652761",
            "ac1997587f24488d956bfd8b1954ef10",
            "94c99eaf965749c8b2f87c2024bab67a",
            "e2d867db03fa4cc183a61bac0b95e8e1",
            "52ffedcf803845ca8406bbeb0b0e063f",
            "5460232b647b4c2bb60df6b34e9e3624",
            "1877ced9b2034ea4ad7a5c9534f8f8e8",
            "579d777f464b4b6e86f0dd264cec710b",
            "ccce5ff9be4342bcbfb70464a5160766",
            "7f2a2891b8f242768ecf1677edde8ed2",
            "ae4c32154a9340a9b0e836b8f2afafc6"
          ]
        },
        "outputId": "7edb4ae2-2914-4cc6-ec6e-990c8bf5e7d4"
      },
      "outputs": [
        {
          "output_type": "display_data",
          "data": {
            "text/plain": [
              "Downloading (…)olve/main/vocab.json:   0%|          | 0.00/1.04M [00:00<?, ?B/s]"
            ],
            "application/vnd.jupyter.widget-view+json": {
              "version_major": 2,
              "version_minor": 0,
              "model_id": "1fc55c4907844da5879e19752458f91f"
            }
          },
          "metadata": {}
        },
        {
          "output_type": "display_data",
          "data": {
            "text/plain": [
              "Downloading (…)olve/main/merges.txt:   0%|          | 0.00/456k [00:00<?, ?B/s]"
            ],
            "application/vnd.jupyter.widget-view+json": {
              "version_major": 2,
              "version_minor": 0,
              "model_id": "9f2495b5ee4747e5966e514894fb4a70"
            }
          },
          "metadata": {}
        },
        {
          "output_type": "display_data",
          "data": {
            "text/plain": [
              "Downloading (…)lve/main/config.json:   0%|          | 0.00/665 [00:00<?, ?B/s]"
            ],
            "application/vnd.jupyter.widget-view+json": {
              "version_major": 2,
              "version_minor": 0,
              "model_id": "8205b7cce2a2456eb0d6dad83d7fb13a"
            }
          },
          "metadata": {}
        },
        {
          "output_type": "display_data",
          "data": {
            "text/plain": [
              "Downloading pytorch_model.bin:   0%|          | 0.00/436M [00:00<?, ?B/s]"
            ],
            "application/vnd.jupyter.widget-view+json": {
              "version_major": 2,
              "version_minor": 0,
              "model_id": "fa3d0a4602854463bb9e3553fcb2c824"
            }
          },
          "metadata": {}
        },
        {
          "output_type": "stream",
          "name": "stderr",
          "text": [
            "Some weights of the model checkpoint at bert-base-cased were not used when initializing BertModel: ['cls.predictions.transform.LayerNorm.bias', 'cls.predictions.transform.LayerNorm.weight', 'cls.predictions.bias', 'cls.predictions.decoder.weight', 'cls.predictions.transform.dense.bias', 'cls.seq_relationship.weight', 'cls.seq_relationship.bias', 'cls.predictions.transform.dense.weight']\n",
            "- This IS expected if you are initializing BertModel from the checkpoint of a model trained on another task or with another architecture (e.g. initializing a BertForSequenceClassification model from a BertForPreTraining model).\n",
            "- This IS NOT expected if you are initializing BertModel from the checkpoint of a model that you expect to be exactly identical (initializing a BertForSequenceClassification model from a BertForSequenceClassification model).\n"
          ]
        },
        {
          "output_type": "display_data",
          "data": {
            "text/plain": [
              "Downloading pytorch_model.bin:   0%|          | 0.00/548M [00:00<?, ?B/s]"
            ],
            "application/vnd.jupyter.widget-view+json": {
              "version_major": 2,
              "version_minor": 0,
              "model_id": "2cc8ff27225a436ab1cf7dc9194800f5"
            }
          },
          "metadata": {}
        },
        {
          "output_type": "stream",
          "name": "stderr",
          "text": [
            "Some weights of GPT2LMHeadModel were not initialized from the model checkpoint at gpt2 and are newly initialized: ['h.6.crossattention.q_attn.weight', 'h.4.crossattention.bias', 'h.2.crossattention.bias', 'h.2.ln_cross_attn.weight', 'h.0.crossattention.c_proj.bias', 'h.10.crossattention.c_proj.weight', 'h.4.crossattention.masked_bias', 'h.9.crossattention.q_attn.weight', 'h.5.crossattention.q_attn.weight', 'h.1.crossattention.q_attn.weight', 'h.7.ln_cross_attn.weight', 'h.10.crossattention.c_attn.weight', 'h.5.crossattention.c_attn.weight', 'h.11.crossattention.c_attn.weight', 'h.11.crossattention.c_proj.bias', 'h.7.crossattention.c_proj.weight', 'h.2.crossattention.masked_bias', 'h.10.ln_cross_attn.weight', 'h.4.crossattention.c_attn.weight', 'h.5.crossattention.bias', 'h.3.crossattention.masked_bias', 'h.1.crossattention.masked_bias', 'h.6.ln_cross_attn.weight', 'h.5.crossattention.c_proj.weight', 'h.0.crossattention.masked_bias', 'h.0.crossattention.c_attn.weight', 'h.6.crossattention.c_proj.weight', 'h.3.crossattention.c_proj.bias', 'h.7.crossattention.c_proj.bias', 'h.11.crossattention.q_attn.weight', 'h.11.crossattention.bias', 'h.10.crossattention.q_attn.weight', 'h.1.ln_cross_attn.weight', 'h.3.crossattention.c_attn.weight', 'h.2.crossattention.c_proj.weight', 'h.9.crossattention.c_attn.weight', 'h.11.crossattention.c_proj.weight', 'h.1.crossattention.c_proj.bias', 'h.10.crossattention.masked_bias', 'h.4.crossattention.c_proj.weight', 'h.8.crossattention.c_proj.bias', 'h.10.crossattention.bias', 'h.11.crossattention.masked_bias', 'h.9.crossattention.masked_bias', 'h.3.crossattention.c_proj.weight', 'h.0.crossattention.q_attn.weight', 'h.6.crossattention.c_attn.weight', 'h.0.ln_cross_attn.weight', 'h.2.crossattention.c_attn.weight', 'h.7.crossattention.bias', 'h.4.crossattention.q_attn.weight', 'h.3.ln_cross_attn.weight', 'h.7.crossattention.q_attn.weight', 'h.1.crossattention.bias', 'h.8.ln_cross_attn.weight', 'h.7.crossattention.c_attn.weight', 'h.1.crossattention.c_proj.weight', 'h.6.crossattention.c_proj.bias', 'h.9.crossattention.bias', 'h.9.crossattention.c_proj.bias', 'h.3.crossattention.q_attn.weight', 'h.4.ln_cross_attn.weight', 'h.8.crossattention.q_attn.weight', 'h.5.crossattention.c_proj.bias', 'h.8.crossattention.c_attn.weight', 'h.4.crossattention.c_proj.bias', 'h.0.crossattention.bias', 'h.0.crossattention.c_proj.weight', 'h.9.ln_cross_attn.weight', 'h.11.ln_cross_attn.weight', 'h.8.crossattention.masked_bias', 'h.7.crossattention.masked_bias', 'h.9.crossattention.c_proj.weight', 'h.5.crossattention.masked_bias', 'h.2.crossattention.c_proj.bias', 'h.3.crossattention.bias', 'h.2.crossattention.q_attn.weight', 'h.5.ln_cross_attn.weight', 'h.8.crossattention.bias', 'h.6.crossattention.bias', 'h.8.crossattention.c_proj.weight', 'h.6.crossattention.masked_bias', 'h.1.crossattention.c_attn.weight', 'h.10.crossattention.c_proj.bias']\n",
            "You should probably TRAIN this model on a down-stream task to be able to use it for predictions and inference.\n"
          ]
        },
        {
          "output_type": "display_data",
          "data": {
            "text/plain": [
              "Downloading (…)neration_config.json:   0%|          | 0.00/124 [00:00<?, ?B/s]"
            ],
            "application/vnd.jupyter.widget-view+json": {
              "version_major": 2,
              "version_minor": 0,
              "model_id": "882b3d69883f4d43b6ef4081a3652761"
            }
          },
          "metadata": {}
        }
      ],
      "source": [
        "from transformers import EncoderDecoderModel, BertTokenizer, GPT2Tokenizer\n",
        "\n",
        "# Create the Bert tokenizer\n",
        "bert_tokenizer = BertTokenizer.from_pretrained(\"bert-base-cased\")\n",
        "\n",
        "# make sure GPT2 appends EOS in begin and end\n",
        "def build_inputs_with_special_tokens(self, token_ids_0, token_ids_1=None):\n",
        "    outputs = [self.bos_token_id] + token_ids_0 + [self.eos_token_id]\n",
        "    return outputs\n",
        "\n",
        "# Create the GPT2 tokenizer.\n",
        "GPT2Tokenizer.build_inputs_with_special_tokens = build_inputs_with_special_tokens\n",
        "gpt2_tokenizer = GPT2Tokenizer.from_pretrained(\"gpt2\")\n",
        "# set pad_token_id to unk_token_id -> be careful here as unk_token_id == eos_token_id == bos_token_id\n",
        "gpt2_tokenizer.pad_token = gpt2_tokenizer.unk_token\n",
        "\n",
        "# Create the EncoderDecoder model from the saved weights of both models.\n",
        "model = EncoderDecoderModel.from_encoder_decoder_pretrained(\"bert-base-cased\", \"gpt2\") #, tie_encoder_decoder=True)"
      ]
    },
    {
      "cell_type": "markdown",
      "source": [
        "Now we can set some config parameters of the model relating to the start token, end of sentence and pad token."
      ],
      "metadata": {
        "id": "JKLkiB2XjtaZ"
      }
    },
    {
      "cell_type": "code",
      "source": [
        "model.config.do_sample = True\n",
        "model.config.temperature = 0.5\n",
        "model.config.top_k = 150\n",
        "model.config.top_p = 0.8\n",
        "model.config.no_repeat_ngram_size = 3\n",
        "model.config.num_beams = 5\n",
        "model.config.max_length = 16\n",
        "model.config.min_length = 1\n",
        "model.config.early_stopping = True\n",
        "model.config.decoder_start_token_id = gpt2_tokenizer.bos_token_id\n",
        "\n",
        "model.config.decoder.do_sample = True\n",
        "model.config.decoder.temperature = 0.5\n",
        "model.config.decoder.top_k = 150\n",
        "model.config.decoder.top_p = 0.8\n",
        "model.config.decoder.no_repeat_ngram_size = 3\n",
        "model.config.decoder.num_beams = 5\n",
        "model.config.decoder.max_length = 16\n",
        "model.config.decoder.min_length = 1\n",
        "model.config.decoder.early_stopping = True\n",
        "model.config.decoder.decoder_start_token_id = gpt2_tokenizer.bos_token_id"
      ],
      "metadata": {
        "id": "3ySpSr-907l7"
      },
      "execution_count": 21,
      "outputs": []
    },
    {
      "cell_type": "code",
      "source": [
        "# set decoding params\n",
        "model.config.decoder_start_token_id = gpt2_tokenizer.bos_token_id\n",
        "model.config.eos_token_id = gpt2_tokenizer.eos_token_id\n",
        "model.config.pad_token_id = gpt2_tokenizer.eos_token_id"
      ],
      "metadata": {
        "id": "iBaI4aGh3-Ex"
      },
      "execution_count": 22,
      "outputs": []
    },
    {
      "cell_type": "markdown",
      "source": [
        "Now we can set config parameters relating to beam search, which will hopefully improve the results. These parameters can be tuned and can be difficult to select without testing.\n",
        "\n",
        "We will use the default for many of the parameters, such as top_k, top_p and temperature. The top_k and top_p parameters control how many items can get through up to k or the probability proportion p, then the probabilities are re-distributed between the remaining possible next tokes. Temperature is used to affect the distribution of probabilities, making the probabilities better distributed among the tokens."
      ],
      "metadata": {
        "id": "rF_ZLULYj6XZ"
      }
    },
    {
      "cell_type": "code",
      "source": [
        "model.config"
      ],
      "metadata": {
        "colab": {
          "base_uri": "https://localhost:8080/"
        },
        "id": "12Bq8Zjo0F8x",
        "outputId": "6da3b6aa-c4f1-4109-e211-27c1198a0f86"
      },
      "execution_count": 23,
      "outputs": [
        {
          "output_type": "execute_result",
          "data": {
            "text/plain": [
              "EncoderDecoderConfig {\n",
              "  \"_commit_hash\": null,\n",
              "  \"decoder\": {\n",
              "    \"_name_or_path\": \"gpt2\",\n",
              "    \"activation_function\": \"gelu_new\",\n",
              "    \"add_cross_attention\": true,\n",
              "    \"architectures\": [\n",
              "      \"GPT2LMHeadModel\"\n",
              "    ],\n",
              "    \"attn_pdrop\": 0.1,\n",
              "    \"bad_words_ids\": null,\n",
              "    \"begin_suppress_tokens\": null,\n",
              "    \"bos_token_id\": 50256,\n",
              "    \"chunk_size_feed_forward\": 0,\n",
              "    \"cross_attention_hidden_size\": null,\n",
              "    \"decoder_start_token_id\": 50256,\n",
              "    \"diversity_penalty\": 0.0,\n",
              "    \"do_sample\": true,\n",
              "    \"early_stopping\": true,\n",
              "    \"embd_pdrop\": 0.1,\n",
              "    \"encoder_no_repeat_ngram_size\": 0,\n",
              "    \"eos_token_id\": 50256,\n",
              "    \"exponential_decay_length_penalty\": null,\n",
              "    \"finetuning_task\": null,\n",
              "    \"forced_bos_token_id\": null,\n",
              "    \"forced_eos_token_id\": null,\n",
              "    \"id2label\": {\n",
              "      \"0\": \"LABEL_0\",\n",
              "      \"1\": \"LABEL_1\"\n",
              "    },\n",
              "    \"initializer_range\": 0.02,\n",
              "    \"is_decoder\": true,\n",
              "    \"is_encoder_decoder\": false,\n",
              "    \"label2id\": {\n",
              "      \"LABEL_0\": 0,\n",
              "      \"LABEL_1\": 1\n",
              "    },\n",
              "    \"layer_norm_epsilon\": 1e-05,\n",
              "    \"length_penalty\": 1.0,\n",
              "    \"max_length\": 16,\n",
              "    \"min_length\": 1,\n",
              "    \"model_type\": \"gpt2\",\n",
              "    \"n_ctx\": 1024,\n",
              "    \"n_embd\": 768,\n",
              "    \"n_head\": 12,\n",
              "    \"n_inner\": null,\n",
              "    \"n_layer\": 12,\n",
              "    \"n_positions\": 1024,\n",
              "    \"no_repeat_ngram_size\": 3,\n",
              "    \"num_beam_groups\": 1,\n",
              "    \"num_beams\": 5,\n",
              "    \"num_return_sequences\": 1,\n",
              "    \"output_attentions\": false,\n",
              "    \"output_hidden_states\": false,\n",
              "    \"output_scores\": false,\n",
              "    \"pad_token_id\": null,\n",
              "    \"prefix\": null,\n",
              "    \"problem_type\": null,\n",
              "    \"pruned_heads\": {},\n",
              "    \"remove_invalid_values\": false,\n",
              "    \"reorder_and_upcast_attn\": false,\n",
              "    \"repetition_penalty\": 1.0,\n",
              "    \"resid_pdrop\": 0.1,\n",
              "    \"return_dict\": true,\n",
              "    \"return_dict_in_generate\": false,\n",
              "    \"scale_attn_by_inverse_layer_idx\": false,\n",
              "    \"scale_attn_weights\": true,\n",
              "    \"sep_token_id\": null,\n",
              "    \"summary_activation\": null,\n",
              "    \"summary_first_dropout\": 0.1,\n",
              "    \"summary_proj_to_labels\": true,\n",
              "    \"summary_type\": \"cls_index\",\n",
              "    \"summary_use_proj\": true,\n",
              "    \"suppress_tokens\": null,\n",
              "    \"task_specific_params\": {\n",
              "      \"text-generation\": {\n",
              "        \"do_sample\": true,\n",
              "        \"max_length\": 50\n",
              "      }\n",
              "    },\n",
              "    \"temperature\": 0.5,\n",
              "    \"tf_legacy_loss\": false,\n",
              "    \"tie_encoder_decoder\": false,\n",
              "    \"tie_word_embeddings\": true,\n",
              "    \"tokenizer_class\": null,\n",
              "    \"top_k\": 150,\n",
              "    \"top_p\": 0.8,\n",
              "    \"torch_dtype\": null,\n",
              "    \"torchscript\": false,\n",
              "    \"transformers_version\": \"4.27.4\",\n",
              "    \"typical_p\": 1.0,\n",
              "    \"use_bfloat16\": false,\n",
              "    \"use_cache\": true,\n",
              "    \"vocab_size\": 50257\n",
              "  },\n",
              "  \"decoder_start_token_id\": 50256,\n",
              "  \"do_sample\": true,\n",
              "  \"early_stopping\": true,\n",
              "  \"encoder\": {\n",
              "    \"_name_or_path\": \"bert-base-cased\",\n",
              "    \"add_cross_attention\": false,\n",
              "    \"architectures\": [\n",
              "      \"BertForMaskedLM\"\n",
              "    ],\n",
              "    \"attention_probs_dropout_prob\": 0.1,\n",
              "    \"bad_words_ids\": null,\n",
              "    \"begin_suppress_tokens\": null,\n",
              "    \"bos_token_id\": null,\n",
              "    \"chunk_size_feed_forward\": 0,\n",
              "    \"classifier_dropout\": null,\n",
              "    \"cross_attention_hidden_size\": null,\n",
              "    \"decoder_start_token_id\": null,\n",
              "    \"diversity_penalty\": 0.0,\n",
              "    \"do_sample\": false,\n",
              "    \"early_stopping\": false,\n",
              "    \"encoder_no_repeat_ngram_size\": 0,\n",
              "    \"eos_token_id\": null,\n",
              "    \"exponential_decay_length_penalty\": null,\n",
              "    \"finetuning_task\": null,\n",
              "    \"forced_bos_token_id\": null,\n",
              "    \"forced_eos_token_id\": null,\n",
              "    \"gradient_checkpointing\": false,\n",
              "    \"hidden_act\": \"gelu\",\n",
              "    \"hidden_dropout_prob\": 0.1,\n",
              "    \"hidden_size\": 768,\n",
              "    \"id2label\": {\n",
              "      \"0\": \"LABEL_0\",\n",
              "      \"1\": \"LABEL_1\"\n",
              "    },\n",
              "    \"initializer_range\": 0.02,\n",
              "    \"intermediate_size\": 3072,\n",
              "    \"is_decoder\": false,\n",
              "    \"is_encoder_decoder\": false,\n",
              "    \"label2id\": {\n",
              "      \"LABEL_0\": 0,\n",
              "      \"LABEL_1\": 1\n",
              "    },\n",
              "    \"layer_norm_eps\": 1e-12,\n",
              "    \"length_penalty\": 1.0,\n",
              "    \"max_length\": 20,\n",
              "    \"max_position_embeddings\": 512,\n",
              "    \"min_length\": 0,\n",
              "    \"model_type\": \"bert\",\n",
              "    \"no_repeat_ngram_size\": 0,\n",
              "    \"num_attention_heads\": 12,\n",
              "    \"num_beam_groups\": 1,\n",
              "    \"num_beams\": 1,\n",
              "    \"num_hidden_layers\": 12,\n",
              "    \"num_return_sequences\": 1,\n",
              "    \"output_attentions\": false,\n",
              "    \"output_hidden_states\": false,\n",
              "    \"output_scores\": false,\n",
              "    \"pad_token_id\": 0,\n",
              "    \"position_embedding_type\": \"absolute\",\n",
              "    \"prefix\": null,\n",
              "    \"problem_type\": null,\n",
              "    \"pruned_heads\": {},\n",
              "    \"remove_invalid_values\": false,\n",
              "    \"repetition_penalty\": 1.0,\n",
              "    \"return_dict\": true,\n",
              "    \"return_dict_in_generate\": false,\n",
              "    \"sep_token_id\": null,\n",
              "    \"suppress_tokens\": null,\n",
              "    \"task_specific_params\": null,\n",
              "    \"temperature\": 1.0,\n",
              "    \"tf_legacy_loss\": false,\n",
              "    \"tie_encoder_decoder\": false,\n",
              "    \"tie_word_embeddings\": true,\n",
              "    \"tokenizer_class\": null,\n",
              "    \"top_k\": 50,\n",
              "    \"top_p\": 1.0,\n",
              "    \"torch_dtype\": null,\n",
              "    \"torchscript\": false,\n",
              "    \"transformers_version\": \"4.27.4\",\n",
              "    \"type_vocab_size\": 2,\n",
              "    \"typical_p\": 1.0,\n",
              "    \"use_bfloat16\": false,\n",
              "    \"use_cache\": true,\n",
              "    \"vocab_size\": 28996\n",
              "  },\n",
              "  \"eos_token_id\": 50256,\n",
              "  \"is_encoder_decoder\": true,\n",
              "  \"max_length\": 16,\n",
              "  \"min_length\": 1,\n",
              "  \"model_type\": \"encoder-decoder\",\n",
              "  \"no_repeat_ngram_size\": 3,\n",
              "  \"num_beams\": 5,\n",
              "  \"pad_token_id\": 50256,\n",
              "  \"temperature\": 0.5,\n",
              "  \"top_k\": 150,\n",
              "  \"top_p\": 0.8,\n",
              "  \"transformers_version\": null\n",
              "}"
            ]
          },
          "metadata": {},
          "execution_count": 23
        }
      ]
    },
    {
      "cell_type": "markdown",
      "source": [
        "Now we can preprocess our data. The data should be tokenized for the input and desired output. This will be a string of the context and question for the input and the answer for the output. There are also attention masks for the encoder and decoder that we must pass through."
      ],
      "metadata": {
        "id": "XBxeY7_PnTE-"
      }
    },
    {
      "cell_type": "code",
      "source": [
        "# Set the max length for the encoder and decoder\n",
        "encoder_max_length=512\n",
        "decoder_max_length=16\n",
        "\n",
        "def process_data_to_model_inputs(batch):\n",
        "\n",
        "  context = batch[\"Tweet\"]\n",
        "  question = batch[\"Question\"]\n",
        "  answer = batch[\"Answer\"][0]\n",
        "\n",
        "  # tokenize the inputs and labels\n",
        "  inputs = bert_tokenizer(f\"question:{question}  context:{context}\", padding=\"max_length\", truncation=True, max_length=encoder_max_length)\n",
        "  outputs = gpt2_tokenizer(answer, padding=\"max_length\", truncation=True, max_length=decoder_max_length)\n",
        "\n",
        "  # Add all the needed values to the batch\n",
        "  batch[\"input_ids\"] = inputs.input_ids\n",
        "  batch[\"attention_mask\"] = inputs.attention_mask\n",
        "  batch[\"decoder_input_ids\"] = outputs.input_ids\n",
        "  batch[\"decoder_attention_mask\"] = outputs.attention_mask\n",
        "  batch[\"labels\"] = outputs.input_ids.copy()\n",
        "\n",
        "  # because BERT automatically shifts the labels, the labels correspond exactly to `decoder_input_ids`. \n",
        "  # We have to make sure that the PAD token is ignored\n",
        "  batch[\"labels\"] = [-100 if token == 0 else token for token in batch[\"labels\"]] # for labels in batch[\"labels\"]]\n",
        "  \n",
        "  assert all([len(inputs.input_ids) == encoder_max_length])\n",
        "  assert all([len(outputs.input_ids) == decoder_max_length])\n",
        "\n",
        "  return batch\n"
      ],
      "metadata": {
        "id": "KmDEWJWI8oHp"
      },
      "execution_count": null,
      "outputs": []
    },
    {
      "cell_type": "markdown",
      "source": [
        "We can now use the map function to process our data through the function we defined."
      ],
      "metadata": {
        "id": "OH7afRMqnr6o"
      }
    },
    {
      "cell_type": "code",
      "source": [
        "train_data = raw_datasets[\"train\"].map(\n",
        "    process_data_to_model_inputs,\n",
        "    num_proc=4,\n",
        "    remove_columns=[\"Question\", \"Answer\", \"Tweet\", \"qid\"]\n",
        ")"
      ],
      "metadata": {
        "colab": {
          "base_uri": "https://localhost:8080/",
          "height": 17,
          "referenced_widgets": [
            "7789de31ba644cffb227ceb5640ed00c",
            "090b7d394a0544d08f640b9db6d1578a",
            "4bf4d1c8665540c4a594e20d8bfe5117",
            "9d2c124067a3447d9f356a275f9eca95",
            "c22f155ea40347b89b0fc8fbc84d6ff7",
            "cf5c0031a3564eab87f12744f9362770",
            "0f9450f71bc34f938c9b3ad087609616",
            "1dbbac6dd3fc47f5bd10e8448c49bf6a",
            "5c5a3cdec3fc4f0bb90024f11864ac5b",
            "1b2bdc83888248a081bc8add4e54f66e",
            "25be66dae695496abc00d9d211e82899"
          ]
        },
        "id": "P43SPNDL7rY3",
        "outputId": "c9fee0c9-5752-4c47-b402-8d677597d581"
      },
      "execution_count": null,
      "outputs": [
        {
          "output_type": "display_data",
          "data": {
            "text/plain": [
              "Map (num_proc=4):   0%|          | 0/10692 [00:00<?, ? examples/s]"
            ],
            "application/vnd.jupyter.widget-view+json": {
              "version_major": 2,
              "version_minor": 0,
              "model_id": "7789de31ba644cffb227ceb5640ed00c"
            }
          },
          "metadata": {}
        }
      ]
    },
    {
      "cell_type": "markdown",
      "source": [
        "We can see that the data is now in the correct format. We can split the training set into a training and test as this is the only set that has corresponding answers."
      ],
      "metadata": {
        "id": "6QFT_GRP3825"
      }
    },
    {
      "cell_type": "code",
      "source": [
        "train_data"
      ],
      "metadata": {
        "colab": {
          "base_uri": "https://localhost:8080/"
        },
        "id": "AlWGXwYwM9Bb",
        "outputId": "103bcdc7-d531-430d-ff0d-a5c6f9dc3345"
      },
      "execution_count": null,
      "outputs": [
        {
          "output_type": "execute_result",
          "data": {
            "text/plain": [
              "Dataset({\n",
              "    features: ['input_ids', 'attention_mask', 'decoder_input_ids', 'decoder_attention_mask', 'labels'],\n",
              "    num_rows: 10692\n",
              "})"
            ]
          },
          "metadata": {},
          "execution_count": 12
        }
      ]
    },
    {
      "cell_type": "code",
      "source": [
        "split_dataset = train_data.train_test_split(test_size=0.2, shuffle=False)"
      ],
      "metadata": {
        "id": "QFEBzTGL9B-l"
      },
      "execution_count": null,
      "outputs": []
    },
    {
      "cell_type": "markdown",
      "source": [
        "We will be making use of a sequence-to-sequence trainer that is an adapted trainer for this specific task. These can be downloaded and imported as shown below."
      ],
      "metadata": {
        "id": "cQAhgFw9nyAn"
      }
    },
    {
      "cell_type": "code",
      "source": [
        "%%capture\n",
        "!rm seq2seq_trainer.py\n",
        "!rm seq2seq_training_args.py\n",
        "!wget https://raw.githubusercontent.com/huggingface/transformers/master/examples/legacy/seq2seq/seq2seq_trainer.py\n",
        "!wget https://raw.githubusercontent.com/huggingface/transformers/master/examples/legacy/seq2seq/seq2seq_training_args.py"
      ],
      "metadata": {
        "id": "cgN_JlzQ49sv"
      },
      "execution_count": null,
      "outputs": []
    },
    {
      "cell_type": "code",
      "source": [
        "%%capture\n",
        "!pip install git-python==1.0.3\n",
        "!pip install rouge_score\n",
        "!pip install sacrebleu"
      ],
      "metadata": {
        "id": "xU0oReUO4_4g"
      },
      "execution_count": null,
      "outputs": []
    },
    {
      "cell_type": "code",
      "source": [
        "from transformers import Seq2SeqTrainer\n",
        "from transformers import Seq2SeqTrainingArguments"
      ],
      "metadata": {
        "id": "uZoVMbvq5CIL"
      },
      "execution_count": null,
      "outputs": []
    },
    {
      "cell_type": "markdown",
      "source": [
        "We specify the training arguments below, we will be evaluating at the end of each epoch and using a batch size of 4. We have enabled mixed precision training, which allows float16 to be used in place of float32 when applicable, reducing the overhead during training. We will also be using a warmup to start the training off."
      ],
      "metadata": {
        "id": "J4-oMe6Nn-WK"
      }
    },
    {
      "cell_type": "code",
      "source": [
        "training_args = Seq2SeqTrainingArguments(\n",
        "    predict_with_generate=True,\n",
        "    evaluation_strategy=\"epoch\",\n",
        "    num_train_epochs=5,\n",
        "    learning_rate=0.00001,\n",
        "    per_device_train_batch_size=4,\n",
        "    per_device_eval_batch_size=4,\n",
        "    fp16=True, \n",
        "    output_dir=\"/content/drive/MyDrive/CA4023-BERT/generative\",\n",
        "    do_train=True,\n",
        "    logging_steps=1000,\n",
        "    save_steps=1000,\n",
        "    eval_steps=1000,\n",
        "    do_eval=True,\n",
        "    overwrite_output_dir=True,\n",
        "    warmup_steps=2000\n",
        ")"
      ],
      "metadata": {
        "id": "5Ga1Tiz65v51"
      },
      "execution_count": null,
      "outputs": []
    },
    {
      "cell_type": "markdown",
      "source": [
        "Now we are ready to initialize our trainer and train our model."
      ],
      "metadata": {
        "id": "9eSpgj_NtmgU"
      }
    },
    {
      "cell_type": "code",
      "source": [
        "tmp_train = split_dataset[\"train\"].select(range(4))\n",
        "tmp_test = split_dataset[\"test\"].select(range(4))"
      ],
      "metadata": {
        "id": "T2h3WnYyx49M"
      },
      "execution_count": null,
      "outputs": []
    },
    {
      "cell_type": "code",
      "source": [
        "# Initialize trainer\n",
        "trainer = Seq2SeqTrainer(\n",
        "    model=model,\n",
        "    args=training_args,\n",
        "    train_dataset=split_dataset[\"train\"],\n",
        "    eval_dataset=split_dataset[\"test\"]\n",
        ")\n",
        "trainer.train()"
      ],
      "metadata": {
        "colab": {
          "base_uri": "https://localhost:8080/",
          "height": 597
        },
        "id": "i5dF6Sms6zTV",
        "outputId": "1841f241-b81c-4cec-e1b1-0187ec3918ab"
      },
      "execution_count": null,
      "outputs": [
        {
          "output_type": "display_data",
          "data": {
            "text/plain": [
              "<IPython.core.display.HTML object>"
            ],
            "text/html": [
              "\n",
              "    <div>\n",
              "      \n",
              "      <progress value='2583' max='10695' style='width:300px; height:20px; vertical-align: middle;'></progress>\n",
              "      [ 2583/10695 19:59 < 1:02:50, 2.15 it/s, Epoch 1.21/5]\n",
              "    </div>\n",
              "    <table border=\"1\" class=\"dataframe\">\n",
              "  <thead>\n",
              " <tr style=\"text-align: left;\">\n",
              "      <th>Epoch</th>\n",
              "      <th>Training Loss</th>\n",
              "      <th>Validation Loss</th>\n",
              "      <th>Rouge1 Precision</th>\n",
              "      <th>Rouge1 Recall</th>\n",
              "      <th>Rouge1 Fmeasure</th>\n",
              "    </tr>\n",
              "  </thead>\n",
              "  <tbody>\n",
              "    <tr>\n",
              "      <td>1</td>\n",
              "      <td>0.018300</td>\n",
              "      <td>9.414216</td>\n",
              "      <td>0.000000</td>\n",
              "      <td>0.000000</td>\n",
              "      <td>0.000000</td>\n",
              "    </tr>\n",
              "  </tbody>\n",
              "</table><p>"
            ]
          },
          "metadata": {}
        },
        {
          "output_type": "stream",
          "name": "stderr",
          "text": [
            "/usr/local/lib/python3.9/dist-packages/transformers/models/encoder_decoder/modeling_encoder_decoder.py:634: FutureWarning: Version v4.12.0 introduces a better way to train encoder-decoder models by computing the loss inside the encoder-decoder framework rather than in the decoder itself. You may observe training discrepancies if fine-tuning a model trained with versions anterior to 4.12.0. The decoder_input_ids are now created based on the labels, no need to pass them yourself anymore.\n",
            "  warnings.warn(DEPRECATION_WARNING, FutureWarning)\n",
            "/usr/local/lib/python3.9/dist-packages/transformers/models/encoder_decoder/modeling_encoder_decoder.py:634: FutureWarning: Version v4.12.0 introduces a better way to train encoder-decoder models by computing the loss inside the encoder-decoder framework rather than in the decoder itself. You may observe training discrepancies if fine-tuning a model trained with versions anterior to 4.12.0. The decoder_input_ids are now created based on the labels, no need to pass them yourself anymore.\n",
            "  warnings.warn(DEPRECATION_WARNING, FutureWarning)\n"
          ]
        },
        {
          "output_type": "stream",
          "name": "stdout",
          "text": [
            "['', '', '', '', '', '', '', '', '', '', '', '', '', '', '', '', '', '', '', '', '', '', '', '', '', '', '', '', '', '', '', '', '', '', '', '', '', '', '', '', '', '', '', '', '', '', '', '', '', '', '', '', '', '', '', '', '', '', '', '', '', '', '', '', '', '', '', '', '', '', '', '', '', '', '', '', '', '', '', '', '', '', '', '', '', '', '', '', '', '', '', '', '', '', '', '', '', '', '', '', '', '', '', '', '', '', '', '', '', '', '', '', '', '', '', '', '', '', '', '', '', '', '', '', '', '', '', '', '', '', '', '', '', '', '', '', '', '', '', '', '', '', '', '', '', '', '', '', '', '', '', '', '', '', '', '', '', '', '', '', '', '', '', '', '', '', '', '', '', '', '', '', '', '', '', '', '', '', '', '', '', '', '', '', '', '', '', '', '', '', '', '', '', '', '', '', '', '', '', '', '', '', '', '', '', '', '', '', '', '', '', '', '', '', '', '', '', '', '', '', '', '', '', '', '', '', '', '', '', '', '', '', '', '', '', '', '', '', '', '', '', '', '', '', '', '', '', '', '', '', '', '', '', '', '', '', '', '', '', '', '', '', '', '', '', '', '', '', '', '', '', '', '', '', '', '', '', '', '', '', '', '', '', '', '', '', '', '', '', '', '', '', '', '', '', '', '', '', '', '', '', '', '', '', '', '', '', '', '', '', '', '', '', '', '', '', '', '', '', '', '', '', '', '', '', '', '', '', '', '', '', '', '', '', '', '', '', '', '', '', '', '', '', '', '', '', '', '', '', '', '', '', '', '', '', '', '', '', '', '', '', '', '', '', '', '', '', '', '', '', '', '', '', '', '', '', '', '', '', '', '', '', '', '', '', '', '', '', '', '', '', '', '', '', '', '', '', '', '', '', '', '', '', '', '', '', '', '', '', '', '', '', '', '', '', '', '', '', '', '', '', '', '', '', '', '', '', '', '', '', '', '', '', '', '', '', '', '', '', '', '', '', '', '', '', '', '', '', '', '', '', '', '', '', '', '', '', '', '', '', '', '', '', '', '', '', '', '', '', '', '', '', '', '', '', '', '', '', '', '', '', '', '', '', '', '', '', '', '', '', '', '', '', '', '', '', '', '', '', '', '', '', '', '', '', '', '', '', '', '', '', '', '', '', '', '', '', '', '', '', '', '', '', '', '', '', '', '', '', '', '', '', '', '', '', '', '', '', '', '', '', '', '', '', '', '', '', '', '', '', '', '', '', '', '', '', '', '', '', '', '', '', '', '', '', '', '', '', '', '', '', '', '', '', '', '', '', '', '', '', '', '', '', '', '', '', '', '', '', '', '', '', '', '', '', '', '', '', '', '', '', '', '', '', '', '', '', '', '', '', '', '', '', '', '', '', '', '', '', '', '', '', '', '', '', '', '', '', '', '', '', '', '', '', '', '', '', '', '', '', '', '', '', '', '', '', '', '', '', '', '', '', '', '', '', '', '', '', '', '', '', '', '', '', '', '', '', '', '', '', '', '', '', '', '', '', '', '', '', '', '', '', '', '', '', '', '', '', '', '', '', '', '', '', '', '', '', '', '', '', '', '', '', '', '', '', '', '', '', '', '', '', '', '', '', '', '', '', '', '', '', '', '', '', '', '', '', '', '', '', '', '', '', '', '', '', '', '', '', '', '', '', '', '', '', '', '', '', '', '', '', '', '', '', '', '', '', '', '', '', '', '', '', '', '', '', '', '', '', '', '', '', '', '', '', '', '', '', '', '', '', '', '', '', '', '', '', '', '', '', '', '', '', '', '', '', '', '', '', '', '', '', '', '', '', '', '', '', '', '', '', '', '', '', '', '', '', '', '', '', '', '', '', '', '', '', '', '', '', '', '', '', '', '', '', '', '', '', '', '', '', '', '', '', '', '', '', '', '', '', '', '', '', '', '', '', '', '', '', '', '', '', '', '', '', '', '', '', '', '', '', '', '', '', '', '', '', '', '', '', '', '', '', '', '', '', '', '', '', '', '', '', '', '', '', '', '', '', '', '', '', '', '', '', '', '', '', '', '', '', '', '', '', '', '', '', '', '', '', '', '', '', '', '', '', '', '', '', '', '', '', '', '', '', '', '', '', '', '', '', '', '', '', '', '', '', '', '', '', '', '', '', '', '', '', '', '', '', '', '', '', '', '', '', '', '', '', '', '', '', '', '', '', '', '', '', '', '', '', '', '', '', '', '', '', '', '', '', '', '', '', '', '', '', '', '', '', '', '', '', '', '', '', '', '', '', '', '', '', '', '', '', '', '', '', '', '', '', '', '', '', '', '', '', '', '', '', '', '', '', '', '', '', '', '', '', '', '', '', '', '', '', '', '', '', '', '', '', '', '', '', '', '', '', '', '', '', '', '', '', '', '', '', '', '', '', '', '', '', '', '', '', '', '', '', '', '', '', '', '', '', '', '', '', '', '', '', '', '', '', '', '', '', '', '', '', '', '', '', '', '', '', '', '', '', '', '', '', '', '', '', '', '', '', '', '', '', '', '', '', '', '', '', '', '', '', '', '', '', '', '', '', '', '', '', '', '', '', '', '', '', '', '', '', '', '', '', '', '', '', '', '', '', '', '', '', '', '', '', '', '', '', '', '', '', '', '', '', '', '', '', '', '', '', '', '', '', '', '', '', '', '', '', '', '', '', '', '', '', '', '', '', '', '', '', '', '', '', '', '', '', '', '', '', '', '', '', '', '', '', '', '', '', '', '', '', '', '', '', '', '', '', '', '', '', '', '', '', '', '', '', '', '', '', '', '', '', '', '', '', '', '', '', '', '', '', '', '', '', '', '', '', '', '', '', '', '', '', '', '', '', '', '', '', '', '', '', '', '', '', '', '', '', '', '', '', '', '', '', '', '', '', '', '', '', '', '', '', '', '', '', '', '', '', '', '', '', '', '', '', '', '', '', '', '', '', '', '', '', '', '', '', '', '', '', '', '', '', '', '', '', '', '', '', '', '', '', '', '', '', '', '', '', '', '', '', '', '', '', '', '', '', '', '', '', '', '', '', '', '', '', '', '', '', '', '', '', '', '', '', '', '', '', '', '', '', '', '', '', '', '', '', '', '', '', '', '', '', '', '', '', '', '', '', '', '', '', '', '', '', '', '', '', '', '', '', '', '', '', '', '', '', '', '', '', '', '', '', '', '', '', '', '', '', '', '', '', '', '', '', '', '', '', '', '', '', '', '', '', '', '', '', '', '', '', '', '', '', '', '', '', '', '', '', '', '', '', '', '', '', '', '', '', '', '', '', '', '', '', '', '', '', '', '', '', '', '', '', '', '', '', '', '', '', '', '', '', '', '', '', '', '', '', '', '', '', '', '', '', '', '', '', '', '', '', '', '', '', '', '', '', '', '', '', '', '', '', '', '', '', '', '', '', '', '', '', '', '', '', '', '', '', '', '', '', '', '', '', '', '', '', '', '', '', '', '', '', '', '', '', '', '', '', '', '', '', '', '', '', '', '', '', '', '', '', '', '', '', '', '', '', '', '', '', '', '', '', '', '', '', '', '', '', '', '', '', '', '', '', '', '', '', '', '', '', '', '', '', '', '', '', '', '', '', '', '', '', '', '', '', '', '', '', '', '', '', '', '', '', '', '', '', '', '', '', '', '', '', '', '', '', '', '', '', '', '', '', '', '', '', '', '', '', '', '', '', '', '', '', '', '', '', '', '', '', '', '', '', '', '', '', '', '', '', '', '', '', '', '', '', '', '', '', '', '', '', '', '', '', '', '', '', '', '', '', '', '', '', '', '', '', '', '', '', '', '', '', '', '', '', '', '', '', '', '', '', '', '', '', '', '', '', '', '', '', '', '', '', '', '', '', '', '', '', '', '', '', '', '', '', '', '', '', '', '', '', '', '', '', '', '', '', '', '', '', '', '', '', '', '', '', '', '', '', '', '', '', '', '', '', '', '', '', '', '', '', '', '', '', '', '', '', '', '', '', '', '', '', '', '', '', '', '', '', '', '', '', '', '', '', '', '', '', '', '', '', '', '', '', '', '', '', '', '', '', '', '', '', '', '', '', '', '', '', '', '', '', '', '', '', '', '', '', '', '', '', '', '', '', '', '', '', '', '', '', '', '', '', '', '', '', '', '', '', '', '', '', '', '', '', '', '', '', '', '', '', '', '', '', '', '', '', '', '', '', '', '', '', '', '', '', '', '', '', '', '', '', '', '', '', '', '', '', '', '', '', '', '', '', '', '', '', '', '', '', '', '', '', '', '', '', '', '', '', '', '', '', '', '', '', '', '', '', '', '', '', '', '', '', '', '', '', '', '', '', '', '', '', '', '', '', '', '', '', '', '', '', '', '', '', '', '', '', '', '', '', '', '', '', '', '', '', '', '', '', '', '', '', '', '', '', '', '', '', '', '', '', '', '', '', '', '', '', '', '', '', '', '', '', '', '', '', '', '', '', '', '', '', '', '', '', '', '', '', '', '', '', '', '', '', '', '', '', '', '', '', '', '', '', '', '', '', '', '', '', '', '', '', '', '', '', '', '', '', '', '', '', '', '', '', '', '', '', '', '', '', '', '', '', '', '', '', '', '', '', '', '', '', '', '', '', '', '', '', '', '', '', '', '', '', '', '', '', '', '', '', '', '', '', '', '', '', '', '', '', '', '', '', '', '', '', '', '', '', '', '', '', '', '', '', '', '', '', '', '', '', '', '', '', '', '', '', '', '', '', '', '', '', '', '', '', '', '', '', '', '', '', '', '', '', '', '', '', '', '', '', '', '', '', '', '', '', '', '', '', '', '', '', '', '', '', '', '', '', '', '', '', '', '']\n",
            "['river rose', 'gender diversity.', 'johnny kemp', 'cory connell', 'messi', 'dallasshelter', 'speedy recovery for @giancarlo818', 'mariah carey', 'congratulations on the new birth', 'trump', 'forever', 'patiently', 'sharp eyed viewers', '@manutd', 'tvd', 'pope francis', 'that the competition is not close', 'iran', 'mario cuomo', 'patty duke', 'steven gerrard', 'donald trump will announce tomorrow', 'kim kardashian looking like jackie o', 'delta', 'grandpa', '10:37 pm', 'masters’ from oxford, and bsc from nyu', 'crime scene', 'messi', 'sydney rain', 'vice president mike pence is working hard.', 'pregnancy', 'nick cannon', 'thank you', 'jenny jackson', '2015', 'the truth', 'made him kinda like hillary even more.', 'chad johnson', 'african americans', 'will smith', 'a virtual street corner', '2013', 'dvd', 'taylor & nicki', 'in a movie', '2014 season', \"pickin' and grinnin'\", 'charlottesville', '#truebloodfinale, #trueblood', 'our employees', 'the shoe', '8.5km', 'sweet, hilarious and courageous', 'youth homelessness', 'white', 'a \"mistake\"', 'southwest air', 'like people', 'the white house', 'jfk airport in new york city', 'because freedom and america', 'sobbing girlfriend', 'today', 'danny leroux and damian trillard', 'on a veitnam war memorial', 'maracana stadium', 'his opinion of a movie', 'maysak', 'the university of houston', 'christians', 'donald j trump', 'the f.b.i.', 'coaches and texas tech and cal', 'robin williams', 'middle-eastern', 'crickets chirped', 'dec 11 - 19', 'donald glover playing lando', 'hatch', 'bodies.', 'nigeria', 'being more understanding', 'a shirt featuring women in lingerie', 'posed for a photo', 'anderson cooper', 'the queen.', 'they got married', 'michael jackson', 'chills.', 'new ministers', 'transgender in the military', 'meryl streep', '@cnn', 'same thing basically', 'new orleans pelicans', 'realdonaldtrump', 'grossed out', 'the admiral kuznetsov', 'the president of the united states', 'jimmy walker', 'their sister', 'in memory of armenian genociden', '@vancityreynolds wife', 'add your name to the patetion', 'leonard nimoy.', 'carter thicke', 'the sound of music live', 'dick gregory & jerry lewis.', 'late-november/late-december', 'the first', 'hippo', 'eusébio', 'macklemore', '10.', 'chuck todd', 'the bank', 'balance inclusion and diversity', 'danbury.', '2015', 'flag burning', 'paul allen', '4', 'neymar', 'snow', 'krissi', 'pac-man', 'they can descend en masse', 'their security', \"kasich's daughter\", 'so much fun', 'men', 'mike pence', 'kevin hart', 'bad things', 'a movie', 'twitter', 'kim kardashian', 'greta gerwig', \"eli roth's death wish\", 'freedom caucus', 'skeletons', 'americans come together', 'terrible, terrible news.', 'tennis', 'it needs close contact with an infected person.', 'support', 'ben bradlee', 'university of houston', '@repjohnlewis', 'tom petty', 'the boston marathon', 'fighting crime and rescuing', 'dashing white wig', 'megyn kelly', 'georgia southern families', '9gag', 'panmure golf club', 'harris', 'race', 'arkansas', 'robin williams', 'everest', 'oriental', 'an exercise machine.', 'associations support', 'collusion with russia.', 'the washington post', 'since the start', 'sorry an proud of their strength.', 'peter.', 'pay tribute to him', 'native americans and their supporters', 'proud', 'fantastic 4 and interstellar', 'pat riley, lebron james and rich paul', 'kotor', \"international women's day\", 'one location', 'racism', 'google glass', 'white house.', '104', 'jkcorden and benwinston', 'shine again', 'hank fraley.', 'brazil', 'barbie collection being sold out', 'legendary', 'pistons and wolves', 'voter fraud', 'in public.', 'she is pushy and conceited', 'he has no comment', 'blackness', 'journalism', \"it's complementary\", 'endangered rivers', 'take her seat any time', 'we are def gonna', 'walgreens', 'may 10', 'the supermoon', 'the n word', 'apologizing', 'all access', 'talk show', 'how amazing they can be', 'dreams', 'tomorrow morning', 'indiana', '8.', '@realdonaldtrump', 'ronda rousey.', '2008', 'red', 'hurrican matthew', 'people making mean comment about her pics.', 'the lyrics for cold water', 'dan gilbert', 'terrible', 'there is no tweet here', 'manhattan, ny', 'nkotb', '#gagacarpool', 'mtv', 'with his feelings', 'kristen bell', 'the sorting hat, first day', 'senzo meyiwa', 'dr. maya angelou', 'bill schuette', 'the author said to go for it.', 'auburn', 'sleep', 'transgender', 'a promotion or job', 'rrs and far rock', 'j.b. holmes', 'katy perry', 'alec baldwin', 'living her true self', 'obvious', 'on a plane', 'missouri', 'monaco', 'romney', 'eagle', 'solutions', 'tremendous talent', 'be@demcovention', 'hire one', 'neoguri', 'a person convicted of brutal rape, murder', 'kyle ayers', 'mad rachet', 'the british museum.', 'robin williams', 'ninewa volunteers.', 'outward facing video from the septa train', 'because of this meryl streep speech.', 'almost anyone who publishes.', 'schumer and pelosi', 'a skate blade', 'daca', 'he is a beagle dog.', 'social media', 'minnesota', 'a drunk karaoke version of her own song', 'hero', 'british.', 'a helicopter', 'hillary', 'green peace uk', 'he was talking about 2018', 'to think about niceness you have in life.', 'jews and muslims.', '@ddlovato', 'dismemberment abortion ban', 'an nyc doctor.', 'bagel y lox', 'muhammad ali.', 'grow up', 'rodgers', 'thoughts', 'cruz', 'oh look, lizzie', 'outside', 'deep cherry', 'on 122 minutes', 'an amazing november', 'saturday evening', 'the past weekend', 'hof players', 'human beings', 'true detective.', 'when he was a kid', '\"a little bit confused\" about where they\\'re headed', 'ai safety', '7:10 am', 'looting', 'bested career-high by 18 points.', 'gary woodland', 'vladimir tarasenko.', '@scottwalker', 'he stands with them.', '#homesweethome', 'paul otellini', 'tony', 'mixed feelings', 'katy', '@justinmash', 'a page', 'it is her favorite', '#kyliejennerchallenge', 'a beautiful story', 'chase daniel', 'ebola.', 'james comey', 'chasson randle', 'macklemore', 'glock', 'sea turtle and eagle eggs', 'he was defending chris rock', 'sets of golf clubs', 'las vegas', 'colonial', 'tsa', 'swimming', 'before album of the year was announced', 'police', 'malia obama', 'health care', 'booed and gave a standing o', \"kasich's daughter\", 'nebraska', 'cool', 'madonna', 'tom petty', \"she doesn't like her\", '2013 inauguration', 'offseason', 'dropped $27,000 in crystals for the birth', 'nyfw runways', 'it is close.', 'about 152 miles', 'thanking people that came.', 'toy story 4', 'reggie jackson', 'the boss baby', 'kim davis', 'their parents', 'the wall', 'guys', 'modern capitalism', 'a partisan', 'last season', 'tre konor', 'caregivers disease', 'the guy in front of her.', 'stx hockey', 'civilians in yemen', 'wear their locs freely.', 'angela bassett', '@manutd', 'an apology', 'vampire bill', 'usat opinion', 'the act is moral outrage adn national disgrace', '1st', 'janet mock', \"abdulbaset ta'an\", 'jinita sandy.', 'a-list celebrities', 'nelson mandela dying.', 'her driver', 'tyshawn lee.', 'democrats in philly', 'cindy crawford', '35', 'hermine', 'filmmaker', 'yemen.', 'he was a famous tv reporter for cbs', 'dry cleaner', 'ghana journos', 'the new world', '0%', 'this', 'jump and school brazilians.', 'bishops', 'catholic', '\"call your mom\"', '2', 'country music association', 'her dad', 'durant', 'christian', 'jack cassidy and millions of others', 'rip', 'evernote food', '7:32 pm sep 23, 2014', 'katy', 'media is dishonest', 'mama', 'black widow', 'it vanished', 'leonardo dicaprio', 'hot and humid', 'je suis charlie', 'america', 'jennifer aniston', 'he feels it is totally unamerican.', 'the droneship.', 'captain america', 'melanie martinez', 'in italy', 'hands free', 'holiday shopping', '@sls and orion', 'the lyrical family', 'sedated tiger', 'david lynch', 'because of the victims of the nepal earthquake', 'her heart', 'to get it right', 'let freedom reign', 'helden magazine', 'mainstream news', 'better and stronger trade deals', 'foil', 'rainbow laces', 'the nra.', 'racist', 'administrative controversy', 'bunker busters', 'luis suarez has two children.', 'she kept her.', 'modern family', 'inauguration', '16th', 'growing jihadist cancer', 'justin bieber', 'a writing career.', 'the bloody sunday', 'gambia noir.', 'ryan griggs', 'serve', 'his reinstatement', 'korean war vets and families', 'the passing of chester bennington.', 'the commonwealth', 'catwoman', 'yara shahidi', 'the course', 'follow their dreams.', 'on her booty', '11', 'curb powerful greenhouse gases.', 'jerry lewis', 'tomorrow morning', 'the ultimate present', 'release of senate healthcare bill', '7-8 august 1998', 'republican', 'nicki minaj', 'pattison & s broad st', 'gatling guns', '15 seconds', 'golf', 'fans', 'our country', 'anyone whose parents are united states citizens', 'they offered piers consoling words.', '\"look like a girl\" \"think like a man\"', 'the counts', 'nepal should be trending currently over this professor.', 'burn it', 'they got the story wrong', 'i have canned peaches and a slingshot', 'the truth', 'bayern', 'spend another night', 'dance floor', 'living life', '2', 'joe biden', 'donald trump', 'movie theater seats', 'k, thx', 'patty duke.', 'ebola', 'line of nude shoes in seven different shades', 'dippin dots', 'devin booker', \"it's not acceptable to attack someone's family\", 'hillary clinton', 'ralph lauren', 'how to interact with police.', 'lessons', 'a moment of levity', 'came \"anyways am i talking your head off.\"', 'john mccain', 'a breach of the minsk accords', 'the eclipse.', 'baltimore', 'that he is not heterosexual.', 'scream', 'beyonce?', 'orlando', 'because he is no longer shocked by things', 'enjoy it', 'chills', 'shadow of eclipse.', 'a life full of laughter', 'phase down hfcs', 'putin', 'the man', 'two people were rescued', 'democracy', '1 million', \"prust's\", 'she is thanking michelle obama', 'convert to islam', '5\\'7\"', 'the hologram', 'new song of joy', 'questions', 'andrew evans', 's16 calvin klein', 'janet jackson', 'for', 'easier', 'taylor swift.', 'martese', 'nbc', 'unload his 6m annual deal', 'a soft friend', 'his darkest times', 'for many years.', 'glasses that are vr', '33', 'plane', 'at practice', \"the queen's frigate\", 'evil', 'cavs', 'inclusiveness, tolerance, and a diverse fan base', 'nyt', \"it's crazy\", 'frozen', '@marjmakh', 'jeb bush', 'shoppers', 'oman', 'breaking bad', 'tom petty', \"that he couldn't breathe.\", 'president', 'the streets of downtown denver', 'never stopping', 'niece & nephew', 'arizona dps', 'empowered to make personal choices about their bodies', 'forgiveness and gratitude', 'paul stanley', 'rhythm', 'clara oswald died', '8 unforgettable years', 'trousers', 'afternoon and evening ahead', 'fifteen', 'about 6 seconds', 'come back to us', '2', 'freedom', 'obama...officer crowley', 'pipefitter', 'over 2000', 'caitlyn jenner', 'two horses.', 'he is a very good friend', 'isis', 'sample it', 'children of syria', 'mei xiang', 'blown', 'google glass', 'that he is unsafe', 'the level of craziness and awesomeness', '#blacklivesmatter', 'reince preibus', 'integrity', 'her daughter', 'louboutin world.', 'laundry, sports, and gardening', 'to rest in peace.', 'brazil', 'racist', 'before 8', 'michelle obama', 'the spider man movie', 'abe vegoda', 'frank', 'the hospital', '5400 miles', '@fortmactoday', 'facebook live', 'waco', 'jurassic world', 'failed as a country', 'with push-ups', 'putting more effort in posting on instagram.', 'cops', 'free speech', 'stoguchi', 'to the dzong in thimphu.', 'msm is dishonest', 'louvre', '3', 'donald trump', 'three', 'the media', 'mourning', 'glistening', 'melbourne park', 'just as much', 'her kids', 'sean abbott', 'serial killer', 'beyonce', 'chris rock', 'the uso family?', 'a hijab?', 'mirjana puhar', 'vegas', 'the championship', 'the navy seals', 'some of them do.', 'breaking up.', '@gloriasteinem', 'trevor noah', 'ludogorets', 'week one', 'the fbi', 'is there a camera in socket?', 'official sources', 'twins were born', 'for wearing white shoes after labor day', 'philae was found by rosetta', 'gimme gimme', '2', 'abc', 'the kkk.', 'past spring', 'meryl streep', 'josh wingrove', 'two', \"the warrior's family\", 'ice/snow', 'the superbowl halftime show', 'justin schultz', 'beautiful', 'brother', 'harry potter', 'forty-five', 'everyone', 'much love', '19,252', 'killing me', 'donald trump', 'we shall all learn next week.', 'pouring out a forty', 'white privlege', 'kendall jenner.', 'kidnpped girls', 'love', 'campus', 'for months', \"he doesn't know\", '12 minute speech', 'tigers new oc', 'the paris show', 'mall', 'college', 'her first post', '1.5', 'batgirl', 'treatment', 'la/porsha', 'costa rica', 'celion dion', '19252', 'as unconstitutional and wrong', 'amas', 'people and young girls', 'his mother', 'captain patrick sondenheimer', 'pigeonair', 'a kid', 'sansei ogui', 'divorce rumours', '$100', 'netflix', 'taylor swift will', 'kris jenner', 'coloured', 'rich paul', '2014', 'all options', 'google.', 'press one', 'when he considered running for president.', 'back to work.', 'her friends', 'denver', 'inspired generations of future explorers', 'hillary clinton', 'the uk mcdonalds', 'heat officials', 'puerto rico', \"women's groups\", 'space via nasa partnerships', 'robert sarver', 'the first eighth final.', 'an oprah', 'paternity leave', \"it's world pangolin day\", 'adidas', 'immigrants', 'great', 'nato.', 'abc news', 'john', 'angry', 'a grand slam', 'afro people', 'attacked by acid', 'by reading', '18%', 'reform', 'fifa president', 'hillary', '£50,000', 'donald trump', 'dorritos', 'las vegas', 'nightmare', 'burning and crime infested inner-cities of the u.s', 'his favorite show, daredevil', 'team america 12/27 screening', 'billy', 'tehran, iran', 'chance', 'wrecking ball', 'tony fadell', 'the potus', 'the south', 'potus', 'julien blanc', 'niners nation', 'anti-doping ruling', 'delighted', 'jackie o', 'south africa', 'munich', '@andy_murray and kim', 'wireless navigation', 'vulture', 'got very emotional', 'an apology', 'a pattern of contacts with the russian', 'brazil', 'sally mae back', 'allowed criminals the right to vote.', 'golf clubs', '2012', \"she thinks they're dirty\", 'to heaven.', 'hillary clinton', \"hulk hogan's birthday.\", 'it got schlonged', 'voice', 'a cat.', '@wikileaks', 'bill murray', \"segway boards weren't allowed as luggage\", 'to go on', 'everyone knows where it has been', 'meek mill', 'the dems', \"sheila e's\", 'sasha', 'an artist', 'reese witherspoon', 'power rangers movie', 'a virtual street corner', 'well he did it', 'michael graves', 'your religious bigotry violating my freedom', 'marines & their families', 'traumatized', 'r10 or r20', 'the erasure of their own experience.', 'today', 'she wants east aleppo people to be evacuated.', 'donad j trump', 'laid down', 'fitbit red flex', 'for their service.', 'oilers', 'bottles and bricks', 'syria', 'beauty queens', 'it is a slur', 'terrorist', 'trevor noah', 'saturday', 'robin williams', 'victor dubuisson.', 'my carrie diaries family', 'so small', 'oriental', 'du superbowl', 'young immigrants', 'the law enforcement department of orlando.', 'oliversacks', 'bigots', '@diplo', 'marilyn mosby', 'new york media', 'jason spezza', 'walk away from it', 'clarify my comments', 'koreanfan_kc', 'the electoral college', 'conservatives', 'russian', 'okc thunder', 'mike epps', 'cried.', 'never posted any photo.', 'the people of twitter', 'daisy', 'james dashner', 'grape juice', 'josh brolin', 'survivors and family members of victims', '2', 'spectacular.', 'a gator warning', 'police', 'grad degree', 'austin', 'itunes', 'chance for a unique market', 'the republican party', 'democratic party', 'parks and rec.', 'the president', '#kathmandu', 'using biggie20', 'places to eat', 'this shoot', 'blue lives matter', 'melania', 'empire', 'jayden', 'eggos', 'barack', 'presidents', 'to space', 'neither the media nor famous movie stars.', 'disney', 'retweet', 'on the players tribune', 'deadpool', 'consoling words', '6.2 magnitude', 'demand answers.', 'hope for love in the world', 'her very own fashion show', 'craziness, awesomeness', 'outrage', 'belmont stakes', 'metlife stadium', 'searched and rescued victims', 'increase funding', 'a divine right to live?', 'randy stephens', \"face doesn't change\", 'secretly', 'the show made him gay.', '2nd lt michael j pence', 'captain america', 'brining the party together', 'drake', 'because of his delayed response.', '50 years in the biz', 'july', '21 miles', 'empty platitude', 'playoffs', 'wisconsin, usa.', 'a job', \"that he'd win an election against him.\", 'all the laughs.', 'one minute', 'newspaper', 'las vegas', 'joshua dubois', 'it is an awesome compliment', 'he is dead.', 'maya ibanez', '17', 'aug 13, 2016', 'ocean plastic', 'lady gaga', 'germany', 'mike miller', 'she was upset about paul walker.', 'melbourne fine & sunny', '1467', 'inconsolable.', 'unretouched photos.', 'old/existing fences and walls', 'relate to a \"cat person\"', 'state for youth affairs', 'each llama will earn 2,340 lbs of hay.', 'snow', 'amy williams', 'red', 'it is a roof break up.', 'montage', 'wilders', 'fire', 'boxing', 'doors opened to see pope francis', 'our country', '7', 'stevie wonder', 'barbaric', 'prince', 'senator rand paul', 'tomorrow night', 'they are now bitter.', 'ticket refunds', '207 pounds', 'anyone who was offended', 'reflect', 'thoughts and prayers', 'alexix sanchex', 'dolls', 'tampa bay buccaneers', 'ukrainian airspace', 'find sisterhood in another woman', 'willard scott', 'spicer', 'mix red and yellow light', 'classified', 'susan sarandon.', 'cruz.', 'rep john lewis’ graphic novel “march\"', 'gold', \"outside of mcconnell's office\", '@layzebone', 'a plane', 'in bed', 'boxing day 2002', 'at a time when it is most needed', 'political opponents', 'she is going to a galaxy far away', 'heaven', 'tweet is not visible', 'since taking office.', 'that bret weinstein \"feels\" unsafe.', 'charlie hebdo died.', 'gweneth paltrow', 'by dropping it in the tub', 'pulitzer', 'food shipmetns for qatar', 'nz', 'donald trump', 'temperley 4 is being thanked', 'pizza party', 'greys anatomy', '52', '@sprinklescandac', 'it was deleted.', 'muscat', 'the ncaa', 'they are not living below the poverty line.', \"more than she's a woman.\", 'at the top of a staircase', 'save the children', 'outside of nypd 105 station.', 'fresno', 'us open', 'tahiti', 'clean water', 'stylist auntie', 'road at alligator point', \"i'm old\", 'i would choose cheese pizza', 'he is thanking his fans', 'something happening in the white house.', 'big western wins', '@twitter #vine#magic.', 'michelle obama', 'the facts.', 'keele/ langstaff mr. lube', 'dubai ladies', 'swedish toro', 'the survivors.', '8:30 am', 'this planet is pluto', '303', 'june 14, 2013', 'benedict cumberbatch', 'meaningful things', 'the victims and those suffering', 'a stunt, berating or meltdown', '@lorde', 'biting and the world cup', 'increased threats from terrorist groups?', 'twin peaks', 'golden', 'katie dippold.', '1000', \"this tweet doesn't make sense\", 'his miranda rights', 'american people and democrats', 'a precious treasure.', 'tax haven', 'oliver sacks', 'the heavens', 'weeks', \"the do's and don'ts of apologizing\", 'sharknado 2', 'in honor of leonard nimoy', 'the hotel', 'black people', '2015', 'they were fined $15,000 by the nba', 'clients and families', 'europe', 'breaking bad.', 'trivagoguy', 'christina aguilera', 'the greatest super bowl ever', 'natural hair', 'she rules', 'arizona and ucla', 'pm modi', 'kingsport tn', '#bachelorinparadise', 'msnbc', 'phd holders', 'hockey', 'charlotte rampling', 'history', 'robin williams', 'my guy', 'integrity.', 'waris ahluwalia', 'using the f word', 'volunteers', 'smiling', 'california', 'that racism is alive and well', 'rough', 'office of the president', 'checking it over and over', '1248', 'beyonce', 'ricky gervais', 'racial animus', 'football', 'comedians', \"frank ocean's\", 'jon ossoff', 'justin bieber', 'keys', 'players', 'mentally ill', 'william and harry.', 'actor', 'her interests or ideals', 'patriots are unpredictable', 'neal', 'zwelithini kabhekuzulu', 'in case you missed it', 'december 4, 2014', 'russia', '@ces', 'a long caption', 'brazuca', 'perfect', 'nasa new horizons', 'selena gomez', 'the link  #vfwmaneevent', 'he uses the man durahad line.', 'wind gusts', 'more', 'the producers wont go with it', 'itsonus.org', 'don pardo', '#facebookdown pic.twitter.com/5eywefgk', 'slow death', 'eat a bowl of horseradish', 'snorkeling.', 'laughter', 'a documentary', 'racing', 'he said that muslims are our sports heroes.', 'his car is going in the right direction.', 'the browns', 'lewis hamilton', 'live.', 'melania trump', 'greg monroe', 'fran drescher', \"they're brothers\", 'clippers', 'nearly watergate-size', 'wilmariel & jason', '2nd', 'russian and syrian', '911', 'three', \"rock n' roll\", 'muslims', 'a mentor.', 'netherlands', 'hurt', 'sag awards', 'four', 'because the bartender commutes by boat', 'driving', 'mike porcaro', 'stepped up her game when she needed to', 'closing the crossing.', 'what happened in their city', 'his family', 'our country', '10 yr, $525 million', 'furious 7', 'somalia', 'i-75', 'brazil vs. germany', 'tuesday', 'the finale', '476', 'bill ford', 'in paris', 'chihiraaico', 'scout.', 'msg', 'legends course', 'female thor', 'women', 'the sound of music.', 'to inspire many', 'julia louis-dreyfus', 'australia', '@marcmarquez93', 'sound proofing', '2', \"orlando's pulse night club\", 'next to the dj', 'mrs. obama', 'an f-35b', \"maya's mother\", 'unity', 'beyonce and jay-z', 'lady gagas oscar look', 'the royals', 'during jay z and beyonce clip', 'his religion', '21', 'ran', 'a fake tooth.', 'at least 2000', 'something about a woman in private', 'science and climate change', 'deny', 'south africa', \"macy's\", \"ruby dee's passing\", 'true detective is a tv show.', 'instagram', 'heed customers', 'zimbabweans', 'god, guns, and freedom', '#fullrepeal', 'iconic buildings', 'it is troubling and wrong', 'sudden', 'leave.', 'spinach', '\"el fantasma del 50 ya está en brasil\"', 'day 2 training is non-fasting', 'making of a murderer?', \"sen moynihan's.\", 'london', 'when someone is dead', 'ms. burton', 'goodnight robin', 'a jet bridge', 'ciara', 'clay', 'as big.', 'texas', 'she is asking for support vocally', '43 years', 'his friend', 'to jog on', '250.', 'follow thru with the divorce.', 'bill cosby', 'it crashed', 'grow & get better', 'the water', 'fuller house', 'olivia wilde', 'black lives matter', 'the pope', 'u2', 'the media', 'creepy naked guy.', 'may be lowering something down.', 'trying to separate protesters and supporters', '2018', \"that it isn't feasble.\", 'that someone is in a better place', 'i know her from watching golden girls', 'a credible former player', \"that it's amazing\", 'the nomination process for campaigns.', 'friday', 'as haunting,beautiful and dark', 'what you have', '@naughtyboymusic', 'young africans.', '@kesharose', 'the feed', 'saw a gun', 'justin bieber', 'ban ki-moon', 'michelle obama', 'left-wing hypocrisy', 'drone', '2016', 'matt shively is hoping that he is.', 'the dial', 'pink', 'film', 'liberty', '@tsfanforum', 'feb 7-8, 2016', 'study tech', 'lebron & riley', 'tongue', '@louis_tomlinson', 'shane', \"officer timothy o'dell\", 'answers', 'reporters', 'sickening.', 'cake and cheesecake', 'someone', 'on halloween.', 'present day.', 'kids', 'demme', 'a w', 'old', 'war criminal', 'chicago police', 'president h.w. and mrs. bush', 'korea.', 'ban bump-fire stocks', 'kirsten gillibrand or other women', '60 minutes', 'choreo and vid of the year', '500,000', 'a second 10 day contract', 'freak show', 'cops', 'long ago', 'they want her violent', 'cnn', 'in philly', 'breakfast', 'cross into the mag mile', 'l.l. bean', 'christmas card', 'kanyewest', 'that it is islamic', 'black lives matter', 'the ryder cup highlights', '2034', 'every shot', 'hillary clinton', 'religious freedom', 'bullet', 'he stepped onto the court and distracted lee', 'britt mchenry', 'get out and talk to your customers', 'shabbat', 'morning joe', '7am on thursday.', 'years and seconds', 'attractive women', 'bobbi kristina and nick gordon', 'the person who runs the kfc account', 'da luz', 'zayn', 'the redskins', 'ted cruze', 'tweeted', 'mexican, black and jewish', 'football.', '4 days, or until conditions change', 'katherine webb', 'germany plays italy next.', 'al-diera', 'language', 'donald  j. trump', 'calling results', 'the emperor', 'nbc/wsj', '48h.', 'star wars project', 'ravindra ramrattan', '143', 'it was for a polo award', 'california chrome', 'turkey.', 'air pollution', 'francis', 'ed sheeran', 'test cricket', 'a new man', 'hard work', 'they deserve to be celebrated', 'van persie', 'a white woman', 'yaya toure and manuel pellegrini', 'brother', 'parisagreement and climateaction', 'this was about the goodyear blimp.', 'google', '66-57', 'brit', 'senator schumer', '301', 'shooting a gun', 'i dont know who you are', 'refuge crisis', 'more open', 'they will inform you.', 'look at me man', 'envelope', 'bowling green terrorists', 'kasich', 'to fight pacqiao.', '118.5 million', 'we (us embassy turkey)', 'president obama', 'ted cruz', 'txf', 'basketball', 'debating the homoeroticism of bananas', 'ellen degeneres', 'bentley', 'a fantastic, record-breaking comeback year', 'female', 'breast cancer', 'her husband', 'hornets', 'snl', 'they found solutions', 'devastated', 'cilic', 'readers have misunderstood him.', '$100/day', 'luther strange.', 'fortune feimster', 'walking to work', 'willow', 'mother', 'california, usa', 'kennedy center hip hop', 'obama care', 'taylor swift', 'hamilton.', 'on christmas.', 'us weekly', 'san antonio spurs.', 'jonny howson', 'blessings', 'john stillwell.', 'anonymous.', 'the south', 'short film power rangers', 'the seahawks.', 'ben bradlee', 'taraji and kerry', 'why accountability & transparency are so important', 'brussels', 'washington', 'the 2nd amendment.', 'divisive', 'in a real zone', 'she is referring to bella thorne', 'adding to peas', 'messy and long', 'facebook is down', 'georgia', 'hillary clinton', 'dr. seuss book set', 'five.', 'russian nukes', 'he changed music forever.', 'turkmenistan', 'money moves', 'in u.s.', 'chelsea fc is greeting you.', 'in the university.', 'vegas', 'the wolf moon', \"you'll know more tomorrow.\", 'he was joining the warriors', 'buy her daughter a barbie one day.', 'himself', \"australia's money\", 'lead with action', 'as_monaco', 'governor chris christie, of new jersey.', 'parks and rec', 'other people', 'bulletin atomic', 'speechless', 'turkey, switzerland, germany', 'taylorswift13', 'small business', 'taylor swift', 'dortmund', 'until morning', 'journalists', 'motion', 'a great trainer', 'one', 'through a prank.', 'album', 'cnnopinion', 'the city', 'royals', 'shoreham air show', 'two', 'omakoji samue agahiu', 'dem convention', 'they won the nba championship', 'oui', 'never', '12k', '@polizeimuenchen', 'best of luck.', 'she fell', 'dirty rain', 'whale vomit', 'guard', 'a young child', 'farms', 'the media would take it and share it.', 'donald trump did.', 'atlanta', 'several flashes with a trail.', 'they came from 7k miles away', 'keeper', 'the world of cricket', 'insane', 'an assault rifle', 'broaddrick, willey, jones', 'bobbi kristina', 'the vatican', 'gigi hadid', 'hilary clinton', 'kuzma', 'demconvention', 'tape.', 'blessings on the that day', 'george', 'clean energy', 'paul ryan', 'out of joy', 'jeff bezos', 'corinna schumacher', '15', 'pat sajak', 'hoaxes never last.', 'facebook going down.', 'dark, gritty and short', 'divisive anti-cop rhetoric', 'times square', 'airport staff', 'arizonans', '805 million people', 'terror attack in barcelona, spain', 'overshadowing', 'munchak', 'one', 'have a party', 'his grandfather', 'o', 'james best (jimmy)', 'head scarf', 'united states navy research drone in international waters', 'people of color.', 'all the nominees', 'change thinking', '@nightlyshow', '13', '@judgenap', 'jar jar binks', 'f1 star', 'sailing his 49er', 'killing it', 'for reaching his dreams.', 'her spirt', '@realdonaldtrump', 'a friend', 'potus', 'etna explosion', 'steve montador', 'flag & country', 'the nyi.', 'marvel', 'its better for you', 'young', 'a taco', \"roma's facebook page\", \"she doesn't deserve special treatment\", 'berry', 'curb greenhouse gases', 'wikileaks', 'matt damon.', 'a facility  that displays animals as sideshows', 'federal workers', '6.1', 'cnni', 'at the table', 'survivor, bachelorette and love and hip hop', 'steven spielberg', 'diversity', 'me', 'to be alive', 'gordie howe', 'dog ate what i ate', 'reese witherspoon', 'bill clinton', 'with every celeb trend', 'iran', 'obama', 'curiosity rover', 'britneyspears', 'it is a ripping good yarrn', 'executive director and publisher of the bulletin', 'blaney', 'false panic attack', 'the bachelorette', 'baltimore', 'butterfly', 'democratic', 'in kenting taiwan', 'all our people', 'fallontonight', '39', 'break them', 'pac', 'donald trump', 'a donut', 'that kindness matters', 'to every woman!!', 'white.', 'coke', 'rice', 'pope francis', 'cosby', 'his poll numbers', 'world cup', 'volunteer', \"the worl's best player\", 'a video of odell throwing a ball', 'it is still uncertain, even for dwayne wade.', 'milwaukee', 'truehoop conversations', 'when they get out of the shower today.', 'a stethoscope', 'peaceful', 'very proud of them', '970', 'a voice', 'germany and ghana', 'a young woman', 'america', 'lecturing', 'hollywood & the media', '32', 'pbs.', 'mayor mark', 'engage and listen', 'tolerance, forgiveness and simple kindess', 'inclusiveness', 'mong kok', '20th', 'a british muslim', 'human rights issues', 'sorrow.', 'responding to a tweet', 'sadness', 'cuadrado', 'our people, all of us', 'harry reid', 'dwyane wade', 'a long time', 'emergency rooms and entire hospitals', 'deaths', 'sheridanhoops.com', 'a historic victory for marriage equality', 'glenn', 'god', 'it made her year', 'heather heyer', 'captain', 'families without homes, children without childhood', 'the president', 'thc', 'to hate', 'legalize daca', 'usa today', 'trump towers', 'bill cosby', 'washington dc', '@bafana_bafana & orlando_pirates', 'sam presti', 'clones', 'oliver sacks', 'because countries come together', '787', 'they are strong.', 'south dakota', 'be thankful it is your ex-boo', '#forzacastan', 'dumb', 'come together to share and collaborate', 'chip', 'a clue', 'people magazine', 'trump', 'the heat', 'steve harvey', 'florida', 'potus is leaving office.', \"he thinks it's stupid and should be ended.\", 'palma', 'us', 'sgt whitcomb', 'lebron james', 'in the upcoming weeks', 'athens, greece', 'diggers', 'barack obama', 'misses her', 'trump', 'beyonce', 'it failed', '@asmith83 and @sllambe', 'in 2015 there was heavy flooding in scituate.', 'cruz.', 'hillary clinton.', 'snow', 'gilmore girls', 'ralph lauren.', 'tax dollars and lost opportunities', 'moms.', 'marcel hirscher won the race.', 'in a good way', 'lilpeep', 'youtube.', 'britt mchenry', 'a remix', 'the pasco shooting.', 'one', '0415 cet', 'right shoulder', 'the new joker', 'eamslider24', 'god bless america speech', 'margarita', 'burger king wedding', 'ashes', 'dough jones', 'csn306s', 'aaron gordon', 'as surfers.', 'over', '$94 million offer sheet', '@columbabush', 'masturbate', 'an original experience', 'democrat congresswoman', 'jackie evancho', 'after announcing her inauguration performance', 'justin bieber.', 'that it \"falls on beat.\"', 'a heart transplant.', 'murder on the orient express', 'extremely', 'the country music community.', 'the new yorker', 'make the image their profile picture', 'offensive coordinator.', 'total black tour', '@darrylisphoto', 'tet/chinese new year.', 'la kings', 'egyptair flight ms804', 'melania', 'hawaii 5.0', 'the rochelle area', 'council bluffs, iowa', 'better for both of you', 'women of all sizes.', '2% def expenditures', 'national snake day', 'stunning', 'captain america', '#popeindc', \"kasich's daughter\", \"a whole graph from michelle's speech.\", 'greys anatomy', \"you're not alone\", 'to funerals', 'ebola', 'miami and cleveland', 'brad pitt and angelina jolie', 'cutter hollyhock', 'black boxes', 'public trust', '2 weeks', 'audio levels', 'anthony davis', 'tony abbott.', 'roger ailes', 'art', 'tomorrow', \"he's married\", 'tim scott', 'joseph fiennes', 'michael burnett', 'chanting', 'senate judiciary committee', 'around 40% population', 'u.s. open', 'hate crimes', 'ups norman', 'climate change', 'because she speaks her mind.', 'loved ones', 'nima', 'patrik baboumian', 'los angeles', 'blake shelton', 'the land', 'a flag removal', 'snl', 'sunday.', 'racquel and his children.', 'kris jenner.', 'russian intel', 'bratz dolls', 'brie larson', 'he is verified.', 'crystalarium1', 'on the set of \"thor3\"', 'james white', '2 nights ago', 'sun city.', 'outside of safety accommodation', 'trump', 'september 30, 2017', 'the a380.', 'arizona', 'panama', \"euler's identity\", 'on the balcony of his residence', 'philae', 'ben roethlesberger', 'charlie hebdo', 'in queens', 'make a movie', 'robert kraft', 'for puerto rico relief', 'kim kardashian', 'black', '3-1 comeback vs okc', 'manniidee', 'during the 2016 campaign', '3 million', 'worst', 'our city', 'when trying to decide on his major', 'caterham f1 team', 'stem', '4 german teams lost', 'imagination', 'a result', \"pelosi's next door neighbor\", '9', 'david ginola', 'rich paul', 'scenes in kiev', 'the paris agreement', 'brussels', 'chivas and atlas', 'u.s', \"brad's thumb\", 'immediately', 'cops', 'at the rockefeller center tree lighting', 'song artist', 'they gave it to him.', 'osama damo.', 'sit still and wait.', 'she will wake up.', 'thanksgiving', \"she's amazing.\", 'leeches', 'bar banner', 'a swastika', 'robin williams', 'a hundred subtle ways', 'open up and be vulnerable', 'rawandska-lisicki', 'a quarter.', 'zero', 'that she is rare, wonderful, and talented.', 'their mommy', 'a cigarette', 'baby future', 'britt mchenry', 'vladimir putin', 'erik spoelstra', 'manager', 'will the president ever release his tax returns', 'greys anatomy', 'missing dc girls', 'penguins', '966', 'oj was innocent', 'she must have', 'a video.', 'all of us', '69%', 'war', 'ornette coleman', 'in 2022', 'chilling images', 'prince harry', 'jimkelly1212', 'words', 'in response to ongoing fish kill', 'rachel', 'barack obama', 'barack obama', 'here the card.', 'the people of the uk', '180k', 'diane feinstein', '100%', 'fought', \"he's hectoring and yelling.\", '280', 'rachel dolezal', 'wonder woman', 'shopping has changed completly', 'daughtry', 'flash  flood', '\"sir carter and rumi\"', 'daryl', 'barack was raised by his grandparents.', 'ski jump', 'tweet is in spanish', 'the ball went into the water.', \"@potus's\", 'braley', 'he died.', 'pleasant', 'to get badge numbers', 'selena gomez', 'a rat', 'ice cube was doing the tweeting', 'anastacia', 'tax reform and cuts', 'dwill_', 'iron man', 'nuclear delay', 'debate and vote', 'jay-z', 'tony awards', 'hold the phone', '80m nw of anchorage', 'kobe byrant', 'myself', 'chris kyle', 'we need to play beer pong.', 'potus', 'mars', 'friends', 'inadvertent', 'favorite things 2015', 'jane died from cancer', 'dirty joke night', 'yayatoure', 'the red carpet', '#nepalearthquake2', '25 million years old.', 'to love.', 'at sunset', '1984 and 2016+', 'joanne eccles', 'imperial troopers', 'in one of the scenes from goodfellas.', 'klaus obermeyer', 'keyshia', 'artist', 'epa administrator', 'schools, work, or at home', 'martin luther king', 'southampton', 'ghost plane', 'a talented woman', 'the white helmets account.', 'they are asking to beat the robot.', 'tweet is not visible', \"-o'm\", 'lawrence county', 'internet', 'racial problems', 'the cast and crew of peter pan live', 'langston galloway', 'age 3', 'her heart', 'our backpacks', \"conan o'brien\", '#skinny and #thinspiration', 'it is rigged.', 'rainy', 'aaliyah', 'this tweet is not showing', 'a big one', 'an assault', 'ryan', 'critical', 'find a mcdonalds', 'sunday', '@letour', 'the daily show', 'i will never forget', \"ya'll\", \"eric garner's killer found innocent.\", 'jane fonda', 'ripa', 'dimitrov', 'ebola, marburg, lassa, cchf,', 'mr cohen', 'please pray for his family, friends, and fans.', 'the triple crown trophy', 'got pushed down', 'selena gomez', 'corey menafee', 'fort lauderdale', 'mizraimbelman', 'lady bird', 'to aid their recovery', 'raccoon', 'catherine frazier', 'pull it', 'the term oriental', 'her place in news cycle', 'goosebumps', 'he is feeling happy', 'terminal 4 aa airlines', 'the president', 'everyone he met tonight', '$20.7m', 'polish', '99% of hollywood writers', 'the sound of music live', 'john lewis', 'bey', 'the snow', 'chrissy teigen', 'ellen degeneres', 'vicente fox', 'a portion.', 'stacy dash', 'sutherland springs', 'hong kong', 'hundreds of billions of dollars', 'getting tired', 'she said it was celebration of genocide.', 'south africa', 'russian legislation', 'scrum', 'madonna', 'more than 100', 'assistant coach being on court.', 'tim hume', 'cancer', 'an aurora', 'high school', 'the grand prix', 'tibet', 'lakers', 'push ups', 'inspiring scientists and engineers', 'sparklers', 'principal photography', 'with the lights on', 'beyonce', 'grace lee whitney', '@chloegmoretz', 'nepal', 'kim kardashian west', 'stay active, stay sharp', '10 minutes', 'rhihanna and drake.', '$10', 'the shot misses barely', '#putinsucks', 'charlie buller', 'mrs. obama', 'chennault', 'it might not be possible.', 'black', 'amc theatres.', 'smoking in cars.', 'flood and expected bad weather', 'kim kardashian', 'the girl scouts.', 'their family initials.', 'james harden', '8:42 pm - oct 25, 2016', 'a kitten', 'because unhappy couples make unhappy kids.', \"'these are crimes,' 'terrified' of 'enab\", '1.5 million', 'the  snl  cast', 'donald', 'to offer him a job', 'carpool karaoke', \"mccarron's fumble\", 'triple crown', '118.5 million.', 'silver', 'joeseph fiennes', 'emails', 'flight attendant', 'the duke and duchess of cambridge', 'mayaangelou', 'information', '30', 'more than 60', 'what angle she is taking', '100s', 'prince', '1.2 billion.', 'xmas', 'insomnia', 'the reference to her talent suggests yes.', 'isis activity', 'new york', 'patriots', 'the powers-that-be.', 'beato romero', 'backcourt violation', 'making a murderer', 'america', 'winnipeg bsl4', '*there is no tweet shown', 'rwanda', 'fox world cup', 'san diego', 'arkansas', 'basic human decency', 'giving an update to the case', 'geri halliwell.', 'the #plague', 'two', 'mysterio', 'crack', \"chase daniel's\", 'macaulay culkin', \"l'wren scott\", '21 miles', 'helping working families', 'the warriors', 'his health status', 'lando', 'shameful', 'nairobi', 'calendar', 'endangered rivers', 'club advisor', 'the documentary is about prson conditions.', 'a scarf.', 'further tax cuts', 'samir nasri', '#boycotthamilton', 'new radical islamic terrorist', 'adega de tia matilde', 'ohare', 'jetblue pilot and staff', 'blog', '202', 'tony.', 'syria', 'premier league', 'ivory coast', 'just read the instructions', 'guns', 'president obama', 'our best, whole foods', 'disney gator attack', 'january', 'shed it']\n",
            "{'rouge1': AggregateScore(low=Score(precision=0.0, recall=0.0, fmeasure=0.0), mid=Score(precision=0.0, recall=0.0, fmeasure=0.0), high=Score(precision=0.0, recall=0.0, fmeasure=0.0)), 'rouge2': AggregateScore(low=Score(precision=0.0, recall=0.0, fmeasure=0.0), mid=Score(precision=0.0, recall=0.0, fmeasure=0.0), high=Score(precision=0.0, recall=0.0, fmeasure=0.0)), 'rougeL': AggregateScore(low=Score(precision=0.0, recall=0.0, fmeasure=0.0), mid=Score(precision=0.0, recall=0.0, fmeasure=0.0), high=Score(precision=0.0, recall=0.0, fmeasure=0.0)), 'rougeLsum': AggregateScore(low=Score(precision=0.0, recall=0.0, fmeasure=0.0), mid=Score(precision=0.0, recall=0.0, fmeasure=0.0), high=Score(precision=0.0, recall=0.0, fmeasure=0.0))}\n"
          ]
        },
        {
          "output_type": "error",
          "ename": "KeyboardInterrupt",
          "evalue": "ignored",
          "traceback": [
            "\u001b[0;31m---------------------------------------------------------------------------\u001b[0m",
            "\u001b[0;31mKeyboardInterrupt\u001b[0m                         Traceback (most recent call last)",
            "\u001b[0;32m<ipython-input-23-bace4308249e>\u001b[0m in \u001b[0;36m<cell line: 9>\u001b[0;34m()\u001b[0m\n\u001b[1;32m      7\u001b[0m     \u001b[0meval_dataset\u001b[0m\u001b[0;34m=\u001b[0m\u001b[0msplit_dataset\u001b[0m\u001b[0;34m[\u001b[0m\u001b[0;34m\"test\"\u001b[0m\u001b[0;34m]\u001b[0m\u001b[0;34m\u001b[0m\u001b[0;34m\u001b[0m\u001b[0m\n\u001b[1;32m      8\u001b[0m )\n\u001b[0;32m----> 9\u001b[0;31m \u001b[0mtrainer\u001b[0m\u001b[0;34m.\u001b[0m\u001b[0mtrain\u001b[0m\u001b[0;34m(\u001b[0m\u001b[0;34m)\u001b[0m\u001b[0;34m\u001b[0m\u001b[0;34m\u001b[0m\u001b[0m\n\u001b[0m",
            "\u001b[0;32m/usr/local/lib/python3.9/dist-packages/transformers/trainer.py\u001b[0m in \u001b[0;36mtrain\u001b[0;34m(self, resume_from_checkpoint, trial, ignore_keys_for_eval, **kwargs)\u001b[0m\n\u001b[1;32m   1631\u001b[0m             \u001b[0mself\u001b[0m\u001b[0;34m.\u001b[0m\u001b[0m_inner_training_loop\u001b[0m\u001b[0;34m,\u001b[0m \u001b[0mself\u001b[0m\u001b[0;34m.\u001b[0m\u001b[0m_train_batch_size\u001b[0m\u001b[0;34m,\u001b[0m \u001b[0margs\u001b[0m\u001b[0;34m.\u001b[0m\u001b[0mauto_find_batch_size\u001b[0m\u001b[0;34m\u001b[0m\u001b[0;34m\u001b[0m\u001b[0m\n\u001b[1;32m   1632\u001b[0m         )\n\u001b[0;32m-> 1633\u001b[0;31m         return inner_training_loop(\n\u001b[0m\u001b[1;32m   1634\u001b[0m             \u001b[0margs\u001b[0m\u001b[0;34m=\u001b[0m\u001b[0margs\u001b[0m\u001b[0;34m,\u001b[0m\u001b[0;34m\u001b[0m\u001b[0;34m\u001b[0m\u001b[0m\n\u001b[1;32m   1635\u001b[0m             \u001b[0mresume_from_checkpoint\u001b[0m\u001b[0;34m=\u001b[0m\u001b[0mresume_from_checkpoint\u001b[0m\u001b[0;34m,\u001b[0m\u001b[0;34m\u001b[0m\u001b[0;34m\u001b[0m\u001b[0m\n",
            "\u001b[0;32m/usr/local/lib/python3.9/dist-packages/transformers/trainer.py\u001b[0m in \u001b[0;36m_inner_training_loop\u001b[0;34m(self, batch_size, args, resume_from_checkpoint, trial, ignore_keys_for_eval)\u001b[0m\n\u001b[1;32m   1962\u001b[0m                     \u001b[0;32melif\u001b[0m \u001b[0mself\u001b[0m\u001b[0;34m.\u001b[0m\u001b[0mdo_grad_scaling\u001b[0m\u001b[0;34m:\u001b[0m\u001b[0;34m\u001b[0m\u001b[0;34m\u001b[0m\u001b[0m\n\u001b[1;32m   1963\u001b[0m                         \u001b[0mscale_before\u001b[0m \u001b[0;34m=\u001b[0m \u001b[0mself\u001b[0m\u001b[0;34m.\u001b[0m\u001b[0mscaler\u001b[0m\u001b[0;34m.\u001b[0m\u001b[0mget_scale\u001b[0m\u001b[0;34m(\u001b[0m\u001b[0;34m)\u001b[0m\u001b[0;34m\u001b[0m\u001b[0;34m\u001b[0m\u001b[0m\n\u001b[0;32m-> 1964\u001b[0;31m                         \u001b[0mself\u001b[0m\u001b[0;34m.\u001b[0m\u001b[0mscaler\u001b[0m\u001b[0;34m.\u001b[0m\u001b[0mstep\u001b[0m\u001b[0;34m(\u001b[0m\u001b[0mself\u001b[0m\u001b[0;34m.\u001b[0m\u001b[0moptimizer\u001b[0m\u001b[0;34m)\u001b[0m\u001b[0;34m\u001b[0m\u001b[0;34m\u001b[0m\u001b[0m\n\u001b[0m\u001b[1;32m   1965\u001b[0m                         \u001b[0mself\u001b[0m\u001b[0;34m.\u001b[0m\u001b[0mscaler\u001b[0m\u001b[0;34m.\u001b[0m\u001b[0mupdate\u001b[0m\u001b[0;34m(\u001b[0m\u001b[0;34m)\u001b[0m\u001b[0;34m\u001b[0m\u001b[0;34m\u001b[0m\u001b[0m\n\u001b[1;32m   1966\u001b[0m                         \u001b[0mscale_after\u001b[0m \u001b[0;34m=\u001b[0m \u001b[0mself\u001b[0m\u001b[0;34m.\u001b[0m\u001b[0mscaler\u001b[0m\u001b[0;34m.\u001b[0m\u001b[0mget_scale\u001b[0m\u001b[0;34m(\u001b[0m\u001b[0;34m)\u001b[0m\u001b[0;34m\u001b[0m\u001b[0;34m\u001b[0m\u001b[0m\n",
            "\u001b[0;32m/usr/local/lib/python3.9/dist-packages/torch/cuda/amp/grad_scaler.py\u001b[0m in \u001b[0;36mstep\u001b[0;34m(self, optimizer, *args, **kwargs)\u001b[0m\n\u001b[1;32m    339\u001b[0m         \u001b[0;32massert\u001b[0m \u001b[0mlen\u001b[0m\u001b[0;34m(\u001b[0m\u001b[0moptimizer_state\u001b[0m\u001b[0;34m[\u001b[0m\u001b[0;34m\"found_inf_per_device\"\u001b[0m\u001b[0;34m]\u001b[0m\u001b[0;34m)\u001b[0m \u001b[0;34m>\u001b[0m \u001b[0;36m0\u001b[0m\u001b[0;34m,\u001b[0m \u001b[0;34m\"No inf checks were recorded for this optimizer.\"\u001b[0m\u001b[0;34m\u001b[0m\u001b[0;34m\u001b[0m\u001b[0m\n\u001b[1;32m    340\u001b[0m \u001b[0;34m\u001b[0m\u001b[0m\n\u001b[0;32m--> 341\u001b[0;31m         \u001b[0mretval\u001b[0m \u001b[0;34m=\u001b[0m \u001b[0mself\u001b[0m\u001b[0;34m.\u001b[0m\u001b[0m_maybe_opt_step\u001b[0m\u001b[0;34m(\u001b[0m\u001b[0moptimizer\u001b[0m\u001b[0;34m,\u001b[0m \u001b[0moptimizer_state\u001b[0m\u001b[0;34m,\u001b[0m \u001b[0;34m*\u001b[0m\u001b[0margs\u001b[0m\u001b[0;34m,\u001b[0m \u001b[0;34m**\u001b[0m\u001b[0mkwargs\u001b[0m\u001b[0;34m)\u001b[0m\u001b[0;34m\u001b[0m\u001b[0;34m\u001b[0m\u001b[0m\n\u001b[0m\u001b[1;32m    342\u001b[0m \u001b[0;34m\u001b[0m\u001b[0m\n\u001b[1;32m    343\u001b[0m         \u001b[0moptimizer_state\u001b[0m\u001b[0;34m[\u001b[0m\u001b[0;34m\"stage\"\u001b[0m\u001b[0;34m]\u001b[0m \u001b[0;34m=\u001b[0m \u001b[0mOptState\u001b[0m\u001b[0;34m.\u001b[0m\u001b[0mSTEPPED\u001b[0m\u001b[0;34m\u001b[0m\u001b[0;34m\u001b[0m\u001b[0m\n",
            "\u001b[0;32m/usr/local/lib/python3.9/dist-packages/torch/cuda/amp/grad_scaler.py\u001b[0m in \u001b[0;36m_maybe_opt_step\u001b[0;34m(self, optimizer, optimizer_state, *args, **kwargs)\u001b[0m\n\u001b[1;32m    286\u001b[0m         \u001b[0mretval\u001b[0m \u001b[0;34m=\u001b[0m \u001b[0;32mNone\u001b[0m\u001b[0;34m\u001b[0m\u001b[0;34m\u001b[0m\u001b[0m\n\u001b[1;32m    287\u001b[0m         \u001b[0;32mif\u001b[0m \u001b[0;32mnot\u001b[0m \u001b[0msum\u001b[0m\u001b[0;34m(\u001b[0m\u001b[0mv\u001b[0m\u001b[0;34m.\u001b[0m\u001b[0mitem\u001b[0m\u001b[0;34m(\u001b[0m\u001b[0;34m)\u001b[0m \u001b[0;32mfor\u001b[0m \u001b[0mv\u001b[0m \u001b[0;32min\u001b[0m \u001b[0moptimizer_state\u001b[0m\u001b[0;34m[\u001b[0m\u001b[0;34m\"found_inf_per_device\"\u001b[0m\u001b[0;34m]\u001b[0m\u001b[0;34m.\u001b[0m\u001b[0mvalues\u001b[0m\u001b[0;34m(\u001b[0m\u001b[0;34m)\u001b[0m\u001b[0;34m)\u001b[0m\u001b[0;34m:\u001b[0m\u001b[0;34m\u001b[0m\u001b[0;34m\u001b[0m\u001b[0m\n\u001b[0;32m--> 288\u001b[0;31m             \u001b[0mretval\u001b[0m \u001b[0;34m=\u001b[0m \u001b[0moptimizer\u001b[0m\u001b[0;34m.\u001b[0m\u001b[0mstep\u001b[0m\u001b[0;34m(\u001b[0m\u001b[0;34m*\u001b[0m\u001b[0margs\u001b[0m\u001b[0;34m,\u001b[0m \u001b[0;34m**\u001b[0m\u001b[0mkwargs\u001b[0m\u001b[0;34m)\u001b[0m\u001b[0;34m\u001b[0m\u001b[0;34m\u001b[0m\u001b[0m\n\u001b[0m\u001b[1;32m    289\u001b[0m         \u001b[0;32mreturn\u001b[0m \u001b[0mretval\u001b[0m\u001b[0;34m\u001b[0m\u001b[0;34m\u001b[0m\u001b[0m\n\u001b[1;32m    290\u001b[0m \u001b[0;34m\u001b[0m\u001b[0m\n",
            "\u001b[0;32m/usr/local/lib/python3.9/dist-packages/torch/optim/lr_scheduler.py\u001b[0m in \u001b[0;36mwrapper\u001b[0;34m(*args, **kwargs)\u001b[0m\n\u001b[1;32m     66\u001b[0m                 \u001b[0minstance\u001b[0m\u001b[0;34m.\u001b[0m\u001b[0m_step_count\u001b[0m \u001b[0;34m+=\u001b[0m \u001b[0;36m1\u001b[0m\u001b[0;34m\u001b[0m\u001b[0;34m\u001b[0m\u001b[0m\n\u001b[1;32m     67\u001b[0m                 \u001b[0mwrapped\u001b[0m \u001b[0;34m=\u001b[0m \u001b[0mfunc\u001b[0m\u001b[0;34m.\u001b[0m\u001b[0m__get__\u001b[0m\u001b[0;34m(\u001b[0m\u001b[0minstance\u001b[0m\u001b[0;34m,\u001b[0m \u001b[0mcls\u001b[0m\u001b[0;34m)\u001b[0m\u001b[0;34m\u001b[0m\u001b[0;34m\u001b[0m\u001b[0m\n\u001b[0;32m---> 68\u001b[0;31m                 \u001b[0;32mreturn\u001b[0m \u001b[0mwrapped\u001b[0m\u001b[0;34m(\u001b[0m\u001b[0;34m*\u001b[0m\u001b[0margs\u001b[0m\u001b[0;34m,\u001b[0m \u001b[0;34m**\u001b[0m\u001b[0mkwargs\u001b[0m\u001b[0;34m)\u001b[0m\u001b[0;34m\u001b[0m\u001b[0;34m\u001b[0m\u001b[0m\n\u001b[0m\u001b[1;32m     69\u001b[0m \u001b[0;34m\u001b[0m\u001b[0m\n\u001b[1;32m     70\u001b[0m             \u001b[0;31m# Note that the returned function here is no longer a bound method,\u001b[0m\u001b[0;34m\u001b[0m\u001b[0;34m\u001b[0m\u001b[0m\n",
            "\u001b[0;32m/usr/local/lib/python3.9/dist-packages/torch/optim/optimizer.py\u001b[0m in \u001b[0;36mwrapper\u001b[0;34m(*args, **kwargs)\u001b[0m\n\u001b[1;32m    138\u001b[0m                 \u001b[0mprofile_name\u001b[0m \u001b[0;34m=\u001b[0m \u001b[0;34m\"Optimizer.step#{}.step\"\u001b[0m\u001b[0;34m.\u001b[0m\u001b[0mformat\u001b[0m\u001b[0;34m(\u001b[0m\u001b[0mobj\u001b[0m\u001b[0;34m.\u001b[0m\u001b[0m__class__\u001b[0m\u001b[0;34m.\u001b[0m\u001b[0m__name__\u001b[0m\u001b[0;34m)\u001b[0m\u001b[0;34m\u001b[0m\u001b[0;34m\u001b[0m\u001b[0m\n\u001b[1;32m    139\u001b[0m                 \u001b[0;32mwith\u001b[0m \u001b[0mtorch\u001b[0m\u001b[0;34m.\u001b[0m\u001b[0mautograd\u001b[0m\u001b[0;34m.\u001b[0m\u001b[0mprofiler\u001b[0m\u001b[0;34m.\u001b[0m\u001b[0mrecord_function\u001b[0m\u001b[0;34m(\u001b[0m\u001b[0mprofile_name\u001b[0m\u001b[0;34m)\u001b[0m\u001b[0;34m:\u001b[0m\u001b[0;34m\u001b[0m\u001b[0;34m\u001b[0m\u001b[0m\n\u001b[0;32m--> 140\u001b[0;31m                     \u001b[0mout\u001b[0m \u001b[0;34m=\u001b[0m \u001b[0mfunc\u001b[0m\u001b[0;34m(\u001b[0m\u001b[0;34m*\u001b[0m\u001b[0margs\u001b[0m\u001b[0;34m,\u001b[0m \u001b[0;34m**\u001b[0m\u001b[0mkwargs\u001b[0m\u001b[0;34m)\u001b[0m\u001b[0;34m\u001b[0m\u001b[0;34m\u001b[0m\u001b[0m\n\u001b[0m\u001b[1;32m    141\u001b[0m                     \u001b[0mobj\u001b[0m\u001b[0;34m.\u001b[0m\u001b[0m_optimizer_step_code\u001b[0m\u001b[0;34m(\u001b[0m\u001b[0;34m)\u001b[0m\u001b[0;34m\u001b[0m\u001b[0;34m\u001b[0m\u001b[0m\n\u001b[1;32m    142\u001b[0m                     \u001b[0;32mreturn\u001b[0m \u001b[0mout\u001b[0m\u001b[0;34m\u001b[0m\u001b[0;34m\u001b[0m\u001b[0m\n",
            "\u001b[0;32m/usr/local/lib/python3.9/dist-packages/transformers/optimization.py\u001b[0m in \u001b[0;36mstep\u001b[0;34m(self, closure)\u001b[0m\n\u001b[1;32m    453\u001b[0m                     \u001b[0mstep_size\u001b[0m \u001b[0;34m=\u001b[0m \u001b[0mstep_size\u001b[0m \u001b[0;34m*\u001b[0m \u001b[0mmath\u001b[0m\u001b[0;34m.\u001b[0m\u001b[0msqrt\u001b[0m\u001b[0;34m(\u001b[0m\u001b[0mbias_correction2\u001b[0m\u001b[0;34m)\u001b[0m \u001b[0;34m/\u001b[0m \u001b[0mbias_correction1\u001b[0m\u001b[0;34m\u001b[0m\u001b[0;34m\u001b[0m\u001b[0m\n\u001b[1;32m    454\u001b[0m \u001b[0;34m\u001b[0m\u001b[0m\n\u001b[0;32m--> 455\u001b[0;31m                 \u001b[0mp\u001b[0m\u001b[0;34m.\u001b[0m\u001b[0mdata\u001b[0m\u001b[0;34m.\u001b[0m\u001b[0maddcdiv_\u001b[0m\u001b[0;34m(\u001b[0m\u001b[0mexp_avg\u001b[0m\u001b[0;34m,\u001b[0m \u001b[0mdenom\u001b[0m\u001b[0;34m,\u001b[0m \u001b[0mvalue\u001b[0m\u001b[0;34m=\u001b[0m\u001b[0;34m-\u001b[0m\u001b[0mstep_size\u001b[0m\u001b[0;34m)\u001b[0m\u001b[0;34m\u001b[0m\u001b[0;34m\u001b[0m\u001b[0m\n\u001b[0m\u001b[1;32m    456\u001b[0m \u001b[0;34m\u001b[0m\u001b[0m\n\u001b[1;32m    457\u001b[0m                 \u001b[0;31m# Just adding the square of the weights to the loss function is *not*\u001b[0m\u001b[0;34m\u001b[0m\u001b[0;34m\u001b[0m\u001b[0m\n",
            "\u001b[0;31mKeyboardInterrupt\u001b[0m: "
          ]
        }
      ]
    },
    {
      "cell_type": "markdown",
      "source": [
        "With our model trained, we can save it to our drive so we can load the model without the need to train it again."
      ],
      "metadata": {
        "id": "Akmz0g6UtuFI"
      }
    },
    {
      "cell_type": "code",
      "source": [
        "model.save_pretrained(\"/content/drive/MyDrive/CA4023-BERT/generative/Encoder_Decoder_model\")"
      ],
      "metadata": {
        "id": "7j9H5fExGBrw"
      },
      "execution_count": null,
      "outputs": []
    },
    {
      "cell_type": "code",
      "source": [
        "loaded_model = EncoderDecoderModel.from_pretrained(\"/content/drive/MyDrive/CA4023-BERT/generative/Encoder_Decoder_model\")"
      ],
      "metadata": {
        "id": "82PBFzASGDJ9"
      },
      "execution_count": 24,
      "outputs": []
    },
    {
      "cell_type": "markdown",
      "source": [
        "Now we can make use of the model to generate answers for the samples in our test set."
      ],
      "metadata": {
        "id": "GmDl4lirt1_W"
      }
    },
    {
      "cell_type": "code",
      "source": [
        "split_dataset[\"test\"]"
      ],
      "metadata": {
        "colab": {
          "base_uri": "https://localhost:8080/"
        },
        "id": "QN0qgjFv4VKb",
        "outputId": "cee743ff-e6c8-435f-a488-dd7d02c1b402"
      },
      "execution_count": null,
      "outputs": [
        {
          "output_type": "execute_result",
          "data": {
            "text/plain": [
              "Dataset({\n",
              "    features: ['input_ids', 'attention_mask', 'decoder_input_ids', 'decoder_attention_mask', 'labels'],\n",
              "    num_rows: 2139\n",
              "})"
            ]
          },
          "metadata": {},
          "execution_count": 30
        }
      ]
    },
    {
      "cell_type": "code",
      "source": [
        "def generate_answer(batch, processed=False):\n",
        "    # cut off at BERT max length 512\n",
        "    \n",
        "    if processed:\n",
        "      input_ids = batch[\"input_ids\"]#.to(\"cuda\")\n",
        "      attention_mask = batch[\"attention_mask\"]#.to(\"cuda\")\n",
        "\n",
        "      label_ids = batch[\"labels\"]\n",
        "      label_ids[label_ids == -100] = gpt2_tokenizer.eos_token_id\n",
        "      label_str = gpt2_tokenizer.batch_decode(label_ids, skip_special_tokens=True)\n",
        "      batch[\"answer\"] = label_str\n",
        "\n",
        "    else:\n",
        "\n",
        "      context = batch[\"Tweet\"]\n",
        "      question = batch[\"Question\"]\n",
        "\n",
        "      input_string = f\"{context}\\n{question}\"\n",
        "\n",
        "      inputs = bert_tokenizer(input_string, padding=\"max_length\", truncation=True, max_length=512, return_tensors=\"pt\")\n",
        "      input_ids = inputs.input_ids#.to(\"cuda\")\n",
        "      attention_mask = inputs.attention_mask#.to(\"cuda\")\n",
        "  \t\n",
        "    outputs = loaded_model.generate(input_ids,attention_mask=attention_mask, do_sample=True, min_length=1)\n",
        "\n",
        "    output_str = gpt2_tokenizer.batch_decode(outputs, skip_special_tokens=True)\n",
        "\n",
        "    batch[\"predicted_answer\"] = output_str\n",
        "\n",
        "    return batch"
      ],
      "metadata": {
        "id": "w5WAmXW0sANC"
      },
      "execution_count": 28,
      "outputs": []
    },
    {
      "cell_type": "code",
      "source": [
        "batch_size = 16  # change to 64 for full evaluation\n",
        "\n",
        "results = raw_datasets[\"train\"].train_test_split(test_size=0.2, shuffle=False)[\"test\"].select(range(1,2)).select(range(1)).map(generate_answer)"
      ],
      "metadata": {
        "colab": {
          "base_uri": "https://localhost:8080/",
          "height": 17,
          "referenced_widgets": [
            "2c93e9457b584f7b86cdc1562ba6751b",
            "7b5f82f88ebe4f1cb1bd5af9bd5c53d8",
            "aed2d463e31a45f88635c273f3cc424f",
            "74a1b9062ba94d7a8096604ec4c69e7c",
            "6016891a2ff04100b69f7d5123d4f5d8",
            "37c3b592ba494c1b89f8ac6159714f8e",
            "a370649be38d4992a7e007fd70f885ca",
            "4164d574192c4a6cbb950e8a7e73f0b7",
            "aae0e4eb57a846a09bdc8344f89b85f8",
            "3622a4ee5356411d9b1ec215444be7a5",
            "39ef92a3b8144f7193eaf1c180c4af3e"
          ]
        },
        "id": "ZpeaALoFsZok",
        "outputId": "19156a4e-f63a-495d-bcf6-65e100d89d1e"
      },
      "execution_count": 29,
      "outputs": [
        {
          "output_type": "display_data",
          "data": {
            "text/plain": [
              "Map:   0%|          | 0/1 [00:00<?, ? examples/s]"
            ],
            "application/vnd.jupyter.widget-view+json": {
              "version_major": 2,
              "version_minor": 0,
              "model_id": "2c93e9457b584f7b86cdc1562ba6751b"
            }
          },
          "metadata": {}
        }
      ]
    },
    {
      "cell_type": "code",
      "source": [
        "for item in results:\n",
        "  print(item[\"Question\"], item[\"Tweet\"])\n",
        "  print(item[\"predicted_answer\"])"
      ],
      "metadata": {
        "colab": {
          "base_uri": "https://localhost:8080/"
        },
        "id": "m10x-P5Mt8ko",
        "outputId": "63bf0574-1ec2-4823-c4a5-caf32d521423"
      },
      "execution_count": 30,
      "outputs": [
        {
          "output_type": "stream",
          "name": "stdout",
          "text": [
            "what can be a huge boost for a company's bottom line? Men& women make truly productive teams! \"@Forbes: Gender diversity can be a huge boost for a company's bottom line: Ann Cairns (@Anncairns4) December 22, 2014\n",
            "['']\n"
          ]
        }
      ]
    },
    {
      "cell_type": "markdown",
      "source": [
        "Now we can manually review answers for the questions in our test set that contained now corresponding answers."
      ],
      "metadata": {
        "id": "lhTgfNtuspuz"
      }
    },
    {
      "cell_type": "code",
      "source": [
        "loaded_model.config.decoder.min_length = 1"
      ],
      "metadata": {
        "id": "L0ooDTztsTbY"
      },
      "execution_count": 32,
      "outputs": []
    },
    {
      "cell_type": "code",
      "source": [
        "no_answer_results =  raw_datasets[\"test\"].select(range(5)).map(generate_answer)"
      ],
      "metadata": {
        "colab": {
          "base_uri": "https://localhost:8080/",
          "height": 17,
          "referenced_widgets": [
            "81f9cd1553574ea0940854db20f49248",
            "a07ad148f3db4427bf9fdf902a67363d",
            "faf4928aae0448598cac218cc892dea3",
            "ee5a4c61a6b744fd80a73aca1ee93028",
            "819c62fd34a440aa941fd63f38f57943",
            "458284b48feb4e069543b7f1d42c419c",
            "cdf391cf4e8842a9a6316fd8be7f731f",
            "dc702bd5fca947d4a200ff84907cd5b6",
            "6c1d0d0a1cbf4077ba38730b700c04e9",
            "8ee87325999c44a0a8b285f9ca648878",
            "ebf89a32729f4531baf44d56a39fa368"
          ]
        },
        "id": "yNlg3K69uu-q",
        "outputId": "085d7f96-32e8-4788-f3d9-903fbb4de658"
      },
      "execution_count": 33,
      "outputs": [
        {
          "output_type": "display_data",
          "data": {
            "text/plain": [
              "Map:   0%|          | 0/5 [00:00<?, ? examples/s]"
            ],
            "application/vnd.jupyter.widget-view+json": {
              "version_major": 2,
              "version_minor": 0,
              "model_id": "81f9cd1553574ea0940854db20f49248"
            }
          },
          "metadata": {}
        }
      ]
    },
    {
      "cell_type": "code",
      "source": [
        "no_answer_results"
      ],
      "metadata": {
        "colab": {
          "base_uri": "https://localhost:8080/"
        },
        "id": "BrGdIcYI4bYN",
        "outputId": "42c10c8a-4fe1-48ab-9d28-5449f0b7631f"
      },
      "execution_count": 34,
      "outputs": [
        {
          "output_type": "execute_result",
          "data": {
            "text/plain": [
              "Dataset({\n",
              "    features: ['Question', 'Answer', 'Tweet', 'qid', 'predicted_answer'],\n",
              "    num_rows: 5\n",
              "})"
            ]
          },
          "metadata": {},
          "execution_count": 34
        }
      ]
    },
    {
      "cell_type": "code",
      "source": [
        "for item in no_answer_results:\n",
        "  print(item[\"Question\"], item[\"Tweet\"])\n",
        "  print(item[\"predicted_answer\"])"
      ],
      "metadata": {
        "colab": {
          "base_uri": "https://localhost:8080/"
        },
        "id": "HpWzzD9yu4oe",
        "outputId": "d7ac4ae0-effe-4fea-bc51-82ffeca4d280"
      },
      "execution_count": 35,
      "outputs": [
        {
          "output_type": "stream",
          "name": "stdout",
          "text": [
            "who are some of franken's favorite faces to see? The police dogs who patrol the area are some of my favorite faces to see around the Capitol. # Sen. Al Franken (@SenFranken) August 26, 2017\n",
            "['']\n",
            "who performed glen campbell's \"wichita lineman?\" .@LittleBigTown performs Glen Campbell's \"Wichita Lineman\" with Jimmy Webb, and can't get enough! CMA Country Music (@CountryMusic) November 9, 2017\n",
            "['']\n",
            "who did little big town perform \"wichita lineman\" with? .@LittleBigTown performs Glen Campbell's \"Wichita Lineman\" with Jimmy Webb, and can't get enough! CMA Country Music (@CountryMusic) November 9, 2017\n",
            "['']\n",
            "where did they come from #BillOreilly says slaves who built #WhiteHouse were well fed & had decent lodges. Bill-they were still slaves!— Carl Dix (@Carl_Dix) July 27, 2016\n",
            "['']\n",
            "what lessons to super hero movies teach Superhero movies are \"oversaturated,\" and other lessons from @HamillHimself about what Affleck's Bateman can learn from Adam West Maeve McDermott (@maeve_mcdermott) June 11, 2017\n",
            "['']\n"
          ]
        }
      ]
    },
    {
      "cell_type": "markdown",
      "source": [
        "It seems that our model is having some issues. I have set the minimum generation length to 1, though this does not seem to have an effect.\n",
        "\n",
        "I had issues creating this model as the tokens used for the different tokenizers were tough to sync up. The solution to this issue would be to pull the model apart and ensure that the input is being passed through correctly.\n",
        "\n",
        "Additionally, we did not train for long or with much data. The individual parts, the BERT encoder and GPT2 decoder were not made for this task. They would need a decent amount of training to adapt to this task and the work well together. There are many newer models that work much better for this task, such as Google's FLAN-T5\n",
        "\n",
        "### Conclusion\n",
        "\n",
        "This concludes our fine-tuning of BERT to the task of question answering. There was some slight change in architecture in the EncoderDecoder model, though the encoder is still BERT with the autoregressive GPT2 added on.\n",
        "\n",
        "The results weren't and it took a lot of playing around with to get the model to work. The model seems to be very sensitive to the learning rate and it may have been worth freezing some the weights and performing some sort of learning rate scheduling. It is unfortunate that the model has not worked as I hoped, but it would require some debugging and additional training.\n",
        "\n",
        "The next level of question answering involves closed generative question answering. This means that there is no context and the model must return an answer based on the knowledge it already has. This means that the model must be much bigger to store this information in the weights and a bigger training set must be used.\n",
        "\n",
        "The models that we have created are good, but there is better still. Google's FLAN-T5 is a new, open-source model that has great capabilities to carry out the task of generative question answering. \n",
        "\n",
        "Overall, this assignment has helped me to improve on my familiarity with HuggingFace and the transformers that are available through it.\n",
        "\n",
        "### FLAN-T5 test"
      ],
      "metadata": {
        "id": "iH-LlCAkr_CV"
      }
    },
    {
      "cell_type": "markdown",
      "source": [
        "We will quickly load in the FLAN-T5 base model and pass it one of the questions that we have been working with. After, we will prompt it with a closed question, one which it is not given context to select an answer from."
      ],
      "metadata": {
        "id": "30scn2p_w2WK"
      }
    },
    {
      "cell_type": "code",
      "source": [
        "from transformers import AutoModelForSeq2SeqLM, AutoTokenizer\n",
        "\n",
        "model = AutoModelForSeq2SeqLM.from_pretrained(\"google/flan-t5-base\")\n",
        "tokenizer = AutoTokenizer.from_pretrained(\"google/flan-t5-base\")\n",
        "\n",
        "inputs = tokenizer(\"Please answer the following question. who are some of franken's favorite faces to see? Context: The police dogs who patrol the area are some of my favorite faces to see around the Capitol. # Sen. Al Franken (@SenFranken) August 26, 2017\", return_tensors=\"pt\")\n",
        "outputs = model.generate(**inputs)\n",
        "print(tokenizer.batch_decode(outputs, skip_special_tokens=True))"
      ],
      "metadata": {
        "colab": {
          "base_uri": "https://localhost:8080/"
        },
        "id": "FX3VC2EowJPI",
        "outputId": "6fbce13b-4174-4ebe-d95b-6ceef926d654"
      },
      "execution_count": 50,
      "outputs": [
        {
          "output_type": "stream",
          "name": "stdout",
          "text": [
            "['The police dogs who patrol the area']\n"
          ]
        }
      ]
    },
    {
      "cell_type": "code",
      "source": [
        "inputs = tokenizer(\"Please answer the following question. What is the capital of Ireland?\", return_tensors=\"pt\")\n",
        "outputs = model.generate(**inputs)\n",
        "print(tokenizer.batch_decode(outputs, skip_special_tokens=True))"
      ],
      "metadata": {
        "colab": {
          "base_uri": "https://localhost:8080/"
        },
        "id": "IOd-2pJuxACi",
        "outputId": "68fb43b7-3e30-482b-cc2d-f8a570c4af44"
      },
      "execution_count": 48,
      "outputs": [
        {
          "output_type": "stream",
          "name": "stdout",
          "text": [
            "['dublin']\n"
          ]
        }
      ]
    },
    {
      "cell_type": "markdown",
      "source": [
        "We can see that Google's FLAN-T5 works great out of the box. The model is bigger and has been trained on more data than BERT. Additionally, it is a sequence-to-sequence model which works well for generative question answering."
      ],
      "metadata": {
        "id": "AC2rEAv3zP2a"
      }
    }
  ],
  "metadata": {
    "colab": {
      "provenance": [],
      "toc_visible": true
    },
    "gpuClass": "standard",
    "kernelspec": {
      "display_name": "Python 3",
      "name": "python3"
    },
    "language_info": {
      "name": "python"
    },
    "widgets": {
      "application/vnd.jupyter.widget-state+json": {
        "0a4e23a1c56b4766bc92609cbf5e7c4e": {
          "model_module": "@jupyter-widgets/base",
          "model_module_version": "1.2.0",
          "model_name": "LayoutModel",
          "state": {
            "_model_module": "@jupyter-widgets/base",
            "_model_module_version": "1.2.0",
            "_model_name": "LayoutModel",
            "_view_count": null,
            "_view_module": "@jupyter-widgets/base",
            "_view_module_version": "1.2.0",
            "_view_name": "LayoutView",
            "align_content": null,
            "align_items": null,
            "align_self": null,
            "border": null,
            "bottom": null,
            "display": null,
            "flex": null,
            "flex_flow": null,
            "grid_area": null,
            "grid_auto_columns": null,
            "grid_auto_flow": null,
            "grid_auto_rows": null,
            "grid_column": null,
            "grid_gap": null,
            "grid_row": null,
            "grid_template_areas": null,
            "grid_template_columns": null,
            "grid_template_rows": null,
            "height": null,
            "justify_content": null,
            "justify_items": null,
            "left": null,
            "margin": null,
            "max_height": null,
            "max_width": null,
            "min_height": null,
            "min_width": null,
            "object_fit": null,
            "object_position": null,
            "order": null,
            "overflow": null,
            "overflow_x": null,
            "overflow_y": null,
            "padding": null,
            "right": null,
            "top": null,
            "visibility": null,
            "width": null
          }
        },
        "0e0a22ae3a704ce288dce694e9fbb3b3": {
          "model_module": "@jupyter-widgets/base",
          "model_module_version": "1.2.0",
          "model_name": "LayoutModel",
          "state": {
            "_model_module": "@jupyter-widgets/base",
            "_model_module_version": "1.2.0",
            "_model_name": "LayoutModel",
            "_view_count": null,
            "_view_module": "@jupyter-widgets/base",
            "_view_module_version": "1.2.0",
            "_view_name": "LayoutView",
            "align_content": null,
            "align_items": null,
            "align_self": null,
            "border": null,
            "bottom": null,
            "display": null,
            "flex": null,
            "flex_flow": null,
            "grid_area": null,
            "grid_auto_columns": null,
            "grid_auto_flow": null,
            "grid_auto_rows": null,
            "grid_column": null,
            "grid_gap": null,
            "grid_row": null,
            "grid_template_areas": null,
            "grid_template_columns": null,
            "grid_template_rows": null,
            "height": null,
            "justify_content": null,
            "justify_items": null,
            "left": null,
            "margin": null,
            "max_height": null,
            "max_width": null,
            "min_height": null,
            "min_width": null,
            "object_fit": null,
            "object_position": null,
            "order": null,
            "overflow": null,
            "overflow_x": null,
            "overflow_y": null,
            "padding": null,
            "right": null,
            "top": null,
            "visibility": null,
            "width": null
          }
        },
        "1357fadc62864fedb55ccbc38a0fd3d0": {
          "model_module": "@jupyter-widgets/controls",
          "model_module_version": "1.5.0",
          "model_name": "HBoxModel",
          "state": {
            "_dom_classes": [],
            "_model_module": "@jupyter-widgets/controls",
            "_model_module_version": "1.5.0",
            "_model_name": "HBoxModel",
            "_view_count": null,
            "_view_module": "@jupyter-widgets/controls",
            "_view_module_version": "1.5.0",
            "_view_name": "HBoxView",
            "box_style": "",
            "children": [
              "IPY_MODEL_a21b69cde6054b858340653bcf195629",
              "IPY_MODEL_9a2624d0bdbd4a249f886c80f7d5cef4",
              "IPY_MODEL_c25c636e2f9f4fa8a0b4d76d51f158e1"
            ],
            "layout": "IPY_MODEL_851a078827354ea1ad4c2a5ad2189347"
          }
        },
        "18b144268c69432287d072d8f9cd45f7": {
          "model_module": "@jupyter-widgets/base",
          "model_module_version": "1.2.0",
          "model_name": "LayoutModel",
          "state": {
            "_model_module": "@jupyter-widgets/base",
            "_model_module_version": "1.2.0",
            "_model_name": "LayoutModel",
            "_view_count": null,
            "_view_module": "@jupyter-widgets/base",
            "_view_module_version": "1.2.0",
            "_view_name": "LayoutView",
            "align_content": null,
            "align_items": null,
            "align_self": null,
            "border": null,
            "bottom": null,
            "display": null,
            "flex": null,
            "flex_flow": null,
            "grid_area": null,
            "grid_auto_columns": null,
            "grid_auto_flow": null,
            "grid_auto_rows": null,
            "grid_column": null,
            "grid_gap": null,
            "grid_row": null,
            "grid_template_areas": null,
            "grid_template_columns": null,
            "grid_template_rows": null,
            "height": null,
            "justify_content": null,
            "justify_items": null,
            "left": null,
            "margin": null,
            "max_height": null,
            "max_width": null,
            "min_height": null,
            "min_width": null,
            "object_fit": null,
            "object_position": null,
            "order": null,
            "overflow": null,
            "overflow_x": null,
            "overflow_y": null,
            "padding": null,
            "right": null,
            "top": null,
            "visibility": null,
            "width": null
          }
        },
        "29ab06a5c58e4613902305202080f689": {
          "model_module": "@jupyter-widgets/controls",
          "model_module_version": "1.5.0",
          "model_name": "HTMLModel",
          "state": {
            "_dom_classes": [],
            "_model_module": "@jupyter-widgets/controls",
            "_model_module_version": "1.5.0",
            "_model_name": "HTMLModel",
            "_view_count": null,
            "_view_module": "@jupyter-widgets/controls",
            "_view_module_version": "1.5.0",
            "_view_name": "HTMLView",
            "description": "",
            "description_tooltip": null,
            "layout": "IPY_MODEL_0e0a22ae3a704ce288dce694e9fbb3b3",
            "placeholder": "​",
            "style": "IPY_MODEL_c9785e0cabf343159c8681c899dc1a22",
            "value": "Downloading builder script: "
          }
        },
        "3532b2a1e9ef4d37a3f9116a10a94e79": {
          "model_module": "@jupyter-widgets/base",
          "model_module_version": "1.2.0",
          "model_name": "LayoutModel",
          "state": {
            "_model_module": "@jupyter-widgets/base",
            "_model_module_version": "1.2.0",
            "_model_name": "LayoutModel",
            "_view_count": null,
            "_view_module": "@jupyter-widgets/base",
            "_view_module_version": "1.2.0",
            "_view_name": "LayoutView",
            "align_content": null,
            "align_items": null,
            "align_self": null,
            "border": null,
            "bottom": null,
            "display": null,
            "flex": null,
            "flex_flow": null,
            "grid_area": null,
            "grid_auto_columns": null,
            "grid_auto_flow": null,
            "grid_auto_rows": null,
            "grid_column": null,
            "grid_gap": null,
            "grid_row": null,
            "grid_template_areas": null,
            "grid_template_columns": null,
            "grid_template_rows": null,
            "height": null,
            "justify_content": null,
            "justify_items": null,
            "left": null,
            "margin": null,
            "max_height": null,
            "max_width": null,
            "min_height": null,
            "min_width": null,
            "object_fit": null,
            "object_position": null,
            "order": null,
            "overflow": null,
            "overflow_x": null,
            "overflow_y": null,
            "padding": null,
            "right": null,
            "top": null,
            "visibility": null,
            "width": null
          }
        },
        "35e0141f6a894975828fd428d0de1030": {
          "model_module": "@jupyter-widgets/controls",
          "model_module_version": "1.5.0",
          "model_name": "ProgressStyleModel",
          "state": {
            "_model_module": "@jupyter-widgets/controls",
            "_model_module_version": "1.5.0",
            "_model_name": "ProgressStyleModel",
            "_view_count": null,
            "_view_module": "@jupyter-widgets/base",
            "_view_module_version": "1.2.0",
            "_view_name": "StyleView",
            "bar_color": null,
            "description_width": ""
          }
        },
        "6a6bf746fe6847789869f582e6e63baa": {
          "model_module": "@jupyter-widgets/base",
          "model_module_version": "1.2.0",
          "model_name": "LayoutModel",
          "state": {
            "_model_module": "@jupyter-widgets/base",
            "_model_module_version": "1.2.0",
            "_model_name": "LayoutModel",
            "_view_count": null,
            "_view_module": "@jupyter-widgets/base",
            "_view_module_version": "1.2.0",
            "_view_name": "LayoutView",
            "align_content": null,
            "align_items": null,
            "align_self": null,
            "border": null,
            "bottom": null,
            "display": null,
            "flex": null,
            "flex_flow": null,
            "grid_area": null,
            "grid_auto_columns": null,
            "grid_auto_flow": null,
            "grid_auto_rows": null,
            "grid_column": null,
            "grid_gap": null,
            "grid_row": null,
            "grid_template_areas": null,
            "grid_template_columns": null,
            "grid_template_rows": null,
            "height": null,
            "justify_content": null,
            "justify_items": null,
            "left": null,
            "margin": null,
            "max_height": null,
            "max_width": null,
            "min_height": null,
            "min_width": null,
            "object_fit": null,
            "object_position": null,
            "order": null,
            "overflow": null,
            "overflow_x": null,
            "overflow_y": null,
            "padding": null,
            "right": null,
            "top": null,
            "visibility": null,
            "width": null
          }
        },
        "6aae7cbac12f43d0a52c2651a3696e81": {
          "model_module": "@jupyter-widgets/controls",
          "model_module_version": "1.5.0",
          "model_name": "DescriptionStyleModel",
          "state": {
            "_model_module": "@jupyter-widgets/controls",
            "_model_module_version": "1.5.0",
            "_model_name": "DescriptionStyleModel",
            "_view_count": null,
            "_view_module": "@jupyter-widgets/base",
            "_view_module_version": "1.2.0",
            "_view_name": "StyleView",
            "description_width": ""
          }
        },
        "6af0c6c9796b452696232fc5e543213f": {
          "model_module": "@jupyter-widgets/controls",
          "model_module_version": "1.5.0",
          "model_name": "DescriptionStyleModel",
          "state": {
            "_model_module": "@jupyter-widgets/controls",
            "_model_module_version": "1.5.0",
            "_model_name": "DescriptionStyleModel",
            "_view_count": null,
            "_view_module": "@jupyter-widgets/base",
            "_view_module_version": "1.2.0",
            "_view_name": "StyleView",
            "description_width": ""
          }
        },
        "712e82961ff249be9b1c1d855b0c322c": {
          "model_module": "@jupyter-widgets/controls",
          "model_module_version": "1.5.0",
          "model_name": "FloatProgressModel",
          "state": {
            "_dom_classes": [],
            "_model_module": "@jupyter-widgets/controls",
            "_model_module_version": "1.5.0",
            "_model_name": "FloatProgressModel",
            "_view_count": null,
            "_view_module": "@jupyter-widgets/controls",
            "_view_module_version": "1.5.0",
            "_view_name": "ProgressView",
            "bar_style": "success",
            "description": "",
            "description_tooltip": null,
            "layout": "IPY_MODEL_3532b2a1e9ef4d37a3f9116a10a94e79",
            "max": 1652,
            "min": 0,
            "orientation": "horizontal",
            "style": "IPY_MODEL_35e0141f6a894975828fd428d0de1030",
            "value": 1652
          }
        },
        "851a078827354ea1ad4c2a5ad2189347": {
          "model_module": "@jupyter-widgets/base",
          "model_module_version": "1.2.0",
          "model_name": "LayoutModel",
          "state": {
            "_model_module": "@jupyter-widgets/base",
            "_model_module_version": "1.2.0",
            "_model_name": "LayoutModel",
            "_view_count": null,
            "_view_module": "@jupyter-widgets/base",
            "_view_module_version": "1.2.0",
            "_view_name": "LayoutView",
            "align_content": null,
            "align_items": null,
            "align_self": null,
            "border": null,
            "bottom": null,
            "display": null,
            "flex": null,
            "flex_flow": null,
            "grid_area": null,
            "grid_auto_columns": null,
            "grid_auto_flow": null,
            "grid_auto_rows": null,
            "grid_column": null,
            "grid_gap": null,
            "grid_row": null,
            "grid_template_areas": null,
            "grid_template_columns": null,
            "grid_template_rows": null,
            "height": null,
            "justify_content": null,
            "justify_items": null,
            "left": null,
            "margin": null,
            "max_height": null,
            "max_width": null,
            "min_height": null,
            "min_width": null,
            "object_fit": null,
            "object_position": null,
            "order": null,
            "overflow": null,
            "overflow_x": null,
            "overflow_y": null,
            "padding": null,
            "right": null,
            "top": null,
            "visibility": null,
            "width": null
          }
        },
        "9a2624d0bdbd4a249f886c80f7d5cef4": {
          "model_module": "@jupyter-widgets/controls",
          "model_module_version": "1.5.0",
          "model_name": "FloatProgressModel",
          "state": {
            "_dom_classes": [],
            "_model_module": "@jupyter-widgets/controls",
            "_model_module_version": "1.5.0",
            "_model_name": "FloatProgressModel",
            "_view_count": null,
            "_view_module": "@jupyter-widgets/controls",
            "_view_module_version": "1.5.0",
            "_view_name": "ProgressView",
            "bar_style": "success",
            "description": "",
            "description_tooltip": null,
            "layout": "IPY_MODEL_6a6bf746fe6847789869f582e6e63baa",
            "max": 3,
            "min": 0,
            "orientation": "horizontal",
            "style": "IPY_MODEL_9c75ec7ba6154aa58a97120e6a548533",
            "value": 3
          }
        },
        "9c75ec7ba6154aa58a97120e6a548533": {
          "model_module": "@jupyter-widgets/controls",
          "model_module_version": "1.5.0",
          "model_name": "ProgressStyleModel",
          "state": {
            "_model_module": "@jupyter-widgets/controls",
            "_model_module_version": "1.5.0",
            "_model_name": "ProgressStyleModel",
            "_view_count": null,
            "_view_module": "@jupyter-widgets/base",
            "_view_module_version": "1.2.0",
            "_view_name": "StyleView",
            "bar_color": null,
            "description_width": ""
          }
        },
        "a21b69cde6054b858340653bcf195629": {
          "model_module": "@jupyter-widgets/controls",
          "model_module_version": "1.5.0",
          "model_name": "HTMLModel",
          "state": {
            "_dom_classes": [],
            "_model_module": "@jupyter-widgets/controls",
            "_model_module_version": "1.5.0",
            "_model_name": "HTMLModel",
            "_view_count": null,
            "_view_module": "@jupyter-widgets/controls",
            "_view_module_version": "1.5.0",
            "_view_name": "HTMLView",
            "description": "",
            "description_tooltip": null,
            "layout": "IPY_MODEL_a2290a86743c42e0a1de305bd60ead0f",
            "placeholder": "​",
            "style": "IPY_MODEL_6aae7cbac12f43d0a52c2651a3696e81",
            "value": "100%"
          }
        },
        "a2256716603d477d8475c50f25d87906": {
          "model_module": "@jupyter-widgets/controls",
          "model_module_version": "1.5.0",
          "model_name": "HBoxModel",
          "state": {
            "_dom_classes": [],
            "_model_module": "@jupyter-widgets/controls",
            "_model_module_version": "1.5.0",
            "_model_name": "HBoxModel",
            "_view_count": null,
            "_view_module": "@jupyter-widgets/controls",
            "_view_module_version": "1.5.0",
            "_view_name": "HBoxView",
            "box_style": "",
            "children": [
              "IPY_MODEL_29ab06a5c58e4613902305202080f689",
              "IPY_MODEL_712e82961ff249be9b1c1d855b0c322c",
              "IPY_MODEL_fe803be321534e8c86651a186cce0e9a"
            ],
            "layout": "IPY_MODEL_18b144268c69432287d072d8f9cd45f7"
          }
        },
        "a2290a86743c42e0a1de305bd60ead0f": {
          "model_module": "@jupyter-widgets/base",
          "model_module_version": "1.2.0",
          "model_name": "LayoutModel",
          "state": {
            "_model_module": "@jupyter-widgets/base",
            "_model_module_version": "1.2.0",
            "_model_name": "LayoutModel",
            "_view_count": null,
            "_view_module": "@jupyter-widgets/base",
            "_view_module_version": "1.2.0",
            "_view_name": "LayoutView",
            "align_content": null,
            "align_items": null,
            "align_self": null,
            "border": null,
            "bottom": null,
            "display": null,
            "flex": null,
            "flex_flow": null,
            "grid_area": null,
            "grid_auto_columns": null,
            "grid_auto_flow": null,
            "grid_auto_rows": null,
            "grid_column": null,
            "grid_gap": null,
            "grid_row": null,
            "grid_template_areas": null,
            "grid_template_columns": null,
            "grid_template_rows": null,
            "height": null,
            "justify_content": null,
            "justify_items": null,
            "left": null,
            "margin": null,
            "max_height": null,
            "max_width": null,
            "min_height": null,
            "min_width": null,
            "object_fit": null,
            "object_position": null,
            "order": null,
            "overflow": null,
            "overflow_x": null,
            "overflow_y": null,
            "padding": null,
            "right": null,
            "top": null,
            "visibility": null,
            "width": null
          }
        },
        "c25c636e2f9f4fa8a0b4d76d51f158e1": {
          "model_module": "@jupyter-widgets/controls",
          "model_module_version": "1.5.0",
          "model_name": "HTMLModel",
          "state": {
            "_dom_classes": [],
            "_model_module": "@jupyter-widgets/controls",
            "_model_module_version": "1.5.0",
            "_model_name": "HTMLModel",
            "_view_count": null,
            "_view_module": "@jupyter-widgets/controls",
            "_view_module_version": "1.5.0",
            "_view_name": "HTMLView",
            "description": "",
            "description_tooltip": null,
            "layout": "IPY_MODEL_c910783c22bf4e80ace47ab354cb4b6e",
            "placeholder": "​",
            "style": "IPY_MODEL_6af0c6c9796b452696232fc5e543213f",
            "value": " 3/3 [00:00&lt;00:00, 100.51it/s]"
          }
        },
        "c910783c22bf4e80ace47ab354cb4b6e": {
          "model_module": "@jupyter-widgets/base",
          "model_module_version": "1.2.0",
          "model_name": "LayoutModel",
          "state": {
            "_model_module": "@jupyter-widgets/base",
            "_model_module_version": "1.2.0",
            "_model_name": "LayoutModel",
            "_view_count": null,
            "_view_module": "@jupyter-widgets/base",
            "_view_module_version": "1.2.0",
            "_view_name": "LayoutView",
            "align_content": null,
            "align_items": null,
            "align_self": null,
            "border": null,
            "bottom": null,
            "display": null,
            "flex": null,
            "flex_flow": null,
            "grid_area": null,
            "grid_auto_columns": null,
            "grid_auto_flow": null,
            "grid_auto_rows": null,
            "grid_column": null,
            "grid_gap": null,
            "grid_row": null,
            "grid_template_areas": null,
            "grid_template_columns": null,
            "grid_template_rows": null,
            "height": null,
            "justify_content": null,
            "justify_items": null,
            "left": null,
            "margin": null,
            "max_height": null,
            "max_width": null,
            "min_height": null,
            "min_width": null,
            "object_fit": null,
            "object_position": null,
            "order": null,
            "overflow": null,
            "overflow_x": null,
            "overflow_y": null,
            "padding": null,
            "right": null,
            "top": null,
            "visibility": null,
            "width": null
          }
        },
        "c9785e0cabf343159c8681c899dc1a22": {
          "model_module": "@jupyter-widgets/controls",
          "model_module_version": "1.5.0",
          "model_name": "DescriptionStyleModel",
          "state": {
            "_model_module": "@jupyter-widgets/controls",
            "_model_module_version": "1.5.0",
            "_model_name": "DescriptionStyleModel",
            "_view_count": null,
            "_view_module": "@jupyter-widgets/base",
            "_view_module_version": "1.2.0",
            "_view_name": "StyleView",
            "description_width": ""
          }
        },
        "deae5ae3626f4064ae6e971d5103109a": {
          "model_module": "@jupyter-widgets/controls",
          "model_module_version": "1.5.0",
          "model_name": "DescriptionStyleModel",
          "state": {
            "_model_module": "@jupyter-widgets/controls",
            "_model_module_version": "1.5.0",
            "_model_name": "DescriptionStyleModel",
            "_view_count": null,
            "_view_module": "@jupyter-widgets/base",
            "_view_module_version": "1.2.0",
            "_view_name": "StyleView",
            "description_width": ""
          }
        },
        "fe803be321534e8c86651a186cce0e9a": {
          "model_module": "@jupyter-widgets/controls",
          "model_module_version": "1.5.0",
          "model_name": "HTMLModel",
          "state": {
            "_dom_classes": [],
            "_model_module": "@jupyter-widgets/controls",
            "_model_module_version": "1.5.0",
            "_model_name": "HTMLModel",
            "_view_count": null,
            "_view_module": "@jupyter-widgets/controls",
            "_view_module_version": "1.5.0",
            "_view_name": "HTMLView",
            "description": "",
            "description_tooltip": null,
            "layout": "IPY_MODEL_0a4e23a1c56b4766bc92609cbf5e7c4e",
            "placeholder": "​",
            "style": "IPY_MODEL_deae5ae3626f4064ae6e971d5103109a",
            "value": " 4.21k/? [00:00&lt;00:00, 230kB/s]"
          }
        },
        "7789de31ba644cffb227ceb5640ed00c": {
          "model_module": "@jupyter-widgets/controls",
          "model_name": "HBoxModel",
          "model_module_version": "1.5.0",
          "state": {
            "_dom_classes": [],
            "_model_module": "@jupyter-widgets/controls",
            "_model_module_version": "1.5.0",
            "_model_name": "HBoxModel",
            "_view_count": null,
            "_view_module": "@jupyter-widgets/controls",
            "_view_module_version": "1.5.0",
            "_view_name": "HBoxView",
            "box_style": "",
            "children": [
              "IPY_MODEL_090b7d394a0544d08f640b9db6d1578a",
              "IPY_MODEL_4bf4d1c8665540c4a594e20d8bfe5117",
              "IPY_MODEL_9d2c124067a3447d9f356a275f9eca95"
            ],
            "layout": "IPY_MODEL_c22f155ea40347b89b0fc8fbc84d6ff7"
          }
        },
        "090b7d394a0544d08f640b9db6d1578a": {
          "model_module": "@jupyter-widgets/controls",
          "model_name": "HTMLModel",
          "model_module_version": "1.5.0",
          "state": {
            "_dom_classes": [],
            "_model_module": "@jupyter-widgets/controls",
            "_model_module_version": "1.5.0",
            "_model_name": "HTMLModel",
            "_view_count": null,
            "_view_module": "@jupyter-widgets/controls",
            "_view_module_version": "1.5.0",
            "_view_name": "HTMLView",
            "description": "",
            "description_tooltip": null,
            "layout": "IPY_MODEL_cf5c0031a3564eab87f12744f9362770",
            "placeholder": "​",
            "style": "IPY_MODEL_0f9450f71bc34f938c9b3ad087609616",
            "value": "Map (num_proc=4): 100%"
          }
        },
        "4bf4d1c8665540c4a594e20d8bfe5117": {
          "model_module": "@jupyter-widgets/controls",
          "model_name": "FloatProgressModel",
          "model_module_version": "1.5.0",
          "state": {
            "_dom_classes": [],
            "_model_module": "@jupyter-widgets/controls",
            "_model_module_version": "1.5.0",
            "_model_name": "FloatProgressModel",
            "_view_count": null,
            "_view_module": "@jupyter-widgets/controls",
            "_view_module_version": "1.5.0",
            "_view_name": "ProgressView",
            "bar_style": "",
            "description": "",
            "description_tooltip": null,
            "layout": "IPY_MODEL_1dbbac6dd3fc47f5bd10e8448c49bf6a",
            "max": 10692,
            "min": 0,
            "orientation": "horizontal",
            "style": "IPY_MODEL_5c5a3cdec3fc4f0bb90024f11864ac5b",
            "value": 10692
          }
        },
        "9d2c124067a3447d9f356a275f9eca95": {
          "model_module": "@jupyter-widgets/controls",
          "model_name": "HTMLModel",
          "model_module_version": "1.5.0",
          "state": {
            "_dom_classes": [],
            "_model_module": "@jupyter-widgets/controls",
            "_model_module_version": "1.5.0",
            "_model_name": "HTMLModel",
            "_view_count": null,
            "_view_module": "@jupyter-widgets/controls",
            "_view_module_version": "1.5.0",
            "_view_name": "HTMLView",
            "description": "",
            "description_tooltip": null,
            "layout": "IPY_MODEL_1b2bdc83888248a081bc8add4e54f66e",
            "placeholder": "​",
            "style": "IPY_MODEL_25be66dae695496abc00d9d211e82899",
            "value": " 10692/10692 [00:14&lt;00:00, 663.03 examples/s]"
          }
        },
        "c22f155ea40347b89b0fc8fbc84d6ff7": {
          "model_module": "@jupyter-widgets/base",
          "model_name": "LayoutModel",
          "model_module_version": "1.2.0",
          "state": {
            "_model_module": "@jupyter-widgets/base",
            "_model_module_version": "1.2.0",
            "_model_name": "LayoutModel",
            "_view_count": null,
            "_view_module": "@jupyter-widgets/base",
            "_view_module_version": "1.2.0",
            "_view_name": "LayoutView",
            "align_content": null,
            "align_items": null,
            "align_self": null,
            "border": null,
            "bottom": null,
            "display": null,
            "flex": null,
            "flex_flow": null,
            "grid_area": null,
            "grid_auto_columns": null,
            "grid_auto_flow": null,
            "grid_auto_rows": null,
            "grid_column": null,
            "grid_gap": null,
            "grid_row": null,
            "grid_template_areas": null,
            "grid_template_columns": null,
            "grid_template_rows": null,
            "height": null,
            "justify_content": null,
            "justify_items": null,
            "left": null,
            "margin": null,
            "max_height": null,
            "max_width": null,
            "min_height": null,
            "min_width": null,
            "object_fit": null,
            "object_position": null,
            "order": null,
            "overflow": null,
            "overflow_x": null,
            "overflow_y": null,
            "padding": null,
            "right": null,
            "top": null,
            "visibility": "hidden",
            "width": null
          }
        },
        "cf5c0031a3564eab87f12744f9362770": {
          "model_module": "@jupyter-widgets/base",
          "model_name": "LayoutModel",
          "model_module_version": "1.2.0",
          "state": {
            "_model_module": "@jupyter-widgets/base",
            "_model_module_version": "1.2.0",
            "_model_name": "LayoutModel",
            "_view_count": null,
            "_view_module": "@jupyter-widgets/base",
            "_view_module_version": "1.2.0",
            "_view_name": "LayoutView",
            "align_content": null,
            "align_items": null,
            "align_self": null,
            "border": null,
            "bottom": null,
            "display": null,
            "flex": null,
            "flex_flow": null,
            "grid_area": null,
            "grid_auto_columns": null,
            "grid_auto_flow": null,
            "grid_auto_rows": null,
            "grid_column": null,
            "grid_gap": null,
            "grid_row": null,
            "grid_template_areas": null,
            "grid_template_columns": null,
            "grid_template_rows": null,
            "height": null,
            "justify_content": null,
            "justify_items": null,
            "left": null,
            "margin": null,
            "max_height": null,
            "max_width": null,
            "min_height": null,
            "min_width": null,
            "object_fit": null,
            "object_position": null,
            "order": null,
            "overflow": null,
            "overflow_x": null,
            "overflow_y": null,
            "padding": null,
            "right": null,
            "top": null,
            "visibility": null,
            "width": null
          }
        },
        "0f9450f71bc34f938c9b3ad087609616": {
          "model_module": "@jupyter-widgets/controls",
          "model_name": "DescriptionStyleModel",
          "model_module_version": "1.5.0",
          "state": {
            "_model_module": "@jupyter-widgets/controls",
            "_model_module_version": "1.5.0",
            "_model_name": "DescriptionStyleModel",
            "_view_count": null,
            "_view_module": "@jupyter-widgets/base",
            "_view_module_version": "1.2.0",
            "_view_name": "StyleView",
            "description_width": ""
          }
        },
        "1dbbac6dd3fc47f5bd10e8448c49bf6a": {
          "model_module": "@jupyter-widgets/base",
          "model_name": "LayoutModel",
          "model_module_version": "1.2.0",
          "state": {
            "_model_module": "@jupyter-widgets/base",
            "_model_module_version": "1.2.0",
            "_model_name": "LayoutModel",
            "_view_count": null,
            "_view_module": "@jupyter-widgets/base",
            "_view_module_version": "1.2.0",
            "_view_name": "LayoutView",
            "align_content": null,
            "align_items": null,
            "align_self": null,
            "border": null,
            "bottom": null,
            "display": null,
            "flex": null,
            "flex_flow": null,
            "grid_area": null,
            "grid_auto_columns": null,
            "grid_auto_flow": null,
            "grid_auto_rows": null,
            "grid_column": null,
            "grid_gap": null,
            "grid_row": null,
            "grid_template_areas": null,
            "grid_template_columns": null,
            "grid_template_rows": null,
            "height": null,
            "justify_content": null,
            "justify_items": null,
            "left": null,
            "margin": null,
            "max_height": null,
            "max_width": null,
            "min_height": null,
            "min_width": null,
            "object_fit": null,
            "object_position": null,
            "order": null,
            "overflow": null,
            "overflow_x": null,
            "overflow_y": null,
            "padding": null,
            "right": null,
            "top": null,
            "visibility": null,
            "width": null
          }
        },
        "5c5a3cdec3fc4f0bb90024f11864ac5b": {
          "model_module": "@jupyter-widgets/controls",
          "model_name": "ProgressStyleModel",
          "model_module_version": "1.5.0",
          "state": {
            "_model_module": "@jupyter-widgets/controls",
            "_model_module_version": "1.5.0",
            "_model_name": "ProgressStyleModel",
            "_view_count": null,
            "_view_module": "@jupyter-widgets/base",
            "_view_module_version": "1.2.0",
            "_view_name": "StyleView",
            "bar_color": null,
            "description_width": ""
          }
        },
        "1b2bdc83888248a081bc8add4e54f66e": {
          "model_module": "@jupyter-widgets/base",
          "model_name": "LayoutModel",
          "model_module_version": "1.2.0",
          "state": {
            "_model_module": "@jupyter-widgets/base",
            "_model_module_version": "1.2.0",
            "_model_name": "LayoutModel",
            "_view_count": null,
            "_view_module": "@jupyter-widgets/base",
            "_view_module_version": "1.2.0",
            "_view_name": "LayoutView",
            "align_content": null,
            "align_items": null,
            "align_self": null,
            "border": null,
            "bottom": null,
            "display": null,
            "flex": null,
            "flex_flow": null,
            "grid_area": null,
            "grid_auto_columns": null,
            "grid_auto_flow": null,
            "grid_auto_rows": null,
            "grid_column": null,
            "grid_gap": null,
            "grid_row": null,
            "grid_template_areas": null,
            "grid_template_columns": null,
            "grid_template_rows": null,
            "height": null,
            "justify_content": null,
            "justify_items": null,
            "left": null,
            "margin": null,
            "max_height": null,
            "max_width": null,
            "min_height": null,
            "min_width": null,
            "object_fit": null,
            "object_position": null,
            "order": null,
            "overflow": null,
            "overflow_x": null,
            "overflow_y": null,
            "padding": null,
            "right": null,
            "top": null,
            "visibility": null,
            "width": null
          }
        },
        "25be66dae695496abc00d9d211e82899": {
          "model_module": "@jupyter-widgets/controls",
          "model_name": "DescriptionStyleModel",
          "model_module_version": "1.5.0",
          "state": {
            "_model_module": "@jupyter-widgets/controls",
            "_model_module_version": "1.5.0",
            "_model_name": "DescriptionStyleModel",
            "_view_count": null,
            "_view_module": "@jupyter-widgets/base",
            "_view_module_version": "1.2.0",
            "_view_name": "StyleView",
            "description_width": ""
          }
        },
        "c9bfe269b7204742ac9c4e5e3ea77624": {
          "model_module": "@jupyter-widgets/controls",
          "model_name": "HBoxModel",
          "model_module_version": "1.5.0",
          "state": {
            "_dom_classes": [],
            "_model_module": "@jupyter-widgets/controls",
            "_model_module_version": "1.5.0",
            "_model_name": "HBoxModel",
            "_view_count": null,
            "_view_module": "@jupyter-widgets/controls",
            "_view_module_version": "1.5.0",
            "_view_name": "HBoxView",
            "box_style": "",
            "children": [
              "IPY_MODEL_77992ca631ae4cf48c7623be9765967f",
              "IPY_MODEL_5535d081d13c4714bdd748877cdc3282",
              "IPY_MODEL_2c1460f1f9f446a9a78d9137e944d5ed"
            ],
            "layout": "IPY_MODEL_068196f0eec44f4eb7158b55bad1d111"
          }
        },
        "77992ca631ae4cf48c7623be9765967f": {
          "model_module": "@jupyter-widgets/controls",
          "model_name": "HTMLModel",
          "model_module_version": "1.5.0",
          "state": {
            "_dom_classes": [],
            "_model_module": "@jupyter-widgets/controls",
            "_model_module_version": "1.5.0",
            "_model_name": "HTMLModel",
            "_view_count": null,
            "_view_module": "@jupyter-widgets/controls",
            "_view_module_version": "1.5.0",
            "_view_name": "HTMLView",
            "description": "",
            "description_tooltip": null,
            "layout": "IPY_MODEL_b1ae9075fd944df48ced0598f67e27da",
            "placeholder": "​",
            "style": "IPY_MODEL_0397abdc9d3e47f890dda20e004b22d0",
            "value": "Downloading builder script: 100%"
          }
        },
        "5535d081d13c4714bdd748877cdc3282": {
          "model_module": "@jupyter-widgets/controls",
          "model_name": "FloatProgressModel",
          "model_module_version": "1.5.0",
          "state": {
            "_dom_classes": [],
            "_model_module": "@jupyter-widgets/controls",
            "_model_module_version": "1.5.0",
            "_model_name": "FloatProgressModel",
            "_view_count": null,
            "_view_module": "@jupyter-widgets/controls",
            "_view_module_version": "1.5.0",
            "_view_name": "ProgressView",
            "bar_style": "success",
            "description": "",
            "description_tooltip": null,
            "layout": "IPY_MODEL_825e5671d7654b6782eb781ae33f7103",
            "max": 3705,
            "min": 0,
            "orientation": "horizontal",
            "style": "IPY_MODEL_e62e2478ee2a4de59123ba5d5c7fce71",
            "value": 3705
          }
        },
        "2c1460f1f9f446a9a78d9137e944d5ed": {
          "model_module": "@jupyter-widgets/controls",
          "model_name": "HTMLModel",
          "model_module_version": "1.5.0",
          "state": {
            "_dom_classes": [],
            "_model_module": "@jupyter-widgets/controls",
            "_model_module_version": "1.5.0",
            "_model_name": "HTMLModel",
            "_view_count": null,
            "_view_module": "@jupyter-widgets/controls",
            "_view_module_version": "1.5.0",
            "_view_name": "HTMLView",
            "description": "",
            "description_tooltip": null,
            "layout": "IPY_MODEL_eb57ea612a564bc299be466c9915d32b",
            "placeholder": "​",
            "style": "IPY_MODEL_5275149663134ba4aca41ea79e416b30",
            "value": " 3.71k/3.71k [00:00&lt;00:00, 144kB/s]"
          }
        },
        "068196f0eec44f4eb7158b55bad1d111": {
          "model_module": "@jupyter-widgets/base",
          "model_name": "LayoutModel",
          "model_module_version": "1.2.0",
          "state": {
            "_model_module": "@jupyter-widgets/base",
            "_model_module_version": "1.2.0",
            "_model_name": "LayoutModel",
            "_view_count": null,
            "_view_module": "@jupyter-widgets/base",
            "_view_module_version": "1.2.0",
            "_view_name": "LayoutView",
            "align_content": null,
            "align_items": null,
            "align_self": null,
            "border": null,
            "bottom": null,
            "display": null,
            "flex": null,
            "flex_flow": null,
            "grid_area": null,
            "grid_auto_columns": null,
            "grid_auto_flow": null,
            "grid_auto_rows": null,
            "grid_column": null,
            "grid_gap": null,
            "grid_row": null,
            "grid_template_areas": null,
            "grid_template_columns": null,
            "grid_template_rows": null,
            "height": null,
            "justify_content": null,
            "justify_items": null,
            "left": null,
            "margin": null,
            "max_height": null,
            "max_width": null,
            "min_height": null,
            "min_width": null,
            "object_fit": null,
            "object_position": null,
            "order": null,
            "overflow": null,
            "overflow_x": null,
            "overflow_y": null,
            "padding": null,
            "right": null,
            "top": null,
            "visibility": null,
            "width": null
          }
        },
        "b1ae9075fd944df48ced0598f67e27da": {
          "model_module": "@jupyter-widgets/base",
          "model_name": "LayoutModel",
          "model_module_version": "1.2.0",
          "state": {
            "_model_module": "@jupyter-widgets/base",
            "_model_module_version": "1.2.0",
            "_model_name": "LayoutModel",
            "_view_count": null,
            "_view_module": "@jupyter-widgets/base",
            "_view_module_version": "1.2.0",
            "_view_name": "LayoutView",
            "align_content": null,
            "align_items": null,
            "align_self": null,
            "border": null,
            "bottom": null,
            "display": null,
            "flex": null,
            "flex_flow": null,
            "grid_area": null,
            "grid_auto_columns": null,
            "grid_auto_flow": null,
            "grid_auto_rows": null,
            "grid_column": null,
            "grid_gap": null,
            "grid_row": null,
            "grid_template_areas": null,
            "grid_template_columns": null,
            "grid_template_rows": null,
            "height": null,
            "justify_content": null,
            "justify_items": null,
            "left": null,
            "margin": null,
            "max_height": null,
            "max_width": null,
            "min_height": null,
            "min_width": null,
            "object_fit": null,
            "object_position": null,
            "order": null,
            "overflow": null,
            "overflow_x": null,
            "overflow_y": null,
            "padding": null,
            "right": null,
            "top": null,
            "visibility": null,
            "width": null
          }
        },
        "0397abdc9d3e47f890dda20e004b22d0": {
          "model_module": "@jupyter-widgets/controls",
          "model_name": "DescriptionStyleModel",
          "model_module_version": "1.5.0",
          "state": {
            "_model_module": "@jupyter-widgets/controls",
            "_model_module_version": "1.5.0",
            "_model_name": "DescriptionStyleModel",
            "_view_count": null,
            "_view_module": "@jupyter-widgets/base",
            "_view_module_version": "1.2.0",
            "_view_name": "StyleView",
            "description_width": ""
          }
        },
        "825e5671d7654b6782eb781ae33f7103": {
          "model_module": "@jupyter-widgets/base",
          "model_name": "LayoutModel",
          "model_module_version": "1.2.0",
          "state": {
            "_model_module": "@jupyter-widgets/base",
            "_model_module_version": "1.2.0",
            "_model_name": "LayoutModel",
            "_view_count": null,
            "_view_module": "@jupyter-widgets/base",
            "_view_module_version": "1.2.0",
            "_view_name": "LayoutView",
            "align_content": null,
            "align_items": null,
            "align_self": null,
            "border": null,
            "bottom": null,
            "display": null,
            "flex": null,
            "flex_flow": null,
            "grid_area": null,
            "grid_auto_columns": null,
            "grid_auto_flow": null,
            "grid_auto_rows": null,
            "grid_column": null,
            "grid_gap": null,
            "grid_row": null,
            "grid_template_areas": null,
            "grid_template_columns": null,
            "grid_template_rows": null,
            "height": null,
            "justify_content": null,
            "justify_items": null,
            "left": null,
            "margin": null,
            "max_height": null,
            "max_width": null,
            "min_height": null,
            "min_width": null,
            "object_fit": null,
            "object_position": null,
            "order": null,
            "overflow": null,
            "overflow_x": null,
            "overflow_y": null,
            "padding": null,
            "right": null,
            "top": null,
            "visibility": null,
            "width": null
          }
        },
        "e62e2478ee2a4de59123ba5d5c7fce71": {
          "model_module": "@jupyter-widgets/controls",
          "model_name": "ProgressStyleModel",
          "model_module_version": "1.5.0",
          "state": {
            "_model_module": "@jupyter-widgets/controls",
            "_model_module_version": "1.5.0",
            "_model_name": "ProgressStyleModel",
            "_view_count": null,
            "_view_module": "@jupyter-widgets/base",
            "_view_module_version": "1.2.0",
            "_view_name": "StyleView",
            "bar_color": null,
            "description_width": ""
          }
        },
        "eb57ea612a564bc299be466c9915d32b": {
          "model_module": "@jupyter-widgets/base",
          "model_name": "LayoutModel",
          "model_module_version": "1.2.0",
          "state": {
            "_model_module": "@jupyter-widgets/base",
            "_model_module_version": "1.2.0",
            "_model_name": "LayoutModel",
            "_view_count": null,
            "_view_module": "@jupyter-widgets/base",
            "_view_module_version": "1.2.0",
            "_view_name": "LayoutView",
            "align_content": null,
            "align_items": null,
            "align_self": null,
            "border": null,
            "bottom": null,
            "display": null,
            "flex": null,
            "flex_flow": null,
            "grid_area": null,
            "grid_auto_columns": null,
            "grid_auto_flow": null,
            "grid_auto_rows": null,
            "grid_column": null,
            "grid_gap": null,
            "grid_row": null,
            "grid_template_areas": null,
            "grid_template_columns": null,
            "grid_template_rows": null,
            "height": null,
            "justify_content": null,
            "justify_items": null,
            "left": null,
            "margin": null,
            "max_height": null,
            "max_width": null,
            "min_height": null,
            "min_width": null,
            "object_fit": null,
            "object_position": null,
            "order": null,
            "overflow": null,
            "overflow_x": null,
            "overflow_y": null,
            "padding": null,
            "right": null,
            "top": null,
            "visibility": null,
            "width": null
          }
        },
        "5275149663134ba4aca41ea79e416b30": {
          "model_module": "@jupyter-widgets/controls",
          "model_name": "DescriptionStyleModel",
          "model_module_version": "1.5.0",
          "state": {
            "_model_module": "@jupyter-widgets/controls",
            "_model_module_version": "1.5.0",
            "_model_name": "DescriptionStyleModel",
            "_view_count": null,
            "_view_module": "@jupyter-widgets/base",
            "_view_module_version": "1.2.0",
            "_view_name": "StyleView",
            "description_width": ""
          }
        },
        "f90158e6f98d4cac9bc33545789f8a21": {
          "model_module": "@jupyter-widgets/controls",
          "model_name": "HBoxModel",
          "model_module_version": "1.5.0",
          "state": {
            "_dom_classes": [],
            "_model_module": "@jupyter-widgets/controls",
            "_model_module_version": "1.5.0",
            "_model_name": "HBoxModel",
            "_view_count": null,
            "_view_module": "@jupyter-widgets/controls",
            "_view_module_version": "1.5.0",
            "_view_name": "HBoxView",
            "box_style": "",
            "children": [
              "IPY_MODEL_c7b124e28fc743ba9c88edd83e1d7ee2",
              "IPY_MODEL_968894c063e9484297bc32ae92ee69d9",
              "IPY_MODEL_f20b3eb8a27640008454fcb5b4d4b58c"
            ],
            "layout": "IPY_MODEL_6e86bfd84d704143a8b69f664aa88975"
          }
        },
        "c7b124e28fc743ba9c88edd83e1d7ee2": {
          "model_module": "@jupyter-widgets/controls",
          "model_name": "HTMLModel",
          "model_module_version": "1.5.0",
          "state": {
            "_dom_classes": [],
            "_model_module": "@jupyter-widgets/controls",
            "_model_module_version": "1.5.0",
            "_model_name": "HTMLModel",
            "_view_count": null,
            "_view_module": "@jupyter-widgets/controls",
            "_view_module_version": "1.5.0",
            "_view_name": "HTMLView",
            "description": "",
            "description_tooltip": null,
            "layout": "IPY_MODEL_1d5befb3dc01430eaa65fb3c70b8aa16",
            "placeholder": "​",
            "style": "IPY_MODEL_da9908708f3e43f6a727ac09d29538f6",
            "value": "Downloading metadata: 100%"
          }
        },
        "968894c063e9484297bc32ae92ee69d9": {
          "model_module": "@jupyter-widgets/controls",
          "model_name": "FloatProgressModel",
          "model_module_version": "1.5.0",
          "state": {
            "_dom_classes": [],
            "_model_module": "@jupyter-widgets/controls",
            "_model_module_version": "1.5.0",
            "_model_name": "FloatProgressModel",
            "_view_count": null,
            "_view_module": "@jupyter-widgets/controls",
            "_view_module_version": "1.5.0",
            "_view_name": "ProgressView",
            "bar_style": "success",
            "description": "",
            "description_tooltip": null,
            "layout": "IPY_MODEL_b04874c0fb9c42d98a7126777b1cb9fd",
            "max": 1740,
            "min": 0,
            "orientation": "horizontal",
            "style": "IPY_MODEL_c9f8ab1fd9fe4ada8fbf836e0efe757b",
            "value": 1740
          }
        },
        "f20b3eb8a27640008454fcb5b4d4b58c": {
          "model_module": "@jupyter-widgets/controls",
          "model_name": "HTMLModel",
          "model_module_version": "1.5.0",
          "state": {
            "_dom_classes": [],
            "_model_module": "@jupyter-widgets/controls",
            "_model_module_version": "1.5.0",
            "_model_name": "HTMLModel",
            "_view_count": null,
            "_view_module": "@jupyter-widgets/controls",
            "_view_module_version": "1.5.0",
            "_view_name": "HTMLView",
            "description": "",
            "description_tooltip": null,
            "layout": "IPY_MODEL_c5a726e823c14448b303ea7d07e9ebd1",
            "placeholder": "​",
            "style": "IPY_MODEL_7e07fa18431f4987b9a220ebfcce8893",
            "value": " 1.74k/1.74k [00:00&lt;00:00, 58.2kB/s]"
          }
        },
        "6e86bfd84d704143a8b69f664aa88975": {
          "model_module": "@jupyter-widgets/base",
          "model_name": "LayoutModel",
          "model_module_version": "1.2.0",
          "state": {
            "_model_module": "@jupyter-widgets/base",
            "_model_module_version": "1.2.0",
            "_model_name": "LayoutModel",
            "_view_count": null,
            "_view_module": "@jupyter-widgets/base",
            "_view_module_version": "1.2.0",
            "_view_name": "LayoutView",
            "align_content": null,
            "align_items": null,
            "align_self": null,
            "border": null,
            "bottom": null,
            "display": null,
            "flex": null,
            "flex_flow": null,
            "grid_area": null,
            "grid_auto_columns": null,
            "grid_auto_flow": null,
            "grid_auto_rows": null,
            "grid_column": null,
            "grid_gap": null,
            "grid_row": null,
            "grid_template_areas": null,
            "grid_template_columns": null,
            "grid_template_rows": null,
            "height": null,
            "justify_content": null,
            "justify_items": null,
            "left": null,
            "margin": null,
            "max_height": null,
            "max_width": null,
            "min_height": null,
            "min_width": null,
            "object_fit": null,
            "object_position": null,
            "order": null,
            "overflow": null,
            "overflow_x": null,
            "overflow_y": null,
            "padding": null,
            "right": null,
            "top": null,
            "visibility": null,
            "width": null
          }
        },
        "1d5befb3dc01430eaa65fb3c70b8aa16": {
          "model_module": "@jupyter-widgets/base",
          "model_name": "LayoutModel",
          "model_module_version": "1.2.0",
          "state": {
            "_model_module": "@jupyter-widgets/base",
            "_model_module_version": "1.2.0",
            "_model_name": "LayoutModel",
            "_view_count": null,
            "_view_module": "@jupyter-widgets/base",
            "_view_module_version": "1.2.0",
            "_view_name": "LayoutView",
            "align_content": null,
            "align_items": null,
            "align_self": null,
            "border": null,
            "bottom": null,
            "display": null,
            "flex": null,
            "flex_flow": null,
            "grid_area": null,
            "grid_auto_columns": null,
            "grid_auto_flow": null,
            "grid_auto_rows": null,
            "grid_column": null,
            "grid_gap": null,
            "grid_row": null,
            "grid_template_areas": null,
            "grid_template_columns": null,
            "grid_template_rows": null,
            "height": null,
            "justify_content": null,
            "justify_items": null,
            "left": null,
            "margin": null,
            "max_height": null,
            "max_width": null,
            "min_height": null,
            "min_width": null,
            "object_fit": null,
            "object_position": null,
            "order": null,
            "overflow": null,
            "overflow_x": null,
            "overflow_y": null,
            "padding": null,
            "right": null,
            "top": null,
            "visibility": null,
            "width": null
          }
        },
        "da9908708f3e43f6a727ac09d29538f6": {
          "model_module": "@jupyter-widgets/controls",
          "model_name": "DescriptionStyleModel",
          "model_module_version": "1.5.0",
          "state": {
            "_model_module": "@jupyter-widgets/controls",
            "_model_module_version": "1.5.0",
            "_model_name": "DescriptionStyleModel",
            "_view_count": null,
            "_view_module": "@jupyter-widgets/base",
            "_view_module_version": "1.2.0",
            "_view_name": "StyleView",
            "description_width": ""
          }
        },
        "b04874c0fb9c42d98a7126777b1cb9fd": {
          "model_module": "@jupyter-widgets/base",
          "model_name": "LayoutModel",
          "model_module_version": "1.2.0",
          "state": {
            "_model_module": "@jupyter-widgets/base",
            "_model_module_version": "1.2.0",
            "_model_name": "LayoutModel",
            "_view_count": null,
            "_view_module": "@jupyter-widgets/base",
            "_view_module_version": "1.2.0",
            "_view_name": "LayoutView",
            "align_content": null,
            "align_items": null,
            "align_self": null,
            "border": null,
            "bottom": null,
            "display": null,
            "flex": null,
            "flex_flow": null,
            "grid_area": null,
            "grid_auto_columns": null,
            "grid_auto_flow": null,
            "grid_auto_rows": null,
            "grid_column": null,
            "grid_gap": null,
            "grid_row": null,
            "grid_template_areas": null,
            "grid_template_columns": null,
            "grid_template_rows": null,
            "height": null,
            "justify_content": null,
            "justify_items": null,
            "left": null,
            "margin": null,
            "max_height": null,
            "max_width": null,
            "min_height": null,
            "min_width": null,
            "object_fit": null,
            "object_position": null,
            "order": null,
            "overflow": null,
            "overflow_x": null,
            "overflow_y": null,
            "padding": null,
            "right": null,
            "top": null,
            "visibility": null,
            "width": null
          }
        },
        "c9f8ab1fd9fe4ada8fbf836e0efe757b": {
          "model_module": "@jupyter-widgets/controls",
          "model_name": "ProgressStyleModel",
          "model_module_version": "1.5.0",
          "state": {
            "_model_module": "@jupyter-widgets/controls",
            "_model_module_version": "1.5.0",
            "_model_name": "ProgressStyleModel",
            "_view_count": null,
            "_view_module": "@jupyter-widgets/base",
            "_view_module_version": "1.2.0",
            "_view_name": "StyleView",
            "bar_color": null,
            "description_width": ""
          }
        },
        "c5a726e823c14448b303ea7d07e9ebd1": {
          "model_module": "@jupyter-widgets/base",
          "model_name": "LayoutModel",
          "model_module_version": "1.2.0",
          "state": {
            "_model_module": "@jupyter-widgets/base",
            "_model_module_version": "1.2.0",
            "_model_name": "LayoutModel",
            "_view_count": null,
            "_view_module": "@jupyter-widgets/base",
            "_view_module_version": "1.2.0",
            "_view_name": "LayoutView",
            "align_content": null,
            "align_items": null,
            "align_self": null,
            "border": null,
            "bottom": null,
            "display": null,
            "flex": null,
            "flex_flow": null,
            "grid_area": null,
            "grid_auto_columns": null,
            "grid_auto_flow": null,
            "grid_auto_rows": null,
            "grid_column": null,
            "grid_gap": null,
            "grid_row": null,
            "grid_template_areas": null,
            "grid_template_columns": null,
            "grid_template_rows": null,
            "height": null,
            "justify_content": null,
            "justify_items": null,
            "left": null,
            "margin": null,
            "max_height": null,
            "max_width": null,
            "min_height": null,
            "min_width": null,
            "object_fit": null,
            "object_position": null,
            "order": null,
            "overflow": null,
            "overflow_x": null,
            "overflow_y": null,
            "padding": null,
            "right": null,
            "top": null,
            "visibility": null,
            "width": null
          }
        },
        "7e07fa18431f4987b9a220ebfcce8893": {
          "model_module": "@jupyter-widgets/controls",
          "model_name": "DescriptionStyleModel",
          "model_module_version": "1.5.0",
          "state": {
            "_model_module": "@jupyter-widgets/controls",
            "_model_module_version": "1.5.0",
            "_model_name": "DescriptionStyleModel",
            "_view_count": null,
            "_view_module": "@jupyter-widgets/base",
            "_view_module_version": "1.2.0",
            "_view_name": "StyleView",
            "description_width": ""
          }
        },
        "ccbfd6e0691e4ce299f882ec8c5baf55": {
          "model_module": "@jupyter-widgets/controls",
          "model_name": "HBoxModel",
          "model_module_version": "1.5.0",
          "state": {
            "_dom_classes": [],
            "_model_module": "@jupyter-widgets/controls",
            "_model_module_version": "1.5.0",
            "_model_name": "HBoxModel",
            "_view_count": null,
            "_view_module": "@jupyter-widgets/controls",
            "_view_module_version": "1.5.0",
            "_view_name": "HBoxView",
            "box_style": "",
            "children": [
              "IPY_MODEL_0fc571c235864bb897616534fdf81a59",
              "IPY_MODEL_a82eeb584b754a6998085a5f9a7c25df",
              "IPY_MODEL_b84dc2e47611484fb2e168fd032f5a56"
            ],
            "layout": "IPY_MODEL_9966bf6145a94459ac00379375b107e2"
          }
        },
        "0fc571c235864bb897616534fdf81a59": {
          "model_module": "@jupyter-widgets/controls",
          "model_name": "HTMLModel",
          "model_module_version": "1.5.0",
          "state": {
            "_dom_classes": [],
            "_model_module": "@jupyter-widgets/controls",
            "_model_module_version": "1.5.0",
            "_model_name": "HTMLModel",
            "_view_count": null,
            "_view_module": "@jupyter-widgets/controls",
            "_view_module_version": "1.5.0",
            "_view_name": "HTMLView",
            "description": "",
            "description_tooltip": null,
            "layout": "IPY_MODEL_a597d485a46343fea1fa2fb4a05ea575",
            "placeholder": "​",
            "style": "IPY_MODEL_ce3335e0316940559ae07edffea7c1ca",
            "value": "Downloading readme: 100%"
          }
        },
        "a82eeb584b754a6998085a5f9a7c25df": {
          "model_module": "@jupyter-widgets/controls",
          "model_name": "FloatProgressModel",
          "model_module_version": "1.5.0",
          "state": {
            "_dom_classes": [],
            "_model_module": "@jupyter-widgets/controls",
            "_model_module_version": "1.5.0",
            "_model_name": "FloatProgressModel",
            "_view_count": null,
            "_view_module": "@jupyter-widgets/controls",
            "_view_module_version": "1.5.0",
            "_view_name": "ProgressView",
            "bar_style": "success",
            "description": "",
            "description_tooltip": null,
            "layout": "IPY_MODEL_d87c16ce72d34fd5abb2ee64064f07ff",
            "max": 12257,
            "min": 0,
            "orientation": "horizontal",
            "style": "IPY_MODEL_8e1fb385c9624968b97aeb950a86e908",
            "value": 12257
          }
        },
        "b84dc2e47611484fb2e168fd032f5a56": {
          "model_module": "@jupyter-widgets/controls",
          "model_name": "HTMLModel",
          "model_module_version": "1.5.0",
          "state": {
            "_dom_classes": [],
            "_model_module": "@jupyter-widgets/controls",
            "_model_module_version": "1.5.0",
            "_model_name": "HTMLModel",
            "_view_count": null,
            "_view_module": "@jupyter-widgets/controls",
            "_view_module_version": "1.5.0",
            "_view_name": "HTMLView",
            "description": "",
            "description_tooltip": null,
            "layout": "IPY_MODEL_b1018381f00a48dc8497c3d265665a2b",
            "placeholder": "​",
            "style": "IPY_MODEL_e1110b3f2294486eaac29cab5efb74e0",
            "value": " 12.3k/12.3k [00:00&lt;00:00, 799kB/s]"
          }
        },
        "9966bf6145a94459ac00379375b107e2": {
          "model_module": "@jupyter-widgets/base",
          "model_name": "LayoutModel",
          "model_module_version": "1.2.0",
          "state": {
            "_model_module": "@jupyter-widgets/base",
            "_model_module_version": "1.2.0",
            "_model_name": "LayoutModel",
            "_view_count": null,
            "_view_module": "@jupyter-widgets/base",
            "_view_module_version": "1.2.0",
            "_view_name": "LayoutView",
            "align_content": null,
            "align_items": null,
            "align_self": null,
            "border": null,
            "bottom": null,
            "display": null,
            "flex": null,
            "flex_flow": null,
            "grid_area": null,
            "grid_auto_columns": null,
            "grid_auto_flow": null,
            "grid_auto_rows": null,
            "grid_column": null,
            "grid_gap": null,
            "grid_row": null,
            "grid_template_areas": null,
            "grid_template_columns": null,
            "grid_template_rows": null,
            "height": null,
            "justify_content": null,
            "justify_items": null,
            "left": null,
            "margin": null,
            "max_height": null,
            "max_width": null,
            "min_height": null,
            "min_width": null,
            "object_fit": null,
            "object_position": null,
            "order": null,
            "overflow": null,
            "overflow_x": null,
            "overflow_y": null,
            "padding": null,
            "right": null,
            "top": null,
            "visibility": null,
            "width": null
          }
        },
        "a597d485a46343fea1fa2fb4a05ea575": {
          "model_module": "@jupyter-widgets/base",
          "model_name": "LayoutModel",
          "model_module_version": "1.2.0",
          "state": {
            "_model_module": "@jupyter-widgets/base",
            "_model_module_version": "1.2.0",
            "_model_name": "LayoutModel",
            "_view_count": null,
            "_view_module": "@jupyter-widgets/base",
            "_view_module_version": "1.2.0",
            "_view_name": "LayoutView",
            "align_content": null,
            "align_items": null,
            "align_self": null,
            "border": null,
            "bottom": null,
            "display": null,
            "flex": null,
            "flex_flow": null,
            "grid_area": null,
            "grid_auto_columns": null,
            "grid_auto_flow": null,
            "grid_auto_rows": null,
            "grid_column": null,
            "grid_gap": null,
            "grid_row": null,
            "grid_template_areas": null,
            "grid_template_columns": null,
            "grid_template_rows": null,
            "height": null,
            "justify_content": null,
            "justify_items": null,
            "left": null,
            "margin": null,
            "max_height": null,
            "max_width": null,
            "min_height": null,
            "min_width": null,
            "object_fit": null,
            "object_position": null,
            "order": null,
            "overflow": null,
            "overflow_x": null,
            "overflow_y": null,
            "padding": null,
            "right": null,
            "top": null,
            "visibility": null,
            "width": null
          }
        },
        "ce3335e0316940559ae07edffea7c1ca": {
          "model_module": "@jupyter-widgets/controls",
          "model_name": "DescriptionStyleModel",
          "model_module_version": "1.5.0",
          "state": {
            "_model_module": "@jupyter-widgets/controls",
            "_model_module_version": "1.5.0",
            "_model_name": "DescriptionStyleModel",
            "_view_count": null,
            "_view_module": "@jupyter-widgets/base",
            "_view_module_version": "1.2.0",
            "_view_name": "StyleView",
            "description_width": ""
          }
        },
        "d87c16ce72d34fd5abb2ee64064f07ff": {
          "model_module": "@jupyter-widgets/base",
          "model_name": "LayoutModel",
          "model_module_version": "1.2.0",
          "state": {
            "_model_module": "@jupyter-widgets/base",
            "_model_module_version": "1.2.0",
            "_model_name": "LayoutModel",
            "_view_count": null,
            "_view_module": "@jupyter-widgets/base",
            "_view_module_version": "1.2.0",
            "_view_name": "LayoutView",
            "align_content": null,
            "align_items": null,
            "align_self": null,
            "border": null,
            "bottom": null,
            "display": null,
            "flex": null,
            "flex_flow": null,
            "grid_area": null,
            "grid_auto_columns": null,
            "grid_auto_flow": null,
            "grid_auto_rows": null,
            "grid_column": null,
            "grid_gap": null,
            "grid_row": null,
            "grid_template_areas": null,
            "grid_template_columns": null,
            "grid_template_rows": null,
            "height": null,
            "justify_content": null,
            "justify_items": null,
            "left": null,
            "margin": null,
            "max_height": null,
            "max_width": null,
            "min_height": null,
            "min_width": null,
            "object_fit": null,
            "object_position": null,
            "order": null,
            "overflow": null,
            "overflow_x": null,
            "overflow_y": null,
            "padding": null,
            "right": null,
            "top": null,
            "visibility": null,
            "width": null
          }
        },
        "8e1fb385c9624968b97aeb950a86e908": {
          "model_module": "@jupyter-widgets/controls",
          "model_name": "ProgressStyleModel",
          "model_module_version": "1.5.0",
          "state": {
            "_model_module": "@jupyter-widgets/controls",
            "_model_module_version": "1.5.0",
            "_model_name": "ProgressStyleModel",
            "_view_count": null,
            "_view_module": "@jupyter-widgets/base",
            "_view_module_version": "1.2.0",
            "_view_name": "StyleView",
            "bar_color": null,
            "description_width": ""
          }
        },
        "b1018381f00a48dc8497c3d265665a2b": {
          "model_module": "@jupyter-widgets/base",
          "model_name": "LayoutModel",
          "model_module_version": "1.2.0",
          "state": {
            "_model_module": "@jupyter-widgets/base",
            "_model_module_version": "1.2.0",
            "_model_name": "LayoutModel",
            "_view_count": null,
            "_view_module": "@jupyter-widgets/base",
            "_view_module_version": "1.2.0",
            "_view_name": "LayoutView",
            "align_content": null,
            "align_items": null,
            "align_self": null,
            "border": null,
            "bottom": null,
            "display": null,
            "flex": null,
            "flex_flow": null,
            "grid_area": null,
            "grid_auto_columns": null,
            "grid_auto_flow": null,
            "grid_auto_rows": null,
            "grid_column": null,
            "grid_gap": null,
            "grid_row": null,
            "grid_template_areas": null,
            "grid_template_columns": null,
            "grid_template_rows": null,
            "height": null,
            "justify_content": null,
            "justify_items": null,
            "left": null,
            "margin": null,
            "max_height": null,
            "max_width": null,
            "min_height": null,
            "min_width": null,
            "object_fit": null,
            "object_position": null,
            "order": null,
            "overflow": null,
            "overflow_x": null,
            "overflow_y": null,
            "padding": null,
            "right": null,
            "top": null,
            "visibility": null,
            "width": null
          }
        },
        "e1110b3f2294486eaac29cab5efb74e0": {
          "model_module": "@jupyter-widgets/controls",
          "model_name": "DescriptionStyleModel",
          "model_module_version": "1.5.0",
          "state": {
            "_model_module": "@jupyter-widgets/controls",
            "_model_module_version": "1.5.0",
            "_model_name": "DescriptionStyleModel",
            "_view_count": null,
            "_view_module": "@jupyter-widgets/base",
            "_view_module_version": "1.2.0",
            "_view_name": "StyleView",
            "description_width": ""
          }
        },
        "4cd3a012565541038212784b3dc6b3e8": {
          "model_module": "@jupyter-widgets/controls",
          "model_name": "HBoxModel",
          "model_module_version": "1.5.0",
          "state": {
            "_dom_classes": [],
            "_model_module": "@jupyter-widgets/controls",
            "_model_module_version": "1.5.0",
            "_model_name": "HBoxModel",
            "_view_count": null,
            "_view_module": "@jupyter-widgets/controls",
            "_view_module_version": "1.5.0",
            "_view_name": "HBoxView",
            "box_style": "",
            "children": [
              "IPY_MODEL_b40f9f1bda864d5fbb183ea99b145116",
              "IPY_MODEL_1fbf14caeb3f41a4823fca6b05b0afac",
              "IPY_MODEL_a08473f35ff84a1ea55129346787f1c7"
            ],
            "layout": "IPY_MODEL_25c7bf7da71e466a8d87bba6d100c1a2"
          }
        },
        "b40f9f1bda864d5fbb183ea99b145116": {
          "model_module": "@jupyter-widgets/controls",
          "model_name": "HTMLModel",
          "model_module_version": "1.5.0",
          "state": {
            "_dom_classes": [],
            "_model_module": "@jupyter-widgets/controls",
            "_model_module_version": "1.5.0",
            "_model_name": "HTMLModel",
            "_view_count": null,
            "_view_module": "@jupyter-widgets/controls",
            "_view_module_version": "1.5.0",
            "_view_name": "HTMLView",
            "description": "",
            "description_tooltip": null,
            "layout": "IPY_MODEL_ca384d23e7a5461094f30481becc05ea",
            "placeholder": "​",
            "style": "IPY_MODEL_f69a105aec334972877550af7921c612",
            "value": "Downloading data: 100%"
          }
        },
        "1fbf14caeb3f41a4823fca6b05b0afac": {
          "model_module": "@jupyter-widgets/controls",
          "model_name": "FloatProgressModel",
          "model_module_version": "1.5.0",
          "state": {
            "_dom_classes": [],
            "_model_module": "@jupyter-widgets/controls",
            "_model_module_version": "1.5.0",
            "_model_name": "FloatProgressModel",
            "_view_count": null,
            "_view_module": "@jupyter-widgets/controls",
            "_view_module_version": "1.5.0",
            "_view_name": "ProgressView",
            "bar_style": "success",
            "description": "",
            "description_tooltip": null,
            "layout": "IPY_MODEL_2132d0ea268d4e608f41c5e16fce8ecb",
            "max": 1573980,
            "min": 0,
            "orientation": "horizontal",
            "style": "IPY_MODEL_b7bcd98e5b384d1881f3244b4f421e7a",
            "value": 1573980
          }
        },
        "a08473f35ff84a1ea55129346787f1c7": {
          "model_module": "@jupyter-widgets/controls",
          "model_name": "HTMLModel",
          "model_module_version": "1.5.0",
          "state": {
            "_dom_classes": [],
            "_model_module": "@jupyter-widgets/controls",
            "_model_module_version": "1.5.0",
            "_model_name": "HTMLModel",
            "_view_count": null,
            "_view_module": "@jupyter-widgets/controls",
            "_view_module_version": "1.5.0",
            "_view_name": "HTMLView",
            "description": "",
            "description_tooltip": null,
            "layout": "IPY_MODEL_6f540e78a1a747d5a7789f9d22ffe3bb",
            "placeholder": "​",
            "style": "IPY_MODEL_b250b0c4af564e568c812106c565dfc5",
            "value": " 1.57M/1.57M [00:00&lt;00:00, 1.17MB/s]"
          }
        },
        "25c7bf7da71e466a8d87bba6d100c1a2": {
          "model_module": "@jupyter-widgets/base",
          "model_name": "LayoutModel",
          "model_module_version": "1.2.0",
          "state": {
            "_model_module": "@jupyter-widgets/base",
            "_model_module_version": "1.2.0",
            "_model_name": "LayoutModel",
            "_view_count": null,
            "_view_module": "@jupyter-widgets/base",
            "_view_module_version": "1.2.0",
            "_view_name": "LayoutView",
            "align_content": null,
            "align_items": null,
            "align_self": null,
            "border": null,
            "bottom": null,
            "display": null,
            "flex": null,
            "flex_flow": null,
            "grid_area": null,
            "grid_auto_columns": null,
            "grid_auto_flow": null,
            "grid_auto_rows": null,
            "grid_column": null,
            "grid_gap": null,
            "grid_row": null,
            "grid_template_areas": null,
            "grid_template_columns": null,
            "grid_template_rows": null,
            "height": null,
            "justify_content": null,
            "justify_items": null,
            "left": null,
            "margin": null,
            "max_height": null,
            "max_width": null,
            "min_height": null,
            "min_width": null,
            "object_fit": null,
            "object_position": null,
            "order": null,
            "overflow": null,
            "overflow_x": null,
            "overflow_y": null,
            "padding": null,
            "right": null,
            "top": null,
            "visibility": null,
            "width": null
          }
        },
        "ca384d23e7a5461094f30481becc05ea": {
          "model_module": "@jupyter-widgets/base",
          "model_name": "LayoutModel",
          "model_module_version": "1.2.0",
          "state": {
            "_model_module": "@jupyter-widgets/base",
            "_model_module_version": "1.2.0",
            "_model_name": "LayoutModel",
            "_view_count": null,
            "_view_module": "@jupyter-widgets/base",
            "_view_module_version": "1.2.0",
            "_view_name": "LayoutView",
            "align_content": null,
            "align_items": null,
            "align_self": null,
            "border": null,
            "bottom": null,
            "display": null,
            "flex": null,
            "flex_flow": null,
            "grid_area": null,
            "grid_auto_columns": null,
            "grid_auto_flow": null,
            "grid_auto_rows": null,
            "grid_column": null,
            "grid_gap": null,
            "grid_row": null,
            "grid_template_areas": null,
            "grid_template_columns": null,
            "grid_template_rows": null,
            "height": null,
            "justify_content": null,
            "justify_items": null,
            "left": null,
            "margin": null,
            "max_height": null,
            "max_width": null,
            "min_height": null,
            "min_width": null,
            "object_fit": null,
            "object_position": null,
            "order": null,
            "overflow": null,
            "overflow_x": null,
            "overflow_y": null,
            "padding": null,
            "right": null,
            "top": null,
            "visibility": null,
            "width": null
          }
        },
        "f69a105aec334972877550af7921c612": {
          "model_module": "@jupyter-widgets/controls",
          "model_name": "DescriptionStyleModel",
          "model_module_version": "1.5.0",
          "state": {
            "_model_module": "@jupyter-widgets/controls",
            "_model_module_version": "1.5.0",
            "_model_name": "DescriptionStyleModel",
            "_view_count": null,
            "_view_module": "@jupyter-widgets/base",
            "_view_module_version": "1.2.0",
            "_view_name": "StyleView",
            "description_width": ""
          }
        },
        "2132d0ea268d4e608f41c5e16fce8ecb": {
          "model_module": "@jupyter-widgets/base",
          "model_name": "LayoutModel",
          "model_module_version": "1.2.0",
          "state": {
            "_model_module": "@jupyter-widgets/base",
            "_model_module_version": "1.2.0",
            "_model_name": "LayoutModel",
            "_view_count": null,
            "_view_module": "@jupyter-widgets/base",
            "_view_module_version": "1.2.0",
            "_view_name": "LayoutView",
            "align_content": null,
            "align_items": null,
            "align_self": null,
            "border": null,
            "bottom": null,
            "display": null,
            "flex": null,
            "flex_flow": null,
            "grid_area": null,
            "grid_auto_columns": null,
            "grid_auto_flow": null,
            "grid_auto_rows": null,
            "grid_column": null,
            "grid_gap": null,
            "grid_row": null,
            "grid_template_areas": null,
            "grid_template_columns": null,
            "grid_template_rows": null,
            "height": null,
            "justify_content": null,
            "justify_items": null,
            "left": null,
            "margin": null,
            "max_height": null,
            "max_width": null,
            "min_height": null,
            "min_width": null,
            "object_fit": null,
            "object_position": null,
            "order": null,
            "overflow": null,
            "overflow_x": null,
            "overflow_y": null,
            "padding": null,
            "right": null,
            "top": null,
            "visibility": null,
            "width": null
          }
        },
        "b7bcd98e5b384d1881f3244b4f421e7a": {
          "model_module": "@jupyter-widgets/controls",
          "model_name": "ProgressStyleModel",
          "model_module_version": "1.5.0",
          "state": {
            "_model_module": "@jupyter-widgets/controls",
            "_model_module_version": "1.5.0",
            "_model_name": "ProgressStyleModel",
            "_view_count": null,
            "_view_module": "@jupyter-widgets/base",
            "_view_module_version": "1.2.0",
            "_view_name": "StyleView",
            "bar_color": null,
            "description_width": ""
          }
        },
        "6f540e78a1a747d5a7789f9d22ffe3bb": {
          "model_module": "@jupyter-widgets/base",
          "model_name": "LayoutModel",
          "model_module_version": "1.2.0",
          "state": {
            "_model_module": "@jupyter-widgets/base",
            "_model_module_version": "1.2.0",
            "_model_name": "LayoutModel",
            "_view_count": null,
            "_view_module": "@jupyter-widgets/base",
            "_view_module_version": "1.2.0",
            "_view_name": "LayoutView",
            "align_content": null,
            "align_items": null,
            "align_self": null,
            "border": null,
            "bottom": null,
            "display": null,
            "flex": null,
            "flex_flow": null,
            "grid_area": null,
            "grid_auto_columns": null,
            "grid_auto_flow": null,
            "grid_auto_rows": null,
            "grid_column": null,
            "grid_gap": null,
            "grid_row": null,
            "grid_template_areas": null,
            "grid_template_columns": null,
            "grid_template_rows": null,
            "height": null,
            "justify_content": null,
            "justify_items": null,
            "left": null,
            "margin": null,
            "max_height": null,
            "max_width": null,
            "min_height": null,
            "min_width": null,
            "object_fit": null,
            "object_position": null,
            "order": null,
            "overflow": null,
            "overflow_x": null,
            "overflow_y": null,
            "padding": null,
            "right": null,
            "top": null,
            "visibility": null,
            "width": null
          }
        },
        "b250b0c4af564e568c812106c565dfc5": {
          "model_module": "@jupyter-widgets/controls",
          "model_name": "DescriptionStyleModel",
          "model_module_version": "1.5.0",
          "state": {
            "_model_module": "@jupyter-widgets/controls",
            "_model_module_version": "1.5.0",
            "_model_name": "DescriptionStyleModel",
            "_view_count": null,
            "_view_module": "@jupyter-widgets/base",
            "_view_module_version": "1.2.0",
            "_view_name": "StyleView",
            "description_width": ""
          }
        },
        "5e585787e3bc4e0a9a911d07ac42da11": {
          "model_module": "@jupyter-widgets/controls",
          "model_name": "HBoxModel",
          "model_module_version": "1.5.0",
          "state": {
            "_dom_classes": [],
            "_model_module": "@jupyter-widgets/controls",
            "_model_module_version": "1.5.0",
            "_model_name": "HBoxModel",
            "_view_count": null,
            "_view_module": "@jupyter-widgets/controls",
            "_view_module_version": "1.5.0",
            "_view_name": "HBoxView",
            "box_style": "",
            "children": [
              "IPY_MODEL_639bcdd718c94935bf15dc16029902c6",
              "IPY_MODEL_95afe0dd228c4f38869df4c9e157cb23",
              "IPY_MODEL_b95bc7ac48cf4b2fb68863a0e6f239fa"
            ],
            "layout": "IPY_MODEL_ac10be809a6144c184ddabb491671dbf"
          }
        },
        "639bcdd718c94935bf15dc16029902c6": {
          "model_module": "@jupyter-widgets/controls",
          "model_name": "HTMLModel",
          "model_module_version": "1.5.0",
          "state": {
            "_dom_classes": [],
            "_model_module": "@jupyter-widgets/controls",
            "_model_module_version": "1.5.0",
            "_model_name": "HTMLModel",
            "_view_count": null,
            "_view_module": "@jupyter-widgets/controls",
            "_view_module_version": "1.5.0",
            "_view_name": "HTMLView",
            "description": "",
            "description_tooltip": null,
            "layout": "IPY_MODEL_b8bf9530a0dc4077bc8ea049f3580c9f",
            "placeholder": "​",
            "style": "IPY_MODEL_2efea0011e634990be97c99d0a5c6a3a",
            "value": "Generating train split:  93%"
          }
        },
        "95afe0dd228c4f38869df4c9e157cb23": {
          "model_module": "@jupyter-widgets/controls",
          "model_name": "FloatProgressModel",
          "model_module_version": "1.5.0",
          "state": {
            "_dom_classes": [],
            "_model_module": "@jupyter-widgets/controls",
            "_model_module_version": "1.5.0",
            "_model_name": "FloatProgressModel",
            "_view_count": null,
            "_view_module": "@jupyter-widgets/controls",
            "_view_module_version": "1.5.0",
            "_view_name": "ProgressView",
            "bar_style": "",
            "description": "",
            "description_tooltip": null,
            "layout": "IPY_MODEL_d1ba8b7f484f461296395816dbb765bd",
            "max": 10692,
            "min": 0,
            "orientation": "horizontal",
            "style": "IPY_MODEL_8cf9564049eb4b7b893c629dbf0e649b",
            "value": 10692
          }
        },
        "b95bc7ac48cf4b2fb68863a0e6f239fa": {
          "model_module": "@jupyter-widgets/controls",
          "model_name": "HTMLModel",
          "model_module_version": "1.5.0",
          "state": {
            "_dom_classes": [],
            "_model_module": "@jupyter-widgets/controls",
            "_model_module_version": "1.5.0",
            "_model_name": "HTMLModel",
            "_view_count": null,
            "_view_module": "@jupyter-widgets/controls",
            "_view_module_version": "1.5.0",
            "_view_name": "HTMLView",
            "description": "",
            "description_tooltip": null,
            "layout": "IPY_MODEL_9b966d59053746ea99d02ae5a8cdae6b",
            "placeholder": "​",
            "style": "IPY_MODEL_1b169bbec8084cbd8b89cec0f2e2e128",
            "value": " 9932/10692 [00:00&lt;00:00, 22024.21 examples/s]"
          }
        },
        "ac10be809a6144c184ddabb491671dbf": {
          "model_module": "@jupyter-widgets/base",
          "model_name": "LayoutModel",
          "model_module_version": "1.2.0",
          "state": {
            "_model_module": "@jupyter-widgets/base",
            "_model_module_version": "1.2.0",
            "_model_name": "LayoutModel",
            "_view_count": null,
            "_view_module": "@jupyter-widgets/base",
            "_view_module_version": "1.2.0",
            "_view_name": "LayoutView",
            "align_content": null,
            "align_items": null,
            "align_self": null,
            "border": null,
            "bottom": null,
            "display": null,
            "flex": null,
            "flex_flow": null,
            "grid_area": null,
            "grid_auto_columns": null,
            "grid_auto_flow": null,
            "grid_auto_rows": null,
            "grid_column": null,
            "grid_gap": null,
            "grid_row": null,
            "grid_template_areas": null,
            "grid_template_columns": null,
            "grid_template_rows": null,
            "height": null,
            "justify_content": null,
            "justify_items": null,
            "left": null,
            "margin": null,
            "max_height": null,
            "max_width": null,
            "min_height": null,
            "min_width": null,
            "object_fit": null,
            "object_position": null,
            "order": null,
            "overflow": null,
            "overflow_x": null,
            "overflow_y": null,
            "padding": null,
            "right": null,
            "top": null,
            "visibility": "hidden",
            "width": null
          }
        },
        "b8bf9530a0dc4077bc8ea049f3580c9f": {
          "model_module": "@jupyter-widgets/base",
          "model_name": "LayoutModel",
          "model_module_version": "1.2.0",
          "state": {
            "_model_module": "@jupyter-widgets/base",
            "_model_module_version": "1.2.0",
            "_model_name": "LayoutModel",
            "_view_count": null,
            "_view_module": "@jupyter-widgets/base",
            "_view_module_version": "1.2.0",
            "_view_name": "LayoutView",
            "align_content": null,
            "align_items": null,
            "align_self": null,
            "border": null,
            "bottom": null,
            "display": null,
            "flex": null,
            "flex_flow": null,
            "grid_area": null,
            "grid_auto_columns": null,
            "grid_auto_flow": null,
            "grid_auto_rows": null,
            "grid_column": null,
            "grid_gap": null,
            "grid_row": null,
            "grid_template_areas": null,
            "grid_template_columns": null,
            "grid_template_rows": null,
            "height": null,
            "justify_content": null,
            "justify_items": null,
            "left": null,
            "margin": null,
            "max_height": null,
            "max_width": null,
            "min_height": null,
            "min_width": null,
            "object_fit": null,
            "object_position": null,
            "order": null,
            "overflow": null,
            "overflow_x": null,
            "overflow_y": null,
            "padding": null,
            "right": null,
            "top": null,
            "visibility": null,
            "width": null
          }
        },
        "2efea0011e634990be97c99d0a5c6a3a": {
          "model_module": "@jupyter-widgets/controls",
          "model_name": "DescriptionStyleModel",
          "model_module_version": "1.5.0",
          "state": {
            "_model_module": "@jupyter-widgets/controls",
            "_model_module_version": "1.5.0",
            "_model_name": "DescriptionStyleModel",
            "_view_count": null,
            "_view_module": "@jupyter-widgets/base",
            "_view_module_version": "1.2.0",
            "_view_name": "StyleView",
            "description_width": ""
          }
        },
        "d1ba8b7f484f461296395816dbb765bd": {
          "model_module": "@jupyter-widgets/base",
          "model_name": "LayoutModel",
          "model_module_version": "1.2.0",
          "state": {
            "_model_module": "@jupyter-widgets/base",
            "_model_module_version": "1.2.0",
            "_model_name": "LayoutModel",
            "_view_count": null,
            "_view_module": "@jupyter-widgets/base",
            "_view_module_version": "1.2.0",
            "_view_name": "LayoutView",
            "align_content": null,
            "align_items": null,
            "align_self": null,
            "border": null,
            "bottom": null,
            "display": null,
            "flex": null,
            "flex_flow": null,
            "grid_area": null,
            "grid_auto_columns": null,
            "grid_auto_flow": null,
            "grid_auto_rows": null,
            "grid_column": null,
            "grid_gap": null,
            "grid_row": null,
            "grid_template_areas": null,
            "grid_template_columns": null,
            "grid_template_rows": null,
            "height": null,
            "justify_content": null,
            "justify_items": null,
            "left": null,
            "margin": null,
            "max_height": null,
            "max_width": null,
            "min_height": null,
            "min_width": null,
            "object_fit": null,
            "object_position": null,
            "order": null,
            "overflow": null,
            "overflow_x": null,
            "overflow_y": null,
            "padding": null,
            "right": null,
            "top": null,
            "visibility": null,
            "width": null
          }
        },
        "8cf9564049eb4b7b893c629dbf0e649b": {
          "model_module": "@jupyter-widgets/controls",
          "model_name": "ProgressStyleModel",
          "model_module_version": "1.5.0",
          "state": {
            "_model_module": "@jupyter-widgets/controls",
            "_model_module_version": "1.5.0",
            "_model_name": "ProgressStyleModel",
            "_view_count": null,
            "_view_module": "@jupyter-widgets/base",
            "_view_module_version": "1.2.0",
            "_view_name": "StyleView",
            "bar_color": null,
            "description_width": ""
          }
        },
        "9b966d59053746ea99d02ae5a8cdae6b": {
          "model_module": "@jupyter-widgets/base",
          "model_name": "LayoutModel",
          "model_module_version": "1.2.0",
          "state": {
            "_model_module": "@jupyter-widgets/base",
            "_model_module_version": "1.2.0",
            "_model_name": "LayoutModel",
            "_view_count": null,
            "_view_module": "@jupyter-widgets/base",
            "_view_module_version": "1.2.0",
            "_view_name": "LayoutView",
            "align_content": null,
            "align_items": null,
            "align_self": null,
            "border": null,
            "bottom": null,
            "display": null,
            "flex": null,
            "flex_flow": null,
            "grid_area": null,
            "grid_auto_columns": null,
            "grid_auto_flow": null,
            "grid_auto_rows": null,
            "grid_column": null,
            "grid_gap": null,
            "grid_row": null,
            "grid_template_areas": null,
            "grid_template_columns": null,
            "grid_template_rows": null,
            "height": null,
            "justify_content": null,
            "justify_items": null,
            "left": null,
            "margin": null,
            "max_height": null,
            "max_width": null,
            "min_height": null,
            "min_width": null,
            "object_fit": null,
            "object_position": null,
            "order": null,
            "overflow": null,
            "overflow_x": null,
            "overflow_y": null,
            "padding": null,
            "right": null,
            "top": null,
            "visibility": null,
            "width": null
          }
        },
        "1b169bbec8084cbd8b89cec0f2e2e128": {
          "model_module": "@jupyter-widgets/controls",
          "model_name": "DescriptionStyleModel",
          "model_module_version": "1.5.0",
          "state": {
            "_model_module": "@jupyter-widgets/controls",
            "_model_module_version": "1.5.0",
            "_model_name": "DescriptionStyleModel",
            "_view_count": null,
            "_view_module": "@jupyter-widgets/base",
            "_view_module_version": "1.2.0",
            "_view_name": "StyleView",
            "description_width": ""
          }
        },
        "c484da3539b34c61af3ea67f50559673": {
          "model_module": "@jupyter-widgets/controls",
          "model_name": "HBoxModel",
          "model_module_version": "1.5.0",
          "state": {
            "_dom_classes": [],
            "_model_module": "@jupyter-widgets/controls",
            "_model_module_version": "1.5.0",
            "_model_name": "HBoxModel",
            "_view_count": null,
            "_view_module": "@jupyter-widgets/controls",
            "_view_module_version": "1.5.0",
            "_view_name": "HBoxView",
            "box_style": "",
            "children": [
              "IPY_MODEL_4761bb08175b4befb6f8c658ff7fc4e5",
              "IPY_MODEL_52c30ef0bda14978baddc0f32db5467b",
              "IPY_MODEL_243dc0b8286d4401b976b48a252efff1"
            ],
            "layout": "IPY_MODEL_67018af19ee34b85adcfdb9f1351ea77"
          }
        },
        "4761bb08175b4befb6f8c658ff7fc4e5": {
          "model_module": "@jupyter-widgets/controls",
          "model_name": "HTMLModel",
          "model_module_version": "1.5.0",
          "state": {
            "_dom_classes": [],
            "_model_module": "@jupyter-widgets/controls",
            "_model_module_version": "1.5.0",
            "_model_name": "HTMLModel",
            "_view_count": null,
            "_view_module": "@jupyter-widgets/controls",
            "_view_module_version": "1.5.0",
            "_view_name": "HTMLView",
            "description": "",
            "description_tooltip": null,
            "layout": "IPY_MODEL_4e6c8bfe87894fd9bb6e5bd43492798e",
            "placeholder": "​",
            "style": "IPY_MODEL_c09abb6a9a9f43e3b93ad91915ac07bf",
            "value": "Generating test split:  51%"
          }
        },
        "52c30ef0bda14978baddc0f32db5467b": {
          "model_module": "@jupyter-widgets/controls",
          "model_name": "FloatProgressModel",
          "model_module_version": "1.5.0",
          "state": {
            "_dom_classes": [],
            "_model_module": "@jupyter-widgets/controls",
            "_model_module_version": "1.5.0",
            "_model_name": "FloatProgressModel",
            "_view_count": null,
            "_view_module": "@jupyter-widgets/controls",
            "_view_module_version": "1.5.0",
            "_view_name": "ProgressView",
            "bar_style": "",
            "description": "",
            "description_tooltip": null,
            "layout": "IPY_MODEL_c131da00ce91426281f2b296972406b9",
            "max": 1979,
            "min": 0,
            "orientation": "horizontal",
            "style": "IPY_MODEL_516ce1f5e0b64b7db0c633fae0ef5a48",
            "value": 1979
          }
        },
        "243dc0b8286d4401b976b48a252efff1": {
          "model_module": "@jupyter-widgets/controls",
          "model_name": "HTMLModel",
          "model_module_version": "1.5.0",
          "state": {
            "_dom_classes": [],
            "_model_module": "@jupyter-widgets/controls",
            "_model_module_version": "1.5.0",
            "_model_name": "HTMLModel",
            "_view_count": null,
            "_view_module": "@jupyter-widgets/controls",
            "_view_module_version": "1.5.0",
            "_view_name": "HTMLView",
            "description": "",
            "description_tooltip": null,
            "layout": "IPY_MODEL_86a6172acd1744b1a5d9d31c221bda3c",
            "placeholder": "​",
            "style": "IPY_MODEL_e964388632c5413aa282538efd42fbd2",
            "value": " 1000/1979 [00:00&lt;00:00, 8218.49 examples/s]"
          }
        },
        "67018af19ee34b85adcfdb9f1351ea77": {
          "model_module": "@jupyter-widgets/base",
          "model_name": "LayoutModel",
          "model_module_version": "1.2.0",
          "state": {
            "_model_module": "@jupyter-widgets/base",
            "_model_module_version": "1.2.0",
            "_model_name": "LayoutModel",
            "_view_count": null,
            "_view_module": "@jupyter-widgets/base",
            "_view_module_version": "1.2.0",
            "_view_name": "LayoutView",
            "align_content": null,
            "align_items": null,
            "align_self": null,
            "border": null,
            "bottom": null,
            "display": null,
            "flex": null,
            "flex_flow": null,
            "grid_area": null,
            "grid_auto_columns": null,
            "grid_auto_flow": null,
            "grid_auto_rows": null,
            "grid_column": null,
            "grid_gap": null,
            "grid_row": null,
            "grid_template_areas": null,
            "grid_template_columns": null,
            "grid_template_rows": null,
            "height": null,
            "justify_content": null,
            "justify_items": null,
            "left": null,
            "margin": null,
            "max_height": null,
            "max_width": null,
            "min_height": null,
            "min_width": null,
            "object_fit": null,
            "object_position": null,
            "order": null,
            "overflow": null,
            "overflow_x": null,
            "overflow_y": null,
            "padding": null,
            "right": null,
            "top": null,
            "visibility": "hidden",
            "width": null
          }
        },
        "4e6c8bfe87894fd9bb6e5bd43492798e": {
          "model_module": "@jupyter-widgets/base",
          "model_name": "LayoutModel",
          "model_module_version": "1.2.0",
          "state": {
            "_model_module": "@jupyter-widgets/base",
            "_model_module_version": "1.2.0",
            "_model_name": "LayoutModel",
            "_view_count": null,
            "_view_module": "@jupyter-widgets/base",
            "_view_module_version": "1.2.0",
            "_view_name": "LayoutView",
            "align_content": null,
            "align_items": null,
            "align_self": null,
            "border": null,
            "bottom": null,
            "display": null,
            "flex": null,
            "flex_flow": null,
            "grid_area": null,
            "grid_auto_columns": null,
            "grid_auto_flow": null,
            "grid_auto_rows": null,
            "grid_column": null,
            "grid_gap": null,
            "grid_row": null,
            "grid_template_areas": null,
            "grid_template_columns": null,
            "grid_template_rows": null,
            "height": null,
            "justify_content": null,
            "justify_items": null,
            "left": null,
            "margin": null,
            "max_height": null,
            "max_width": null,
            "min_height": null,
            "min_width": null,
            "object_fit": null,
            "object_position": null,
            "order": null,
            "overflow": null,
            "overflow_x": null,
            "overflow_y": null,
            "padding": null,
            "right": null,
            "top": null,
            "visibility": null,
            "width": null
          }
        },
        "c09abb6a9a9f43e3b93ad91915ac07bf": {
          "model_module": "@jupyter-widgets/controls",
          "model_name": "DescriptionStyleModel",
          "model_module_version": "1.5.0",
          "state": {
            "_model_module": "@jupyter-widgets/controls",
            "_model_module_version": "1.5.0",
            "_model_name": "DescriptionStyleModel",
            "_view_count": null,
            "_view_module": "@jupyter-widgets/base",
            "_view_module_version": "1.2.0",
            "_view_name": "StyleView",
            "description_width": ""
          }
        },
        "c131da00ce91426281f2b296972406b9": {
          "model_module": "@jupyter-widgets/base",
          "model_name": "LayoutModel",
          "model_module_version": "1.2.0",
          "state": {
            "_model_module": "@jupyter-widgets/base",
            "_model_module_version": "1.2.0",
            "_model_name": "LayoutModel",
            "_view_count": null,
            "_view_module": "@jupyter-widgets/base",
            "_view_module_version": "1.2.0",
            "_view_name": "LayoutView",
            "align_content": null,
            "align_items": null,
            "align_self": null,
            "border": null,
            "bottom": null,
            "display": null,
            "flex": null,
            "flex_flow": null,
            "grid_area": null,
            "grid_auto_columns": null,
            "grid_auto_flow": null,
            "grid_auto_rows": null,
            "grid_column": null,
            "grid_gap": null,
            "grid_row": null,
            "grid_template_areas": null,
            "grid_template_columns": null,
            "grid_template_rows": null,
            "height": null,
            "justify_content": null,
            "justify_items": null,
            "left": null,
            "margin": null,
            "max_height": null,
            "max_width": null,
            "min_height": null,
            "min_width": null,
            "object_fit": null,
            "object_position": null,
            "order": null,
            "overflow": null,
            "overflow_x": null,
            "overflow_y": null,
            "padding": null,
            "right": null,
            "top": null,
            "visibility": null,
            "width": null
          }
        },
        "516ce1f5e0b64b7db0c633fae0ef5a48": {
          "model_module": "@jupyter-widgets/controls",
          "model_name": "ProgressStyleModel",
          "model_module_version": "1.5.0",
          "state": {
            "_model_module": "@jupyter-widgets/controls",
            "_model_module_version": "1.5.0",
            "_model_name": "ProgressStyleModel",
            "_view_count": null,
            "_view_module": "@jupyter-widgets/base",
            "_view_module_version": "1.2.0",
            "_view_name": "StyleView",
            "bar_color": null,
            "description_width": ""
          }
        },
        "86a6172acd1744b1a5d9d31c221bda3c": {
          "model_module": "@jupyter-widgets/base",
          "model_name": "LayoutModel",
          "model_module_version": "1.2.0",
          "state": {
            "_model_module": "@jupyter-widgets/base",
            "_model_module_version": "1.2.0",
            "_model_name": "LayoutModel",
            "_view_count": null,
            "_view_module": "@jupyter-widgets/base",
            "_view_module_version": "1.2.0",
            "_view_name": "LayoutView",
            "align_content": null,
            "align_items": null,
            "align_self": null,
            "border": null,
            "bottom": null,
            "display": null,
            "flex": null,
            "flex_flow": null,
            "grid_area": null,
            "grid_auto_columns": null,
            "grid_auto_flow": null,
            "grid_auto_rows": null,
            "grid_column": null,
            "grid_gap": null,
            "grid_row": null,
            "grid_template_areas": null,
            "grid_template_columns": null,
            "grid_template_rows": null,
            "height": null,
            "justify_content": null,
            "justify_items": null,
            "left": null,
            "margin": null,
            "max_height": null,
            "max_width": null,
            "min_height": null,
            "min_width": null,
            "object_fit": null,
            "object_position": null,
            "order": null,
            "overflow": null,
            "overflow_x": null,
            "overflow_y": null,
            "padding": null,
            "right": null,
            "top": null,
            "visibility": null,
            "width": null
          }
        },
        "e964388632c5413aa282538efd42fbd2": {
          "model_module": "@jupyter-widgets/controls",
          "model_name": "DescriptionStyleModel",
          "model_module_version": "1.5.0",
          "state": {
            "_model_module": "@jupyter-widgets/controls",
            "_model_module_version": "1.5.0",
            "_model_name": "DescriptionStyleModel",
            "_view_count": null,
            "_view_module": "@jupyter-widgets/base",
            "_view_module_version": "1.2.0",
            "_view_name": "StyleView",
            "description_width": ""
          }
        },
        "c3a610b1e1224b2e965634b860731115": {
          "model_module": "@jupyter-widgets/controls",
          "model_name": "HBoxModel",
          "model_module_version": "1.5.0",
          "state": {
            "_dom_classes": [],
            "_model_module": "@jupyter-widgets/controls",
            "_model_module_version": "1.5.0",
            "_model_name": "HBoxModel",
            "_view_count": null,
            "_view_module": "@jupyter-widgets/controls",
            "_view_module_version": "1.5.0",
            "_view_name": "HBoxView",
            "box_style": "",
            "children": [
              "IPY_MODEL_f7a90fc2c4264e4b98edd6f7156fefc6",
              "IPY_MODEL_c5b0fd1dfc1a402898c2595040d0a1eb",
              "IPY_MODEL_ac4abd79bfe7414b829692a3d5b8c79e"
            ],
            "layout": "IPY_MODEL_e64368c7265c4262acd792031eed85ca"
          }
        },
        "f7a90fc2c4264e4b98edd6f7156fefc6": {
          "model_module": "@jupyter-widgets/controls",
          "model_name": "HTMLModel",
          "model_module_version": "1.5.0",
          "state": {
            "_dom_classes": [],
            "_model_module": "@jupyter-widgets/controls",
            "_model_module_version": "1.5.0",
            "_model_name": "HTMLModel",
            "_view_count": null,
            "_view_module": "@jupyter-widgets/controls",
            "_view_module_version": "1.5.0",
            "_view_name": "HTMLView",
            "description": "",
            "description_tooltip": null,
            "layout": "IPY_MODEL_d6ca4fea38324dd19d78eaf5fd0c5de1",
            "placeholder": "​",
            "style": "IPY_MODEL_9a26e703c2cd4f21b6a046c96fd03a84",
            "value": "Generating validation split:   0%"
          }
        },
        "c5b0fd1dfc1a402898c2595040d0a1eb": {
          "model_module": "@jupyter-widgets/controls",
          "model_name": "FloatProgressModel",
          "model_module_version": "1.5.0",
          "state": {
            "_dom_classes": [],
            "_model_module": "@jupyter-widgets/controls",
            "_model_module_version": "1.5.0",
            "_model_name": "FloatProgressModel",
            "_view_count": null,
            "_view_module": "@jupyter-widgets/controls",
            "_view_module_version": "1.5.0",
            "_view_name": "ProgressView",
            "bar_style": "",
            "description": "",
            "description_tooltip": null,
            "layout": "IPY_MODEL_7fb8c7c30e7b459b9da6c39cfdaa78a9",
            "max": 1086,
            "min": 0,
            "orientation": "horizontal",
            "style": "IPY_MODEL_81177e41e2bc4c5fa2f999062746bd29",
            "value": 1086
          }
        },
        "ac4abd79bfe7414b829692a3d5b8c79e": {
          "model_module": "@jupyter-widgets/controls",
          "model_name": "HTMLModel",
          "model_module_version": "1.5.0",
          "state": {
            "_dom_classes": [],
            "_model_module": "@jupyter-widgets/controls",
            "_model_module_version": "1.5.0",
            "_model_name": "HTMLModel",
            "_view_count": null,
            "_view_module": "@jupyter-widgets/controls",
            "_view_module_version": "1.5.0",
            "_view_name": "HTMLView",
            "description": "",
            "description_tooltip": null,
            "layout": "IPY_MODEL_b8148697063a4b968ad816a994a57c68",
            "placeholder": "​",
            "style": "IPY_MODEL_534b57c4e8594690801d70998492727c",
            "value": " 0/1086 [00:00&lt;?, ? examples/s]"
          }
        },
        "e64368c7265c4262acd792031eed85ca": {
          "model_module": "@jupyter-widgets/base",
          "model_name": "LayoutModel",
          "model_module_version": "1.2.0",
          "state": {
            "_model_module": "@jupyter-widgets/base",
            "_model_module_version": "1.2.0",
            "_model_name": "LayoutModel",
            "_view_count": null,
            "_view_module": "@jupyter-widgets/base",
            "_view_module_version": "1.2.0",
            "_view_name": "LayoutView",
            "align_content": null,
            "align_items": null,
            "align_self": null,
            "border": null,
            "bottom": null,
            "display": null,
            "flex": null,
            "flex_flow": null,
            "grid_area": null,
            "grid_auto_columns": null,
            "grid_auto_flow": null,
            "grid_auto_rows": null,
            "grid_column": null,
            "grid_gap": null,
            "grid_row": null,
            "grid_template_areas": null,
            "grid_template_columns": null,
            "grid_template_rows": null,
            "height": null,
            "justify_content": null,
            "justify_items": null,
            "left": null,
            "margin": null,
            "max_height": null,
            "max_width": null,
            "min_height": null,
            "min_width": null,
            "object_fit": null,
            "object_position": null,
            "order": null,
            "overflow": null,
            "overflow_x": null,
            "overflow_y": null,
            "padding": null,
            "right": null,
            "top": null,
            "visibility": "hidden",
            "width": null
          }
        },
        "d6ca4fea38324dd19d78eaf5fd0c5de1": {
          "model_module": "@jupyter-widgets/base",
          "model_name": "LayoutModel",
          "model_module_version": "1.2.0",
          "state": {
            "_model_module": "@jupyter-widgets/base",
            "_model_module_version": "1.2.0",
            "_model_name": "LayoutModel",
            "_view_count": null,
            "_view_module": "@jupyter-widgets/base",
            "_view_module_version": "1.2.0",
            "_view_name": "LayoutView",
            "align_content": null,
            "align_items": null,
            "align_self": null,
            "border": null,
            "bottom": null,
            "display": null,
            "flex": null,
            "flex_flow": null,
            "grid_area": null,
            "grid_auto_columns": null,
            "grid_auto_flow": null,
            "grid_auto_rows": null,
            "grid_column": null,
            "grid_gap": null,
            "grid_row": null,
            "grid_template_areas": null,
            "grid_template_columns": null,
            "grid_template_rows": null,
            "height": null,
            "justify_content": null,
            "justify_items": null,
            "left": null,
            "margin": null,
            "max_height": null,
            "max_width": null,
            "min_height": null,
            "min_width": null,
            "object_fit": null,
            "object_position": null,
            "order": null,
            "overflow": null,
            "overflow_x": null,
            "overflow_y": null,
            "padding": null,
            "right": null,
            "top": null,
            "visibility": null,
            "width": null
          }
        },
        "9a26e703c2cd4f21b6a046c96fd03a84": {
          "model_module": "@jupyter-widgets/controls",
          "model_name": "DescriptionStyleModel",
          "model_module_version": "1.5.0",
          "state": {
            "_model_module": "@jupyter-widgets/controls",
            "_model_module_version": "1.5.0",
            "_model_name": "DescriptionStyleModel",
            "_view_count": null,
            "_view_module": "@jupyter-widgets/base",
            "_view_module_version": "1.2.0",
            "_view_name": "StyleView",
            "description_width": ""
          }
        },
        "7fb8c7c30e7b459b9da6c39cfdaa78a9": {
          "model_module": "@jupyter-widgets/base",
          "model_name": "LayoutModel",
          "model_module_version": "1.2.0",
          "state": {
            "_model_module": "@jupyter-widgets/base",
            "_model_module_version": "1.2.0",
            "_model_name": "LayoutModel",
            "_view_count": null,
            "_view_module": "@jupyter-widgets/base",
            "_view_module_version": "1.2.0",
            "_view_name": "LayoutView",
            "align_content": null,
            "align_items": null,
            "align_self": null,
            "border": null,
            "bottom": null,
            "display": null,
            "flex": null,
            "flex_flow": null,
            "grid_area": null,
            "grid_auto_columns": null,
            "grid_auto_flow": null,
            "grid_auto_rows": null,
            "grid_column": null,
            "grid_gap": null,
            "grid_row": null,
            "grid_template_areas": null,
            "grid_template_columns": null,
            "grid_template_rows": null,
            "height": null,
            "justify_content": null,
            "justify_items": null,
            "left": null,
            "margin": null,
            "max_height": null,
            "max_width": null,
            "min_height": null,
            "min_width": null,
            "object_fit": null,
            "object_position": null,
            "order": null,
            "overflow": null,
            "overflow_x": null,
            "overflow_y": null,
            "padding": null,
            "right": null,
            "top": null,
            "visibility": null,
            "width": null
          }
        },
        "81177e41e2bc4c5fa2f999062746bd29": {
          "model_module": "@jupyter-widgets/controls",
          "model_name": "ProgressStyleModel",
          "model_module_version": "1.5.0",
          "state": {
            "_model_module": "@jupyter-widgets/controls",
            "_model_module_version": "1.5.0",
            "_model_name": "ProgressStyleModel",
            "_view_count": null,
            "_view_module": "@jupyter-widgets/base",
            "_view_module_version": "1.2.0",
            "_view_name": "StyleView",
            "bar_color": null,
            "description_width": ""
          }
        },
        "b8148697063a4b968ad816a994a57c68": {
          "model_module": "@jupyter-widgets/base",
          "model_name": "LayoutModel",
          "model_module_version": "1.2.0",
          "state": {
            "_model_module": "@jupyter-widgets/base",
            "_model_module_version": "1.2.0",
            "_model_name": "LayoutModel",
            "_view_count": null,
            "_view_module": "@jupyter-widgets/base",
            "_view_module_version": "1.2.0",
            "_view_name": "LayoutView",
            "align_content": null,
            "align_items": null,
            "align_self": null,
            "border": null,
            "bottom": null,
            "display": null,
            "flex": null,
            "flex_flow": null,
            "grid_area": null,
            "grid_auto_columns": null,
            "grid_auto_flow": null,
            "grid_auto_rows": null,
            "grid_column": null,
            "grid_gap": null,
            "grid_row": null,
            "grid_template_areas": null,
            "grid_template_columns": null,
            "grid_template_rows": null,
            "height": null,
            "justify_content": null,
            "justify_items": null,
            "left": null,
            "margin": null,
            "max_height": null,
            "max_width": null,
            "min_height": null,
            "min_width": null,
            "object_fit": null,
            "object_position": null,
            "order": null,
            "overflow": null,
            "overflow_x": null,
            "overflow_y": null,
            "padding": null,
            "right": null,
            "top": null,
            "visibility": null,
            "width": null
          }
        },
        "534b57c4e8594690801d70998492727c": {
          "model_module": "@jupyter-widgets/controls",
          "model_name": "DescriptionStyleModel",
          "model_module_version": "1.5.0",
          "state": {
            "_model_module": "@jupyter-widgets/controls",
            "_model_module_version": "1.5.0",
            "_model_name": "DescriptionStyleModel",
            "_view_count": null,
            "_view_module": "@jupyter-widgets/base",
            "_view_module_version": "1.2.0",
            "_view_name": "StyleView",
            "description_width": ""
          }
        },
        "11b1a48294064e978ab1d3a44b7b5837": {
          "model_module": "@jupyter-widgets/controls",
          "model_name": "HBoxModel",
          "model_module_version": "1.5.0",
          "state": {
            "_dom_classes": [],
            "_model_module": "@jupyter-widgets/controls",
            "_model_module_version": "1.5.0",
            "_model_name": "HBoxModel",
            "_view_count": null,
            "_view_module": "@jupyter-widgets/controls",
            "_view_module_version": "1.5.0",
            "_view_name": "HBoxView",
            "box_style": "",
            "children": [
              "IPY_MODEL_f723fc23564c415cac2ef4ba0f2f77bc",
              "IPY_MODEL_11f3c5da81f74e2c80e9f5446f5e3bdd",
              "IPY_MODEL_371ddaf903f343e0bee197d57c768f16"
            ],
            "layout": "IPY_MODEL_ce835bb87f3a4bb080a079769e8fbf7e"
          }
        },
        "f723fc23564c415cac2ef4ba0f2f77bc": {
          "model_module": "@jupyter-widgets/controls",
          "model_name": "HTMLModel",
          "model_module_version": "1.5.0",
          "state": {
            "_dom_classes": [],
            "_model_module": "@jupyter-widgets/controls",
            "_model_module_version": "1.5.0",
            "_model_name": "HTMLModel",
            "_view_count": null,
            "_view_module": "@jupyter-widgets/controls",
            "_view_module_version": "1.5.0",
            "_view_name": "HTMLView",
            "description": "",
            "description_tooltip": null,
            "layout": "IPY_MODEL_762516b819d64399a9e1d36cf4d0a3fe",
            "placeholder": "​",
            "style": "IPY_MODEL_2e0f51cdb7c54396bfc80a1e639b53c7",
            "value": "100%"
          }
        },
        "11f3c5da81f74e2c80e9f5446f5e3bdd": {
          "model_module": "@jupyter-widgets/controls",
          "model_name": "FloatProgressModel",
          "model_module_version": "1.5.0",
          "state": {
            "_dom_classes": [],
            "_model_module": "@jupyter-widgets/controls",
            "_model_module_version": "1.5.0",
            "_model_name": "FloatProgressModel",
            "_view_count": null,
            "_view_module": "@jupyter-widgets/controls",
            "_view_module_version": "1.5.0",
            "_view_name": "ProgressView",
            "bar_style": "success",
            "description": "",
            "description_tooltip": null,
            "layout": "IPY_MODEL_9b6dfde147614514801ff51bbaa12847",
            "max": 3,
            "min": 0,
            "orientation": "horizontal",
            "style": "IPY_MODEL_bc5f9dd8dba143fb8c340d85495454fa",
            "value": 3
          }
        },
        "371ddaf903f343e0bee197d57c768f16": {
          "model_module": "@jupyter-widgets/controls",
          "model_name": "HTMLModel",
          "model_module_version": "1.5.0",
          "state": {
            "_dom_classes": [],
            "_model_module": "@jupyter-widgets/controls",
            "_model_module_version": "1.5.0",
            "_model_name": "HTMLModel",
            "_view_count": null,
            "_view_module": "@jupyter-widgets/controls",
            "_view_module_version": "1.5.0",
            "_view_name": "HTMLView",
            "description": "",
            "description_tooltip": null,
            "layout": "IPY_MODEL_c416c3d4d0f04a3a81c2e92f88613b2d",
            "placeholder": "​",
            "style": "IPY_MODEL_c700c5d8f2214fba8084f789ae5577c6",
            "value": " 3/3 [00:00&lt;00:00, 101.24it/s]"
          }
        },
        "ce835bb87f3a4bb080a079769e8fbf7e": {
          "model_module": "@jupyter-widgets/base",
          "model_name": "LayoutModel",
          "model_module_version": "1.2.0",
          "state": {
            "_model_module": "@jupyter-widgets/base",
            "_model_module_version": "1.2.0",
            "_model_name": "LayoutModel",
            "_view_count": null,
            "_view_module": "@jupyter-widgets/base",
            "_view_module_version": "1.2.0",
            "_view_name": "LayoutView",
            "align_content": null,
            "align_items": null,
            "align_self": null,
            "border": null,
            "bottom": null,
            "display": null,
            "flex": null,
            "flex_flow": null,
            "grid_area": null,
            "grid_auto_columns": null,
            "grid_auto_flow": null,
            "grid_auto_rows": null,
            "grid_column": null,
            "grid_gap": null,
            "grid_row": null,
            "grid_template_areas": null,
            "grid_template_columns": null,
            "grid_template_rows": null,
            "height": null,
            "justify_content": null,
            "justify_items": null,
            "left": null,
            "margin": null,
            "max_height": null,
            "max_width": null,
            "min_height": null,
            "min_width": null,
            "object_fit": null,
            "object_position": null,
            "order": null,
            "overflow": null,
            "overflow_x": null,
            "overflow_y": null,
            "padding": null,
            "right": null,
            "top": null,
            "visibility": null,
            "width": null
          }
        },
        "762516b819d64399a9e1d36cf4d0a3fe": {
          "model_module": "@jupyter-widgets/base",
          "model_name": "LayoutModel",
          "model_module_version": "1.2.0",
          "state": {
            "_model_module": "@jupyter-widgets/base",
            "_model_module_version": "1.2.0",
            "_model_name": "LayoutModel",
            "_view_count": null,
            "_view_module": "@jupyter-widgets/base",
            "_view_module_version": "1.2.0",
            "_view_name": "LayoutView",
            "align_content": null,
            "align_items": null,
            "align_self": null,
            "border": null,
            "bottom": null,
            "display": null,
            "flex": null,
            "flex_flow": null,
            "grid_area": null,
            "grid_auto_columns": null,
            "grid_auto_flow": null,
            "grid_auto_rows": null,
            "grid_column": null,
            "grid_gap": null,
            "grid_row": null,
            "grid_template_areas": null,
            "grid_template_columns": null,
            "grid_template_rows": null,
            "height": null,
            "justify_content": null,
            "justify_items": null,
            "left": null,
            "margin": null,
            "max_height": null,
            "max_width": null,
            "min_height": null,
            "min_width": null,
            "object_fit": null,
            "object_position": null,
            "order": null,
            "overflow": null,
            "overflow_x": null,
            "overflow_y": null,
            "padding": null,
            "right": null,
            "top": null,
            "visibility": null,
            "width": null
          }
        },
        "2e0f51cdb7c54396bfc80a1e639b53c7": {
          "model_module": "@jupyter-widgets/controls",
          "model_name": "DescriptionStyleModel",
          "model_module_version": "1.5.0",
          "state": {
            "_model_module": "@jupyter-widgets/controls",
            "_model_module_version": "1.5.0",
            "_model_name": "DescriptionStyleModel",
            "_view_count": null,
            "_view_module": "@jupyter-widgets/base",
            "_view_module_version": "1.2.0",
            "_view_name": "StyleView",
            "description_width": ""
          }
        },
        "9b6dfde147614514801ff51bbaa12847": {
          "model_module": "@jupyter-widgets/base",
          "model_name": "LayoutModel",
          "model_module_version": "1.2.0",
          "state": {
            "_model_module": "@jupyter-widgets/base",
            "_model_module_version": "1.2.0",
            "_model_name": "LayoutModel",
            "_view_count": null,
            "_view_module": "@jupyter-widgets/base",
            "_view_module_version": "1.2.0",
            "_view_name": "LayoutView",
            "align_content": null,
            "align_items": null,
            "align_self": null,
            "border": null,
            "bottom": null,
            "display": null,
            "flex": null,
            "flex_flow": null,
            "grid_area": null,
            "grid_auto_columns": null,
            "grid_auto_flow": null,
            "grid_auto_rows": null,
            "grid_column": null,
            "grid_gap": null,
            "grid_row": null,
            "grid_template_areas": null,
            "grid_template_columns": null,
            "grid_template_rows": null,
            "height": null,
            "justify_content": null,
            "justify_items": null,
            "left": null,
            "margin": null,
            "max_height": null,
            "max_width": null,
            "min_height": null,
            "min_width": null,
            "object_fit": null,
            "object_position": null,
            "order": null,
            "overflow": null,
            "overflow_x": null,
            "overflow_y": null,
            "padding": null,
            "right": null,
            "top": null,
            "visibility": null,
            "width": null
          }
        },
        "bc5f9dd8dba143fb8c340d85495454fa": {
          "model_module": "@jupyter-widgets/controls",
          "model_name": "ProgressStyleModel",
          "model_module_version": "1.5.0",
          "state": {
            "_model_module": "@jupyter-widgets/controls",
            "_model_module_version": "1.5.0",
            "_model_name": "ProgressStyleModel",
            "_view_count": null,
            "_view_module": "@jupyter-widgets/base",
            "_view_module_version": "1.2.0",
            "_view_name": "StyleView",
            "bar_color": null,
            "description_width": ""
          }
        },
        "c416c3d4d0f04a3a81c2e92f88613b2d": {
          "model_module": "@jupyter-widgets/base",
          "model_name": "LayoutModel",
          "model_module_version": "1.2.0",
          "state": {
            "_model_module": "@jupyter-widgets/base",
            "_model_module_version": "1.2.0",
            "_model_name": "LayoutModel",
            "_view_count": null,
            "_view_module": "@jupyter-widgets/base",
            "_view_module_version": "1.2.0",
            "_view_name": "LayoutView",
            "align_content": null,
            "align_items": null,
            "align_self": null,
            "border": null,
            "bottom": null,
            "display": null,
            "flex": null,
            "flex_flow": null,
            "grid_area": null,
            "grid_auto_columns": null,
            "grid_auto_flow": null,
            "grid_auto_rows": null,
            "grid_column": null,
            "grid_gap": null,
            "grid_row": null,
            "grid_template_areas": null,
            "grid_template_columns": null,
            "grid_template_rows": null,
            "height": null,
            "justify_content": null,
            "justify_items": null,
            "left": null,
            "margin": null,
            "max_height": null,
            "max_width": null,
            "min_height": null,
            "min_width": null,
            "object_fit": null,
            "object_position": null,
            "order": null,
            "overflow": null,
            "overflow_x": null,
            "overflow_y": null,
            "padding": null,
            "right": null,
            "top": null,
            "visibility": null,
            "width": null
          }
        },
        "c700c5d8f2214fba8084f789ae5577c6": {
          "model_module": "@jupyter-widgets/controls",
          "model_name": "DescriptionStyleModel",
          "model_module_version": "1.5.0",
          "state": {
            "_model_module": "@jupyter-widgets/controls",
            "_model_module_version": "1.5.0",
            "_model_name": "DescriptionStyleModel",
            "_view_count": null,
            "_view_module": "@jupyter-widgets/base",
            "_view_module_version": "1.2.0",
            "_view_name": "StyleView",
            "description_width": ""
          }
        },
        "def203f433f54ffe8f21a03bf78f81ad": {
          "model_module": "@jupyter-widgets/controls",
          "model_name": "HBoxModel",
          "model_module_version": "1.5.0",
          "state": {
            "_dom_classes": [],
            "_model_module": "@jupyter-widgets/controls",
            "_model_module_version": "1.5.0",
            "_model_name": "HBoxModel",
            "_view_count": null,
            "_view_module": "@jupyter-widgets/controls",
            "_view_module_version": "1.5.0",
            "_view_name": "HBoxView",
            "box_style": "",
            "children": [
              "IPY_MODEL_bf54ce61187a4dc69a5ba687d8f1cd78",
              "IPY_MODEL_d76213f6860c4375ba932a7b7ece3ad1",
              "IPY_MODEL_8a5b33a508ee467d9963a8078e60e0e7"
            ],
            "layout": "IPY_MODEL_ce5324069c524867b6a000af92a88e57"
          }
        },
        "bf54ce61187a4dc69a5ba687d8f1cd78": {
          "model_module": "@jupyter-widgets/controls",
          "model_name": "HTMLModel",
          "model_module_version": "1.5.0",
          "state": {
            "_dom_classes": [],
            "_model_module": "@jupyter-widgets/controls",
            "_model_module_version": "1.5.0",
            "_model_name": "HTMLModel",
            "_view_count": null,
            "_view_module": "@jupyter-widgets/controls",
            "_view_module_version": "1.5.0",
            "_view_name": "HTMLView",
            "description": "",
            "description_tooltip": null,
            "layout": "IPY_MODEL_d3f1874b942b49f394635bbb10a948a4",
            "placeholder": "​",
            "style": "IPY_MODEL_09c6cde12a154c9d8ab7fe526c140ea5",
            "value": "Downloading (…)okenizer_config.json: 100%"
          }
        },
        "d76213f6860c4375ba932a7b7ece3ad1": {
          "model_module": "@jupyter-widgets/controls",
          "model_name": "FloatProgressModel",
          "model_module_version": "1.5.0",
          "state": {
            "_dom_classes": [],
            "_model_module": "@jupyter-widgets/controls",
            "_model_module_version": "1.5.0",
            "_model_name": "FloatProgressModel",
            "_view_count": null,
            "_view_module": "@jupyter-widgets/controls",
            "_view_module_version": "1.5.0",
            "_view_name": "ProgressView",
            "bar_style": "success",
            "description": "",
            "description_tooltip": null,
            "layout": "IPY_MODEL_725f9e7dbb374f43a3e1486be56cc423",
            "max": 29,
            "min": 0,
            "orientation": "horizontal",
            "style": "IPY_MODEL_304191a2c84c4883bd16b7333b6d53b4",
            "value": 29
          }
        },
        "8a5b33a508ee467d9963a8078e60e0e7": {
          "model_module": "@jupyter-widgets/controls",
          "model_name": "HTMLModel",
          "model_module_version": "1.5.0",
          "state": {
            "_dom_classes": [],
            "_model_module": "@jupyter-widgets/controls",
            "_model_module_version": "1.5.0",
            "_model_name": "HTMLModel",
            "_view_count": null,
            "_view_module": "@jupyter-widgets/controls",
            "_view_module_version": "1.5.0",
            "_view_name": "HTMLView",
            "description": "",
            "description_tooltip": null,
            "layout": "IPY_MODEL_c7d772f7d3744dab908d603eb24ca0dd",
            "placeholder": "​",
            "style": "IPY_MODEL_b7e2e99bcac2498f9b58131fdf2d9198",
            "value": " 29.0/29.0 [00:00&lt;00:00, 1.05kB/s]"
          }
        },
        "ce5324069c524867b6a000af92a88e57": {
          "model_module": "@jupyter-widgets/base",
          "model_name": "LayoutModel",
          "model_module_version": "1.2.0",
          "state": {
            "_model_module": "@jupyter-widgets/base",
            "_model_module_version": "1.2.0",
            "_model_name": "LayoutModel",
            "_view_count": null,
            "_view_module": "@jupyter-widgets/base",
            "_view_module_version": "1.2.0",
            "_view_name": "LayoutView",
            "align_content": null,
            "align_items": null,
            "align_self": null,
            "border": null,
            "bottom": null,
            "display": null,
            "flex": null,
            "flex_flow": null,
            "grid_area": null,
            "grid_auto_columns": null,
            "grid_auto_flow": null,
            "grid_auto_rows": null,
            "grid_column": null,
            "grid_gap": null,
            "grid_row": null,
            "grid_template_areas": null,
            "grid_template_columns": null,
            "grid_template_rows": null,
            "height": null,
            "justify_content": null,
            "justify_items": null,
            "left": null,
            "margin": null,
            "max_height": null,
            "max_width": null,
            "min_height": null,
            "min_width": null,
            "object_fit": null,
            "object_position": null,
            "order": null,
            "overflow": null,
            "overflow_x": null,
            "overflow_y": null,
            "padding": null,
            "right": null,
            "top": null,
            "visibility": null,
            "width": null
          }
        },
        "d3f1874b942b49f394635bbb10a948a4": {
          "model_module": "@jupyter-widgets/base",
          "model_name": "LayoutModel",
          "model_module_version": "1.2.0",
          "state": {
            "_model_module": "@jupyter-widgets/base",
            "_model_module_version": "1.2.0",
            "_model_name": "LayoutModel",
            "_view_count": null,
            "_view_module": "@jupyter-widgets/base",
            "_view_module_version": "1.2.0",
            "_view_name": "LayoutView",
            "align_content": null,
            "align_items": null,
            "align_self": null,
            "border": null,
            "bottom": null,
            "display": null,
            "flex": null,
            "flex_flow": null,
            "grid_area": null,
            "grid_auto_columns": null,
            "grid_auto_flow": null,
            "grid_auto_rows": null,
            "grid_column": null,
            "grid_gap": null,
            "grid_row": null,
            "grid_template_areas": null,
            "grid_template_columns": null,
            "grid_template_rows": null,
            "height": null,
            "justify_content": null,
            "justify_items": null,
            "left": null,
            "margin": null,
            "max_height": null,
            "max_width": null,
            "min_height": null,
            "min_width": null,
            "object_fit": null,
            "object_position": null,
            "order": null,
            "overflow": null,
            "overflow_x": null,
            "overflow_y": null,
            "padding": null,
            "right": null,
            "top": null,
            "visibility": null,
            "width": null
          }
        },
        "09c6cde12a154c9d8ab7fe526c140ea5": {
          "model_module": "@jupyter-widgets/controls",
          "model_name": "DescriptionStyleModel",
          "model_module_version": "1.5.0",
          "state": {
            "_model_module": "@jupyter-widgets/controls",
            "_model_module_version": "1.5.0",
            "_model_name": "DescriptionStyleModel",
            "_view_count": null,
            "_view_module": "@jupyter-widgets/base",
            "_view_module_version": "1.2.0",
            "_view_name": "StyleView",
            "description_width": ""
          }
        },
        "725f9e7dbb374f43a3e1486be56cc423": {
          "model_module": "@jupyter-widgets/base",
          "model_name": "LayoutModel",
          "model_module_version": "1.2.0",
          "state": {
            "_model_module": "@jupyter-widgets/base",
            "_model_module_version": "1.2.0",
            "_model_name": "LayoutModel",
            "_view_count": null,
            "_view_module": "@jupyter-widgets/base",
            "_view_module_version": "1.2.0",
            "_view_name": "LayoutView",
            "align_content": null,
            "align_items": null,
            "align_self": null,
            "border": null,
            "bottom": null,
            "display": null,
            "flex": null,
            "flex_flow": null,
            "grid_area": null,
            "grid_auto_columns": null,
            "grid_auto_flow": null,
            "grid_auto_rows": null,
            "grid_column": null,
            "grid_gap": null,
            "grid_row": null,
            "grid_template_areas": null,
            "grid_template_columns": null,
            "grid_template_rows": null,
            "height": null,
            "justify_content": null,
            "justify_items": null,
            "left": null,
            "margin": null,
            "max_height": null,
            "max_width": null,
            "min_height": null,
            "min_width": null,
            "object_fit": null,
            "object_position": null,
            "order": null,
            "overflow": null,
            "overflow_x": null,
            "overflow_y": null,
            "padding": null,
            "right": null,
            "top": null,
            "visibility": null,
            "width": null
          }
        },
        "304191a2c84c4883bd16b7333b6d53b4": {
          "model_module": "@jupyter-widgets/controls",
          "model_name": "ProgressStyleModel",
          "model_module_version": "1.5.0",
          "state": {
            "_model_module": "@jupyter-widgets/controls",
            "_model_module_version": "1.5.0",
            "_model_name": "ProgressStyleModel",
            "_view_count": null,
            "_view_module": "@jupyter-widgets/base",
            "_view_module_version": "1.2.0",
            "_view_name": "StyleView",
            "bar_color": null,
            "description_width": ""
          }
        },
        "c7d772f7d3744dab908d603eb24ca0dd": {
          "model_module": "@jupyter-widgets/base",
          "model_name": "LayoutModel",
          "model_module_version": "1.2.0",
          "state": {
            "_model_module": "@jupyter-widgets/base",
            "_model_module_version": "1.2.0",
            "_model_name": "LayoutModel",
            "_view_count": null,
            "_view_module": "@jupyter-widgets/base",
            "_view_module_version": "1.2.0",
            "_view_name": "LayoutView",
            "align_content": null,
            "align_items": null,
            "align_self": null,
            "border": null,
            "bottom": null,
            "display": null,
            "flex": null,
            "flex_flow": null,
            "grid_area": null,
            "grid_auto_columns": null,
            "grid_auto_flow": null,
            "grid_auto_rows": null,
            "grid_column": null,
            "grid_gap": null,
            "grid_row": null,
            "grid_template_areas": null,
            "grid_template_columns": null,
            "grid_template_rows": null,
            "height": null,
            "justify_content": null,
            "justify_items": null,
            "left": null,
            "margin": null,
            "max_height": null,
            "max_width": null,
            "min_height": null,
            "min_width": null,
            "object_fit": null,
            "object_position": null,
            "order": null,
            "overflow": null,
            "overflow_x": null,
            "overflow_y": null,
            "padding": null,
            "right": null,
            "top": null,
            "visibility": null,
            "width": null
          }
        },
        "b7e2e99bcac2498f9b58131fdf2d9198": {
          "model_module": "@jupyter-widgets/controls",
          "model_name": "DescriptionStyleModel",
          "model_module_version": "1.5.0",
          "state": {
            "_model_module": "@jupyter-widgets/controls",
            "_model_module_version": "1.5.0",
            "_model_name": "DescriptionStyleModel",
            "_view_count": null,
            "_view_module": "@jupyter-widgets/base",
            "_view_module_version": "1.2.0",
            "_view_name": "StyleView",
            "description_width": ""
          }
        },
        "5a0d003544974a7993b0272d9c24f7d2": {
          "model_module": "@jupyter-widgets/controls",
          "model_name": "HBoxModel",
          "model_module_version": "1.5.0",
          "state": {
            "_dom_classes": [],
            "_model_module": "@jupyter-widgets/controls",
            "_model_module_version": "1.5.0",
            "_model_name": "HBoxModel",
            "_view_count": null,
            "_view_module": "@jupyter-widgets/controls",
            "_view_module_version": "1.5.0",
            "_view_name": "HBoxView",
            "box_style": "",
            "children": [
              "IPY_MODEL_f4dd3a944cc34ffaa35fe84165bd6fac",
              "IPY_MODEL_dd3f6d09b8454113b475b685573f6502",
              "IPY_MODEL_871cb62bff454871bdd13a58202342b5"
            ],
            "layout": "IPY_MODEL_b6f6533b8e64465ab41b8b8e39ea7b23"
          }
        },
        "f4dd3a944cc34ffaa35fe84165bd6fac": {
          "model_module": "@jupyter-widgets/controls",
          "model_name": "HTMLModel",
          "model_module_version": "1.5.0",
          "state": {
            "_dom_classes": [],
            "_model_module": "@jupyter-widgets/controls",
            "_model_module_version": "1.5.0",
            "_model_name": "HTMLModel",
            "_view_count": null,
            "_view_module": "@jupyter-widgets/controls",
            "_view_module_version": "1.5.0",
            "_view_name": "HTMLView",
            "description": "",
            "description_tooltip": null,
            "layout": "IPY_MODEL_1388ec66a76d4694ad4c1be7185fd7a3",
            "placeholder": "​",
            "style": "IPY_MODEL_a415a7a40b084aed962f69d7f366edf3",
            "value": "Downloading (…)lve/main/config.json: 100%"
          }
        },
        "dd3f6d09b8454113b475b685573f6502": {
          "model_module": "@jupyter-widgets/controls",
          "model_name": "FloatProgressModel",
          "model_module_version": "1.5.0",
          "state": {
            "_dom_classes": [],
            "_model_module": "@jupyter-widgets/controls",
            "_model_module_version": "1.5.0",
            "_model_name": "FloatProgressModel",
            "_view_count": null,
            "_view_module": "@jupyter-widgets/controls",
            "_view_module_version": "1.5.0",
            "_view_name": "ProgressView",
            "bar_style": "success",
            "description": "",
            "description_tooltip": null,
            "layout": "IPY_MODEL_1787d614dbf4458db6bb8ec66f6dec9f",
            "max": 570,
            "min": 0,
            "orientation": "horizontal",
            "style": "IPY_MODEL_4d26c9ea30ce4e1082a2400fdaaff12e",
            "value": 570
          }
        },
        "871cb62bff454871bdd13a58202342b5": {
          "model_module": "@jupyter-widgets/controls",
          "model_name": "HTMLModel",
          "model_module_version": "1.5.0",
          "state": {
            "_dom_classes": [],
            "_model_module": "@jupyter-widgets/controls",
            "_model_module_version": "1.5.0",
            "_model_name": "HTMLModel",
            "_view_count": null,
            "_view_module": "@jupyter-widgets/controls",
            "_view_module_version": "1.5.0",
            "_view_name": "HTMLView",
            "description": "",
            "description_tooltip": null,
            "layout": "IPY_MODEL_2b2471b93dc642b99b307f0c255e48c8",
            "placeholder": "​",
            "style": "IPY_MODEL_2b921889bc0a4b4a88766942483fd766",
            "value": " 570/570 [00:00&lt;00:00, 12.1kB/s]"
          }
        },
        "b6f6533b8e64465ab41b8b8e39ea7b23": {
          "model_module": "@jupyter-widgets/base",
          "model_name": "LayoutModel",
          "model_module_version": "1.2.0",
          "state": {
            "_model_module": "@jupyter-widgets/base",
            "_model_module_version": "1.2.0",
            "_model_name": "LayoutModel",
            "_view_count": null,
            "_view_module": "@jupyter-widgets/base",
            "_view_module_version": "1.2.0",
            "_view_name": "LayoutView",
            "align_content": null,
            "align_items": null,
            "align_self": null,
            "border": null,
            "bottom": null,
            "display": null,
            "flex": null,
            "flex_flow": null,
            "grid_area": null,
            "grid_auto_columns": null,
            "grid_auto_flow": null,
            "grid_auto_rows": null,
            "grid_column": null,
            "grid_gap": null,
            "grid_row": null,
            "grid_template_areas": null,
            "grid_template_columns": null,
            "grid_template_rows": null,
            "height": null,
            "justify_content": null,
            "justify_items": null,
            "left": null,
            "margin": null,
            "max_height": null,
            "max_width": null,
            "min_height": null,
            "min_width": null,
            "object_fit": null,
            "object_position": null,
            "order": null,
            "overflow": null,
            "overflow_x": null,
            "overflow_y": null,
            "padding": null,
            "right": null,
            "top": null,
            "visibility": null,
            "width": null
          }
        },
        "1388ec66a76d4694ad4c1be7185fd7a3": {
          "model_module": "@jupyter-widgets/base",
          "model_name": "LayoutModel",
          "model_module_version": "1.2.0",
          "state": {
            "_model_module": "@jupyter-widgets/base",
            "_model_module_version": "1.2.0",
            "_model_name": "LayoutModel",
            "_view_count": null,
            "_view_module": "@jupyter-widgets/base",
            "_view_module_version": "1.2.0",
            "_view_name": "LayoutView",
            "align_content": null,
            "align_items": null,
            "align_self": null,
            "border": null,
            "bottom": null,
            "display": null,
            "flex": null,
            "flex_flow": null,
            "grid_area": null,
            "grid_auto_columns": null,
            "grid_auto_flow": null,
            "grid_auto_rows": null,
            "grid_column": null,
            "grid_gap": null,
            "grid_row": null,
            "grid_template_areas": null,
            "grid_template_columns": null,
            "grid_template_rows": null,
            "height": null,
            "justify_content": null,
            "justify_items": null,
            "left": null,
            "margin": null,
            "max_height": null,
            "max_width": null,
            "min_height": null,
            "min_width": null,
            "object_fit": null,
            "object_position": null,
            "order": null,
            "overflow": null,
            "overflow_x": null,
            "overflow_y": null,
            "padding": null,
            "right": null,
            "top": null,
            "visibility": null,
            "width": null
          }
        },
        "a415a7a40b084aed962f69d7f366edf3": {
          "model_module": "@jupyter-widgets/controls",
          "model_name": "DescriptionStyleModel",
          "model_module_version": "1.5.0",
          "state": {
            "_model_module": "@jupyter-widgets/controls",
            "_model_module_version": "1.5.0",
            "_model_name": "DescriptionStyleModel",
            "_view_count": null,
            "_view_module": "@jupyter-widgets/base",
            "_view_module_version": "1.2.0",
            "_view_name": "StyleView",
            "description_width": ""
          }
        },
        "1787d614dbf4458db6bb8ec66f6dec9f": {
          "model_module": "@jupyter-widgets/base",
          "model_name": "LayoutModel",
          "model_module_version": "1.2.0",
          "state": {
            "_model_module": "@jupyter-widgets/base",
            "_model_module_version": "1.2.0",
            "_model_name": "LayoutModel",
            "_view_count": null,
            "_view_module": "@jupyter-widgets/base",
            "_view_module_version": "1.2.0",
            "_view_name": "LayoutView",
            "align_content": null,
            "align_items": null,
            "align_self": null,
            "border": null,
            "bottom": null,
            "display": null,
            "flex": null,
            "flex_flow": null,
            "grid_area": null,
            "grid_auto_columns": null,
            "grid_auto_flow": null,
            "grid_auto_rows": null,
            "grid_column": null,
            "grid_gap": null,
            "grid_row": null,
            "grid_template_areas": null,
            "grid_template_columns": null,
            "grid_template_rows": null,
            "height": null,
            "justify_content": null,
            "justify_items": null,
            "left": null,
            "margin": null,
            "max_height": null,
            "max_width": null,
            "min_height": null,
            "min_width": null,
            "object_fit": null,
            "object_position": null,
            "order": null,
            "overflow": null,
            "overflow_x": null,
            "overflow_y": null,
            "padding": null,
            "right": null,
            "top": null,
            "visibility": null,
            "width": null
          }
        },
        "4d26c9ea30ce4e1082a2400fdaaff12e": {
          "model_module": "@jupyter-widgets/controls",
          "model_name": "ProgressStyleModel",
          "model_module_version": "1.5.0",
          "state": {
            "_model_module": "@jupyter-widgets/controls",
            "_model_module_version": "1.5.0",
            "_model_name": "ProgressStyleModel",
            "_view_count": null,
            "_view_module": "@jupyter-widgets/base",
            "_view_module_version": "1.2.0",
            "_view_name": "StyleView",
            "bar_color": null,
            "description_width": ""
          }
        },
        "2b2471b93dc642b99b307f0c255e48c8": {
          "model_module": "@jupyter-widgets/base",
          "model_name": "LayoutModel",
          "model_module_version": "1.2.0",
          "state": {
            "_model_module": "@jupyter-widgets/base",
            "_model_module_version": "1.2.0",
            "_model_name": "LayoutModel",
            "_view_count": null,
            "_view_module": "@jupyter-widgets/base",
            "_view_module_version": "1.2.0",
            "_view_name": "LayoutView",
            "align_content": null,
            "align_items": null,
            "align_self": null,
            "border": null,
            "bottom": null,
            "display": null,
            "flex": null,
            "flex_flow": null,
            "grid_area": null,
            "grid_auto_columns": null,
            "grid_auto_flow": null,
            "grid_auto_rows": null,
            "grid_column": null,
            "grid_gap": null,
            "grid_row": null,
            "grid_template_areas": null,
            "grid_template_columns": null,
            "grid_template_rows": null,
            "height": null,
            "justify_content": null,
            "justify_items": null,
            "left": null,
            "margin": null,
            "max_height": null,
            "max_width": null,
            "min_height": null,
            "min_width": null,
            "object_fit": null,
            "object_position": null,
            "order": null,
            "overflow": null,
            "overflow_x": null,
            "overflow_y": null,
            "padding": null,
            "right": null,
            "top": null,
            "visibility": null,
            "width": null
          }
        },
        "2b921889bc0a4b4a88766942483fd766": {
          "model_module": "@jupyter-widgets/controls",
          "model_name": "DescriptionStyleModel",
          "model_module_version": "1.5.0",
          "state": {
            "_model_module": "@jupyter-widgets/controls",
            "_model_module_version": "1.5.0",
            "_model_name": "DescriptionStyleModel",
            "_view_count": null,
            "_view_module": "@jupyter-widgets/base",
            "_view_module_version": "1.2.0",
            "_view_name": "StyleView",
            "description_width": ""
          }
        },
        "fc8d6cef5fd847f38ac2112bae7749b6": {
          "model_module": "@jupyter-widgets/controls",
          "model_name": "HBoxModel",
          "model_module_version": "1.5.0",
          "state": {
            "_dom_classes": [],
            "_model_module": "@jupyter-widgets/controls",
            "_model_module_version": "1.5.0",
            "_model_name": "HBoxModel",
            "_view_count": null,
            "_view_module": "@jupyter-widgets/controls",
            "_view_module_version": "1.5.0",
            "_view_name": "HBoxView",
            "box_style": "",
            "children": [
              "IPY_MODEL_46c36031b1c94521bfd33d08ad259fc9",
              "IPY_MODEL_33a032cafe1a46fbb39c01ef868f3196",
              "IPY_MODEL_964926496bf34dc8878bcd578f236d37"
            ],
            "layout": "IPY_MODEL_420f396d1f134a8687a614262ea25b33"
          }
        },
        "46c36031b1c94521bfd33d08ad259fc9": {
          "model_module": "@jupyter-widgets/controls",
          "model_name": "HTMLModel",
          "model_module_version": "1.5.0",
          "state": {
            "_dom_classes": [],
            "_model_module": "@jupyter-widgets/controls",
            "_model_module_version": "1.5.0",
            "_model_name": "HTMLModel",
            "_view_count": null,
            "_view_module": "@jupyter-widgets/controls",
            "_view_module_version": "1.5.0",
            "_view_name": "HTMLView",
            "description": "",
            "description_tooltip": null,
            "layout": "IPY_MODEL_7c3e30ddd412422c909bad6d9852de66",
            "placeholder": "​",
            "style": "IPY_MODEL_4a830d16a3bd4ab292927df0ae89c9bf",
            "value": "Downloading (…)solve/main/vocab.txt: 100%"
          }
        },
        "33a032cafe1a46fbb39c01ef868f3196": {
          "model_module": "@jupyter-widgets/controls",
          "model_name": "FloatProgressModel",
          "model_module_version": "1.5.0",
          "state": {
            "_dom_classes": [],
            "_model_module": "@jupyter-widgets/controls",
            "_model_module_version": "1.5.0",
            "_model_name": "FloatProgressModel",
            "_view_count": null,
            "_view_module": "@jupyter-widgets/controls",
            "_view_module_version": "1.5.0",
            "_view_name": "ProgressView",
            "bar_style": "success",
            "description": "",
            "description_tooltip": null,
            "layout": "IPY_MODEL_b2b64177e52b4c7face7b6295b28cc4a",
            "max": 213450,
            "min": 0,
            "orientation": "horizontal",
            "style": "IPY_MODEL_74a979499ff048688935be794def0c21",
            "value": 213450
          }
        },
        "964926496bf34dc8878bcd578f236d37": {
          "model_module": "@jupyter-widgets/controls",
          "model_name": "HTMLModel",
          "model_module_version": "1.5.0",
          "state": {
            "_dom_classes": [],
            "_model_module": "@jupyter-widgets/controls",
            "_model_module_version": "1.5.0",
            "_model_name": "HTMLModel",
            "_view_count": null,
            "_view_module": "@jupyter-widgets/controls",
            "_view_module_version": "1.5.0",
            "_view_name": "HTMLView",
            "description": "",
            "description_tooltip": null,
            "layout": "IPY_MODEL_49ec5ccd4eff42c2939f29f42315899f",
            "placeholder": "​",
            "style": "IPY_MODEL_573071da7b314ba7a411c96c9de63e3e",
            "value": " 213k/213k [00:00&lt;00:00, 4.89MB/s]"
          }
        },
        "420f396d1f134a8687a614262ea25b33": {
          "model_module": "@jupyter-widgets/base",
          "model_name": "LayoutModel",
          "model_module_version": "1.2.0",
          "state": {
            "_model_module": "@jupyter-widgets/base",
            "_model_module_version": "1.2.0",
            "_model_name": "LayoutModel",
            "_view_count": null,
            "_view_module": "@jupyter-widgets/base",
            "_view_module_version": "1.2.0",
            "_view_name": "LayoutView",
            "align_content": null,
            "align_items": null,
            "align_self": null,
            "border": null,
            "bottom": null,
            "display": null,
            "flex": null,
            "flex_flow": null,
            "grid_area": null,
            "grid_auto_columns": null,
            "grid_auto_flow": null,
            "grid_auto_rows": null,
            "grid_column": null,
            "grid_gap": null,
            "grid_row": null,
            "grid_template_areas": null,
            "grid_template_columns": null,
            "grid_template_rows": null,
            "height": null,
            "justify_content": null,
            "justify_items": null,
            "left": null,
            "margin": null,
            "max_height": null,
            "max_width": null,
            "min_height": null,
            "min_width": null,
            "object_fit": null,
            "object_position": null,
            "order": null,
            "overflow": null,
            "overflow_x": null,
            "overflow_y": null,
            "padding": null,
            "right": null,
            "top": null,
            "visibility": null,
            "width": null
          }
        },
        "7c3e30ddd412422c909bad6d9852de66": {
          "model_module": "@jupyter-widgets/base",
          "model_name": "LayoutModel",
          "model_module_version": "1.2.0",
          "state": {
            "_model_module": "@jupyter-widgets/base",
            "_model_module_version": "1.2.0",
            "_model_name": "LayoutModel",
            "_view_count": null,
            "_view_module": "@jupyter-widgets/base",
            "_view_module_version": "1.2.0",
            "_view_name": "LayoutView",
            "align_content": null,
            "align_items": null,
            "align_self": null,
            "border": null,
            "bottom": null,
            "display": null,
            "flex": null,
            "flex_flow": null,
            "grid_area": null,
            "grid_auto_columns": null,
            "grid_auto_flow": null,
            "grid_auto_rows": null,
            "grid_column": null,
            "grid_gap": null,
            "grid_row": null,
            "grid_template_areas": null,
            "grid_template_columns": null,
            "grid_template_rows": null,
            "height": null,
            "justify_content": null,
            "justify_items": null,
            "left": null,
            "margin": null,
            "max_height": null,
            "max_width": null,
            "min_height": null,
            "min_width": null,
            "object_fit": null,
            "object_position": null,
            "order": null,
            "overflow": null,
            "overflow_x": null,
            "overflow_y": null,
            "padding": null,
            "right": null,
            "top": null,
            "visibility": null,
            "width": null
          }
        },
        "4a830d16a3bd4ab292927df0ae89c9bf": {
          "model_module": "@jupyter-widgets/controls",
          "model_name": "DescriptionStyleModel",
          "model_module_version": "1.5.0",
          "state": {
            "_model_module": "@jupyter-widgets/controls",
            "_model_module_version": "1.5.0",
            "_model_name": "DescriptionStyleModel",
            "_view_count": null,
            "_view_module": "@jupyter-widgets/base",
            "_view_module_version": "1.2.0",
            "_view_name": "StyleView",
            "description_width": ""
          }
        },
        "b2b64177e52b4c7face7b6295b28cc4a": {
          "model_module": "@jupyter-widgets/base",
          "model_name": "LayoutModel",
          "model_module_version": "1.2.0",
          "state": {
            "_model_module": "@jupyter-widgets/base",
            "_model_module_version": "1.2.0",
            "_model_name": "LayoutModel",
            "_view_count": null,
            "_view_module": "@jupyter-widgets/base",
            "_view_module_version": "1.2.0",
            "_view_name": "LayoutView",
            "align_content": null,
            "align_items": null,
            "align_self": null,
            "border": null,
            "bottom": null,
            "display": null,
            "flex": null,
            "flex_flow": null,
            "grid_area": null,
            "grid_auto_columns": null,
            "grid_auto_flow": null,
            "grid_auto_rows": null,
            "grid_column": null,
            "grid_gap": null,
            "grid_row": null,
            "grid_template_areas": null,
            "grid_template_columns": null,
            "grid_template_rows": null,
            "height": null,
            "justify_content": null,
            "justify_items": null,
            "left": null,
            "margin": null,
            "max_height": null,
            "max_width": null,
            "min_height": null,
            "min_width": null,
            "object_fit": null,
            "object_position": null,
            "order": null,
            "overflow": null,
            "overflow_x": null,
            "overflow_y": null,
            "padding": null,
            "right": null,
            "top": null,
            "visibility": null,
            "width": null
          }
        },
        "74a979499ff048688935be794def0c21": {
          "model_module": "@jupyter-widgets/controls",
          "model_name": "ProgressStyleModel",
          "model_module_version": "1.5.0",
          "state": {
            "_model_module": "@jupyter-widgets/controls",
            "_model_module_version": "1.5.0",
            "_model_name": "ProgressStyleModel",
            "_view_count": null,
            "_view_module": "@jupyter-widgets/base",
            "_view_module_version": "1.2.0",
            "_view_name": "StyleView",
            "bar_color": null,
            "description_width": ""
          }
        },
        "49ec5ccd4eff42c2939f29f42315899f": {
          "model_module": "@jupyter-widgets/base",
          "model_name": "LayoutModel",
          "model_module_version": "1.2.0",
          "state": {
            "_model_module": "@jupyter-widgets/base",
            "_model_module_version": "1.2.0",
            "_model_name": "LayoutModel",
            "_view_count": null,
            "_view_module": "@jupyter-widgets/base",
            "_view_module_version": "1.2.0",
            "_view_name": "LayoutView",
            "align_content": null,
            "align_items": null,
            "align_self": null,
            "border": null,
            "bottom": null,
            "display": null,
            "flex": null,
            "flex_flow": null,
            "grid_area": null,
            "grid_auto_columns": null,
            "grid_auto_flow": null,
            "grid_auto_rows": null,
            "grid_column": null,
            "grid_gap": null,
            "grid_row": null,
            "grid_template_areas": null,
            "grid_template_columns": null,
            "grid_template_rows": null,
            "height": null,
            "justify_content": null,
            "justify_items": null,
            "left": null,
            "margin": null,
            "max_height": null,
            "max_width": null,
            "min_height": null,
            "min_width": null,
            "object_fit": null,
            "object_position": null,
            "order": null,
            "overflow": null,
            "overflow_x": null,
            "overflow_y": null,
            "padding": null,
            "right": null,
            "top": null,
            "visibility": null,
            "width": null
          }
        },
        "573071da7b314ba7a411c96c9de63e3e": {
          "model_module": "@jupyter-widgets/controls",
          "model_name": "DescriptionStyleModel",
          "model_module_version": "1.5.0",
          "state": {
            "_model_module": "@jupyter-widgets/controls",
            "_model_module_version": "1.5.0",
            "_model_name": "DescriptionStyleModel",
            "_view_count": null,
            "_view_module": "@jupyter-widgets/base",
            "_view_module_version": "1.2.0",
            "_view_name": "StyleView",
            "description_width": ""
          }
        },
        "c255d637fcd543f8bc8964634b216fc9": {
          "model_module": "@jupyter-widgets/controls",
          "model_name": "HBoxModel",
          "model_module_version": "1.5.0",
          "state": {
            "_dom_classes": [],
            "_model_module": "@jupyter-widgets/controls",
            "_model_module_version": "1.5.0",
            "_model_name": "HBoxModel",
            "_view_count": null,
            "_view_module": "@jupyter-widgets/controls",
            "_view_module_version": "1.5.0",
            "_view_name": "HBoxView",
            "box_style": "",
            "children": [
              "IPY_MODEL_ef6262fae21b4e9382d635fd2c7b73b2",
              "IPY_MODEL_b4f6f0c14bc94fdc8db363b97029c401",
              "IPY_MODEL_d493af3afdff47b3aa13915a395eb316"
            ],
            "layout": "IPY_MODEL_f94d40953595403eba661231de7ba25c"
          }
        },
        "ef6262fae21b4e9382d635fd2c7b73b2": {
          "model_module": "@jupyter-widgets/controls",
          "model_name": "HTMLModel",
          "model_module_version": "1.5.0",
          "state": {
            "_dom_classes": [],
            "_model_module": "@jupyter-widgets/controls",
            "_model_module_version": "1.5.0",
            "_model_name": "HTMLModel",
            "_view_count": null,
            "_view_module": "@jupyter-widgets/controls",
            "_view_module_version": "1.5.0",
            "_view_name": "HTMLView",
            "description": "",
            "description_tooltip": null,
            "layout": "IPY_MODEL_1571d3b87ef64951afe7c6b2059c1afc",
            "placeholder": "​",
            "style": "IPY_MODEL_90c3c2f7beee4dc4afc3862bf33913c2",
            "value": "Downloading (…)/main/tokenizer.json: 100%"
          }
        },
        "b4f6f0c14bc94fdc8db363b97029c401": {
          "model_module": "@jupyter-widgets/controls",
          "model_name": "FloatProgressModel",
          "model_module_version": "1.5.0",
          "state": {
            "_dom_classes": [],
            "_model_module": "@jupyter-widgets/controls",
            "_model_module_version": "1.5.0",
            "_model_name": "FloatProgressModel",
            "_view_count": null,
            "_view_module": "@jupyter-widgets/controls",
            "_view_module_version": "1.5.0",
            "_view_name": "ProgressView",
            "bar_style": "success",
            "description": "",
            "description_tooltip": null,
            "layout": "IPY_MODEL_e004f6addd714a0ea20a0b1f6be8818e",
            "max": 435797,
            "min": 0,
            "orientation": "horizontal",
            "style": "IPY_MODEL_8a3ed1077d0540d7be0af40cee489ef7",
            "value": 435797
          }
        },
        "d493af3afdff47b3aa13915a395eb316": {
          "model_module": "@jupyter-widgets/controls",
          "model_name": "HTMLModel",
          "model_module_version": "1.5.0",
          "state": {
            "_dom_classes": [],
            "_model_module": "@jupyter-widgets/controls",
            "_model_module_version": "1.5.0",
            "_model_name": "HTMLModel",
            "_view_count": null,
            "_view_module": "@jupyter-widgets/controls",
            "_view_module_version": "1.5.0",
            "_view_name": "HTMLView",
            "description": "",
            "description_tooltip": null,
            "layout": "IPY_MODEL_dbee5079fca04c48aefc94962187fd66",
            "placeholder": "​",
            "style": "IPY_MODEL_2044d80b4fbd463c8154148b0dac3a36",
            "value": " 436k/436k [00:00&lt;00:00, 3.49MB/s]"
          }
        },
        "f94d40953595403eba661231de7ba25c": {
          "model_module": "@jupyter-widgets/base",
          "model_name": "LayoutModel",
          "model_module_version": "1.2.0",
          "state": {
            "_model_module": "@jupyter-widgets/base",
            "_model_module_version": "1.2.0",
            "_model_name": "LayoutModel",
            "_view_count": null,
            "_view_module": "@jupyter-widgets/base",
            "_view_module_version": "1.2.0",
            "_view_name": "LayoutView",
            "align_content": null,
            "align_items": null,
            "align_self": null,
            "border": null,
            "bottom": null,
            "display": null,
            "flex": null,
            "flex_flow": null,
            "grid_area": null,
            "grid_auto_columns": null,
            "grid_auto_flow": null,
            "grid_auto_rows": null,
            "grid_column": null,
            "grid_gap": null,
            "grid_row": null,
            "grid_template_areas": null,
            "grid_template_columns": null,
            "grid_template_rows": null,
            "height": null,
            "justify_content": null,
            "justify_items": null,
            "left": null,
            "margin": null,
            "max_height": null,
            "max_width": null,
            "min_height": null,
            "min_width": null,
            "object_fit": null,
            "object_position": null,
            "order": null,
            "overflow": null,
            "overflow_x": null,
            "overflow_y": null,
            "padding": null,
            "right": null,
            "top": null,
            "visibility": null,
            "width": null
          }
        },
        "1571d3b87ef64951afe7c6b2059c1afc": {
          "model_module": "@jupyter-widgets/base",
          "model_name": "LayoutModel",
          "model_module_version": "1.2.0",
          "state": {
            "_model_module": "@jupyter-widgets/base",
            "_model_module_version": "1.2.0",
            "_model_name": "LayoutModel",
            "_view_count": null,
            "_view_module": "@jupyter-widgets/base",
            "_view_module_version": "1.2.0",
            "_view_name": "LayoutView",
            "align_content": null,
            "align_items": null,
            "align_self": null,
            "border": null,
            "bottom": null,
            "display": null,
            "flex": null,
            "flex_flow": null,
            "grid_area": null,
            "grid_auto_columns": null,
            "grid_auto_flow": null,
            "grid_auto_rows": null,
            "grid_column": null,
            "grid_gap": null,
            "grid_row": null,
            "grid_template_areas": null,
            "grid_template_columns": null,
            "grid_template_rows": null,
            "height": null,
            "justify_content": null,
            "justify_items": null,
            "left": null,
            "margin": null,
            "max_height": null,
            "max_width": null,
            "min_height": null,
            "min_width": null,
            "object_fit": null,
            "object_position": null,
            "order": null,
            "overflow": null,
            "overflow_x": null,
            "overflow_y": null,
            "padding": null,
            "right": null,
            "top": null,
            "visibility": null,
            "width": null
          }
        },
        "90c3c2f7beee4dc4afc3862bf33913c2": {
          "model_module": "@jupyter-widgets/controls",
          "model_name": "DescriptionStyleModel",
          "model_module_version": "1.5.0",
          "state": {
            "_model_module": "@jupyter-widgets/controls",
            "_model_module_version": "1.5.0",
            "_model_name": "DescriptionStyleModel",
            "_view_count": null,
            "_view_module": "@jupyter-widgets/base",
            "_view_module_version": "1.2.0",
            "_view_name": "StyleView",
            "description_width": ""
          }
        },
        "e004f6addd714a0ea20a0b1f6be8818e": {
          "model_module": "@jupyter-widgets/base",
          "model_name": "LayoutModel",
          "model_module_version": "1.2.0",
          "state": {
            "_model_module": "@jupyter-widgets/base",
            "_model_module_version": "1.2.0",
            "_model_name": "LayoutModel",
            "_view_count": null,
            "_view_module": "@jupyter-widgets/base",
            "_view_module_version": "1.2.0",
            "_view_name": "LayoutView",
            "align_content": null,
            "align_items": null,
            "align_self": null,
            "border": null,
            "bottom": null,
            "display": null,
            "flex": null,
            "flex_flow": null,
            "grid_area": null,
            "grid_auto_columns": null,
            "grid_auto_flow": null,
            "grid_auto_rows": null,
            "grid_column": null,
            "grid_gap": null,
            "grid_row": null,
            "grid_template_areas": null,
            "grid_template_columns": null,
            "grid_template_rows": null,
            "height": null,
            "justify_content": null,
            "justify_items": null,
            "left": null,
            "margin": null,
            "max_height": null,
            "max_width": null,
            "min_height": null,
            "min_width": null,
            "object_fit": null,
            "object_position": null,
            "order": null,
            "overflow": null,
            "overflow_x": null,
            "overflow_y": null,
            "padding": null,
            "right": null,
            "top": null,
            "visibility": null,
            "width": null
          }
        },
        "8a3ed1077d0540d7be0af40cee489ef7": {
          "model_module": "@jupyter-widgets/controls",
          "model_name": "ProgressStyleModel",
          "model_module_version": "1.5.0",
          "state": {
            "_model_module": "@jupyter-widgets/controls",
            "_model_module_version": "1.5.0",
            "_model_name": "ProgressStyleModel",
            "_view_count": null,
            "_view_module": "@jupyter-widgets/base",
            "_view_module_version": "1.2.0",
            "_view_name": "StyleView",
            "bar_color": null,
            "description_width": ""
          }
        },
        "dbee5079fca04c48aefc94962187fd66": {
          "model_module": "@jupyter-widgets/base",
          "model_name": "LayoutModel",
          "model_module_version": "1.2.0",
          "state": {
            "_model_module": "@jupyter-widgets/base",
            "_model_module_version": "1.2.0",
            "_model_name": "LayoutModel",
            "_view_count": null,
            "_view_module": "@jupyter-widgets/base",
            "_view_module_version": "1.2.0",
            "_view_name": "LayoutView",
            "align_content": null,
            "align_items": null,
            "align_self": null,
            "border": null,
            "bottom": null,
            "display": null,
            "flex": null,
            "flex_flow": null,
            "grid_area": null,
            "grid_auto_columns": null,
            "grid_auto_flow": null,
            "grid_auto_rows": null,
            "grid_column": null,
            "grid_gap": null,
            "grid_row": null,
            "grid_template_areas": null,
            "grid_template_columns": null,
            "grid_template_rows": null,
            "height": null,
            "justify_content": null,
            "justify_items": null,
            "left": null,
            "margin": null,
            "max_height": null,
            "max_width": null,
            "min_height": null,
            "min_width": null,
            "object_fit": null,
            "object_position": null,
            "order": null,
            "overflow": null,
            "overflow_x": null,
            "overflow_y": null,
            "padding": null,
            "right": null,
            "top": null,
            "visibility": null,
            "width": null
          }
        },
        "2044d80b4fbd463c8154148b0dac3a36": {
          "model_module": "@jupyter-widgets/controls",
          "model_name": "DescriptionStyleModel",
          "model_module_version": "1.5.0",
          "state": {
            "_model_module": "@jupyter-widgets/controls",
            "_model_module_version": "1.5.0",
            "_model_name": "DescriptionStyleModel",
            "_view_count": null,
            "_view_module": "@jupyter-widgets/base",
            "_view_module_version": "1.2.0",
            "_view_name": "StyleView",
            "description_width": ""
          }
        },
        "16ccf759339e4c63aaaba347cbf65dfc": {
          "model_module": "@jupyter-widgets/controls",
          "model_name": "HBoxModel",
          "model_module_version": "1.5.0",
          "state": {
            "_dom_classes": [],
            "_model_module": "@jupyter-widgets/controls",
            "_model_module_version": "1.5.0",
            "_model_name": "HBoxModel",
            "_view_count": null,
            "_view_module": "@jupyter-widgets/controls",
            "_view_module_version": "1.5.0",
            "_view_name": "HBoxView",
            "box_style": "",
            "children": [
              "IPY_MODEL_acfc2e176dee4b0bb1a43654e1835689",
              "IPY_MODEL_cef72f929f7c4399b0c503bc7205daa2",
              "IPY_MODEL_fe28202e146b4c5aa4471001ae022bf4"
            ],
            "layout": "IPY_MODEL_94d0a5791706431a9ea9f41e8c5966a1"
          }
        },
        "acfc2e176dee4b0bb1a43654e1835689": {
          "model_module": "@jupyter-widgets/controls",
          "model_name": "HTMLModel",
          "model_module_version": "1.5.0",
          "state": {
            "_dom_classes": [],
            "_model_module": "@jupyter-widgets/controls",
            "_model_module_version": "1.5.0",
            "_model_name": "HTMLModel",
            "_view_count": null,
            "_view_module": "@jupyter-widgets/controls",
            "_view_module_version": "1.5.0",
            "_view_name": "HTMLView",
            "description": "",
            "description_tooltip": null,
            "layout": "IPY_MODEL_fef0998614bd43b7ac2c64f75b1ae82b",
            "placeholder": "​",
            "style": "IPY_MODEL_5d6d78d873e1401aaf56e5e08ba8ffaf",
            "value": "Map: 100%"
          }
        },
        "cef72f929f7c4399b0c503bc7205daa2": {
          "model_module": "@jupyter-widgets/controls",
          "model_name": "FloatProgressModel",
          "model_module_version": "1.5.0",
          "state": {
            "_dom_classes": [],
            "_model_module": "@jupyter-widgets/controls",
            "_model_module_version": "1.5.0",
            "_model_name": "FloatProgressModel",
            "_view_count": null,
            "_view_module": "@jupyter-widgets/controls",
            "_view_module_version": "1.5.0",
            "_view_name": "ProgressView",
            "bar_style": "",
            "description": "",
            "description_tooltip": null,
            "layout": "IPY_MODEL_62470ca0ee254b9aa7c4649d5254db9d",
            "max": 6648,
            "min": 0,
            "orientation": "horizontal",
            "style": "IPY_MODEL_7a6c2addc44648d68b46d147d50f177c",
            "value": 6648
          }
        },
        "fe28202e146b4c5aa4471001ae022bf4": {
          "model_module": "@jupyter-widgets/controls",
          "model_name": "HTMLModel",
          "model_module_version": "1.5.0",
          "state": {
            "_dom_classes": [],
            "_model_module": "@jupyter-widgets/controls",
            "_model_module_version": "1.5.0",
            "_model_name": "HTMLModel",
            "_view_count": null,
            "_view_module": "@jupyter-widgets/controls",
            "_view_module_version": "1.5.0",
            "_view_name": "HTMLView",
            "description": "",
            "description_tooltip": null,
            "layout": "IPY_MODEL_da5bf3f78d1e4acc865baa75924c297b",
            "placeholder": "​",
            "style": "IPY_MODEL_fff1aa250b76445bb7eea52af762d304",
            "value": " 6648/6648 [00:35&lt;00:00, 231.81 examples/s]"
          }
        },
        "94d0a5791706431a9ea9f41e8c5966a1": {
          "model_module": "@jupyter-widgets/base",
          "model_name": "LayoutModel",
          "model_module_version": "1.2.0",
          "state": {
            "_model_module": "@jupyter-widgets/base",
            "_model_module_version": "1.2.0",
            "_model_name": "LayoutModel",
            "_view_count": null,
            "_view_module": "@jupyter-widgets/base",
            "_view_module_version": "1.2.0",
            "_view_name": "LayoutView",
            "align_content": null,
            "align_items": null,
            "align_self": null,
            "border": null,
            "bottom": null,
            "display": null,
            "flex": null,
            "flex_flow": null,
            "grid_area": null,
            "grid_auto_columns": null,
            "grid_auto_flow": null,
            "grid_auto_rows": null,
            "grid_column": null,
            "grid_gap": null,
            "grid_row": null,
            "grid_template_areas": null,
            "grid_template_columns": null,
            "grid_template_rows": null,
            "height": null,
            "justify_content": null,
            "justify_items": null,
            "left": null,
            "margin": null,
            "max_height": null,
            "max_width": null,
            "min_height": null,
            "min_width": null,
            "object_fit": null,
            "object_position": null,
            "order": null,
            "overflow": null,
            "overflow_x": null,
            "overflow_y": null,
            "padding": null,
            "right": null,
            "top": null,
            "visibility": "hidden",
            "width": null
          }
        },
        "fef0998614bd43b7ac2c64f75b1ae82b": {
          "model_module": "@jupyter-widgets/base",
          "model_name": "LayoutModel",
          "model_module_version": "1.2.0",
          "state": {
            "_model_module": "@jupyter-widgets/base",
            "_model_module_version": "1.2.0",
            "_model_name": "LayoutModel",
            "_view_count": null,
            "_view_module": "@jupyter-widgets/base",
            "_view_module_version": "1.2.0",
            "_view_name": "LayoutView",
            "align_content": null,
            "align_items": null,
            "align_self": null,
            "border": null,
            "bottom": null,
            "display": null,
            "flex": null,
            "flex_flow": null,
            "grid_area": null,
            "grid_auto_columns": null,
            "grid_auto_flow": null,
            "grid_auto_rows": null,
            "grid_column": null,
            "grid_gap": null,
            "grid_row": null,
            "grid_template_areas": null,
            "grid_template_columns": null,
            "grid_template_rows": null,
            "height": null,
            "justify_content": null,
            "justify_items": null,
            "left": null,
            "margin": null,
            "max_height": null,
            "max_width": null,
            "min_height": null,
            "min_width": null,
            "object_fit": null,
            "object_position": null,
            "order": null,
            "overflow": null,
            "overflow_x": null,
            "overflow_y": null,
            "padding": null,
            "right": null,
            "top": null,
            "visibility": null,
            "width": null
          }
        },
        "5d6d78d873e1401aaf56e5e08ba8ffaf": {
          "model_module": "@jupyter-widgets/controls",
          "model_name": "DescriptionStyleModel",
          "model_module_version": "1.5.0",
          "state": {
            "_model_module": "@jupyter-widgets/controls",
            "_model_module_version": "1.5.0",
            "_model_name": "DescriptionStyleModel",
            "_view_count": null,
            "_view_module": "@jupyter-widgets/base",
            "_view_module_version": "1.2.0",
            "_view_name": "StyleView",
            "description_width": ""
          }
        },
        "62470ca0ee254b9aa7c4649d5254db9d": {
          "model_module": "@jupyter-widgets/base",
          "model_name": "LayoutModel",
          "model_module_version": "1.2.0",
          "state": {
            "_model_module": "@jupyter-widgets/base",
            "_model_module_version": "1.2.0",
            "_model_name": "LayoutModel",
            "_view_count": null,
            "_view_module": "@jupyter-widgets/base",
            "_view_module_version": "1.2.0",
            "_view_name": "LayoutView",
            "align_content": null,
            "align_items": null,
            "align_self": null,
            "border": null,
            "bottom": null,
            "display": null,
            "flex": null,
            "flex_flow": null,
            "grid_area": null,
            "grid_auto_columns": null,
            "grid_auto_flow": null,
            "grid_auto_rows": null,
            "grid_column": null,
            "grid_gap": null,
            "grid_row": null,
            "grid_template_areas": null,
            "grid_template_columns": null,
            "grid_template_rows": null,
            "height": null,
            "justify_content": null,
            "justify_items": null,
            "left": null,
            "margin": null,
            "max_height": null,
            "max_width": null,
            "min_height": null,
            "min_width": null,
            "object_fit": null,
            "object_position": null,
            "order": null,
            "overflow": null,
            "overflow_x": null,
            "overflow_y": null,
            "padding": null,
            "right": null,
            "top": null,
            "visibility": null,
            "width": null
          }
        },
        "7a6c2addc44648d68b46d147d50f177c": {
          "model_module": "@jupyter-widgets/controls",
          "model_name": "ProgressStyleModel",
          "model_module_version": "1.5.0",
          "state": {
            "_model_module": "@jupyter-widgets/controls",
            "_model_module_version": "1.5.0",
            "_model_name": "ProgressStyleModel",
            "_view_count": null,
            "_view_module": "@jupyter-widgets/base",
            "_view_module_version": "1.2.0",
            "_view_name": "StyleView",
            "bar_color": null,
            "description_width": ""
          }
        },
        "da5bf3f78d1e4acc865baa75924c297b": {
          "model_module": "@jupyter-widgets/base",
          "model_name": "LayoutModel",
          "model_module_version": "1.2.0",
          "state": {
            "_model_module": "@jupyter-widgets/base",
            "_model_module_version": "1.2.0",
            "_model_name": "LayoutModel",
            "_view_count": null,
            "_view_module": "@jupyter-widgets/base",
            "_view_module_version": "1.2.0",
            "_view_name": "LayoutView",
            "align_content": null,
            "align_items": null,
            "align_self": null,
            "border": null,
            "bottom": null,
            "display": null,
            "flex": null,
            "flex_flow": null,
            "grid_area": null,
            "grid_auto_columns": null,
            "grid_auto_flow": null,
            "grid_auto_rows": null,
            "grid_column": null,
            "grid_gap": null,
            "grid_row": null,
            "grid_template_areas": null,
            "grid_template_columns": null,
            "grid_template_rows": null,
            "height": null,
            "justify_content": null,
            "justify_items": null,
            "left": null,
            "margin": null,
            "max_height": null,
            "max_width": null,
            "min_height": null,
            "min_width": null,
            "object_fit": null,
            "object_position": null,
            "order": null,
            "overflow": null,
            "overflow_x": null,
            "overflow_y": null,
            "padding": null,
            "right": null,
            "top": null,
            "visibility": null,
            "width": null
          }
        },
        "fff1aa250b76445bb7eea52af762d304": {
          "model_module": "@jupyter-widgets/controls",
          "model_name": "DescriptionStyleModel",
          "model_module_version": "1.5.0",
          "state": {
            "_model_module": "@jupyter-widgets/controls",
            "_model_module_version": "1.5.0",
            "_model_name": "DescriptionStyleModel",
            "_view_count": null,
            "_view_module": "@jupyter-widgets/base",
            "_view_module_version": "1.2.0",
            "_view_name": "StyleView",
            "description_width": ""
          }
        },
        "1fc55c4907844da5879e19752458f91f": {
          "model_module": "@jupyter-widgets/controls",
          "model_name": "HBoxModel",
          "model_module_version": "1.5.0",
          "state": {
            "_dom_classes": [],
            "_model_module": "@jupyter-widgets/controls",
            "_model_module_version": "1.5.0",
            "_model_name": "HBoxModel",
            "_view_count": null,
            "_view_module": "@jupyter-widgets/controls",
            "_view_module_version": "1.5.0",
            "_view_name": "HBoxView",
            "box_style": "",
            "children": [
              "IPY_MODEL_646e86a81c404aa690e840ab198c84de",
              "IPY_MODEL_f860e68f0e2143b4904249721851e97d",
              "IPY_MODEL_49c957a218c2447dba569d350284cae2"
            ],
            "layout": "IPY_MODEL_bc1bda8c7ba54938af0904c2c9f2565e"
          }
        },
        "646e86a81c404aa690e840ab198c84de": {
          "model_module": "@jupyter-widgets/controls",
          "model_name": "HTMLModel",
          "model_module_version": "1.5.0",
          "state": {
            "_dom_classes": [],
            "_model_module": "@jupyter-widgets/controls",
            "_model_module_version": "1.5.0",
            "_model_name": "HTMLModel",
            "_view_count": null,
            "_view_module": "@jupyter-widgets/controls",
            "_view_module_version": "1.5.0",
            "_view_name": "HTMLView",
            "description": "",
            "description_tooltip": null,
            "layout": "IPY_MODEL_1218c170188b483680b0e8883d5a2187",
            "placeholder": "​",
            "style": "IPY_MODEL_86ba64634afc4b88aaef199d7192637e",
            "value": "Downloading (…)olve/main/vocab.json: 100%"
          }
        },
        "f860e68f0e2143b4904249721851e97d": {
          "model_module": "@jupyter-widgets/controls",
          "model_name": "FloatProgressModel",
          "model_module_version": "1.5.0",
          "state": {
            "_dom_classes": [],
            "_model_module": "@jupyter-widgets/controls",
            "_model_module_version": "1.5.0",
            "_model_name": "FloatProgressModel",
            "_view_count": null,
            "_view_module": "@jupyter-widgets/controls",
            "_view_module_version": "1.5.0",
            "_view_name": "ProgressView",
            "bar_style": "success",
            "description": "",
            "description_tooltip": null,
            "layout": "IPY_MODEL_da472ec8b6434271aaa45da7c5c2b5dc",
            "max": 1042301,
            "min": 0,
            "orientation": "horizontal",
            "style": "IPY_MODEL_d299c6104952474885ff8d3a5bf467b4",
            "value": 1042301
          }
        },
        "49c957a218c2447dba569d350284cae2": {
          "model_module": "@jupyter-widgets/controls",
          "model_name": "HTMLModel",
          "model_module_version": "1.5.0",
          "state": {
            "_dom_classes": [],
            "_model_module": "@jupyter-widgets/controls",
            "_model_module_version": "1.5.0",
            "_model_name": "HTMLModel",
            "_view_count": null,
            "_view_module": "@jupyter-widgets/controls",
            "_view_module_version": "1.5.0",
            "_view_name": "HTMLView",
            "description": "",
            "description_tooltip": null,
            "layout": "IPY_MODEL_e6050b7474e64f5a8bf8933387fa667b",
            "placeholder": "​",
            "style": "IPY_MODEL_5c0b879605f94a0db03987ed808c2844",
            "value": " 1.04M/1.04M [00:00&lt;00:00, 3.84MB/s]"
          }
        },
        "bc1bda8c7ba54938af0904c2c9f2565e": {
          "model_module": "@jupyter-widgets/base",
          "model_name": "LayoutModel",
          "model_module_version": "1.2.0",
          "state": {
            "_model_module": "@jupyter-widgets/base",
            "_model_module_version": "1.2.0",
            "_model_name": "LayoutModel",
            "_view_count": null,
            "_view_module": "@jupyter-widgets/base",
            "_view_module_version": "1.2.0",
            "_view_name": "LayoutView",
            "align_content": null,
            "align_items": null,
            "align_self": null,
            "border": null,
            "bottom": null,
            "display": null,
            "flex": null,
            "flex_flow": null,
            "grid_area": null,
            "grid_auto_columns": null,
            "grid_auto_flow": null,
            "grid_auto_rows": null,
            "grid_column": null,
            "grid_gap": null,
            "grid_row": null,
            "grid_template_areas": null,
            "grid_template_columns": null,
            "grid_template_rows": null,
            "height": null,
            "justify_content": null,
            "justify_items": null,
            "left": null,
            "margin": null,
            "max_height": null,
            "max_width": null,
            "min_height": null,
            "min_width": null,
            "object_fit": null,
            "object_position": null,
            "order": null,
            "overflow": null,
            "overflow_x": null,
            "overflow_y": null,
            "padding": null,
            "right": null,
            "top": null,
            "visibility": null,
            "width": null
          }
        },
        "1218c170188b483680b0e8883d5a2187": {
          "model_module": "@jupyter-widgets/base",
          "model_name": "LayoutModel",
          "model_module_version": "1.2.0",
          "state": {
            "_model_module": "@jupyter-widgets/base",
            "_model_module_version": "1.2.0",
            "_model_name": "LayoutModel",
            "_view_count": null,
            "_view_module": "@jupyter-widgets/base",
            "_view_module_version": "1.2.0",
            "_view_name": "LayoutView",
            "align_content": null,
            "align_items": null,
            "align_self": null,
            "border": null,
            "bottom": null,
            "display": null,
            "flex": null,
            "flex_flow": null,
            "grid_area": null,
            "grid_auto_columns": null,
            "grid_auto_flow": null,
            "grid_auto_rows": null,
            "grid_column": null,
            "grid_gap": null,
            "grid_row": null,
            "grid_template_areas": null,
            "grid_template_columns": null,
            "grid_template_rows": null,
            "height": null,
            "justify_content": null,
            "justify_items": null,
            "left": null,
            "margin": null,
            "max_height": null,
            "max_width": null,
            "min_height": null,
            "min_width": null,
            "object_fit": null,
            "object_position": null,
            "order": null,
            "overflow": null,
            "overflow_x": null,
            "overflow_y": null,
            "padding": null,
            "right": null,
            "top": null,
            "visibility": null,
            "width": null
          }
        },
        "86ba64634afc4b88aaef199d7192637e": {
          "model_module": "@jupyter-widgets/controls",
          "model_name": "DescriptionStyleModel",
          "model_module_version": "1.5.0",
          "state": {
            "_model_module": "@jupyter-widgets/controls",
            "_model_module_version": "1.5.0",
            "_model_name": "DescriptionStyleModel",
            "_view_count": null,
            "_view_module": "@jupyter-widgets/base",
            "_view_module_version": "1.2.0",
            "_view_name": "StyleView",
            "description_width": ""
          }
        },
        "da472ec8b6434271aaa45da7c5c2b5dc": {
          "model_module": "@jupyter-widgets/base",
          "model_name": "LayoutModel",
          "model_module_version": "1.2.0",
          "state": {
            "_model_module": "@jupyter-widgets/base",
            "_model_module_version": "1.2.0",
            "_model_name": "LayoutModel",
            "_view_count": null,
            "_view_module": "@jupyter-widgets/base",
            "_view_module_version": "1.2.0",
            "_view_name": "LayoutView",
            "align_content": null,
            "align_items": null,
            "align_self": null,
            "border": null,
            "bottom": null,
            "display": null,
            "flex": null,
            "flex_flow": null,
            "grid_area": null,
            "grid_auto_columns": null,
            "grid_auto_flow": null,
            "grid_auto_rows": null,
            "grid_column": null,
            "grid_gap": null,
            "grid_row": null,
            "grid_template_areas": null,
            "grid_template_columns": null,
            "grid_template_rows": null,
            "height": null,
            "justify_content": null,
            "justify_items": null,
            "left": null,
            "margin": null,
            "max_height": null,
            "max_width": null,
            "min_height": null,
            "min_width": null,
            "object_fit": null,
            "object_position": null,
            "order": null,
            "overflow": null,
            "overflow_x": null,
            "overflow_y": null,
            "padding": null,
            "right": null,
            "top": null,
            "visibility": null,
            "width": null
          }
        },
        "d299c6104952474885ff8d3a5bf467b4": {
          "model_module": "@jupyter-widgets/controls",
          "model_name": "ProgressStyleModel",
          "model_module_version": "1.5.0",
          "state": {
            "_model_module": "@jupyter-widgets/controls",
            "_model_module_version": "1.5.0",
            "_model_name": "ProgressStyleModel",
            "_view_count": null,
            "_view_module": "@jupyter-widgets/base",
            "_view_module_version": "1.2.0",
            "_view_name": "StyleView",
            "bar_color": null,
            "description_width": ""
          }
        },
        "e6050b7474e64f5a8bf8933387fa667b": {
          "model_module": "@jupyter-widgets/base",
          "model_name": "LayoutModel",
          "model_module_version": "1.2.0",
          "state": {
            "_model_module": "@jupyter-widgets/base",
            "_model_module_version": "1.2.0",
            "_model_name": "LayoutModel",
            "_view_count": null,
            "_view_module": "@jupyter-widgets/base",
            "_view_module_version": "1.2.0",
            "_view_name": "LayoutView",
            "align_content": null,
            "align_items": null,
            "align_self": null,
            "border": null,
            "bottom": null,
            "display": null,
            "flex": null,
            "flex_flow": null,
            "grid_area": null,
            "grid_auto_columns": null,
            "grid_auto_flow": null,
            "grid_auto_rows": null,
            "grid_column": null,
            "grid_gap": null,
            "grid_row": null,
            "grid_template_areas": null,
            "grid_template_columns": null,
            "grid_template_rows": null,
            "height": null,
            "justify_content": null,
            "justify_items": null,
            "left": null,
            "margin": null,
            "max_height": null,
            "max_width": null,
            "min_height": null,
            "min_width": null,
            "object_fit": null,
            "object_position": null,
            "order": null,
            "overflow": null,
            "overflow_x": null,
            "overflow_y": null,
            "padding": null,
            "right": null,
            "top": null,
            "visibility": null,
            "width": null
          }
        },
        "5c0b879605f94a0db03987ed808c2844": {
          "model_module": "@jupyter-widgets/controls",
          "model_name": "DescriptionStyleModel",
          "model_module_version": "1.5.0",
          "state": {
            "_model_module": "@jupyter-widgets/controls",
            "_model_module_version": "1.5.0",
            "_model_name": "DescriptionStyleModel",
            "_view_count": null,
            "_view_module": "@jupyter-widgets/base",
            "_view_module_version": "1.2.0",
            "_view_name": "StyleView",
            "description_width": ""
          }
        },
        "9f2495b5ee4747e5966e514894fb4a70": {
          "model_module": "@jupyter-widgets/controls",
          "model_name": "HBoxModel",
          "model_module_version": "1.5.0",
          "state": {
            "_dom_classes": [],
            "_model_module": "@jupyter-widgets/controls",
            "_model_module_version": "1.5.0",
            "_model_name": "HBoxModel",
            "_view_count": null,
            "_view_module": "@jupyter-widgets/controls",
            "_view_module_version": "1.5.0",
            "_view_name": "HBoxView",
            "box_style": "",
            "children": [
              "IPY_MODEL_d04d0ec802144e38b0330888a1ca4577",
              "IPY_MODEL_b62428fa067b4755a5b9ccb8412d573b",
              "IPY_MODEL_629f01985102466db77b62cc6950e8da"
            ],
            "layout": "IPY_MODEL_cb035ae5b7374f4ca335db5e278f0554"
          }
        },
        "d04d0ec802144e38b0330888a1ca4577": {
          "model_module": "@jupyter-widgets/controls",
          "model_name": "HTMLModel",
          "model_module_version": "1.5.0",
          "state": {
            "_dom_classes": [],
            "_model_module": "@jupyter-widgets/controls",
            "_model_module_version": "1.5.0",
            "_model_name": "HTMLModel",
            "_view_count": null,
            "_view_module": "@jupyter-widgets/controls",
            "_view_module_version": "1.5.0",
            "_view_name": "HTMLView",
            "description": "",
            "description_tooltip": null,
            "layout": "IPY_MODEL_c9d1b32fae8f4be18b15f18f912d98e9",
            "placeholder": "​",
            "style": "IPY_MODEL_1c743c93c52041ebbd3466e3cff3b271",
            "value": "Downloading (…)olve/main/merges.txt: 100%"
          }
        },
        "b62428fa067b4755a5b9ccb8412d573b": {
          "model_module": "@jupyter-widgets/controls",
          "model_name": "FloatProgressModel",
          "model_module_version": "1.5.0",
          "state": {
            "_dom_classes": [],
            "_model_module": "@jupyter-widgets/controls",
            "_model_module_version": "1.5.0",
            "_model_name": "FloatProgressModel",
            "_view_count": null,
            "_view_module": "@jupyter-widgets/controls",
            "_view_module_version": "1.5.0",
            "_view_name": "ProgressView",
            "bar_style": "success",
            "description": "",
            "description_tooltip": null,
            "layout": "IPY_MODEL_e2d4344e33104edf89d93aa165f62ee3",
            "max": 456318,
            "min": 0,
            "orientation": "horizontal",
            "style": "IPY_MODEL_fc65aa1184414ffc95239d0d92e31f66",
            "value": 456318
          }
        },
        "629f01985102466db77b62cc6950e8da": {
          "model_module": "@jupyter-widgets/controls",
          "model_name": "HTMLModel",
          "model_module_version": "1.5.0",
          "state": {
            "_dom_classes": [],
            "_model_module": "@jupyter-widgets/controls",
            "_model_module_version": "1.5.0",
            "_model_name": "HTMLModel",
            "_view_count": null,
            "_view_module": "@jupyter-widgets/controls",
            "_view_module_version": "1.5.0",
            "_view_name": "HTMLView",
            "description": "",
            "description_tooltip": null,
            "layout": "IPY_MODEL_8f2131317cc347c0b79d8db49f163219",
            "placeholder": "​",
            "style": "IPY_MODEL_f05b441ad2344aa4babcc5329700c570",
            "value": " 456k/456k [00:00&lt;00:00, 3.28MB/s]"
          }
        },
        "cb035ae5b7374f4ca335db5e278f0554": {
          "model_module": "@jupyter-widgets/base",
          "model_name": "LayoutModel",
          "model_module_version": "1.2.0",
          "state": {
            "_model_module": "@jupyter-widgets/base",
            "_model_module_version": "1.2.0",
            "_model_name": "LayoutModel",
            "_view_count": null,
            "_view_module": "@jupyter-widgets/base",
            "_view_module_version": "1.2.0",
            "_view_name": "LayoutView",
            "align_content": null,
            "align_items": null,
            "align_self": null,
            "border": null,
            "bottom": null,
            "display": null,
            "flex": null,
            "flex_flow": null,
            "grid_area": null,
            "grid_auto_columns": null,
            "grid_auto_flow": null,
            "grid_auto_rows": null,
            "grid_column": null,
            "grid_gap": null,
            "grid_row": null,
            "grid_template_areas": null,
            "grid_template_columns": null,
            "grid_template_rows": null,
            "height": null,
            "justify_content": null,
            "justify_items": null,
            "left": null,
            "margin": null,
            "max_height": null,
            "max_width": null,
            "min_height": null,
            "min_width": null,
            "object_fit": null,
            "object_position": null,
            "order": null,
            "overflow": null,
            "overflow_x": null,
            "overflow_y": null,
            "padding": null,
            "right": null,
            "top": null,
            "visibility": null,
            "width": null
          }
        },
        "c9d1b32fae8f4be18b15f18f912d98e9": {
          "model_module": "@jupyter-widgets/base",
          "model_name": "LayoutModel",
          "model_module_version": "1.2.0",
          "state": {
            "_model_module": "@jupyter-widgets/base",
            "_model_module_version": "1.2.0",
            "_model_name": "LayoutModel",
            "_view_count": null,
            "_view_module": "@jupyter-widgets/base",
            "_view_module_version": "1.2.0",
            "_view_name": "LayoutView",
            "align_content": null,
            "align_items": null,
            "align_self": null,
            "border": null,
            "bottom": null,
            "display": null,
            "flex": null,
            "flex_flow": null,
            "grid_area": null,
            "grid_auto_columns": null,
            "grid_auto_flow": null,
            "grid_auto_rows": null,
            "grid_column": null,
            "grid_gap": null,
            "grid_row": null,
            "grid_template_areas": null,
            "grid_template_columns": null,
            "grid_template_rows": null,
            "height": null,
            "justify_content": null,
            "justify_items": null,
            "left": null,
            "margin": null,
            "max_height": null,
            "max_width": null,
            "min_height": null,
            "min_width": null,
            "object_fit": null,
            "object_position": null,
            "order": null,
            "overflow": null,
            "overflow_x": null,
            "overflow_y": null,
            "padding": null,
            "right": null,
            "top": null,
            "visibility": null,
            "width": null
          }
        },
        "1c743c93c52041ebbd3466e3cff3b271": {
          "model_module": "@jupyter-widgets/controls",
          "model_name": "DescriptionStyleModel",
          "model_module_version": "1.5.0",
          "state": {
            "_model_module": "@jupyter-widgets/controls",
            "_model_module_version": "1.5.0",
            "_model_name": "DescriptionStyleModel",
            "_view_count": null,
            "_view_module": "@jupyter-widgets/base",
            "_view_module_version": "1.2.0",
            "_view_name": "StyleView",
            "description_width": ""
          }
        },
        "e2d4344e33104edf89d93aa165f62ee3": {
          "model_module": "@jupyter-widgets/base",
          "model_name": "LayoutModel",
          "model_module_version": "1.2.0",
          "state": {
            "_model_module": "@jupyter-widgets/base",
            "_model_module_version": "1.2.0",
            "_model_name": "LayoutModel",
            "_view_count": null,
            "_view_module": "@jupyter-widgets/base",
            "_view_module_version": "1.2.0",
            "_view_name": "LayoutView",
            "align_content": null,
            "align_items": null,
            "align_self": null,
            "border": null,
            "bottom": null,
            "display": null,
            "flex": null,
            "flex_flow": null,
            "grid_area": null,
            "grid_auto_columns": null,
            "grid_auto_flow": null,
            "grid_auto_rows": null,
            "grid_column": null,
            "grid_gap": null,
            "grid_row": null,
            "grid_template_areas": null,
            "grid_template_columns": null,
            "grid_template_rows": null,
            "height": null,
            "justify_content": null,
            "justify_items": null,
            "left": null,
            "margin": null,
            "max_height": null,
            "max_width": null,
            "min_height": null,
            "min_width": null,
            "object_fit": null,
            "object_position": null,
            "order": null,
            "overflow": null,
            "overflow_x": null,
            "overflow_y": null,
            "padding": null,
            "right": null,
            "top": null,
            "visibility": null,
            "width": null
          }
        },
        "fc65aa1184414ffc95239d0d92e31f66": {
          "model_module": "@jupyter-widgets/controls",
          "model_name": "ProgressStyleModel",
          "model_module_version": "1.5.0",
          "state": {
            "_model_module": "@jupyter-widgets/controls",
            "_model_module_version": "1.5.0",
            "_model_name": "ProgressStyleModel",
            "_view_count": null,
            "_view_module": "@jupyter-widgets/base",
            "_view_module_version": "1.2.0",
            "_view_name": "StyleView",
            "bar_color": null,
            "description_width": ""
          }
        },
        "8f2131317cc347c0b79d8db49f163219": {
          "model_module": "@jupyter-widgets/base",
          "model_name": "LayoutModel",
          "model_module_version": "1.2.0",
          "state": {
            "_model_module": "@jupyter-widgets/base",
            "_model_module_version": "1.2.0",
            "_model_name": "LayoutModel",
            "_view_count": null,
            "_view_module": "@jupyter-widgets/base",
            "_view_module_version": "1.2.0",
            "_view_name": "LayoutView",
            "align_content": null,
            "align_items": null,
            "align_self": null,
            "border": null,
            "bottom": null,
            "display": null,
            "flex": null,
            "flex_flow": null,
            "grid_area": null,
            "grid_auto_columns": null,
            "grid_auto_flow": null,
            "grid_auto_rows": null,
            "grid_column": null,
            "grid_gap": null,
            "grid_row": null,
            "grid_template_areas": null,
            "grid_template_columns": null,
            "grid_template_rows": null,
            "height": null,
            "justify_content": null,
            "justify_items": null,
            "left": null,
            "margin": null,
            "max_height": null,
            "max_width": null,
            "min_height": null,
            "min_width": null,
            "object_fit": null,
            "object_position": null,
            "order": null,
            "overflow": null,
            "overflow_x": null,
            "overflow_y": null,
            "padding": null,
            "right": null,
            "top": null,
            "visibility": null,
            "width": null
          }
        },
        "f05b441ad2344aa4babcc5329700c570": {
          "model_module": "@jupyter-widgets/controls",
          "model_name": "DescriptionStyleModel",
          "model_module_version": "1.5.0",
          "state": {
            "_model_module": "@jupyter-widgets/controls",
            "_model_module_version": "1.5.0",
            "_model_name": "DescriptionStyleModel",
            "_view_count": null,
            "_view_module": "@jupyter-widgets/base",
            "_view_module_version": "1.2.0",
            "_view_name": "StyleView",
            "description_width": ""
          }
        },
        "8205b7cce2a2456eb0d6dad83d7fb13a": {
          "model_module": "@jupyter-widgets/controls",
          "model_name": "HBoxModel",
          "model_module_version": "1.5.0",
          "state": {
            "_dom_classes": [],
            "_model_module": "@jupyter-widgets/controls",
            "_model_module_version": "1.5.0",
            "_model_name": "HBoxModel",
            "_view_count": null,
            "_view_module": "@jupyter-widgets/controls",
            "_view_module_version": "1.5.0",
            "_view_name": "HBoxView",
            "box_style": "",
            "children": [
              "IPY_MODEL_f3c1e5a43561441ab275cd98fb76d487",
              "IPY_MODEL_9536fa5a0e5e424d8c280dc389dbad10",
              "IPY_MODEL_e0b7f1695d114d2aba20990d879fe427"
            ],
            "layout": "IPY_MODEL_00516822230049eea8498886362838fb"
          }
        },
        "f3c1e5a43561441ab275cd98fb76d487": {
          "model_module": "@jupyter-widgets/controls",
          "model_name": "HTMLModel",
          "model_module_version": "1.5.0",
          "state": {
            "_dom_classes": [],
            "_model_module": "@jupyter-widgets/controls",
            "_model_module_version": "1.5.0",
            "_model_name": "HTMLModel",
            "_view_count": null,
            "_view_module": "@jupyter-widgets/controls",
            "_view_module_version": "1.5.0",
            "_view_name": "HTMLView",
            "description": "",
            "description_tooltip": null,
            "layout": "IPY_MODEL_ec5545ce88ce46f7bbf28399040c2ce7",
            "placeholder": "​",
            "style": "IPY_MODEL_6512d319d2074ff19787657a39cd5be6",
            "value": "Downloading (…)lve/main/config.json: 100%"
          }
        },
        "9536fa5a0e5e424d8c280dc389dbad10": {
          "model_module": "@jupyter-widgets/controls",
          "model_name": "FloatProgressModel",
          "model_module_version": "1.5.0",
          "state": {
            "_dom_classes": [],
            "_model_module": "@jupyter-widgets/controls",
            "_model_module_version": "1.5.0",
            "_model_name": "FloatProgressModel",
            "_view_count": null,
            "_view_module": "@jupyter-widgets/controls",
            "_view_module_version": "1.5.0",
            "_view_name": "ProgressView",
            "bar_style": "success",
            "description": "",
            "description_tooltip": null,
            "layout": "IPY_MODEL_ab227b3ed2d141fc9ad71692c7b57377",
            "max": 665,
            "min": 0,
            "orientation": "horizontal",
            "style": "IPY_MODEL_d491a588839f4280aa7b2ea27bc888d1",
            "value": 665
          }
        },
        "e0b7f1695d114d2aba20990d879fe427": {
          "model_module": "@jupyter-widgets/controls",
          "model_name": "HTMLModel",
          "model_module_version": "1.5.0",
          "state": {
            "_dom_classes": [],
            "_model_module": "@jupyter-widgets/controls",
            "_model_module_version": "1.5.0",
            "_model_name": "HTMLModel",
            "_view_count": null,
            "_view_module": "@jupyter-widgets/controls",
            "_view_module_version": "1.5.0",
            "_view_name": "HTMLView",
            "description": "",
            "description_tooltip": null,
            "layout": "IPY_MODEL_aa8661f88c964a38b31ebd7bd36a36f4",
            "placeholder": "​",
            "style": "IPY_MODEL_a8690c2ac43940eda068e2136e03ede8",
            "value": " 665/665 [00:00&lt;00:00, 27.3kB/s]"
          }
        },
        "00516822230049eea8498886362838fb": {
          "model_module": "@jupyter-widgets/base",
          "model_name": "LayoutModel",
          "model_module_version": "1.2.0",
          "state": {
            "_model_module": "@jupyter-widgets/base",
            "_model_module_version": "1.2.0",
            "_model_name": "LayoutModel",
            "_view_count": null,
            "_view_module": "@jupyter-widgets/base",
            "_view_module_version": "1.2.0",
            "_view_name": "LayoutView",
            "align_content": null,
            "align_items": null,
            "align_self": null,
            "border": null,
            "bottom": null,
            "display": null,
            "flex": null,
            "flex_flow": null,
            "grid_area": null,
            "grid_auto_columns": null,
            "grid_auto_flow": null,
            "grid_auto_rows": null,
            "grid_column": null,
            "grid_gap": null,
            "grid_row": null,
            "grid_template_areas": null,
            "grid_template_columns": null,
            "grid_template_rows": null,
            "height": null,
            "justify_content": null,
            "justify_items": null,
            "left": null,
            "margin": null,
            "max_height": null,
            "max_width": null,
            "min_height": null,
            "min_width": null,
            "object_fit": null,
            "object_position": null,
            "order": null,
            "overflow": null,
            "overflow_x": null,
            "overflow_y": null,
            "padding": null,
            "right": null,
            "top": null,
            "visibility": null,
            "width": null
          }
        },
        "ec5545ce88ce46f7bbf28399040c2ce7": {
          "model_module": "@jupyter-widgets/base",
          "model_name": "LayoutModel",
          "model_module_version": "1.2.0",
          "state": {
            "_model_module": "@jupyter-widgets/base",
            "_model_module_version": "1.2.0",
            "_model_name": "LayoutModel",
            "_view_count": null,
            "_view_module": "@jupyter-widgets/base",
            "_view_module_version": "1.2.0",
            "_view_name": "LayoutView",
            "align_content": null,
            "align_items": null,
            "align_self": null,
            "border": null,
            "bottom": null,
            "display": null,
            "flex": null,
            "flex_flow": null,
            "grid_area": null,
            "grid_auto_columns": null,
            "grid_auto_flow": null,
            "grid_auto_rows": null,
            "grid_column": null,
            "grid_gap": null,
            "grid_row": null,
            "grid_template_areas": null,
            "grid_template_columns": null,
            "grid_template_rows": null,
            "height": null,
            "justify_content": null,
            "justify_items": null,
            "left": null,
            "margin": null,
            "max_height": null,
            "max_width": null,
            "min_height": null,
            "min_width": null,
            "object_fit": null,
            "object_position": null,
            "order": null,
            "overflow": null,
            "overflow_x": null,
            "overflow_y": null,
            "padding": null,
            "right": null,
            "top": null,
            "visibility": null,
            "width": null
          }
        },
        "6512d319d2074ff19787657a39cd5be6": {
          "model_module": "@jupyter-widgets/controls",
          "model_name": "DescriptionStyleModel",
          "model_module_version": "1.5.0",
          "state": {
            "_model_module": "@jupyter-widgets/controls",
            "_model_module_version": "1.5.0",
            "_model_name": "DescriptionStyleModel",
            "_view_count": null,
            "_view_module": "@jupyter-widgets/base",
            "_view_module_version": "1.2.0",
            "_view_name": "StyleView",
            "description_width": ""
          }
        },
        "ab227b3ed2d141fc9ad71692c7b57377": {
          "model_module": "@jupyter-widgets/base",
          "model_name": "LayoutModel",
          "model_module_version": "1.2.0",
          "state": {
            "_model_module": "@jupyter-widgets/base",
            "_model_module_version": "1.2.0",
            "_model_name": "LayoutModel",
            "_view_count": null,
            "_view_module": "@jupyter-widgets/base",
            "_view_module_version": "1.2.0",
            "_view_name": "LayoutView",
            "align_content": null,
            "align_items": null,
            "align_self": null,
            "border": null,
            "bottom": null,
            "display": null,
            "flex": null,
            "flex_flow": null,
            "grid_area": null,
            "grid_auto_columns": null,
            "grid_auto_flow": null,
            "grid_auto_rows": null,
            "grid_column": null,
            "grid_gap": null,
            "grid_row": null,
            "grid_template_areas": null,
            "grid_template_columns": null,
            "grid_template_rows": null,
            "height": null,
            "justify_content": null,
            "justify_items": null,
            "left": null,
            "margin": null,
            "max_height": null,
            "max_width": null,
            "min_height": null,
            "min_width": null,
            "object_fit": null,
            "object_position": null,
            "order": null,
            "overflow": null,
            "overflow_x": null,
            "overflow_y": null,
            "padding": null,
            "right": null,
            "top": null,
            "visibility": null,
            "width": null
          }
        },
        "d491a588839f4280aa7b2ea27bc888d1": {
          "model_module": "@jupyter-widgets/controls",
          "model_name": "ProgressStyleModel",
          "model_module_version": "1.5.0",
          "state": {
            "_model_module": "@jupyter-widgets/controls",
            "_model_module_version": "1.5.0",
            "_model_name": "ProgressStyleModel",
            "_view_count": null,
            "_view_module": "@jupyter-widgets/base",
            "_view_module_version": "1.2.0",
            "_view_name": "StyleView",
            "bar_color": null,
            "description_width": ""
          }
        },
        "aa8661f88c964a38b31ebd7bd36a36f4": {
          "model_module": "@jupyter-widgets/base",
          "model_name": "LayoutModel",
          "model_module_version": "1.2.0",
          "state": {
            "_model_module": "@jupyter-widgets/base",
            "_model_module_version": "1.2.0",
            "_model_name": "LayoutModel",
            "_view_count": null,
            "_view_module": "@jupyter-widgets/base",
            "_view_module_version": "1.2.0",
            "_view_name": "LayoutView",
            "align_content": null,
            "align_items": null,
            "align_self": null,
            "border": null,
            "bottom": null,
            "display": null,
            "flex": null,
            "flex_flow": null,
            "grid_area": null,
            "grid_auto_columns": null,
            "grid_auto_flow": null,
            "grid_auto_rows": null,
            "grid_column": null,
            "grid_gap": null,
            "grid_row": null,
            "grid_template_areas": null,
            "grid_template_columns": null,
            "grid_template_rows": null,
            "height": null,
            "justify_content": null,
            "justify_items": null,
            "left": null,
            "margin": null,
            "max_height": null,
            "max_width": null,
            "min_height": null,
            "min_width": null,
            "object_fit": null,
            "object_position": null,
            "order": null,
            "overflow": null,
            "overflow_x": null,
            "overflow_y": null,
            "padding": null,
            "right": null,
            "top": null,
            "visibility": null,
            "width": null
          }
        },
        "a8690c2ac43940eda068e2136e03ede8": {
          "model_module": "@jupyter-widgets/controls",
          "model_name": "DescriptionStyleModel",
          "model_module_version": "1.5.0",
          "state": {
            "_model_module": "@jupyter-widgets/controls",
            "_model_module_version": "1.5.0",
            "_model_name": "DescriptionStyleModel",
            "_view_count": null,
            "_view_module": "@jupyter-widgets/base",
            "_view_module_version": "1.2.0",
            "_view_name": "StyleView",
            "description_width": ""
          }
        },
        "fa3d0a4602854463bb9e3553fcb2c824": {
          "model_module": "@jupyter-widgets/controls",
          "model_name": "HBoxModel",
          "model_module_version": "1.5.0",
          "state": {
            "_dom_classes": [],
            "_model_module": "@jupyter-widgets/controls",
            "_model_module_version": "1.5.0",
            "_model_name": "HBoxModel",
            "_view_count": null,
            "_view_module": "@jupyter-widgets/controls",
            "_view_module_version": "1.5.0",
            "_view_name": "HBoxView",
            "box_style": "",
            "children": [
              "IPY_MODEL_b808099eb1db414ebff5b04b3c4ef899",
              "IPY_MODEL_a00b9690727d4051a79bda1f6f2e0d01",
              "IPY_MODEL_ab5bcf4b2b5e42918b3ae5a40e395e98"
            ],
            "layout": "IPY_MODEL_18986d3b931e44c4af8cf1d0b32f5be1"
          }
        },
        "b808099eb1db414ebff5b04b3c4ef899": {
          "model_module": "@jupyter-widgets/controls",
          "model_name": "HTMLModel",
          "model_module_version": "1.5.0",
          "state": {
            "_dom_classes": [],
            "_model_module": "@jupyter-widgets/controls",
            "_model_module_version": "1.5.0",
            "_model_name": "HTMLModel",
            "_view_count": null,
            "_view_module": "@jupyter-widgets/controls",
            "_view_module_version": "1.5.0",
            "_view_name": "HTMLView",
            "description": "",
            "description_tooltip": null,
            "layout": "IPY_MODEL_0cce192f77034603a039280b68ef2c08",
            "placeholder": "​",
            "style": "IPY_MODEL_569f51b7cc644190baa835ffb79d349e",
            "value": "Downloading pytorch_model.bin: 100%"
          }
        },
        "a00b9690727d4051a79bda1f6f2e0d01": {
          "model_module": "@jupyter-widgets/controls",
          "model_name": "FloatProgressModel",
          "model_module_version": "1.5.0",
          "state": {
            "_dom_classes": [],
            "_model_module": "@jupyter-widgets/controls",
            "_model_module_version": "1.5.0",
            "_model_name": "FloatProgressModel",
            "_view_count": null,
            "_view_module": "@jupyter-widgets/controls",
            "_view_module_version": "1.5.0",
            "_view_name": "ProgressView",
            "bar_style": "success",
            "description": "",
            "description_tooltip": null,
            "layout": "IPY_MODEL_a0eafda2da924c048032eab4839692b7",
            "max": 435779157,
            "min": 0,
            "orientation": "horizontal",
            "style": "IPY_MODEL_fa222308608148039b4351fccb7697e1",
            "value": 435779157
          }
        },
        "ab5bcf4b2b5e42918b3ae5a40e395e98": {
          "model_module": "@jupyter-widgets/controls",
          "model_name": "HTMLModel",
          "model_module_version": "1.5.0",
          "state": {
            "_dom_classes": [],
            "_model_module": "@jupyter-widgets/controls",
            "_model_module_version": "1.5.0",
            "_model_name": "HTMLModel",
            "_view_count": null,
            "_view_module": "@jupyter-widgets/controls",
            "_view_module_version": "1.5.0",
            "_view_name": "HTMLView",
            "description": "",
            "description_tooltip": null,
            "layout": "IPY_MODEL_4b7541faedde4394bbae5f723fac74a2",
            "placeholder": "​",
            "style": "IPY_MODEL_4661d325a33e4bbdbc3945ee12ac0918",
            "value": " 436M/436M [00:02&lt;00:00, 207MB/s]"
          }
        },
        "18986d3b931e44c4af8cf1d0b32f5be1": {
          "model_module": "@jupyter-widgets/base",
          "model_name": "LayoutModel",
          "model_module_version": "1.2.0",
          "state": {
            "_model_module": "@jupyter-widgets/base",
            "_model_module_version": "1.2.0",
            "_model_name": "LayoutModel",
            "_view_count": null,
            "_view_module": "@jupyter-widgets/base",
            "_view_module_version": "1.2.0",
            "_view_name": "LayoutView",
            "align_content": null,
            "align_items": null,
            "align_self": null,
            "border": null,
            "bottom": null,
            "display": null,
            "flex": null,
            "flex_flow": null,
            "grid_area": null,
            "grid_auto_columns": null,
            "grid_auto_flow": null,
            "grid_auto_rows": null,
            "grid_column": null,
            "grid_gap": null,
            "grid_row": null,
            "grid_template_areas": null,
            "grid_template_columns": null,
            "grid_template_rows": null,
            "height": null,
            "justify_content": null,
            "justify_items": null,
            "left": null,
            "margin": null,
            "max_height": null,
            "max_width": null,
            "min_height": null,
            "min_width": null,
            "object_fit": null,
            "object_position": null,
            "order": null,
            "overflow": null,
            "overflow_x": null,
            "overflow_y": null,
            "padding": null,
            "right": null,
            "top": null,
            "visibility": null,
            "width": null
          }
        },
        "0cce192f77034603a039280b68ef2c08": {
          "model_module": "@jupyter-widgets/base",
          "model_name": "LayoutModel",
          "model_module_version": "1.2.0",
          "state": {
            "_model_module": "@jupyter-widgets/base",
            "_model_module_version": "1.2.0",
            "_model_name": "LayoutModel",
            "_view_count": null,
            "_view_module": "@jupyter-widgets/base",
            "_view_module_version": "1.2.0",
            "_view_name": "LayoutView",
            "align_content": null,
            "align_items": null,
            "align_self": null,
            "border": null,
            "bottom": null,
            "display": null,
            "flex": null,
            "flex_flow": null,
            "grid_area": null,
            "grid_auto_columns": null,
            "grid_auto_flow": null,
            "grid_auto_rows": null,
            "grid_column": null,
            "grid_gap": null,
            "grid_row": null,
            "grid_template_areas": null,
            "grid_template_columns": null,
            "grid_template_rows": null,
            "height": null,
            "justify_content": null,
            "justify_items": null,
            "left": null,
            "margin": null,
            "max_height": null,
            "max_width": null,
            "min_height": null,
            "min_width": null,
            "object_fit": null,
            "object_position": null,
            "order": null,
            "overflow": null,
            "overflow_x": null,
            "overflow_y": null,
            "padding": null,
            "right": null,
            "top": null,
            "visibility": null,
            "width": null
          }
        },
        "569f51b7cc644190baa835ffb79d349e": {
          "model_module": "@jupyter-widgets/controls",
          "model_name": "DescriptionStyleModel",
          "model_module_version": "1.5.0",
          "state": {
            "_model_module": "@jupyter-widgets/controls",
            "_model_module_version": "1.5.0",
            "_model_name": "DescriptionStyleModel",
            "_view_count": null,
            "_view_module": "@jupyter-widgets/base",
            "_view_module_version": "1.2.0",
            "_view_name": "StyleView",
            "description_width": ""
          }
        },
        "a0eafda2da924c048032eab4839692b7": {
          "model_module": "@jupyter-widgets/base",
          "model_name": "LayoutModel",
          "model_module_version": "1.2.0",
          "state": {
            "_model_module": "@jupyter-widgets/base",
            "_model_module_version": "1.2.0",
            "_model_name": "LayoutModel",
            "_view_count": null,
            "_view_module": "@jupyter-widgets/base",
            "_view_module_version": "1.2.0",
            "_view_name": "LayoutView",
            "align_content": null,
            "align_items": null,
            "align_self": null,
            "border": null,
            "bottom": null,
            "display": null,
            "flex": null,
            "flex_flow": null,
            "grid_area": null,
            "grid_auto_columns": null,
            "grid_auto_flow": null,
            "grid_auto_rows": null,
            "grid_column": null,
            "grid_gap": null,
            "grid_row": null,
            "grid_template_areas": null,
            "grid_template_columns": null,
            "grid_template_rows": null,
            "height": null,
            "justify_content": null,
            "justify_items": null,
            "left": null,
            "margin": null,
            "max_height": null,
            "max_width": null,
            "min_height": null,
            "min_width": null,
            "object_fit": null,
            "object_position": null,
            "order": null,
            "overflow": null,
            "overflow_x": null,
            "overflow_y": null,
            "padding": null,
            "right": null,
            "top": null,
            "visibility": null,
            "width": null
          }
        },
        "fa222308608148039b4351fccb7697e1": {
          "model_module": "@jupyter-widgets/controls",
          "model_name": "ProgressStyleModel",
          "model_module_version": "1.5.0",
          "state": {
            "_model_module": "@jupyter-widgets/controls",
            "_model_module_version": "1.5.0",
            "_model_name": "ProgressStyleModel",
            "_view_count": null,
            "_view_module": "@jupyter-widgets/base",
            "_view_module_version": "1.2.0",
            "_view_name": "StyleView",
            "bar_color": null,
            "description_width": ""
          }
        },
        "4b7541faedde4394bbae5f723fac74a2": {
          "model_module": "@jupyter-widgets/base",
          "model_name": "LayoutModel",
          "model_module_version": "1.2.0",
          "state": {
            "_model_module": "@jupyter-widgets/base",
            "_model_module_version": "1.2.0",
            "_model_name": "LayoutModel",
            "_view_count": null,
            "_view_module": "@jupyter-widgets/base",
            "_view_module_version": "1.2.0",
            "_view_name": "LayoutView",
            "align_content": null,
            "align_items": null,
            "align_self": null,
            "border": null,
            "bottom": null,
            "display": null,
            "flex": null,
            "flex_flow": null,
            "grid_area": null,
            "grid_auto_columns": null,
            "grid_auto_flow": null,
            "grid_auto_rows": null,
            "grid_column": null,
            "grid_gap": null,
            "grid_row": null,
            "grid_template_areas": null,
            "grid_template_columns": null,
            "grid_template_rows": null,
            "height": null,
            "justify_content": null,
            "justify_items": null,
            "left": null,
            "margin": null,
            "max_height": null,
            "max_width": null,
            "min_height": null,
            "min_width": null,
            "object_fit": null,
            "object_position": null,
            "order": null,
            "overflow": null,
            "overflow_x": null,
            "overflow_y": null,
            "padding": null,
            "right": null,
            "top": null,
            "visibility": null,
            "width": null
          }
        },
        "4661d325a33e4bbdbc3945ee12ac0918": {
          "model_module": "@jupyter-widgets/controls",
          "model_name": "DescriptionStyleModel",
          "model_module_version": "1.5.0",
          "state": {
            "_model_module": "@jupyter-widgets/controls",
            "_model_module_version": "1.5.0",
            "_model_name": "DescriptionStyleModel",
            "_view_count": null,
            "_view_module": "@jupyter-widgets/base",
            "_view_module_version": "1.2.0",
            "_view_name": "StyleView",
            "description_width": ""
          }
        },
        "2cc8ff27225a436ab1cf7dc9194800f5": {
          "model_module": "@jupyter-widgets/controls",
          "model_name": "HBoxModel",
          "model_module_version": "1.5.0",
          "state": {
            "_dom_classes": [],
            "_model_module": "@jupyter-widgets/controls",
            "_model_module_version": "1.5.0",
            "_model_name": "HBoxModel",
            "_view_count": null,
            "_view_module": "@jupyter-widgets/controls",
            "_view_module_version": "1.5.0",
            "_view_name": "HBoxView",
            "box_style": "",
            "children": [
              "IPY_MODEL_f7b1b4c7274f4f10a118d86f14996d22",
              "IPY_MODEL_e68d2ee25d0e472db0964924e4165d72",
              "IPY_MODEL_5d2f5f7151e54b508d38fa61b1ff81e8"
            ],
            "layout": "IPY_MODEL_7887387fc7b5461a994f8cad7991f1de"
          }
        },
        "f7b1b4c7274f4f10a118d86f14996d22": {
          "model_module": "@jupyter-widgets/controls",
          "model_name": "HTMLModel",
          "model_module_version": "1.5.0",
          "state": {
            "_dom_classes": [],
            "_model_module": "@jupyter-widgets/controls",
            "_model_module_version": "1.5.0",
            "_model_name": "HTMLModel",
            "_view_count": null,
            "_view_module": "@jupyter-widgets/controls",
            "_view_module_version": "1.5.0",
            "_view_name": "HTMLView",
            "description": "",
            "description_tooltip": null,
            "layout": "IPY_MODEL_548d858ec1cd4741987d9ac6c5d81b9e",
            "placeholder": "​",
            "style": "IPY_MODEL_389da8b544db465796aeca3e52471c2a",
            "value": "Downloading pytorch_model.bin: 100%"
          }
        },
        "e68d2ee25d0e472db0964924e4165d72": {
          "model_module": "@jupyter-widgets/controls",
          "model_name": "FloatProgressModel",
          "model_module_version": "1.5.0",
          "state": {
            "_dom_classes": [],
            "_model_module": "@jupyter-widgets/controls",
            "_model_module_version": "1.5.0",
            "_model_name": "FloatProgressModel",
            "_view_count": null,
            "_view_module": "@jupyter-widgets/controls",
            "_view_module_version": "1.5.0",
            "_view_name": "ProgressView",
            "bar_style": "success",
            "description": "",
            "description_tooltip": null,
            "layout": "IPY_MODEL_8df2bdc0bb3b4218a6510fb4e1d156ac",
            "max": 548118077,
            "min": 0,
            "orientation": "horizontal",
            "style": "IPY_MODEL_7d81b3247f784e13ba9c69983557bbba",
            "value": 548118077
          }
        },
        "5d2f5f7151e54b508d38fa61b1ff81e8": {
          "model_module": "@jupyter-widgets/controls",
          "model_name": "HTMLModel",
          "model_module_version": "1.5.0",
          "state": {
            "_dom_classes": [],
            "_model_module": "@jupyter-widgets/controls",
            "_model_module_version": "1.5.0",
            "_model_name": "HTMLModel",
            "_view_count": null,
            "_view_module": "@jupyter-widgets/controls",
            "_view_module_version": "1.5.0",
            "_view_name": "HTMLView",
            "description": "",
            "description_tooltip": null,
            "layout": "IPY_MODEL_376e6e9a96064699b72758ef10deb2b1",
            "placeholder": "​",
            "style": "IPY_MODEL_75aacb735f69488ba868595323600324",
            "value": " 548M/548M [00:03&lt;00:00, 195MB/s]"
          }
        },
        "7887387fc7b5461a994f8cad7991f1de": {
          "model_module": "@jupyter-widgets/base",
          "model_name": "LayoutModel",
          "model_module_version": "1.2.0",
          "state": {
            "_model_module": "@jupyter-widgets/base",
            "_model_module_version": "1.2.0",
            "_model_name": "LayoutModel",
            "_view_count": null,
            "_view_module": "@jupyter-widgets/base",
            "_view_module_version": "1.2.0",
            "_view_name": "LayoutView",
            "align_content": null,
            "align_items": null,
            "align_self": null,
            "border": null,
            "bottom": null,
            "display": null,
            "flex": null,
            "flex_flow": null,
            "grid_area": null,
            "grid_auto_columns": null,
            "grid_auto_flow": null,
            "grid_auto_rows": null,
            "grid_column": null,
            "grid_gap": null,
            "grid_row": null,
            "grid_template_areas": null,
            "grid_template_columns": null,
            "grid_template_rows": null,
            "height": null,
            "justify_content": null,
            "justify_items": null,
            "left": null,
            "margin": null,
            "max_height": null,
            "max_width": null,
            "min_height": null,
            "min_width": null,
            "object_fit": null,
            "object_position": null,
            "order": null,
            "overflow": null,
            "overflow_x": null,
            "overflow_y": null,
            "padding": null,
            "right": null,
            "top": null,
            "visibility": null,
            "width": null
          }
        },
        "548d858ec1cd4741987d9ac6c5d81b9e": {
          "model_module": "@jupyter-widgets/base",
          "model_name": "LayoutModel",
          "model_module_version": "1.2.0",
          "state": {
            "_model_module": "@jupyter-widgets/base",
            "_model_module_version": "1.2.0",
            "_model_name": "LayoutModel",
            "_view_count": null,
            "_view_module": "@jupyter-widgets/base",
            "_view_module_version": "1.2.0",
            "_view_name": "LayoutView",
            "align_content": null,
            "align_items": null,
            "align_self": null,
            "border": null,
            "bottom": null,
            "display": null,
            "flex": null,
            "flex_flow": null,
            "grid_area": null,
            "grid_auto_columns": null,
            "grid_auto_flow": null,
            "grid_auto_rows": null,
            "grid_column": null,
            "grid_gap": null,
            "grid_row": null,
            "grid_template_areas": null,
            "grid_template_columns": null,
            "grid_template_rows": null,
            "height": null,
            "justify_content": null,
            "justify_items": null,
            "left": null,
            "margin": null,
            "max_height": null,
            "max_width": null,
            "min_height": null,
            "min_width": null,
            "object_fit": null,
            "object_position": null,
            "order": null,
            "overflow": null,
            "overflow_x": null,
            "overflow_y": null,
            "padding": null,
            "right": null,
            "top": null,
            "visibility": null,
            "width": null
          }
        },
        "389da8b544db465796aeca3e52471c2a": {
          "model_module": "@jupyter-widgets/controls",
          "model_name": "DescriptionStyleModel",
          "model_module_version": "1.5.0",
          "state": {
            "_model_module": "@jupyter-widgets/controls",
            "_model_module_version": "1.5.0",
            "_model_name": "DescriptionStyleModel",
            "_view_count": null,
            "_view_module": "@jupyter-widgets/base",
            "_view_module_version": "1.2.0",
            "_view_name": "StyleView",
            "description_width": ""
          }
        },
        "8df2bdc0bb3b4218a6510fb4e1d156ac": {
          "model_module": "@jupyter-widgets/base",
          "model_name": "LayoutModel",
          "model_module_version": "1.2.0",
          "state": {
            "_model_module": "@jupyter-widgets/base",
            "_model_module_version": "1.2.0",
            "_model_name": "LayoutModel",
            "_view_count": null,
            "_view_module": "@jupyter-widgets/base",
            "_view_module_version": "1.2.0",
            "_view_name": "LayoutView",
            "align_content": null,
            "align_items": null,
            "align_self": null,
            "border": null,
            "bottom": null,
            "display": null,
            "flex": null,
            "flex_flow": null,
            "grid_area": null,
            "grid_auto_columns": null,
            "grid_auto_flow": null,
            "grid_auto_rows": null,
            "grid_column": null,
            "grid_gap": null,
            "grid_row": null,
            "grid_template_areas": null,
            "grid_template_columns": null,
            "grid_template_rows": null,
            "height": null,
            "justify_content": null,
            "justify_items": null,
            "left": null,
            "margin": null,
            "max_height": null,
            "max_width": null,
            "min_height": null,
            "min_width": null,
            "object_fit": null,
            "object_position": null,
            "order": null,
            "overflow": null,
            "overflow_x": null,
            "overflow_y": null,
            "padding": null,
            "right": null,
            "top": null,
            "visibility": null,
            "width": null
          }
        },
        "7d81b3247f784e13ba9c69983557bbba": {
          "model_module": "@jupyter-widgets/controls",
          "model_name": "ProgressStyleModel",
          "model_module_version": "1.5.0",
          "state": {
            "_model_module": "@jupyter-widgets/controls",
            "_model_module_version": "1.5.0",
            "_model_name": "ProgressStyleModel",
            "_view_count": null,
            "_view_module": "@jupyter-widgets/base",
            "_view_module_version": "1.2.0",
            "_view_name": "StyleView",
            "bar_color": null,
            "description_width": ""
          }
        },
        "376e6e9a96064699b72758ef10deb2b1": {
          "model_module": "@jupyter-widgets/base",
          "model_name": "LayoutModel",
          "model_module_version": "1.2.0",
          "state": {
            "_model_module": "@jupyter-widgets/base",
            "_model_module_version": "1.2.0",
            "_model_name": "LayoutModel",
            "_view_count": null,
            "_view_module": "@jupyter-widgets/base",
            "_view_module_version": "1.2.0",
            "_view_name": "LayoutView",
            "align_content": null,
            "align_items": null,
            "align_self": null,
            "border": null,
            "bottom": null,
            "display": null,
            "flex": null,
            "flex_flow": null,
            "grid_area": null,
            "grid_auto_columns": null,
            "grid_auto_flow": null,
            "grid_auto_rows": null,
            "grid_column": null,
            "grid_gap": null,
            "grid_row": null,
            "grid_template_areas": null,
            "grid_template_columns": null,
            "grid_template_rows": null,
            "height": null,
            "justify_content": null,
            "justify_items": null,
            "left": null,
            "margin": null,
            "max_height": null,
            "max_width": null,
            "min_height": null,
            "min_width": null,
            "object_fit": null,
            "object_position": null,
            "order": null,
            "overflow": null,
            "overflow_x": null,
            "overflow_y": null,
            "padding": null,
            "right": null,
            "top": null,
            "visibility": null,
            "width": null
          }
        },
        "75aacb735f69488ba868595323600324": {
          "model_module": "@jupyter-widgets/controls",
          "model_name": "DescriptionStyleModel",
          "model_module_version": "1.5.0",
          "state": {
            "_model_module": "@jupyter-widgets/controls",
            "_model_module_version": "1.5.0",
            "_model_name": "DescriptionStyleModel",
            "_view_count": null,
            "_view_module": "@jupyter-widgets/base",
            "_view_module_version": "1.2.0",
            "_view_name": "StyleView",
            "description_width": ""
          }
        },
        "882b3d69883f4d43b6ef4081a3652761": {
          "model_module": "@jupyter-widgets/controls",
          "model_name": "HBoxModel",
          "model_module_version": "1.5.0",
          "state": {
            "_dom_classes": [],
            "_model_module": "@jupyter-widgets/controls",
            "_model_module_version": "1.5.0",
            "_model_name": "HBoxModel",
            "_view_count": null,
            "_view_module": "@jupyter-widgets/controls",
            "_view_module_version": "1.5.0",
            "_view_name": "HBoxView",
            "box_style": "",
            "children": [
              "IPY_MODEL_ac1997587f24488d956bfd8b1954ef10",
              "IPY_MODEL_94c99eaf965749c8b2f87c2024bab67a",
              "IPY_MODEL_e2d867db03fa4cc183a61bac0b95e8e1"
            ],
            "layout": "IPY_MODEL_52ffedcf803845ca8406bbeb0b0e063f"
          }
        },
        "ac1997587f24488d956bfd8b1954ef10": {
          "model_module": "@jupyter-widgets/controls",
          "model_name": "HTMLModel",
          "model_module_version": "1.5.0",
          "state": {
            "_dom_classes": [],
            "_model_module": "@jupyter-widgets/controls",
            "_model_module_version": "1.5.0",
            "_model_name": "HTMLModel",
            "_view_count": null,
            "_view_module": "@jupyter-widgets/controls",
            "_view_module_version": "1.5.0",
            "_view_name": "HTMLView",
            "description": "",
            "description_tooltip": null,
            "layout": "IPY_MODEL_5460232b647b4c2bb60df6b34e9e3624",
            "placeholder": "​",
            "style": "IPY_MODEL_1877ced9b2034ea4ad7a5c9534f8f8e8",
            "value": "Downloading (…)neration_config.json: 100%"
          }
        },
        "94c99eaf965749c8b2f87c2024bab67a": {
          "model_module": "@jupyter-widgets/controls",
          "model_name": "FloatProgressModel",
          "model_module_version": "1.5.0",
          "state": {
            "_dom_classes": [],
            "_model_module": "@jupyter-widgets/controls",
            "_model_module_version": "1.5.0",
            "_model_name": "FloatProgressModel",
            "_view_count": null,
            "_view_module": "@jupyter-widgets/controls",
            "_view_module_version": "1.5.0",
            "_view_name": "ProgressView",
            "bar_style": "success",
            "description": "",
            "description_tooltip": null,
            "layout": "IPY_MODEL_579d777f464b4b6e86f0dd264cec710b",
            "max": 124,
            "min": 0,
            "orientation": "horizontal",
            "style": "IPY_MODEL_ccce5ff9be4342bcbfb70464a5160766",
            "value": 124
          }
        },
        "e2d867db03fa4cc183a61bac0b95e8e1": {
          "model_module": "@jupyter-widgets/controls",
          "model_name": "HTMLModel",
          "model_module_version": "1.5.0",
          "state": {
            "_dom_classes": [],
            "_model_module": "@jupyter-widgets/controls",
            "_model_module_version": "1.5.0",
            "_model_name": "HTMLModel",
            "_view_count": null,
            "_view_module": "@jupyter-widgets/controls",
            "_view_module_version": "1.5.0",
            "_view_name": "HTMLView",
            "description": "",
            "description_tooltip": null,
            "layout": "IPY_MODEL_7f2a2891b8f242768ecf1677edde8ed2",
            "placeholder": "​",
            "style": "IPY_MODEL_ae4c32154a9340a9b0e836b8f2afafc6",
            "value": " 124/124 [00:00&lt;00:00, 4.25kB/s]"
          }
        },
        "52ffedcf803845ca8406bbeb0b0e063f": {
          "model_module": "@jupyter-widgets/base",
          "model_name": "LayoutModel",
          "model_module_version": "1.2.0",
          "state": {
            "_model_module": "@jupyter-widgets/base",
            "_model_module_version": "1.2.0",
            "_model_name": "LayoutModel",
            "_view_count": null,
            "_view_module": "@jupyter-widgets/base",
            "_view_module_version": "1.2.0",
            "_view_name": "LayoutView",
            "align_content": null,
            "align_items": null,
            "align_self": null,
            "border": null,
            "bottom": null,
            "display": null,
            "flex": null,
            "flex_flow": null,
            "grid_area": null,
            "grid_auto_columns": null,
            "grid_auto_flow": null,
            "grid_auto_rows": null,
            "grid_column": null,
            "grid_gap": null,
            "grid_row": null,
            "grid_template_areas": null,
            "grid_template_columns": null,
            "grid_template_rows": null,
            "height": null,
            "justify_content": null,
            "justify_items": null,
            "left": null,
            "margin": null,
            "max_height": null,
            "max_width": null,
            "min_height": null,
            "min_width": null,
            "object_fit": null,
            "object_position": null,
            "order": null,
            "overflow": null,
            "overflow_x": null,
            "overflow_y": null,
            "padding": null,
            "right": null,
            "top": null,
            "visibility": null,
            "width": null
          }
        },
        "5460232b647b4c2bb60df6b34e9e3624": {
          "model_module": "@jupyter-widgets/base",
          "model_name": "LayoutModel",
          "model_module_version": "1.2.0",
          "state": {
            "_model_module": "@jupyter-widgets/base",
            "_model_module_version": "1.2.0",
            "_model_name": "LayoutModel",
            "_view_count": null,
            "_view_module": "@jupyter-widgets/base",
            "_view_module_version": "1.2.0",
            "_view_name": "LayoutView",
            "align_content": null,
            "align_items": null,
            "align_self": null,
            "border": null,
            "bottom": null,
            "display": null,
            "flex": null,
            "flex_flow": null,
            "grid_area": null,
            "grid_auto_columns": null,
            "grid_auto_flow": null,
            "grid_auto_rows": null,
            "grid_column": null,
            "grid_gap": null,
            "grid_row": null,
            "grid_template_areas": null,
            "grid_template_columns": null,
            "grid_template_rows": null,
            "height": null,
            "justify_content": null,
            "justify_items": null,
            "left": null,
            "margin": null,
            "max_height": null,
            "max_width": null,
            "min_height": null,
            "min_width": null,
            "object_fit": null,
            "object_position": null,
            "order": null,
            "overflow": null,
            "overflow_x": null,
            "overflow_y": null,
            "padding": null,
            "right": null,
            "top": null,
            "visibility": null,
            "width": null
          }
        },
        "1877ced9b2034ea4ad7a5c9534f8f8e8": {
          "model_module": "@jupyter-widgets/controls",
          "model_name": "DescriptionStyleModel",
          "model_module_version": "1.5.0",
          "state": {
            "_model_module": "@jupyter-widgets/controls",
            "_model_module_version": "1.5.0",
            "_model_name": "DescriptionStyleModel",
            "_view_count": null,
            "_view_module": "@jupyter-widgets/base",
            "_view_module_version": "1.2.0",
            "_view_name": "StyleView",
            "description_width": ""
          }
        },
        "579d777f464b4b6e86f0dd264cec710b": {
          "model_module": "@jupyter-widgets/base",
          "model_name": "LayoutModel",
          "model_module_version": "1.2.0",
          "state": {
            "_model_module": "@jupyter-widgets/base",
            "_model_module_version": "1.2.0",
            "_model_name": "LayoutModel",
            "_view_count": null,
            "_view_module": "@jupyter-widgets/base",
            "_view_module_version": "1.2.0",
            "_view_name": "LayoutView",
            "align_content": null,
            "align_items": null,
            "align_self": null,
            "border": null,
            "bottom": null,
            "display": null,
            "flex": null,
            "flex_flow": null,
            "grid_area": null,
            "grid_auto_columns": null,
            "grid_auto_flow": null,
            "grid_auto_rows": null,
            "grid_column": null,
            "grid_gap": null,
            "grid_row": null,
            "grid_template_areas": null,
            "grid_template_columns": null,
            "grid_template_rows": null,
            "height": null,
            "justify_content": null,
            "justify_items": null,
            "left": null,
            "margin": null,
            "max_height": null,
            "max_width": null,
            "min_height": null,
            "min_width": null,
            "object_fit": null,
            "object_position": null,
            "order": null,
            "overflow": null,
            "overflow_x": null,
            "overflow_y": null,
            "padding": null,
            "right": null,
            "top": null,
            "visibility": null,
            "width": null
          }
        },
        "ccce5ff9be4342bcbfb70464a5160766": {
          "model_module": "@jupyter-widgets/controls",
          "model_name": "ProgressStyleModel",
          "model_module_version": "1.5.0",
          "state": {
            "_model_module": "@jupyter-widgets/controls",
            "_model_module_version": "1.5.0",
            "_model_name": "ProgressStyleModel",
            "_view_count": null,
            "_view_module": "@jupyter-widgets/base",
            "_view_module_version": "1.2.0",
            "_view_name": "StyleView",
            "bar_color": null,
            "description_width": ""
          }
        },
        "7f2a2891b8f242768ecf1677edde8ed2": {
          "model_module": "@jupyter-widgets/base",
          "model_name": "LayoutModel",
          "model_module_version": "1.2.0",
          "state": {
            "_model_module": "@jupyter-widgets/base",
            "_model_module_version": "1.2.0",
            "_model_name": "LayoutModel",
            "_view_count": null,
            "_view_module": "@jupyter-widgets/base",
            "_view_module_version": "1.2.0",
            "_view_name": "LayoutView",
            "align_content": null,
            "align_items": null,
            "align_self": null,
            "border": null,
            "bottom": null,
            "display": null,
            "flex": null,
            "flex_flow": null,
            "grid_area": null,
            "grid_auto_columns": null,
            "grid_auto_flow": null,
            "grid_auto_rows": null,
            "grid_column": null,
            "grid_gap": null,
            "grid_row": null,
            "grid_template_areas": null,
            "grid_template_columns": null,
            "grid_template_rows": null,
            "height": null,
            "justify_content": null,
            "justify_items": null,
            "left": null,
            "margin": null,
            "max_height": null,
            "max_width": null,
            "min_height": null,
            "min_width": null,
            "object_fit": null,
            "object_position": null,
            "order": null,
            "overflow": null,
            "overflow_x": null,
            "overflow_y": null,
            "padding": null,
            "right": null,
            "top": null,
            "visibility": null,
            "width": null
          }
        },
        "ae4c32154a9340a9b0e836b8f2afafc6": {
          "model_module": "@jupyter-widgets/controls",
          "model_name": "DescriptionStyleModel",
          "model_module_version": "1.5.0",
          "state": {
            "_model_module": "@jupyter-widgets/controls",
            "_model_module_version": "1.5.0",
            "_model_name": "DescriptionStyleModel",
            "_view_count": null,
            "_view_module": "@jupyter-widgets/base",
            "_view_module_version": "1.2.0",
            "_view_name": "StyleView",
            "description_width": ""
          }
        },
        "2c93e9457b584f7b86cdc1562ba6751b": {
          "model_module": "@jupyter-widgets/controls",
          "model_name": "HBoxModel",
          "model_module_version": "1.5.0",
          "state": {
            "_dom_classes": [],
            "_model_module": "@jupyter-widgets/controls",
            "_model_module_version": "1.5.0",
            "_model_name": "HBoxModel",
            "_view_count": null,
            "_view_module": "@jupyter-widgets/controls",
            "_view_module_version": "1.5.0",
            "_view_name": "HBoxView",
            "box_style": "",
            "children": [
              "IPY_MODEL_7b5f82f88ebe4f1cb1bd5af9bd5c53d8",
              "IPY_MODEL_aed2d463e31a45f88635c273f3cc424f",
              "IPY_MODEL_74a1b9062ba94d7a8096604ec4c69e7c"
            ],
            "layout": "IPY_MODEL_6016891a2ff04100b69f7d5123d4f5d8"
          }
        },
        "7b5f82f88ebe4f1cb1bd5af9bd5c53d8": {
          "model_module": "@jupyter-widgets/controls",
          "model_name": "HTMLModel",
          "model_module_version": "1.5.0",
          "state": {
            "_dom_classes": [],
            "_model_module": "@jupyter-widgets/controls",
            "_model_module_version": "1.5.0",
            "_model_name": "HTMLModel",
            "_view_count": null,
            "_view_module": "@jupyter-widgets/controls",
            "_view_module_version": "1.5.0",
            "_view_name": "HTMLView",
            "description": "",
            "description_tooltip": null,
            "layout": "IPY_MODEL_37c3b592ba494c1b89f8ac6159714f8e",
            "placeholder": "​",
            "style": "IPY_MODEL_a370649be38d4992a7e007fd70f885ca",
            "value": "Map: 100%"
          }
        },
        "aed2d463e31a45f88635c273f3cc424f": {
          "model_module": "@jupyter-widgets/controls",
          "model_name": "FloatProgressModel",
          "model_module_version": "1.5.0",
          "state": {
            "_dom_classes": [],
            "_model_module": "@jupyter-widgets/controls",
            "_model_module_version": "1.5.0",
            "_model_name": "FloatProgressModel",
            "_view_count": null,
            "_view_module": "@jupyter-widgets/controls",
            "_view_module_version": "1.5.0",
            "_view_name": "ProgressView",
            "bar_style": "",
            "description": "",
            "description_tooltip": null,
            "layout": "IPY_MODEL_4164d574192c4a6cbb950e8a7e73f0b7",
            "max": 1,
            "min": 0,
            "orientation": "horizontal",
            "style": "IPY_MODEL_aae0e4eb57a846a09bdc8344f89b85f8",
            "value": 1
          }
        },
        "74a1b9062ba94d7a8096604ec4c69e7c": {
          "model_module": "@jupyter-widgets/controls",
          "model_name": "HTMLModel",
          "model_module_version": "1.5.0",
          "state": {
            "_dom_classes": [],
            "_model_module": "@jupyter-widgets/controls",
            "_model_module_version": "1.5.0",
            "_model_name": "HTMLModel",
            "_view_count": null,
            "_view_module": "@jupyter-widgets/controls",
            "_view_module_version": "1.5.0",
            "_view_name": "HTMLView",
            "description": "",
            "description_tooltip": null,
            "layout": "IPY_MODEL_3622a4ee5356411d9b1ec215444be7a5",
            "placeholder": "​",
            "style": "IPY_MODEL_39ef92a3b8144f7193eaf1c180c4af3e",
            "value": " 1/1 [00:02&lt;00:00,  2.61s/ examples]"
          }
        },
        "6016891a2ff04100b69f7d5123d4f5d8": {
          "model_module": "@jupyter-widgets/base",
          "model_name": "LayoutModel",
          "model_module_version": "1.2.0",
          "state": {
            "_model_module": "@jupyter-widgets/base",
            "_model_module_version": "1.2.0",
            "_model_name": "LayoutModel",
            "_view_count": null,
            "_view_module": "@jupyter-widgets/base",
            "_view_module_version": "1.2.0",
            "_view_name": "LayoutView",
            "align_content": null,
            "align_items": null,
            "align_self": null,
            "border": null,
            "bottom": null,
            "display": null,
            "flex": null,
            "flex_flow": null,
            "grid_area": null,
            "grid_auto_columns": null,
            "grid_auto_flow": null,
            "grid_auto_rows": null,
            "grid_column": null,
            "grid_gap": null,
            "grid_row": null,
            "grid_template_areas": null,
            "grid_template_columns": null,
            "grid_template_rows": null,
            "height": null,
            "justify_content": null,
            "justify_items": null,
            "left": null,
            "margin": null,
            "max_height": null,
            "max_width": null,
            "min_height": null,
            "min_width": null,
            "object_fit": null,
            "object_position": null,
            "order": null,
            "overflow": null,
            "overflow_x": null,
            "overflow_y": null,
            "padding": null,
            "right": null,
            "top": null,
            "visibility": "hidden",
            "width": null
          }
        },
        "37c3b592ba494c1b89f8ac6159714f8e": {
          "model_module": "@jupyter-widgets/base",
          "model_name": "LayoutModel",
          "model_module_version": "1.2.0",
          "state": {
            "_model_module": "@jupyter-widgets/base",
            "_model_module_version": "1.2.0",
            "_model_name": "LayoutModel",
            "_view_count": null,
            "_view_module": "@jupyter-widgets/base",
            "_view_module_version": "1.2.0",
            "_view_name": "LayoutView",
            "align_content": null,
            "align_items": null,
            "align_self": null,
            "border": null,
            "bottom": null,
            "display": null,
            "flex": null,
            "flex_flow": null,
            "grid_area": null,
            "grid_auto_columns": null,
            "grid_auto_flow": null,
            "grid_auto_rows": null,
            "grid_column": null,
            "grid_gap": null,
            "grid_row": null,
            "grid_template_areas": null,
            "grid_template_columns": null,
            "grid_template_rows": null,
            "height": null,
            "justify_content": null,
            "justify_items": null,
            "left": null,
            "margin": null,
            "max_height": null,
            "max_width": null,
            "min_height": null,
            "min_width": null,
            "object_fit": null,
            "object_position": null,
            "order": null,
            "overflow": null,
            "overflow_x": null,
            "overflow_y": null,
            "padding": null,
            "right": null,
            "top": null,
            "visibility": null,
            "width": null
          }
        },
        "a370649be38d4992a7e007fd70f885ca": {
          "model_module": "@jupyter-widgets/controls",
          "model_name": "DescriptionStyleModel",
          "model_module_version": "1.5.0",
          "state": {
            "_model_module": "@jupyter-widgets/controls",
            "_model_module_version": "1.5.0",
            "_model_name": "DescriptionStyleModel",
            "_view_count": null,
            "_view_module": "@jupyter-widgets/base",
            "_view_module_version": "1.2.0",
            "_view_name": "StyleView",
            "description_width": ""
          }
        },
        "4164d574192c4a6cbb950e8a7e73f0b7": {
          "model_module": "@jupyter-widgets/base",
          "model_name": "LayoutModel",
          "model_module_version": "1.2.0",
          "state": {
            "_model_module": "@jupyter-widgets/base",
            "_model_module_version": "1.2.0",
            "_model_name": "LayoutModel",
            "_view_count": null,
            "_view_module": "@jupyter-widgets/base",
            "_view_module_version": "1.2.0",
            "_view_name": "LayoutView",
            "align_content": null,
            "align_items": null,
            "align_self": null,
            "border": null,
            "bottom": null,
            "display": null,
            "flex": null,
            "flex_flow": null,
            "grid_area": null,
            "grid_auto_columns": null,
            "grid_auto_flow": null,
            "grid_auto_rows": null,
            "grid_column": null,
            "grid_gap": null,
            "grid_row": null,
            "grid_template_areas": null,
            "grid_template_columns": null,
            "grid_template_rows": null,
            "height": null,
            "justify_content": null,
            "justify_items": null,
            "left": null,
            "margin": null,
            "max_height": null,
            "max_width": null,
            "min_height": null,
            "min_width": null,
            "object_fit": null,
            "object_position": null,
            "order": null,
            "overflow": null,
            "overflow_x": null,
            "overflow_y": null,
            "padding": null,
            "right": null,
            "top": null,
            "visibility": null,
            "width": null
          }
        },
        "aae0e4eb57a846a09bdc8344f89b85f8": {
          "model_module": "@jupyter-widgets/controls",
          "model_name": "ProgressStyleModel",
          "model_module_version": "1.5.0",
          "state": {
            "_model_module": "@jupyter-widgets/controls",
            "_model_module_version": "1.5.0",
            "_model_name": "ProgressStyleModel",
            "_view_count": null,
            "_view_module": "@jupyter-widgets/base",
            "_view_module_version": "1.2.0",
            "_view_name": "StyleView",
            "bar_color": null,
            "description_width": ""
          }
        },
        "3622a4ee5356411d9b1ec215444be7a5": {
          "model_module": "@jupyter-widgets/base",
          "model_name": "LayoutModel",
          "model_module_version": "1.2.0",
          "state": {
            "_model_module": "@jupyter-widgets/base",
            "_model_module_version": "1.2.0",
            "_model_name": "LayoutModel",
            "_view_count": null,
            "_view_module": "@jupyter-widgets/base",
            "_view_module_version": "1.2.0",
            "_view_name": "LayoutView",
            "align_content": null,
            "align_items": null,
            "align_self": null,
            "border": null,
            "bottom": null,
            "display": null,
            "flex": null,
            "flex_flow": null,
            "grid_area": null,
            "grid_auto_columns": null,
            "grid_auto_flow": null,
            "grid_auto_rows": null,
            "grid_column": null,
            "grid_gap": null,
            "grid_row": null,
            "grid_template_areas": null,
            "grid_template_columns": null,
            "grid_template_rows": null,
            "height": null,
            "justify_content": null,
            "justify_items": null,
            "left": null,
            "margin": null,
            "max_height": null,
            "max_width": null,
            "min_height": null,
            "min_width": null,
            "object_fit": null,
            "object_position": null,
            "order": null,
            "overflow": null,
            "overflow_x": null,
            "overflow_y": null,
            "padding": null,
            "right": null,
            "top": null,
            "visibility": null,
            "width": null
          }
        },
        "39ef92a3b8144f7193eaf1c180c4af3e": {
          "model_module": "@jupyter-widgets/controls",
          "model_name": "DescriptionStyleModel",
          "model_module_version": "1.5.0",
          "state": {
            "_model_module": "@jupyter-widgets/controls",
            "_model_module_version": "1.5.0",
            "_model_name": "DescriptionStyleModel",
            "_view_count": null,
            "_view_module": "@jupyter-widgets/base",
            "_view_module_version": "1.2.0",
            "_view_name": "StyleView",
            "description_width": ""
          }
        },
        "81f9cd1553574ea0940854db20f49248": {
          "model_module": "@jupyter-widgets/controls",
          "model_name": "HBoxModel",
          "model_module_version": "1.5.0",
          "state": {
            "_dom_classes": [],
            "_model_module": "@jupyter-widgets/controls",
            "_model_module_version": "1.5.0",
            "_model_name": "HBoxModel",
            "_view_count": null,
            "_view_module": "@jupyter-widgets/controls",
            "_view_module_version": "1.5.0",
            "_view_name": "HBoxView",
            "box_style": "",
            "children": [
              "IPY_MODEL_a07ad148f3db4427bf9fdf902a67363d",
              "IPY_MODEL_faf4928aae0448598cac218cc892dea3",
              "IPY_MODEL_ee5a4c61a6b744fd80a73aca1ee93028"
            ],
            "layout": "IPY_MODEL_819c62fd34a440aa941fd63f38f57943"
          }
        },
        "a07ad148f3db4427bf9fdf902a67363d": {
          "model_module": "@jupyter-widgets/controls",
          "model_name": "HTMLModel",
          "model_module_version": "1.5.0",
          "state": {
            "_dom_classes": [],
            "_model_module": "@jupyter-widgets/controls",
            "_model_module_version": "1.5.0",
            "_model_name": "HTMLModel",
            "_view_count": null,
            "_view_module": "@jupyter-widgets/controls",
            "_view_module_version": "1.5.0",
            "_view_name": "HTMLView",
            "description": "",
            "description_tooltip": null,
            "layout": "IPY_MODEL_458284b48feb4e069543b7f1d42c419c",
            "placeholder": "​",
            "style": "IPY_MODEL_cdf391cf4e8842a9a6316fd8be7f731f",
            "value": "Map: 100%"
          }
        },
        "faf4928aae0448598cac218cc892dea3": {
          "model_module": "@jupyter-widgets/controls",
          "model_name": "FloatProgressModel",
          "model_module_version": "1.5.0",
          "state": {
            "_dom_classes": [],
            "_model_module": "@jupyter-widgets/controls",
            "_model_module_version": "1.5.0",
            "_model_name": "FloatProgressModel",
            "_view_count": null,
            "_view_module": "@jupyter-widgets/controls",
            "_view_module_version": "1.5.0",
            "_view_name": "ProgressView",
            "bar_style": "",
            "description": "",
            "description_tooltip": null,
            "layout": "IPY_MODEL_dc702bd5fca947d4a200ff84907cd5b6",
            "max": 5,
            "min": 0,
            "orientation": "horizontal",
            "style": "IPY_MODEL_6c1d0d0a1cbf4077ba38730b700c04e9",
            "value": 5
          }
        },
        "ee5a4c61a6b744fd80a73aca1ee93028": {
          "model_module": "@jupyter-widgets/controls",
          "model_name": "HTMLModel",
          "model_module_version": "1.5.0",
          "state": {
            "_dom_classes": [],
            "_model_module": "@jupyter-widgets/controls",
            "_model_module_version": "1.5.0",
            "_model_name": "HTMLModel",
            "_view_count": null,
            "_view_module": "@jupyter-widgets/controls",
            "_view_module_version": "1.5.0",
            "_view_name": "HTMLView",
            "description": "",
            "description_tooltip": null,
            "layout": "IPY_MODEL_8ee87325999c44a0a8b285f9ca648878",
            "placeholder": "​",
            "style": "IPY_MODEL_ebf89a32729f4531baf44d56a39fa368",
            "value": " 5/5 [00:17&lt;00:00,  4.09s/ examples]"
          }
        },
        "819c62fd34a440aa941fd63f38f57943": {
          "model_module": "@jupyter-widgets/base",
          "model_name": "LayoutModel",
          "model_module_version": "1.2.0",
          "state": {
            "_model_module": "@jupyter-widgets/base",
            "_model_module_version": "1.2.0",
            "_model_name": "LayoutModel",
            "_view_count": null,
            "_view_module": "@jupyter-widgets/base",
            "_view_module_version": "1.2.0",
            "_view_name": "LayoutView",
            "align_content": null,
            "align_items": null,
            "align_self": null,
            "border": null,
            "bottom": null,
            "display": null,
            "flex": null,
            "flex_flow": null,
            "grid_area": null,
            "grid_auto_columns": null,
            "grid_auto_flow": null,
            "grid_auto_rows": null,
            "grid_column": null,
            "grid_gap": null,
            "grid_row": null,
            "grid_template_areas": null,
            "grid_template_columns": null,
            "grid_template_rows": null,
            "height": null,
            "justify_content": null,
            "justify_items": null,
            "left": null,
            "margin": null,
            "max_height": null,
            "max_width": null,
            "min_height": null,
            "min_width": null,
            "object_fit": null,
            "object_position": null,
            "order": null,
            "overflow": null,
            "overflow_x": null,
            "overflow_y": null,
            "padding": null,
            "right": null,
            "top": null,
            "visibility": "hidden",
            "width": null
          }
        },
        "458284b48feb4e069543b7f1d42c419c": {
          "model_module": "@jupyter-widgets/base",
          "model_name": "LayoutModel",
          "model_module_version": "1.2.0",
          "state": {
            "_model_module": "@jupyter-widgets/base",
            "_model_module_version": "1.2.0",
            "_model_name": "LayoutModel",
            "_view_count": null,
            "_view_module": "@jupyter-widgets/base",
            "_view_module_version": "1.2.0",
            "_view_name": "LayoutView",
            "align_content": null,
            "align_items": null,
            "align_self": null,
            "border": null,
            "bottom": null,
            "display": null,
            "flex": null,
            "flex_flow": null,
            "grid_area": null,
            "grid_auto_columns": null,
            "grid_auto_flow": null,
            "grid_auto_rows": null,
            "grid_column": null,
            "grid_gap": null,
            "grid_row": null,
            "grid_template_areas": null,
            "grid_template_columns": null,
            "grid_template_rows": null,
            "height": null,
            "justify_content": null,
            "justify_items": null,
            "left": null,
            "margin": null,
            "max_height": null,
            "max_width": null,
            "min_height": null,
            "min_width": null,
            "object_fit": null,
            "object_position": null,
            "order": null,
            "overflow": null,
            "overflow_x": null,
            "overflow_y": null,
            "padding": null,
            "right": null,
            "top": null,
            "visibility": null,
            "width": null
          }
        },
        "cdf391cf4e8842a9a6316fd8be7f731f": {
          "model_module": "@jupyter-widgets/controls",
          "model_name": "DescriptionStyleModel",
          "model_module_version": "1.5.0",
          "state": {
            "_model_module": "@jupyter-widgets/controls",
            "_model_module_version": "1.5.0",
            "_model_name": "DescriptionStyleModel",
            "_view_count": null,
            "_view_module": "@jupyter-widgets/base",
            "_view_module_version": "1.2.0",
            "_view_name": "StyleView",
            "description_width": ""
          }
        },
        "dc702bd5fca947d4a200ff84907cd5b6": {
          "model_module": "@jupyter-widgets/base",
          "model_name": "LayoutModel",
          "model_module_version": "1.2.0",
          "state": {
            "_model_module": "@jupyter-widgets/base",
            "_model_module_version": "1.2.0",
            "_model_name": "LayoutModel",
            "_view_count": null,
            "_view_module": "@jupyter-widgets/base",
            "_view_module_version": "1.2.0",
            "_view_name": "LayoutView",
            "align_content": null,
            "align_items": null,
            "align_self": null,
            "border": null,
            "bottom": null,
            "display": null,
            "flex": null,
            "flex_flow": null,
            "grid_area": null,
            "grid_auto_columns": null,
            "grid_auto_flow": null,
            "grid_auto_rows": null,
            "grid_column": null,
            "grid_gap": null,
            "grid_row": null,
            "grid_template_areas": null,
            "grid_template_columns": null,
            "grid_template_rows": null,
            "height": null,
            "justify_content": null,
            "justify_items": null,
            "left": null,
            "margin": null,
            "max_height": null,
            "max_width": null,
            "min_height": null,
            "min_width": null,
            "object_fit": null,
            "object_position": null,
            "order": null,
            "overflow": null,
            "overflow_x": null,
            "overflow_y": null,
            "padding": null,
            "right": null,
            "top": null,
            "visibility": null,
            "width": null
          }
        },
        "6c1d0d0a1cbf4077ba38730b700c04e9": {
          "model_module": "@jupyter-widgets/controls",
          "model_name": "ProgressStyleModel",
          "model_module_version": "1.5.0",
          "state": {
            "_model_module": "@jupyter-widgets/controls",
            "_model_module_version": "1.5.0",
            "_model_name": "ProgressStyleModel",
            "_view_count": null,
            "_view_module": "@jupyter-widgets/base",
            "_view_module_version": "1.2.0",
            "_view_name": "StyleView",
            "bar_color": null,
            "description_width": ""
          }
        },
        "8ee87325999c44a0a8b285f9ca648878": {
          "model_module": "@jupyter-widgets/base",
          "model_name": "LayoutModel",
          "model_module_version": "1.2.0",
          "state": {
            "_model_module": "@jupyter-widgets/base",
            "_model_module_version": "1.2.0",
            "_model_name": "LayoutModel",
            "_view_count": null,
            "_view_module": "@jupyter-widgets/base",
            "_view_module_version": "1.2.0",
            "_view_name": "LayoutView",
            "align_content": null,
            "align_items": null,
            "align_self": null,
            "border": null,
            "bottom": null,
            "display": null,
            "flex": null,
            "flex_flow": null,
            "grid_area": null,
            "grid_auto_columns": null,
            "grid_auto_flow": null,
            "grid_auto_rows": null,
            "grid_column": null,
            "grid_gap": null,
            "grid_row": null,
            "grid_template_areas": null,
            "grid_template_columns": null,
            "grid_template_rows": null,
            "height": null,
            "justify_content": null,
            "justify_items": null,
            "left": null,
            "margin": null,
            "max_height": null,
            "max_width": null,
            "min_height": null,
            "min_width": null,
            "object_fit": null,
            "object_position": null,
            "order": null,
            "overflow": null,
            "overflow_x": null,
            "overflow_y": null,
            "padding": null,
            "right": null,
            "top": null,
            "visibility": null,
            "width": null
          }
        },
        "ebf89a32729f4531baf44d56a39fa368": {
          "model_module": "@jupyter-widgets/controls",
          "model_name": "DescriptionStyleModel",
          "model_module_version": "1.5.0",
          "state": {
            "_model_module": "@jupyter-widgets/controls",
            "_model_module_version": "1.5.0",
            "_model_name": "DescriptionStyleModel",
            "_view_count": null,
            "_view_module": "@jupyter-widgets/base",
            "_view_module_version": "1.2.0",
            "_view_name": "StyleView",
            "description_width": ""
          }
        }
      }
    },
    "accelerator": "GPU"
  },
  "nbformat": 4,
  "nbformat_minor": 0
}